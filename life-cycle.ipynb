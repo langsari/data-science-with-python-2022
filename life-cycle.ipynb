{
 "cells": [
  {
   "cell_type": "markdown",
   "id": "83ca7695-bb37-47a5-ab17-7426b03e76c2",
   "metadata": {},
   "source": [
    "**Business Understanding**"
   ]
  },
  {
   "cell_type": "code",
   "execution_count": null,
   "id": "be036f96-fd34-49e6-867d-e04b7d659306",
   "metadata": {},
   "outputs": [],
   "source": []
  },
  {
   "cell_type": "markdown",
   "id": "a3bc8bb7-f913-417e-8ec7-a07c345870cc",
   "metadata": {},
   "source": [
    "**Data Understanding**"
   ]
  },
  {
   "cell_type": "markdown",
   "id": "dd8551ee-4e1d-4c40-aaf1-b75f6e61f876",
   "metadata": {},
   "source": [
    "Superstore file in Excel format"
   ]
  },
  {
   "cell_type": "code",
   "execution_count": 3,
   "id": "af36d569-cbb3-4d89-9065-442d290a7e05",
   "metadata": {},
   "outputs": [],
   "source": [
    "import pandas as pd"
   ]
  },
  {
   "cell_type": "markdown",
   "id": "e90fe1b0-f08b-4863-b9be-628821ef1584",
   "metadata": {},
   "source": [
    "**Data Preparation**"
   ]
  },
  {
   "cell_type": "markdown",
   "id": "c07bacf0-bd67-456d-b130-fd3d42ca190e",
   "metadata": {},
   "source": [
    "**Modeling**"
   ]
  },
  {
   "cell_type": "markdown",
   "id": "cb068e55-ba37-4c1d-bdd0-67da387f5219",
   "metadata": {},
   "source": [
    "**Evalution**"
   ]
  },
  {
   "cell_type": "markdown",
   "id": "ef6d099c-db87-42de-bde8-02e20f361ca2",
   "metadata": {},
   "source": [
    "**Deployment**"
   ]
  }
 ],
 "metadata": {
  "kernelspec": {
   "display_name": "Python 3 (ipykernel)",
   "language": "python",
   "name": "python3"
  },
  "language_info": {
   "codemirror_mode": {
    "name": "ipython",
    "version": 3
   },
   "file_extension": ".py",
   "mimetype": "text/x-python",
   "name": "python",
   "nbconvert_exporter": "python",
   "pygments_lexer": "ipython3",
   "version": "3.9.12"
  }
 },
 "nbformat": 4,
 "nbformat_minor": 5
}
