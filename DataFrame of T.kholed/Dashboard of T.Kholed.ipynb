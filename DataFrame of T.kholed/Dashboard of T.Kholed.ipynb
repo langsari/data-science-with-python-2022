{
 "cells": [
  {
   "attachments": {},
   "cell_type": "markdown",
   "metadata": {},
   "source": [
    "# Business understanding\n",
    "\n",
    "- Dashboard of Teacher Kholed Langsari\n",
    "- History of his work"
   ]
  },
  {
   "attachments": {},
   "cell_type": "markdown",
   "metadata": {},
   "source": [
    "# Data Under Standing\n",
    "this is Data telling story of Teacher Kholed Langsari.\n",
    "- He is a Teacher of Computer knowledge from Fatoni University.\n",
    "- This is the data that told about history of Teacher Kholed that have teached."
   ]
  },
  {
   "attachments": {},
   "cell_type": "markdown",
   "metadata": {},
   "source": [
    "## Import"
   ]
  },
  {
   "attachments": {},
   "cell_type": "markdown",
   "metadata": {},
   "source": [
    "import all of this module to work with data."
   ]
  },
  {
   "cell_type": "code",
   "execution_count": 101,
   "metadata": {},
   "outputs": [],
   "source": [
    "import seaborn as sns\n",
    "import pandas as pd\n",
    "import numpy as np\n",
    "from pandas import Series,DataFrame\n",
    "import numpy as np\n",
    "import matplotlib.pyplot as plt\n",
    "import plotly.express as px\n",
    "import streamlit as st"
   ]
  },
  {
   "attachments": {},
   "cell_type": "markdown",
   "metadata": {},
   "source": [
    "## Upload"
   ]
  },
  {
   "attachments": {},
   "cell_type": "markdown",
   "metadata": {},
   "source": [
    "Upload The data form teacher kholed."
   ]
  },
  {
   "cell_type": "code",
   "execution_count": 79,
   "metadata": {},
   "outputs": [],
   "source": [
    "# This is first upload data and it's not ready.\n",
    "d=pd.read_excel('C:/Users/TUF GAMING/Documents/GitHub/data-science-with-python-2022/DataFrame of T.kholed/kholed-subject-teach.xlsx')"
   ]
  },
  {
   "attachments": {},
   "cell_type": "markdown",
   "metadata": {},
   "source": [
    "## Data Preparation"
   ]
  },
  {
   "attachments": {},
   "cell_type": "markdown",
   "metadata": {},
   "source": [
    "Checking step is check the data\n",
    "- How many data.\n",
    "- How is it.\n",
    "- How do we manange with it."
   ]
  },
  {
   "cell_type": "code",
   "execution_count": 80,
   "metadata": {},
   "outputs": [
    {
     "name": "stdout",
     "output_type": "stream",
     "text": [
      "<class 'pandas.core.frame.DataFrame'>\n",
      "RangeIndex: 28 entries, 0 to 27\n",
      "Data columns (total 11 columns):\n",
      " #   Column       Non-Null Count  Dtype  \n",
      "---  ------       --------------  -----  \n",
      " 0   Unnamed: 0   0 non-null      float64\n",
      " 1   Unnamed: 1   0 non-null      float64\n",
      " 2   Unnamed: 2   0 non-null      float64\n",
      " 3   Unnamed: 3   0 non-null      float64\n",
      " 4   Unnamed: 4   0 non-null      float64\n",
      " 5   Unnamed: 5   26 non-null     object \n",
      " 6   Unnamed: 6   24 non-null     object \n",
      " 7   Unnamed: 7   22 non-null     object \n",
      " 8   Unnamed: 8   22 non-null     object \n",
      " 9   Unnamed: 9   22 non-null     object \n",
      " 10  Unnamed: 10  1 non-null      object \n",
      "dtypes: float64(5), object(6)\n",
      "memory usage: 2.5+ KB\n"
     ]
    }
   ],
   "source": [
    "d.info()"
   ]
  },
  {
   "cell_type": "code",
   "execution_count": 81,
   "metadata": {},
   "outputs": [
    {
     "data": {
      "text/html": [
       "<div>\n",
       "<style scoped>\n",
       "    .dataframe tbody tr th:only-of-type {\n",
       "        vertical-align: middle;\n",
       "    }\n",
       "\n",
       "    .dataframe tbody tr th {\n",
       "        vertical-align: top;\n",
       "    }\n",
       "\n",
       "    .dataframe thead th {\n",
       "        text-align: right;\n",
       "    }\n",
       "</style>\n",
       "<table border=\"1\" class=\"dataframe\">\n",
       "  <thead>\n",
       "    <tr style=\"text-align: right;\">\n",
       "      <th></th>\n",
       "      <th>Unnamed: 0</th>\n",
       "      <th>Unnamed: 1</th>\n",
       "      <th>Unnamed: 2</th>\n",
       "      <th>Unnamed: 3</th>\n",
       "      <th>Unnamed: 4</th>\n",
       "      <th>Unnamed: 5</th>\n",
       "      <th>Unnamed: 6</th>\n",
       "      <th>Unnamed: 7</th>\n",
       "      <th>Unnamed: 8</th>\n",
       "      <th>Unnamed: 9</th>\n",
       "      <th>Unnamed: 10</th>\n",
       "    </tr>\n",
       "  </thead>\n",
       "  <tbody>\n",
       "    <tr>\n",
       "      <th>0</th>\n",
       "      <td>NaN</td>\n",
       "      <td>NaN</td>\n",
       "      <td>NaN</td>\n",
       "      <td>NaN</td>\n",
       "      <td>NaN</td>\n",
       "      <td>NaN</td>\n",
       "      <td>NaN</td>\n",
       "      <td>NaN</td>\n",
       "      <td>NaN</td>\n",
       "      <td>NaN</td>\n",
       "      <td>NaN</td>\n",
       "    </tr>\n",
       "    <tr>\n",
       "      <th>1</th>\n",
       "      <td>NaN</td>\n",
       "      <td>NaN</td>\n",
       "      <td>NaN</td>\n",
       "      <td>NaN</td>\n",
       "      <td>NaN</td>\n",
       "      <td>NaN</td>\n",
       "      <td>NaN</td>\n",
       "      <td>NaN</td>\n",
       "      <td>NaN</td>\n",
       "      <td>NaN</td>\n",
       "      <td>NaN</td>\n",
       "    </tr>\n",
       "    <tr>\n",
       "      <th>2</th>\n",
       "      <td>NaN</td>\n",
       "      <td>NaN</td>\n",
       "      <td>NaN</td>\n",
       "      <td>NaN</td>\n",
       "      <td>NaN</td>\n",
       "      <td>รหัสวิชา</td>\n",
       "      <td>รายวิชา</td>\n",
       "      <td>กลุ่ม</td>\n",
       "      <td>จำนวนรับ</td>\n",
       "      <td>ลงแล้ว</td>\n",
       "      <td>ส่งออก</td>\n",
       "    </tr>\n",
       "    <tr>\n",
       "      <th>3</th>\n",
       "      <td>NaN</td>\n",
       "      <td>NaN</td>\n",
       "      <td>NaN</td>\n",
       "      <td>NaN</td>\n",
       "      <td>NaN</td>\n",
       "      <td>ภาคการศึกษาที่ 1</td>\n",
       "      <td>NaN</td>\n",
       "      <td>NaN</td>\n",
       "      <td>NaN</td>\n",
       "      <td>NaN</td>\n",
       "      <td>NaN</td>\n",
       "    </tr>\n",
       "    <tr>\n",
       "      <th>4</th>\n",
       "      <td>NaN</td>\n",
       "      <td>NaN</td>\n",
       "      <td>NaN</td>\n",
       "      <td>NaN</td>\n",
       "      <td>NaN</td>\n",
       "      <td>มหาวิทยาลัยฟาฏอนี</td>\n",
       "      <td>ปริญญาตรี</td>\n",
       "      <td>NaN</td>\n",
       "      <td>NaN</td>\n",
       "      <td>NaN</td>\n",
       "      <td>NaN</td>\n",
       "    </tr>\n",
       "  </tbody>\n",
       "</table>\n",
       "</div>"
      ],
      "text/plain": [
       "   Unnamed: 0  Unnamed: 1  Unnamed: 2  Unnamed: 3  Unnamed: 4  \\\n",
       "0         NaN         NaN         NaN         NaN         NaN   \n",
       "1         NaN         NaN         NaN         NaN         NaN   \n",
       "2         NaN         NaN         NaN         NaN         NaN   \n",
       "3         NaN         NaN         NaN         NaN         NaN   \n",
       "4         NaN         NaN         NaN         NaN         NaN   \n",
       "\n",
       "            Unnamed: 5  Unnamed: 6 Unnamed: 7 Unnamed: 8 Unnamed: 9  \\\n",
       "0                  NaN         NaN        NaN        NaN        NaN   \n",
       "1                  NaN         NaN        NaN        NaN        NaN   \n",
       "2             รหัสวิชา     รายวิชา      กลุ่ม   จำนวนรับ     ลงแล้ว   \n",
       "3     ภาคการศึกษาที่ 1         NaN        NaN        NaN        NaN   \n",
       "4  มหาวิทยาลัยฟาฏอนี    ปริญญาตรี         NaN        NaN        NaN   \n",
       "\n",
       "  Unnamed: 10  \n",
       "0         NaN  \n",
       "1         NaN  \n",
       "2      ส่งออก  \n",
       "3         NaN  \n",
       "4         NaN  "
      ]
     },
     "execution_count": 81,
     "metadata": {},
     "output_type": "execute_result"
    }
   ],
   "source": [
    "d.head()"
   ]
  },
  {
   "cell_type": "code",
   "execution_count": 82,
   "metadata": {},
   "outputs": [
    {
     "data": {
      "text/html": [
       "<div>\n",
       "<style scoped>\n",
       "    .dataframe tbody tr th:only-of-type {\n",
       "        vertical-align: middle;\n",
       "    }\n",
       "\n",
       "    .dataframe tbody tr th {\n",
       "        vertical-align: top;\n",
       "    }\n",
       "\n",
       "    .dataframe thead th {\n",
       "        text-align: right;\n",
       "    }\n",
       "</style>\n",
       "<table border=\"1\" class=\"dataframe\">\n",
       "  <thead>\n",
       "    <tr style=\"text-align: right;\">\n",
       "      <th></th>\n",
       "      <th>Unnamed: 0</th>\n",
       "      <th>Unnamed: 1</th>\n",
       "      <th>Unnamed: 2</th>\n",
       "      <th>Unnamed: 3</th>\n",
       "      <th>Unnamed: 4</th>\n",
       "      <th>Unnamed: 5</th>\n",
       "      <th>Unnamed: 6</th>\n",
       "      <th>Unnamed: 7</th>\n",
       "      <th>Unnamed: 8</th>\n",
       "      <th>Unnamed: 9</th>\n",
       "      <th>Unnamed: 10</th>\n",
       "    </tr>\n",
       "  </thead>\n",
       "  <tbody>\n",
       "    <tr>\n",
       "      <th>23</th>\n",
       "      <td>NaN</td>\n",
       "      <td>NaN</td>\n",
       "      <td>NaN</td>\n",
       "      <td>NaN</td>\n",
       "      <td>NaN</td>\n",
       "      <td>IT2301-214</td>\n",
       "      <td>พื้นฐานปัญญาประดิษฐ์</td>\n",
       "      <td>2</td>\n",
       "      <td>10</td>\n",
       "      <td>0</td>\n",
       "      <td>NaN</td>\n",
       "    </tr>\n",
       "    <tr>\n",
       "      <th>24</th>\n",
       "      <td>NaN</td>\n",
       "      <td>NaN</td>\n",
       "      <td>NaN</td>\n",
       "      <td>NaN</td>\n",
       "      <td>NaN</td>\n",
       "      <td>IT2301-229</td>\n",
       "      <td>DevOps</td>\n",
       "      <td>1</td>\n",
       "      <td>8</td>\n",
       "      <td>0</td>\n",
       "      <td>NaN</td>\n",
       "    </tr>\n",
       "    <tr>\n",
       "      <th>25</th>\n",
       "      <td>NaN</td>\n",
       "      <td>NaN</td>\n",
       "      <td>NaN</td>\n",
       "      <td>NaN</td>\n",
       "      <td>NaN</td>\n",
       "      <td>IT2301-229</td>\n",
       "      <td>DevOps</td>\n",
       "      <td>2</td>\n",
       "      <td>5</td>\n",
       "      <td>0</td>\n",
       "      <td>NaN</td>\n",
       "    </tr>\n",
       "    <tr>\n",
       "      <th>26</th>\n",
       "      <td>NaN</td>\n",
       "      <td>NaN</td>\n",
       "      <td>NaN</td>\n",
       "      <td>NaN</td>\n",
       "      <td>NaN</td>\n",
       "      <td>IT2301-318</td>\n",
       "      <td>ปัญญาประดิษฐ์ขั้นพื้นฐาน</td>\n",
       "      <td>1</td>\n",
       "      <td>18</td>\n",
       "      <td>0</td>\n",
       "      <td>NaN</td>\n",
       "    </tr>\n",
       "    <tr>\n",
       "      <th>27</th>\n",
       "      <td>NaN</td>\n",
       "      <td>NaN</td>\n",
       "      <td>NaN</td>\n",
       "      <td>NaN</td>\n",
       "      <td>NaN</td>\n",
       "      <td>IT2301-318</td>\n",
       "      <td>ปัญญาประดิษฐ์ขั้นพื้นฐาน</td>\n",
       "      <td>2</td>\n",
       "      <td>5</td>\n",
       "      <td>0</td>\n",
       "      <td>NaN</td>\n",
       "    </tr>\n",
       "  </tbody>\n",
       "</table>\n",
       "</div>"
      ],
      "text/plain": [
       "    Unnamed: 0  Unnamed: 1  Unnamed: 2  Unnamed: 3  Unnamed: 4  Unnamed: 5  \\\n",
       "23         NaN         NaN         NaN         NaN         NaN  IT2301-214   \n",
       "24         NaN         NaN         NaN         NaN         NaN  IT2301-229   \n",
       "25         NaN         NaN         NaN         NaN         NaN  IT2301-229   \n",
       "26         NaN         NaN         NaN         NaN         NaN  IT2301-318   \n",
       "27         NaN         NaN         NaN         NaN         NaN  IT2301-318   \n",
       "\n",
       "                  Unnamed: 6 Unnamed: 7 Unnamed: 8 Unnamed: 9 Unnamed: 10  \n",
       "23      พื้นฐานปัญญาประดิษฐ์          2         10          0         NaN  \n",
       "24                    DevOps          1          8          0         NaN  \n",
       "25                    DevOps          2          5          0         NaN  \n",
       "26  ปัญญาประดิษฐ์ขั้นพื้นฐาน          1         18          0         NaN  \n",
       "27  ปัญญาประดิษฐ์ขั้นพื้นฐาน          2          5          0         NaN  "
      ]
     },
     "execution_count": 82,
     "metadata": {},
     "output_type": "execute_result"
    }
   ],
   "source": [
    "d.tail()"
   ]
  },
  {
   "cell_type": "code",
   "execution_count": 83,
   "metadata": {},
   "outputs": [
    {
     "data": {
      "text/plain": [
       "Index(['Unnamed: 0', 'Unnamed: 1', 'Unnamed: 2', 'Unnamed: 3', 'Unnamed: 4',\n",
       "       'Unnamed: 5', 'Unnamed: 6', 'Unnamed: 7', 'Unnamed: 8', 'Unnamed: 9',\n",
       "       'Unnamed: 10'],\n",
       "      dtype='object')"
      ]
     },
     "execution_count": 83,
     "metadata": {},
     "output_type": "execute_result"
    }
   ],
   "source": [
    "d.columns"
   ]
  },
  {
   "cell_type": "code",
   "execution_count": 84,
   "metadata": {},
   "outputs": [
    {
     "data": {
      "text/html": [
       "<div>\n",
       "<style scoped>\n",
       "    .dataframe tbody tr th:only-of-type {\n",
       "        vertical-align: middle;\n",
       "    }\n",
       "\n",
       "    .dataframe tbody tr th {\n",
       "        vertical-align: top;\n",
       "    }\n",
       "\n",
       "    .dataframe thead th {\n",
       "        text-align: right;\n",
       "    }\n",
       "</style>\n",
       "<table border=\"1\" class=\"dataframe\">\n",
       "  <thead>\n",
       "    <tr style=\"text-align: right;\">\n",
       "      <th></th>\n",
       "      <th>Unnamed: 0</th>\n",
       "      <th>Unnamed: 1</th>\n",
       "      <th>Unnamed: 2</th>\n",
       "      <th>Unnamed: 3</th>\n",
       "      <th>Unnamed: 4</th>\n",
       "    </tr>\n",
       "  </thead>\n",
       "  <tbody>\n",
       "    <tr>\n",
       "      <th>count</th>\n",
       "      <td>0.0</td>\n",
       "      <td>0.0</td>\n",
       "      <td>0.0</td>\n",
       "      <td>0.0</td>\n",
       "      <td>0.0</td>\n",
       "    </tr>\n",
       "    <tr>\n",
       "      <th>mean</th>\n",
       "      <td>NaN</td>\n",
       "      <td>NaN</td>\n",
       "      <td>NaN</td>\n",
       "      <td>NaN</td>\n",
       "      <td>NaN</td>\n",
       "    </tr>\n",
       "    <tr>\n",
       "      <th>std</th>\n",
       "      <td>NaN</td>\n",
       "      <td>NaN</td>\n",
       "      <td>NaN</td>\n",
       "      <td>NaN</td>\n",
       "      <td>NaN</td>\n",
       "    </tr>\n",
       "    <tr>\n",
       "      <th>min</th>\n",
       "      <td>NaN</td>\n",
       "      <td>NaN</td>\n",
       "      <td>NaN</td>\n",
       "      <td>NaN</td>\n",
       "      <td>NaN</td>\n",
       "    </tr>\n",
       "    <tr>\n",
       "      <th>25%</th>\n",
       "      <td>NaN</td>\n",
       "      <td>NaN</td>\n",
       "      <td>NaN</td>\n",
       "      <td>NaN</td>\n",
       "      <td>NaN</td>\n",
       "    </tr>\n",
       "    <tr>\n",
       "      <th>50%</th>\n",
       "      <td>NaN</td>\n",
       "      <td>NaN</td>\n",
       "      <td>NaN</td>\n",
       "      <td>NaN</td>\n",
       "      <td>NaN</td>\n",
       "    </tr>\n",
       "    <tr>\n",
       "      <th>75%</th>\n",
       "      <td>NaN</td>\n",
       "      <td>NaN</td>\n",
       "      <td>NaN</td>\n",
       "      <td>NaN</td>\n",
       "      <td>NaN</td>\n",
       "    </tr>\n",
       "    <tr>\n",
       "      <th>max</th>\n",
       "      <td>NaN</td>\n",
       "      <td>NaN</td>\n",
       "      <td>NaN</td>\n",
       "      <td>NaN</td>\n",
       "      <td>NaN</td>\n",
       "    </tr>\n",
       "  </tbody>\n",
       "</table>\n",
       "</div>"
      ],
      "text/plain": [
       "       Unnamed: 0  Unnamed: 1  Unnamed: 2  Unnamed: 3  Unnamed: 4\n",
       "count         0.0         0.0         0.0         0.0         0.0\n",
       "mean          NaN         NaN         NaN         NaN         NaN\n",
       "std           NaN         NaN         NaN         NaN         NaN\n",
       "min           NaN         NaN         NaN         NaN         NaN\n",
       "25%           NaN         NaN         NaN         NaN         NaN\n",
       "50%           NaN         NaN         NaN         NaN         NaN\n",
       "75%           NaN         NaN         NaN         NaN         NaN\n",
       "max           NaN         NaN         NaN         NaN         NaN"
      ]
     },
     "execution_count": 84,
     "metadata": {},
     "output_type": "execute_result"
    }
   ],
   "source": [
    "d.describe()"
   ]
  },
  {
   "attachments": {},
   "cell_type": "markdown",
   "metadata": {},
   "source": [
    "This is not worth it, And we had to clean the data and create new one."
   ]
  },
  {
   "attachments": {},
   "cell_type": "markdown",
   "metadata": {},
   "source": [
    "- Now we got new data, That i was create dataset to be table."
   ]
  },
  {
   "attachments": {},
   "cell_type": "markdown",
   "metadata": {},
   "source": [
    "# Upload New data.\n",
    "data name \" newdata.xlsx \""
   ]
  },
  {
   "cell_type": "code",
   "execution_count": 85,
   "metadata": {},
   "outputs": [],
   "source": [
    "df=pd.read_excel('C:/Users/TUF GAMING/Documents/GitHub/data-science-with-python-2022/DataFrame of T.kholed/newdata.xlsx')"
   ]
  },
  {
   "cell_type": "code",
   "execution_count": 86,
   "metadata": {},
   "outputs": [
    {
     "name": "stdout",
     "output_type": "stream",
     "text": [
      "<class 'pandas.core.frame.DataFrame'>\n",
      "RangeIndex: 117 entries, 0 to 116\n",
      "Data columns (total 12 columns):\n",
      " #   Column       Non-Null Count  Dtype \n",
      "---  ------       --------------  ----- \n",
      " 0   Year         117 non-null    int64 \n",
      " 1   Term         117 non-null    int64 \n",
      " 2   Subject No.  117 non-null    object\n",
      " 3   Group        117 non-null    int64 \n",
      " 4   Limit        117 non-null    int64 \n",
      " 5   Registered   117 non-null    int64 \n",
      " 6   Course       117 non-null    int64 \n",
      " 7   Hours        117 non-null    int64 \n",
      " 8   People       117 non-null    int64 \n",
      " 9   Year Group   117 non-null    int64 \n",
      " 10  Term Group   117 non-null    int64 \n",
      " 11  All student  117 non-null    int64 \n",
      "dtypes: int64(11), object(1)\n",
      "memory usage: 11.1+ KB\n"
     ]
    }
   ],
   "source": [
    "df.info()"
   ]
  },
  {
   "cell_type": "code",
   "execution_count": 87,
   "metadata": {},
   "outputs": [
    {
     "data": {
      "text/html": [
       "<div>\n",
       "<style scoped>\n",
       "    .dataframe tbody tr th:only-of-type {\n",
       "        vertical-align: middle;\n",
       "    }\n",
       "\n",
       "    .dataframe tbody tr th {\n",
       "        vertical-align: top;\n",
       "    }\n",
       "\n",
       "    .dataframe thead th {\n",
       "        text-align: right;\n",
       "    }\n",
       "</style>\n",
       "<table border=\"1\" class=\"dataframe\">\n",
       "  <thead>\n",
       "    <tr style=\"text-align: right;\">\n",
       "      <th></th>\n",
       "      <th>Year</th>\n",
       "      <th>Term</th>\n",
       "      <th>Subject No.</th>\n",
       "      <th>Group</th>\n",
       "      <th>Limit</th>\n",
       "      <th>Registered</th>\n",
       "      <th>Course</th>\n",
       "      <th>Hours</th>\n",
       "      <th>People</th>\n",
       "      <th>Year Group</th>\n",
       "      <th>Term Group</th>\n",
       "      <th>All student</th>\n",
       "    </tr>\n",
       "  </thead>\n",
       "  <tbody>\n",
       "    <tr>\n",
       "      <th>0</th>\n",
       "      <td>2554</td>\n",
       "      <td>1</td>\n",
       "      <td>GE219-501</td>\n",
       "      <td>1</td>\n",
       "      <td>55</td>\n",
       "      <td>42</td>\n",
       "      <td>108</td>\n",
       "      <td>1728</td>\n",
       "      <td>1372</td>\n",
       "      <td>6</td>\n",
       "      <td>4</td>\n",
       "      <td>144</td>\n",
       "    </tr>\n",
       "    <tr>\n",
       "      <th>1</th>\n",
       "      <td>2554</td>\n",
       "      <td>1</td>\n",
       "      <td>GE219-501</td>\n",
       "      <td>2</td>\n",
       "      <td>47</td>\n",
       "      <td>21</td>\n",
       "      <td>108</td>\n",
       "      <td>1728</td>\n",
       "      <td>1372</td>\n",
       "      <td>6</td>\n",
       "      <td>4</td>\n",
       "      <td>144</td>\n",
       "    </tr>\n",
       "    <tr>\n",
       "      <th>2</th>\n",
       "      <td>2554</td>\n",
       "      <td>1</td>\n",
       "      <td>GE219-501</td>\n",
       "      <td>4</td>\n",
       "      <td>45</td>\n",
       "      <td>32</td>\n",
       "      <td>108</td>\n",
       "      <td>1728</td>\n",
       "      <td>1372</td>\n",
       "      <td>6</td>\n",
       "      <td>4</td>\n",
       "      <td>144</td>\n",
       "    </tr>\n",
       "    <tr>\n",
       "      <th>3</th>\n",
       "      <td>2554</td>\n",
       "      <td>1</td>\n",
       "      <td>GE219-501</td>\n",
       "      <td>3</td>\n",
       "      <td>45</td>\n",
       "      <td>1</td>\n",
       "      <td>108</td>\n",
       "      <td>1728</td>\n",
       "      <td>1372</td>\n",
       "      <td>6</td>\n",
       "      <td>4</td>\n",
       "      <td>144</td>\n",
       "    </tr>\n",
       "    <tr>\n",
       "      <th>4</th>\n",
       "      <td>2554</td>\n",
       "      <td>2</td>\n",
       "      <td>IT231-202</td>\n",
       "      <td>1</td>\n",
       "      <td>50</td>\n",
       "      <td>21</td>\n",
       "      <td>108</td>\n",
       "      <td>1728</td>\n",
       "      <td>1372</td>\n",
       "      <td>6</td>\n",
       "      <td>2</td>\n",
       "      <td>144</td>\n",
       "    </tr>\n",
       "  </tbody>\n",
       "</table>\n",
       "</div>"
      ],
      "text/plain": [
       "   Year  Term Subject No.  Group  Limit  Registered  Course  Hours  People  \\\n",
       "0  2554     1   GE219-501      1     55          42     108   1728    1372   \n",
       "1  2554     1   GE219-501      2     47          21     108   1728    1372   \n",
       "2  2554     1   GE219-501      4     45          32     108   1728    1372   \n",
       "3  2554     1   GE219-501      3     45           1     108   1728    1372   \n",
       "4  2554     2   IT231-202      1     50          21     108   1728    1372   \n",
       "\n",
       "   Year Group  Term Group  All student  \n",
       "0           6           4          144  \n",
       "1           6           4          144  \n",
       "2           6           4          144  \n",
       "3           6           4          144  \n",
       "4           6           2          144  "
      ]
     },
     "execution_count": 87,
     "metadata": {},
     "output_type": "execute_result"
    }
   ],
   "source": [
    "df.head()"
   ]
  },
  {
   "cell_type": "code",
   "execution_count": 88,
   "metadata": {},
   "outputs": [
    {
     "data": {
      "text/html": [
       "<div>\n",
       "<style scoped>\n",
       "    .dataframe tbody tr th:only-of-type {\n",
       "        vertical-align: middle;\n",
       "    }\n",
       "\n",
       "    .dataframe tbody tr th {\n",
       "        vertical-align: top;\n",
       "    }\n",
       "\n",
       "    .dataframe thead th {\n",
       "        text-align: right;\n",
       "    }\n",
       "</style>\n",
       "<table border=\"1\" class=\"dataframe\">\n",
       "  <thead>\n",
       "    <tr style=\"text-align: right;\">\n",
       "      <th></th>\n",
       "      <th>Year</th>\n",
       "      <th>Term</th>\n",
       "      <th>Subject No.</th>\n",
       "      <th>Group</th>\n",
       "      <th>Limit</th>\n",
       "      <th>Registered</th>\n",
       "      <th>Course</th>\n",
       "      <th>Hours</th>\n",
       "      <th>People</th>\n",
       "      <th>Year Group</th>\n",
       "      <th>Term Group</th>\n",
       "      <th>All student</th>\n",
       "    </tr>\n",
       "  </thead>\n",
       "  <tbody>\n",
       "    <tr>\n",
       "      <th>112</th>\n",
       "      <td>2565</td>\n",
       "      <td>1</td>\n",
       "      <td>GE2300-321</td>\n",
       "      <td>21</td>\n",
       "      <td>30</td>\n",
       "      <td>6</td>\n",
       "      <td>108</td>\n",
       "      <td>1728</td>\n",
       "      <td>1372</td>\n",
       "      <td>7</td>\n",
       "      <td>7</td>\n",
       "      <td>82</td>\n",
       "    </tr>\n",
       "    <tr>\n",
       "      <th>113</th>\n",
       "      <td>2565</td>\n",
       "      <td>1</td>\n",
       "      <td>IT2301-304</td>\n",
       "      <td>1</td>\n",
       "      <td>35</td>\n",
       "      <td>24</td>\n",
       "      <td>108</td>\n",
       "      <td>1728</td>\n",
       "      <td>1372</td>\n",
       "      <td>7</td>\n",
       "      <td>7</td>\n",
       "      <td>82</td>\n",
       "    </tr>\n",
       "    <tr>\n",
       "      <th>114</th>\n",
       "      <td>2565</td>\n",
       "      <td>1</td>\n",
       "      <td>IT2301-304</td>\n",
       "      <td>2</td>\n",
       "      <td>20</td>\n",
       "      <td>11</td>\n",
       "      <td>108</td>\n",
       "      <td>1728</td>\n",
       "      <td>1372</td>\n",
       "      <td>7</td>\n",
       "      <td>7</td>\n",
       "      <td>82</td>\n",
       "    </tr>\n",
       "    <tr>\n",
       "      <th>115</th>\n",
       "      <td>2565</td>\n",
       "      <td>1</td>\n",
       "      <td>IT2301-313</td>\n",
       "      <td>1</td>\n",
       "      <td>35</td>\n",
       "      <td>23</td>\n",
       "      <td>108</td>\n",
       "      <td>1728</td>\n",
       "      <td>1372</td>\n",
       "      <td>7</td>\n",
       "      <td>7</td>\n",
       "      <td>82</td>\n",
       "    </tr>\n",
       "    <tr>\n",
       "      <th>116</th>\n",
       "      <td>2565</td>\n",
       "      <td>1</td>\n",
       "      <td>IT2301-313</td>\n",
       "      <td>2</td>\n",
       "      <td>20</td>\n",
       "      <td>6</td>\n",
       "      <td>108</td>\n",
       "      <td>1728</td>\n",
       "      <td>1372</td>\n",
       "      <td>7</td>\n",
       "      <td>7</td>\n",
       "      <td>82</td>\n",
       "    </tr>\n",
       "  </tbody>\n",
       "</table>\n",
       "</div>"
      ],
      "text/plain": [
       "     Year  Term Subject No.  Group  Limit  Registered  Course  Hours  People  \\\n",
       "112  2565     1  GE2300-321     21     30           6     108   1728    1372   \n",
       "113  2565     1  IT2301-304      1     35          24     108   1728    1372   \n",
       "114  2565     1  IT2301-304      2     20          11     108   1728    1372   \n",
       "115  2565     1  IT2301-313      1     35          23     108   1728    1372   \n",
       "116  2565     1  IT2301-313      2     20           6     108   1728    1372   \n",
       "\n",
       "     Year Group  Term Group  All student  \n",
       "112           7           7           82  \n",
       "113           7           7           82  \n",
       "114           7           7           82  \n",
       "115           7           7           82  \n",
       "116           7           7           82  "
      ]
     },
     "execution_count": 88,
     "metadata": {},
     "output_type": "execute_result"
    }
   ],
   "source": [
    "df.tail()"
   ]
  },
  {
   "cell_type": "code",
   "execution_count": 89,
   "metadata": {},
   "outputs": [
    {
     "data": {
      "text/plain": [
       "Index(['Year', 'Term', 'Subject No.', 'Group', 'Limit', 'Registered', 'Course',\n",
       "       'Hours', 'People', 'Year Group', 'Term Group', 'All student'],\n",
       "      dtype='object')"
      ]
     },
     "execution_count": 89,
     "metadata": {},
     "output_type": "execute_result"
    }
   ],
   "source": [
    "df.columns"
   ]
  },
  {
   "cell_type": "code",
   "execution_count": 90,
   "metadata": {},
   "outputs": [
    {
     "data": {
      "text/html": [
       "<div>\n",
       "<style scoped>\n",
       "    .dataframe tbody tr th:only-of-type {\n",
       "        vertical-align: middle;\n",
       "    }\n",
       "\n",
       "    .dataframe tbody tr th {\n",
       "        vertical-align: top;\n",
       "    }\n",
       "\n",
       "    .dataframe thead th {\n",
       "        text-align: right;\n",
       "    }\n",
       "</style>\n",
       "<table border=\"1\" class=\"dataframe\">\n",
       "  <thead>\n",
       "    <tr style=\"text-align: right;\">\n",
       "      <th></th>\n",
       "      <th>Year</th>\n",
       "      <th>Term</th>\n",
       "      <th>Group</th>\n",
       "      <th>Limit</th>\n",
       "      <th>Registered</th>\n",
       "      <th>Course</th>\n",
       "      <th>Hours</th>\n",
       "      <th>People</th>\n",
       "      <th>Year Group</th>\n",
       "      <th>Term Group</th>\n",
       "      <th>All student</th>\n",
       "    </tr>\n",
       "  </thead>\n",
       "  <tbody>\n",
       "    <tr>\n",
       "      <th>count</th>\n",
       "      <td>117.000000</td>\n",
       "      <td>117.000000</td>\n",
       "      <td>117.000000</td>\n",
       "      <td>117.000000</td>\n",
       "      <td>117.000000</td>\n",
       "      <td>117.0</td>\n",
       "      <td>117.0</td>\n",
       "      <td>117.0</td>\n",
       "      <td>117.000000</td>\n",
       "      <td>117.000000</td>\n",
       "      <td>117.000000</td>\n",
       "    </tr>\n",
       "    <tr>\n",
       "      <th>mean</th>\n",
       "      <td>2559.803419</td>\n",
       "      <td>1.452991</td>\n",
       "      <td>1.940171</td>\n",
       "      <td>26.854701</td>\n",
       "      <td>11.726496</td>\n",
       "      <td>108.0</td>\n",
       "      <td>1728.0</td>\n",
       "      <td>1372.0</td>\n",
       "      <td>12.487179</td>\n",
       "      <td>7.119658</td>\n",
       "      <td>153.649573</td>\n",
       "    </tr>\n",
       "    <tr>\n",
       "      <th>std</th>\n",
       "      <td>3.596548</td>\n",
       "      <td>0.499926</td>\n",
       "      <td>2.122501</td>\n",
       "      <td>17.848628</td>\n",
       "      <td>11.090244</td>\n",
       "      <td>0.0</td>\n",
       "      <td>0.0</td>\n",
       "      <td>0.0</td>\n",
       "      <td>3.529715</td>\n",
       "      <td>1.672095</td>\n",
       "      <td>105.559537</td>\n",
       "    </tr>\n",
       "    <tr>\n",
       "      <th>min</th>\n",
       "      <td>2554.000000</td>\n",
       "      <td>1.000000</td>\n",
       "      <td>1.000000</td>\n",
       "      <td>1.000000</td>\n",
       "      <td>0.000000</td>\n",
       "      <td>108.0</td>\n",
       "      <td>1728.0</td>\n",
       "      <td>1372.0</td>\n",
       "      <td>5.000000</td>\n",
       "      <td>2.000000</td>\n",
       "      <td>58.000000</td>\n",
       "    </tr>\n",
       "    <tr>\n",
       "      <th>25%</th>\n",
       "      <td>2556.000000</td>\n",
       "      <td>1.000000</td>\n",
       "      <td>1.000000</td>\n",
       "      <td>10.000000</td>\n",
       "      <td>2.000000</td>\n",
       "      <td>108.0</td>\n",
       "      <td>1728.0</td>\n",
       "      <td>1372.0</td>\n",
       "      <td>12.000000</td>\n",
       "      <td>6.000000</td>\n",
       "      <td>63.000000</td>\n",
       "    </tr>\n",
       "    <tr>\n",
       "      <th>50%</th>\n",
       "      <td>2561.000000</td>\n",
       "      <td>1.000000</td>\n",
       "      <td>2.000000</td>\n",
       "      <td>20.000000</td>\n",
       "      <td>8.000000</td>\n",
       "      <td>108.0</td>\n",
       "      <td>1728.0</td>\n",
       "      <td>1372.0</td>\n",
       "      <td>13.000000</td>\n",
       "      <td>7.000000</td>\n",
       "      <td>105.000000</td>\n",
       "    </tr>\n",
       "    <tr>\n",
       "      <th>75%</th>\n",
       "      <td>2563.000000</td>\n",
       "      <td>2.000000</td>\n",
       "      <td>2.000000</td>\n",
       "      <td>50.000000</td>\n",
       "      <td>19.000000</td>\n",
       "      <td>108.0</td>\n",
       "      <td>1728.0</td>\n",
       "      <td>1372.0</td>\n",
       "      <td>16.000000</td>\n",
       "      <td>8.000000</td>\n",
       "      <td>272.000000</td>\n",
       "    </tr>\n",
       "    <tr>\n",
       "      <th>max</th>\n",
       "      <td>2565.000000</td>\n",
       "      <td>2.000000</td>\n",
       "      <td>21.000000</td>\n",
       "      <td>56.000000</td>\n",
       "      <td>51.000000</td>\n",
       "      <td>108.0</td>\n",
       "      <td>1728.0</td>\n",
       "      <td>1372.0</td>\n",
       "      <td>16.000000</td>\n",
       "      <td>10.000000</td>\n",
       "      <td>365.000000</td>\n",
       "    </tr>\n",
       "  </tbody>\n",
       "</table>\n",
       "</div>"
      ],
      "text/plain": [
       "              Year        Term       Group       Limit  Registered  Course  \\\n",
       "count   117.000000  117.000000  117.000000  117.000000  117.000000   117.0   \n",
       "mean   2559.803419    1.452991    1.940171   26.854701   11.726496   108.0   \n",
       "std       3.596548    0.499926    2.122501   17.848628   11.090244     0.0   \n",
       "min    2554.000000    1.000000    1.000000    1.000000    0.000000   108.0   \n",
       "25%    2556.000000    1.000000    1.000000   10.000000    2.000000   108.0   \n",
       "50%    2561.000000    1.000000    2.000000   20.000000    8.000000   108.0   \n",
       "75%    2563.000000    2.000000    2.000000   50.000000   19.000000   108.0   \n",
       "max    2565.000000    2.000000   21.000000   56.000000   51.000000   108.0   \n",
       "\n",
       "        Hours  People  Year Group  Term Group  All student  \n",
       "count   117.0   117.0  117.000000  117.000000   117.000000  \n",
       "mean   1728.0  1372.0   12.487179    7.119658   153.649573  \n",
       "std       0.0     0.0    3.529715    1.672095   105.559537  \n",
       "min    1728.0  1372.0    5.000000    2.000000    58.000000  \n",
       "25%    1728.0  1372.0   12.000000    6.000000    63.000000  \n",
       "50%    1728.0  1372.0   13.000000    7.000000   105.000000  \n",
       "75%    1728.0  1372.0   16.000000    8.000000   272.000000  \n",
       "max    1728.0  1372.0   16.000000   10.000000   365.000000  "
      ]
     },
     "execution_count": 90,
     "metadata": {},
     "output_type": "execute_result"
    }
   ],
   "source": [
    "df.describe()"
   ]
  },
  {
   "attachments": {},
   "cell_type": "markdown",
   "metadata": {},
   "source": [
    "## Modeling"
   ]
  },
  {
   "attachments": {},
   "cell_type": "markdown",
   "metadata": {},
   "source": [
    "Ok! Now our data is ready."
   ]
  },
  {
   "attachments": {},
   "cell_type": "markdown",
   "metadata": {},
   "source": [
    "Let's do it!"
   ]
  },
  {
   "attachments": {},
   "cell_type": "markdown",
   "metadata": {},
   "source": [
    "Base Chart"
   ]
  },
  {
   "attachments": {},
   "cell_type": "markdown",
   "metadata": {},
   "source": [
    "- Line Chart"
   ]
  },
  {
   "cell_type": "code",
   "execution_count": 108,
   "metadata": {},
   "outputs": [
    {
     "data": {
      "image/png": "[encoded data removed]",
      "text/plain": [
       "<Figure size 640x480 with 1 Axes>"
      ]
     },
     "metadata": {},
     "output_type": "display_data"
    }
   ],
   "source": [
    "Year = df['Year']\n",
    "Year_Group = df['Year Group']\n",
    "Registered = df['Registered']\n",
    "All_Student = df['All student']\n",
    "\n",
    "plt.plot(Year, Year_Group, label='Year_Group')\n",
    "plt.plot(Year, Registered, label='Registered')\n",
    "plt.plot(Year, All_Student, label='All_Student')\n",
    "\n",
    "plt.xlabel('Year')\n",
    "plt.ylabel('Amount of Group/Registered/All student per year')\n",
    "plt.title('Line Chart Per Year')\n",
    "\n",
    "plt.legend()\n",
    "\n",
    "plt.show()"
   ]
  },
  {
   "cell_type": "code",
   "execution_count": 92,
   "metadata": {},
   "outputs": [
    {
     "data": {
      "image/png": "[encoded data removed]",
      "text/plain": [
       "<Figure size 640x480 with 1 Axes>"
      ]
     },
     "metadata": {},
     "output_type": "display_data"
    }
   ],
   "source": [
    "grouped_data = df.groupby(['Year','Year Group']).size().reset_index(name='Count')\n",
    "\n",
    "plt.bar(grouped_data['Year'],grouped_data['Year Group'])\n",
    "\n",
    "plt.xlabel('Year')\n",
    "plt.ylabel('Year Group')\n",
    "plt.title('Amount of Group per Year')\n",
    "\n",
    "plt.show()"
   ]
  },
  {
   "cell_type": "code",
   "execution_count": 93,
   "metadata": {},
   "outputs": [
    {
     "data": {
      "image/png": "[encoded data removed]",
      "text/plain": [
       "<Figure size 640x480 with 1 Axes>"
      ]
     },
     "metadata": {},
     "output_type": "display_data"
    }
   ],
   "source": [
    "grouped_data = df.groupby(['Year','All student']).size().reset_index(name='Count')\n",
    "\n",
    "plt.bar(grouped_data['Year'],grouped_data['All student'])\n",
    "\n",
    "plt.xlabel('Year')\n",
    "plt.ylabel('All student')\n",
    "plt.title('Amount of students per Year')\n",
    "\n",
    "plt.show()"
   ]
  },
  {
   "attachments": {},
   "cell_type": "markdown",
   "metadata": {},
   "source": [
    "- Widgets"
   ]
  },
  {
   "cell_type": "code",
   "execution_count": 102,
   "metadata": {},
   "outputs": [
    {
     "data": {
      "application/vnd.jupyter.widget-view+json": {
       "model_id": "cd9fa61f5f564dc0b1e5b27bf5bf0505",
       "version_major": 2,
       "version_minor": 0
      },
      "text/plain": [
       "interactive(children=(Dropdown(description='col', options=('Year', 'Term', 'Subject No.', 'Group', 'Course', '…"
      ]
     },
     "metadata": {},
     "output_type": "display_data"
    }
   ],
   "source": [
    "#Creating the interactive dashboard\n",
    "from ipywidgets import interact\n",
    "@interact\n",
    "def create_fare_plot(col = df.drop(['Registered', 'Limit'], axis =1).columns):\n",
    "    sns.barplot(data = df, x = col, y ='Registered')\n",
    "    plt.title(f'Mean Bar Plot of the People grouped by the {col}')"
   ]
  },
  {
   "attachments": {},
   "cell_type": "markdown",
   "metadata": {},
   "source": [
    "- Stremlit"
   ]
  },
  {
   "cell_type": "code",
   "execution_count": 94,
   "metadata": {},
   "outputs": [],
   "source": [
    "# data = px.data.tips()"
   ]
  },
  {
   "cell_type": "code",
   "execution_count": 95,
   "metadata": {},
   "outputs": [],
   "source": [
    "# st.sidebar.header(\"Input Parameters\")\n",
    "# selected_day = st.sidebar.selectbox(\"Select a day of the week\",[\"Sunday\",\"Monday\",\"Tuesday\",\"Wednesday\",\"Thursday\",\"Friday\",\"Saturday\"])\n",
    "\n",
    "# st.title(\"Tips be Day of the Week\")\n",
    "# st.markdown(f\"Select day: **{selected_day}**\")"
   ]
  },
  {
   "cell_type": "code",
   "execution_count": 96,
   "metadata": {},
   "outputs": [],
   "source": [
    "# # Filter the data\n",
    "# filtered_data = data[data[\"day\"] == selected_day]\n",
    "\n",
    "# # Create the line chart\n",
    "# fig = px.line(filtered_data, x=\"time\", y=\"tip\", title=f\"Tips on {selected_day}\")\n",
    "# st.plotly_chart(fig)"
   ]
  },
  {
   "cell_type": "code",
   "execution_count": 97,
   "metadata": {},
   "outputs": [],
   "source": [
    "# # Load data\n",
    "# data = px.data.tips()\n",
    "\n",
    "# # Sidebar\n",
    "# st.sidebar.header(\"Input Parameters\")\n",
    "# selected_day = st.sidebar.selectbox(\"Select a day of the week\", [\"Sunday\", \"Monday\", \"Tuesday\", \"Wednesday\", \"Thursday\", \"Friday\", \"Saturday\"])\n",
    "\n",
    "# # Main area\n",
    "# st.title(\"Tips by Day of the Week\")\n",
    "# st.markdown(f\"Selected day: **{selected_day}**\")\n",
    "\n",
    "# # Filter the data\n",
    "# filtered_data = data[data[\"day\"] == selected_day]\n",
    "\n",
    "# # Create the line chart\n",
    "# fig = px.line(filtered_data, x=\"time\", y=\"tip\", title=f\"Tips on {selected_day}\")\n",
    "# st.plotly_chart(fig)"
   ]
  },
  {
   "cell_type": "code",
   "execution_count": null,
   "metadata": {},
   "outputs": [],
   "source": []
  },
  {
   "attachments": {},
   "cell_type": "markdown",
   "metadata": {},
   "source": [
    "## Evaluation"
   ]
  },
  {
   "attachments": {},
   "cell_type": "markdown",
   "metadata": {},
   "source": [
    "## Deployment"
   ]
  },
  {
   "attachments": {},
   "cell_type": "markdown",
   "metadata": {},
   "source": [
    "# To Be Continue..."
   ]
  }
 ],
 "metadata": {
  "kernelspec": {
   "display_name": "base",
   "language": "python",
   "name": "python3"
  },
  "language_info": {
   "codemirror_mode": {
    "name": "ipython",
    "version": 3
   },
   "file_extension": ".py",
   "mimetype": "text/x-python",
   "name": "python",
   "nbconvert_exporter": "python",
   "pygments_lexer": "ipython3",
   "version": "3.9.13"
  },
  "orig_nbformat": 4,
  "vscode": {
   "interpreter": {
    "hash": "6d881ab20baefb2a31dc75558dda7a1f52e07d1ad85216d34304d3199e30c0eb"
   }
  }
 },
 "nbformat": 4,
 "nbformat_minor": 2
}
