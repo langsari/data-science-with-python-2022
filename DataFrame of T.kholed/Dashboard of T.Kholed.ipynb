{
 "cells": [
  {
   "attachments": {},
   "cell_type": "markdown",
   "metadata": {},
   "source": [
    "# Explanation"
   ]
  },
  {
   "attachments": {},
   "cell_type": "markdown",
   "metadata": {},
   "source": [
    "# First of all\n",
    "this is Data telling story of Teacher Kholed Langsari.\n",
    "- He is a Teacher of Computer knowledge from Fatoni University.\n",
    "- This is the data that told about history of Teacher Kholed that have teached."
   ]
  },
  {
   "attachments": {},
   "cell_type": "markdown",
   "metadata": {},
   "source": [
    "## Import"
   ]
  },
  {
   "attachments": {},
   "cell_type": "markdown",
   "metadata": {},
   "source": [
    "import all of this module to work with data."
   ]
  },
  {
   "cell_type": "code",
   "execution_count": 74,
   "metadata": {},
   "outputs": [],
   "source": [
    "import seaborn as sns\n",
    "import pandas as pd\n",
    "from pandas import Series,DataFrame\n",
    "import numpy as np\n",
    "import matplotlib.pyplot as plt"
   ]
  },
  {
   "attachments": {},
   "cell_type": "markdown",
   "metadata": {},
   "source": [
    "## Upload"
   ]
  },
  {
   "attachments": {},
   "cell_type": "markdown",
   "metadata": {},
   "source": [
    "Upload The data form teacher kholed."
   ]
  },
  {
   "cell_type": "code",
   "execution_count": 75,
   "metadata": {},
   "outputs": [],
   "source": [
    "# This is first upload data and it's not ready.\n",
    "d=pd.read_excel('C:/Users/TUF GAMING/Documents/GitHub/data-science-with-python-2022/DataFrame of T.kholed/kholed-subject-teach.xlsx')"
   ]
  },
  {
   "attachments": {},
   "cell_type": "markdown",
   "metadata": {},
   "source": [
    "# Checking"
   ]
  },
  {
   "attachments": {},
   "cell_type": "markdown",
   "metadata": {},
   "source": [
    "Checking step is check the data\n",
    "- How many data.\n",
    "- How is it.\n",
    "- How do we manange with it."
   ]
  },
  {
   "cell_type": "code",
   "execution_count": 76,
   "metadata": {},
   "outputs": [
    {
     "name": "stdout",
     "output_type": "stream",
     "text": [
      "<class 'pandas.core.frame.DataFrame'>\n",
      "RangeIndex: 28 entries, 0 to 27\n",
      "Data columns (total 11 columns):\n",
      " #   Column       Non-Null Count  Dtype  \n",
      "---  ------       --------------  -----  \n",
      " 0   Unnamed: 0   0 non-null      float64\n",
      " 1   Unnamed: 1   0 non-null      float64\n",
      " 2   Unnamed: 2   0 non-null      float64\n",
      " 3   Unnamed: 3   0 non-null      float64\n",
      " 4   Unnamed: 4   0 non-null      float64\n",
      " 5   Unnamed: 5   26 non-null     object \n",
      " 6   Unnamed: 6   24 non-null     object \n",
      " 7   Unnamed: 7   22 non-null     object \n",
      " 8   Unnamed: 8   22 non-null     object \n",
      " 9   Unnamed: 9   22 non-null     object \n",
      " 10  Unnamed: 10  1 non-null      object \n",
      "dtypes: float64(5), object(6)\n",
      "memory usage: 2.5+ KB\n"
     ]
    }
   ],
   "source": [
    "d.info()"
   ]
  },
  {
   "cell_type": "code",
   "execution_count": 77,
   "metadata": {},
   "outputs": [
    {
     "data": {
      "text/html": [
       "<div>\n",
       "<style scoped>\n",
       "    .dataframe tbody tr th:only-of-type {\n",
       "        vertical-align: middle;\n",
       "    }\n",
       "\n",
       "    .dataframe tbody tr th {\n",
       "        vertical-align: top;\n",
       "    }\n",
       "\n",
       "    .dataframe thead th {\n",
       "        text-align: right;\n",
       "    }\n",
       "</style>\n",
       "<table border=\"1\" class=\"dataframe\">\n",
       "  <thead>\n",
       "    <tr style=\"text-align: right;\">\n",
       "      <th></th>\n",
       "      <th>Unnamed: 0</th>\n",
       "      <th>Unnamed: 1</th>\n",
       "      <th>Unnamed: 2</th>\n",
       "      <th>Unnamed: 3</th>\n",
       "      <th>Unnamed: 4</th>\n",
       "      <th>Unnamed: 5</th>\n",
       "      <th>Unnamed: 6</th>\n",
       "      <th>Unnamed: 7</th>\n",
       "      <th>Unnamed: 8</th>\n",
       "      <th>Unnamed: 9</th>\n",
       "      <th>Unnamed: 10</th>\n",
       "    </tr>\n",
       "  </thead>\n",
       "  <tbody>\n",
       "    <tr>\n",
       "      <th>0</th>\n",
       "      <td>NaN</td>\n",
       "      <td>NaN</td>\n",
       "      <td>NaN</td>\n",
       "      <td>NaN</td>\n",
       "      <td>NaN</td>\n",
       "      <td>NaN</td>\n",
       "      <td>NaN</td>\n",
       "      <td>NaN</td>\n",
       "      <td>NaN</td>\n",
       "      <td>NaN</td>\n",
       "      <td>NaN</td>\n",
       "    </tr>\n",
       "    <tr>\n",
       "      <th>1</th>\n",
       "      <td>NaN</td>\n",
       "      <td>NaN</td>\n",
       "      <td>NaN</td>\n",
       "      <td>NaN</td>\n",
       "      <td>NaN</td>\n",
       "      <td>NaN</td>\n",
       "      <td>NaN</td>\n",
       "      <td>NaN</td>\n",
       "      <td>NaN</td>\n",
       "      <td>NaN</td>\n",
       "      <td>NaN</td>\n",
       "    </tr>\n",
       "    <tr>\n",
       "      <th>2</th>\n",
       "      <td>NaN</td>\n",
       "      <td>NaN</td>\n",
       "      <td>NaN</td>\n",
       "      <td>NaN</td>\n",
       "      <td>NaN</td>\n",
       "      <td>รหัสวิชา</td>\n",
       "      <td>รายวิชา</td>\n",
       "      <td>กลุ่ม</td>\n",
       "      <td>จำนวนรับ</td>\n",
       "      <td>ลงแล้ว</td>\n",
       "      <td>ส่งออก</td>\n",
       "    </tr>\n",
       "    <tr>\n",
       "      <th>3</th>\n",
       "      <td>NaN</td>\n",
       "      <td>NaN</td>\n",
       "      <td>NaN</td>\n",
       "      <td>NaN</td>\n",
       "      <td>NaN</td>\n",
       "      <td>ภาคการศึกษาที่ 1</td>\n",
       "      <td>NaN</td>\n",
       "      <td>NaN</td>\n",
       "      <td>NaN</td>\n",
       "      <td>NaN</td>\n",
       "      <td>NaN</td>\n",
       "    </tr>\n",
       "    <tr>\n",
       "      <th>4</th>\n",
       "      <td>NaN</td>\n",
       "      <td>NaN</td>\n",
       "      <td>NaN</td>\n",
       "      <td>NaN</td>\n",
       "      <td>NaN</td>\n",
       "      <td>มหาวิทยาลัยฟาฏอนี</td>\n",
       "      <td>ปริญญาตรี</td>\n",
       "      <td>NaN</td>\n",
       "      <td>NaN</td>\n",
       "      <td>NaN</td>\n",
       "      <td>NaN</td>\n",
       "    </tr>\n",
       "  </tbody>\n",
       "</table>\n",
       "</div>"
      ],
      "text/plain": [
       "   Unnamed: 0  Unnamed: 1  Unnamed: 2  Unnamed: 3  Unnamed: 4  \\\n",
       "0         NaN         NaN         NaN         NaN         NaN   \n",
       "1         NaN         NaN         NaN         NaN         NaN   \n",
       "2         NaN         NaN         NaN         NaN         NaN   \n",
       "3         NaN         NaN         NaN         NaN         NaN   \n",
       "4         NaN         NaN         NaN         NaN         NaN   \n",
       "\n",
       "            Unnamed: 5  Unnamed: 6 Unnamed: 7 Unnamed: 8 Unnamed: 9  \\\n",
       "0                  NaN         NaN        NaN        NaN        NaN   \n",
       "1                  NaN         NaN        NaN        NaN        NaN   \n",
       "2             รหัสวิชา     รายวิชา      กลุ่ม   จำนวนรับ     ลงแล้ว   \n",
       "3     ภาคการศึกษาที่ 1         NaN        NaN        NaN        NaN   \n",
       "4  มหาวิทยาลัยฟาฏอนี    ปริญญาตรี         NaN        NaN        NaN   \n",
       "\n",
       "  Unnamed: 10  \n",
       "0         NaN  \n",
       "1         NaN  \n",
       "2      ส่งออก  \n",
       "3         NaN  \n",
       "4         NaN  "
      ]
     },
     "execution_count": 77,
     "metadata": {},
     "output_type": "execute_result"
    }
   ],
   "source": [
    "d.head()"
   ]
  },
  {
   "cell_type": "code",
   "execution_count": 78,
   "metadata": {},
   "outputs": [
    {
     "data": {
      "text/html": [
       "<div>\n",
       "<style scoped>\n",
       "    .dataframe tbody tr th:only-of-type {\n",
       "        vertical-align: middle;\n",
       "    }\n",
       "\n",
       "    .dataframe tbody tr th {\n",
       "        vertical-align: top;\n",
       "    }\n",
       "\n",
       "    .dataframe thead th {\n",
       "        text-align: right;\n",
       "    }\n",
       "</style>\n",
       "<table border=\"1\" class=\"dataframe\">\n",
       "  <thead>\n",
       "    <tr style=\"text-align: right;\">\n",
       "      <th></th>\n",
       "      <th>Unnamed: 0</th>\n",
       "      <th>Unnamed: 1</th>\n",
       "      <th>Unnamed: 2</th>\n",
       "      <th>Unnamed: 3</th>\n",
       "      <th>Unnamed: 4</th>\n",
       "      <th>Unnamed: 5</th>\n",
       "      <th>Unnamed: 6</th>\n",
       "      <th>Unnamed: 7</th>\n",
       "      <th>Unnamed: 8</th>\n",
       "      <th>Unnamed: 9</th>\n",
       "      <th>Unnamed: 10</th>\n",
       "    </tr>\n",
       "  </thead>\n",
       "  <tbody>\n",
       "    <tr>\n",
       "      <th>23</th>\n",
       "      <td>NaN</td>\n",
       "      <td>NaN</td>\n",
       "      <td>NaN</td>\n",
       "      <td>NaN</td>\n",
       "      <td>NaN</td>\n",
       "      <td>IT2301-214</td>\n",
       "      <td>พื้นฐานปัญญาประดิษฐ์</td>\n",
       "      <td>2</td>\n",
       "      <td>10</td>\n",
       "      <td>0</td>\n",
       "      <td>NaN</td>\n",
       "    </tr>\n",
       "    <tr>\n",
       "      <th>24</th>\n",
       "      <td>NaN</td>\n",
       "      <td>NaN</td>\n",
       "      <td>NaN</td>\n",
       "      <td>NaN</td>\n",
       "      <td>NaN</td>\n",
       "      <td>IT2301-229</td>\n",
       "      <td>DevOps</td>\n",
       "      <td>1</td>\n",
       "      <td>8</td>\n",
       "      <td>0</td>\n",
       "      <td>NaN</td>\n",
       "    </tr>\n",
       "    <tr>\n",
       "      <th>25</th>\n",
       "      <td>NaN</td>\n",
       "      <td>NaN</td>\n",
       "      <td>NaN</td>\n",
       "      <td>NaN</td>\n",
       "      <td>NaN</td>\n",
       "      <td>IT2301-229</td>\n",
       "      <td>DevOps</td>\n",
       "      <td>2</td>\n",
       "      <td>5</td>\n",
       "      <td>0</td>\n",
       "      <td>NaN</td>\n",
       "    </tr>\n",
       "    <tr>\n",
       "      <th>26</th>\n",
       "      <td>NaN</td>\n",
       "      <td>NaN</td>\n",
       "      <td>NaN</td>\n",
       "      <td>NaN</td>\n",
       "      <td>NaN</td>\n",
       "      <td>IT2301-318</td>\n",
       "      <td>ปัญญาประดิษฐ์ขั้นพื้นฐาน</td>\n",
       "      <td>1</td>\n",
       "      <td>18</td>\n",
       "      <td>0</td>\n",
       "      <td>NaN</td>\n",
       "    </tr>\n",
       "    <tr>\n",
       "      <th>27</th>\n",
       "      <td>NaN</td>\n",
       "      <td>NaN</td>\n",
       "      <td>NaN</td>\n",
       "      <td>NaN</td>\n",
       "      <td>NaN</td>\n",
       "      <td>IT2301-318</td>\n",
       "      <td>ปัญญาประดิษฐ์ขั้นพื้นฐาน</td>\n",
       "      <td>2</td>\n",
       "      <td>5</td>\n",
       "      <td>0</td>\n",
       "      <td>NaN</td>\n",
       "    </tr>\n",
       "  </tbody>\n",
       "</table>\n",
       "</div>"
      ],
      "text/plain": [
       "    Unnamed: 0  Unnamed: 1  Unnamed: 2  Unnamed: 3  Unnamed: 4  Unnamed: 5  \\\n",
       "23         NaN         NaN         NaN         NaN         NaN  IT2301-214   \n",
       "24         NaN         NaN         NaN         NaN         NaN  IT2301-229   \n",
       "25         NaN         NaN         NaN         NaN         NaN  IT2301-229   \n",
       "26         NaN         NaN         NaN         NaN         NaN  IT2301-318   \n",
       "27         NaN         NaN         NaN         NaN         NaN  IT2301-318   \n",
       "\n",
       "                  Unnamed: 6 Unnamed: 7 Unnamed: 8 Unnamed: 9 Unnamed: 10  \n",
       "23      พื้นฐานปัญญาประดิษฐ์          2         10          0         NaN  \n",
       "24                    DevOps          1          8          0         NaN  \n",
       "25                    DevOps          2          5          0         NaN  \n",
       "26  ปัญญาประดิษฐ์ขั้นพื้นฐาน          1         18          0         NaN  \n",
       "27  ปัญญาประดิษฐ์ขั้นพื้นฐาน          2          5          0         NaN  "
      ]
     },
     "execution_count": 78,
     "metadata": {},
     "output_type": "execute_result"
    }
   ],
   "source": [
    "d.tail()"
   ]
  },
  {
   "cell_type": "code",
   "execution_count": 79,
   "metadata": {},
   "outputs": [
    {
     "data": {
      "text/plain": [
       "Index(['Unnamed: 0', 'Unnamed: 1', 'Unnamed: 2', 'Unnamed: 3', 'Unnamed: 4',\n",
       "       'Unnamed: 5', 'Unnamed: 6', 'Unnamed: 7', 'Unnamed: 8', 'Unnamed: 9',\n",
       "       'Unnamed: 10'],\n",
       "      dtype='object')"
      ]
     },
     "execution_count": 79,
     "metadata": {},
     "output_type": "execute_result"
    }
   ],
   "source": [
    "d.columns"
   ]
  },
  {
   "cell_type": "code",
   "execution_count": 80,
   "metadata": {},
   "outputs": [
    {
     "data": {
      "text/html": [
       "<div>\n",
       "<style scoped>\n",
       "    .dataframe tbody tr th:only-of-type {\n",
       "        vertical-align: middle;\n",
       "    }\n",
       "\n",
       "    .dataframe tbody tr th {\n",
       "        vertical-align: top;\n",
       "    }\n",
       "\n",
       "    .dataframe thead th {\n",
       "        text-align: right;\n",
       "    }\n",
       "</style>\n",
       "<table border=\"1\" class=\"dataframe\">\n",
       "  <thead>\n",
       "    <tr style=\"text-align: right;\">\n",
       "      <th></th>\n",
       "      <th>Unnamed: 0</th>\n",
       "      <th>Unnamed: 1</th>\n",
       "      <th>Unnamed: 2</th>\n",
       "      <th>Unnamed: 3</th>\n",
       "      <th>Unnamed: 4</th>\n",
       "    </tr>\n",
       "  </thead>\n",
       "  <tbody>\n",
       "    <tr>\n",
       "      <th>count</th>\n",
       "      <td>0.0</td>\n",
       "      <td>0.0</td>\n",
       "      <td>0.0</td>\n",
       "      <td>0.0</td>\n",
       "      <td>0.0</td>\n",
       "    </tr>\n",
       "    <tr>\n",
       "      <th>mean</th>\n",
       "      <td>NaN</td>\n",
       "      <td>NaN</td>\n",
       "      <td>NaN</td>\n",
       "      <td>NaN</td>\n",
       "      <td>NaN</td>\n",
       "    </tr>\n",
       "    <tr>\n",
       "      <th>std</th>\n",
       "      <td>NaN</td>\n",
       "      <td>NaN</td>\n",
       "      <td>NaN</td>\n",
       "      <td>NaN</td>\n",
       "      <td>NaN</td>\n",
       "    </tr>\n",
       "    <tr>\n",
       "      <th>min</th>\n",
       "      <td>NaN</td>\n",
       "      <td>NaN</td>\n",
       "      <td>NaN</td>\n",
       "      <td>NaN</td>\n",
       "      <td>NaN</td>\n",
       "    </tr>\n",
       "    <tr>\n",
       "      <th>25%</th>\n",
       "      <td>NaN</td>\n",
       "      <td>NaN</td>\n",
       "      <td>NaN</td>\n",
       "      <td>NaN</td>\n",
       "      <td>NaN</td>\n",
       "    </tr>\n",
       "    <tr>\n",
       "      <th>50%</th>\n",
       "      <td>NaN</td>\n",
       "      <td>NaN</td>\n",
       "      <td>NaN</td>\n",
       "      <td>NaN</td>\n",
       "      <td>NaN</td>\n",
       "    </tr>\n",
       "    <tr>\n",
       "      <th>75%</th>\n",
       "      <td>NaN</td>\n",
       "      <td>NaN</td>\n",
       "      <td>NaN</td>\n",
       "      <td>NaN</td>\n",
       "      <td>NaN</td>\n",
       "    </tr>\n",
       "    <tr>\n",
       "      <th>max</th>\n",
       "      <td>NaN</td>\n",
       "      <td>NaN</td>\n",
       "      <td>NaN</td>\n",
       "      <td>NaN</td>\n",
       "      <td>NaN</td>\n",
       "    </tr>\n",
       "  </tbody>\n",
       "</table>\n",
       "</div>"
      ],
      "text/plain": [
       "       Unnamed: 0  Unnamed: 1  Unnamed: 2  Unnamed: 3  Unnamed: 4\n",
       "count         0.0         0.0         0.0         0.0         0.0\n",
       "mean          NaN         NaN         NaN         NaN         NaN\n",
       "std           NaN         NaN         NaN         NaN         NaN\n",
       "min           NaN         NaN         NaN         NaN         NaN\n",
       "25%           NaN         NaN         NaN         NaN         NaN\n",
       "50%           NaN         NaN         NaN         NaN         NaN\n",
       "75%           NaN         NaN         NaN         NaN         NaN\n",
       "max           NaN         NaN         NaN         NaN         NaN"
      ]
     },
     "execution_count": 80,
     "metadata": {},
     "output_type": "execute_result"
    }
   ],
   "source": [
    "d.describe()"
   ]
  },
  {
   "attachments": {},
   "cell_type": "markdown",
   "metadata": {},
   "source": [
    "This is not worth it, And we had to clean the data and create new one."
   ]
  },
  {
   "attachments": {},
   "cell_type": "markdown",
   "metadata": {},
   "source": [
    "- Now we got new data, That i was create dataset to be table."
   ]
  },
  {
   "attachments": {},
   "cell_type": "markdown",
   "metadata": {},
   "source": [
    "# Upload New data.\n",
    "data name \" newdata.xlsx \""
   ]
  },
  {
   "cell_type": "code",
   "execution_count": 81,
   "metadata": {},
   "outputs": [],
   "source": [
    "df=pd.read_excel('C:/Users/TUF GAMING/Documents/GitHub/data-science-with-python-2022/DataFrame of T.kholed/newdata.xlsx')"
   ]
  },
  {
   "cell_type": "code",
   "execution_count": 82,
   "metadata": {},
   "outputs": [
    {
     "name": "stdout",
     "output_type": "stream",
     "text": [
      "<class 'pandas.core.frame.DataFrame'>\n",
      "RangeIndex: 131 entries, 0 to 130\n",
      "Data columns (total 12 columns):\n",
      " #   Column       Non-Null Count  Dtype \n",
      "---  ------       --------------  ----- \n",
      " 0   Year         131 non-null    int64 \n",
      " 1   Term         131 non-null    int64 \n",
      " 2   Subject No.  131 non-null    object\n",
      " 3   Group        131 non-null    int64 \n",
      " 4   Limit        131 non-null    int64 \n",
      " 5   Registered   131 non-null    int64 \n",
      " 6   Course       131 non-null    int64 \n",
      " 7   Hours        131 non-null    int64 \n",
      " 8   People       131 non-null    int64 \n",
      " 9   Year Group   131 non-null    int64 \n",
      " 10  Term Group   131 non-null    int64 \n",
      " 11  All student  131 non-null    int64 \n",
      "dtypes: int64(11), object(1)\n",
      "memory usage: 12.4+ KB\n"
     ]
    }
   ],
   "source": [
    "df.info()"
   ]
  },
  {
   "cell_type": "code",
   "execution_count": 83,
   "metadata": {},
   "outputs": [
    {
     "data": {
      "text/html": [
       "<div>\n",
       "<style scoped>\n",
       "    .dataframe tbody tr th:only-of-type {\n",
       "        vertical-align: middle;\n",
       "    }\n",
       "\n",
       "    .dataframe tbody tr th {\n",
       "        vertical-align: top;\n",
       "    }\n",
       "\n",
       "    .dataframe thead th {\n",
       "        text-align: right;\n",
       "    }\n",
       "</style>\n",
       "<table border=\"1\" class=\"dataframe\">\n",
       "  <thead>\n",
       "    <tr style=\"text-align: right;\">\n",
       "      <th></th>\n",
       "      <th>Year</th>\n",
       "      <th>Term</th>\n",
       "      <th>Subject No.</th>\n",
       "      <th>Group</th>\n",
       "      <th>Limit</th>\n",
       "      <th>Registered</th>\n",
       "      <th>Course</th>\n",
       "      <th>Hours</th>\n",
       "      <th>People</th>\n",
       "      <th>Year Group</th>\n",
       "      <th>Term Group</th>\n",
       "      <th>All student</th>\n",
       "    </tr>\n",
       "  </thead>\n",
       "  <tbody>\n",
       "    <tr>\n",
       "      <th>0</th>\n",
       "      <td>2554</td>\n",
       "      <td>1</td>\n",
       "      <td>GE219-501</td>\n",
       "      <td>1</td>\n",
       "      <td>55</td>\n",
       "      <td>42</td>\n",
       "      <td>108</td>\n",
       "      <td>1728</td>\n",
       "      <td>1372</td>\n",
       "      <td>6</td>\n",
       "      <td>4</td>\n",
       "      <td>144</td>\n",
       "    </tr>\n",
       "    <tr>\n",
       "      <th>1</th>\n",
       "      <td>2554</td>\n",
       "      <td>1</td>\n",
       "      <td>GE219-501</td>\n",
       "      <td>2</td>\n",
       "      <td>47</td>\n",
       "      <td>21</td>\n",
       "      <td>108</td>\n",
       "      <td>1728</td>\n",
       "      <td>1372</td>\n",
       "      <td>6</td>\n",
       "      <td>4</td>\n",
       "      <td>144</td>\n",
       "    </tr>\n",
       "    <tr>\n",
       "      <th>2</th>\n",
       "      <td>2554</td>\n",
       "      <td>1</td>\n",
       "      <td>GE219-501</td>\n",
       "      <td>4</td>\n",
       "      <td>45</td>\n",
       "      <td>32</td>\n",
       "      <td>108</td>\n",
       "      <td>1728</td>\n",
       "      <td>1372</td>\n",
       "      <td>6</td>\n",
       "      <td>4</td>\n",
       "      <td>144</td>\n",
       "    </tr>\n",
       "    <tr>\n",
       "      <th>3</th>\n",
       "      <td>2554</td>\n",
       "      <td>1</td>\n",
       "      <td>GE219-501</td>\n",
       "      <td>3</td>\n",
       "      <td>45</td>\n",
       "      <td>1</td>\n",
       "      <td>108</td>\n",
       "      <td>1728</td>\n",
       "      <td>1372</td>\n",
       "      <td>6</td>\n",
       "      <td>4</td>\n",
       "      <td>144</td>\n",
       "    </tr>\n",
       "    <tr>\n",
       "      <th>4</th>\n",
       "      <td>2554</td>\n",
       "      <td>2</td>\n",
       "      <td>IT231-202</td>\n",
       "      <td>1</td>\n",
       "      <td>50</td>\n",
       "      <td>21</td>\n",
       "      <td>108</td>\n",
       "      <td>1728</td>\n",
       "      <td>1372</td>\n",
       "      <td>6</td>\n",
       "      <td>2</td>\n",
       "      <td>144</td>\n",
       "    </tr>\n",
       "  </tbody>\n",
       "</table>\n",
       "</div>"
      ],
      "text/plain": [
       "   Year  Term Subject No.  Group  Limit  Registered  Course  Hours  People  \\\n",
       "0  2554     1   GE219-501      1     55          42     108   1728    1372   \n",
       "1  2554     1   GE219-501      2     47          21     108   1728    1372   \n",
       "2  2554     1   GE219-501      4     45          32     108   1728    1372   \n",
       "3  2554     1   GE219-501      3     45           1     108   1728    1372   \n",
       "4  2554     2   IT231-202      1     50          21     108   1728    1372   \n",
       "\n",
       "   Year Group  Term Group  All student  \n",
       "0           6           4          144  \n",
       "1           6           4          144  \n",
       "2           6           4          144  \n",
       "3           6           4          144  \n",
       "4           6           2          144  "
      ]
     },
     "execution_count": 83,
     "metadata": {},
     "output_type": "execute_result"
    }
   ],
   "source": [
    "df.head()"
   ]
  },
  {
   "cell_type": "code",
   "execution_count": 84,
   "metadata": {},
   "outputs": [
    {
     "data": {
      "text/html": [
       "<div>\n",
       "<style scoped>\n",
       "    .dataframe tbody tr th:only-of-type {\n",
       "        vertical-align: middle;\n",
       "    }\n",
       "\n",
       "    .dataframe tbody tr th {\n",
       "        vertical-align: top;\n",
       "    }\n",
       "\n",
       "    .dataframe thead th {\n",
       "        text-align: right;\n",
       "    }\n",
       "</style>\n",
       "<table border=\"1\" class=\"dataframe\">\n",
       "  <thead>\n",
       "    <tr style=\"text-align: right;\">\n",
       "      <th></th>\n",
       "      <th>Year</th>\n",
       "      <th>Term</th>\n",
       "      <th>Subject No.</th>\n",
       "      <th>Group</th>\n",
       "      <th>Limit</th>\n",
       "      <th>Registered</th>\n",
       "      <th>Course</th>\n",
       "      <th>Hours</th>\n",
       "      <th>People</th>\n",
       "      <th>Year Group</th>\n",
       "      <th>Term Group</th>\n",
       "      <th>All student</th>\n",
       "    </tr>\n",
       "  </thead>\n",
       "  <tbody>\n",
       "    <tr>\n",
       "      <th>126</th>\n",
       "      <td>2565</td>\n",
       "      <td>2</td>\n",
       "      <td>IT2301-214</td>\n",
       "      <td>2</td>\n",
       "      <td>10</td>\n",
       "      <td>0</td>\n",
       "      <td>108</td>\n",
       "      <td>1728</td>\n",
       "      <td>1372</td>\n",
       "      <td>21</td>\n",
       "      <td>14</td>\n",
       "      <td>0</td>\n",
       "    </tr>\n",
       "    <tr>\n",
       "      <th>127</th>\n",
       "      <td>2565</td>\n",
       "      <td>2</td>\n",
       "      <td>IT2301-229</td>\n",
       "      <td>1</td>\n",
       "      <td>8</td>\n",
       "      <td>0</td>\n",
       "      <td>108</td>\n",
       "      <td>1728</td>\n",
       "      <td>1372</td>\n",
       "      <td>21</td>\n",
       "      <td>14</td>\n",
       "      <td>0</td>\n",
       "    </tr>\n",
       "    <tr>\n",
       "      <th>128</th>\n",
       "      <td>2565</td>\n",
       "      <td>2</td>\n",
       "      <td>IT2301-229</td>\n",
       "      <td>2</td>\n",
       "      <td>5</td>\n",
       "      <td>0</td>\n",
       "      <td>108</td>\n",
       "      <td>1728</td>\n",
       "      <td>1372</td>\n",
       "      <td>21</td>\n",
       "      <td>14</td>\n",
       "      <td>0</td>\n",
       "    </tr>\n",
       "    <tr>\n",
       "      <th>129</th>\n",
       "      <td>2565</td>\n",
       "      <td>2</td>\n",
       "      <td>IT2301-318</td>\n",
       "      <td>1</td>\n",
       "      <td>18</td>\n",
       "      <td>0</td>\n",
       "      <td>108</td>\n",
       "      <td>1728</td>\n",
       "      <td>1372</td>\n",
       "      <td>21</td>\n",
       "      <td>14</td>\n",
       "      <td>0</td>\n",
       "    </tr>\n",
       "    <tr>\n",
       "      <th>130</th>\n",
       "      <td>2565</td>\n",
       "      <td>2</td>\n",
       "      <td>IT2301-318</td>\n",
       "      <td>2</td>\n",
       "      <td>5</td>\n",
       "      <td>0</td>\n",
       "      <td>108</td>\n",
       "      <td>1728</td>\n",
       "      <td>1372</td>\n",
       "      <td>21</td>\n",
       "      <td>14</td>\n",
       "      <td>0</td>\n",
       "    </tr>\n",
       "  </tbody>\n",
       "</table>\n",
       "</div>"
      ],
      "text/plain": [
       "     Year  Term Subject No.  Group  Limit  Registered  Course  Hours  People  \\\n",
       "126  2565     2  IT2301-214      2     10           0     108   1728    1372   \n",
       "127  2565     2  IT2301-229      1      8           0     108   1728    1372   \n",
       "128  2565     2  IT2301-229      2      5           0     108   1728    1372   \n",
       "129  2565     2  IT2301-318      1     18           0     108   1728    1372   \n",
       "130  2565     2  IT2301-318      2      5           0     108   1728    1372   \n",
       "\n",
       "     Year Group  Term Group  All student  \n",
       "126          21          14            0  \n",
       "127          21          14            0  \n",
       "128          21          14            0  \n",
       "129          21          14            0  \n",
       "130          21          14            0  "
      ]
     },
     "execution_count": 84,
     "metadata": {},
     "output_type": "execute_result"
    }
   ],
   "source": [
    "df.tail()"
   ]
  },
  {
   "cell_type": "code",
   "execution_count": 85,
   "metadata": {},
   "outputs": [
    {
     "data": {
      "text/plain": [
       "Index(['Year', 'Term', 'Subject No.', 'Group', 'Limit', 'Registered', 'Course',\n",
       "       'Hours', 'People', 'Year Group', 'Term Group', 'All student'],\n",
       "      dtype='object')"
      ]
     },
     "execution_count": 85,
     "metadata": {},
     "output_type": "execute_result"
    }
   ],
   "source": [
    "df.columns"
   ]
  },
  {
   "cell_type": "code",
   "execution_count": 86,
   "metadata": {},
   "outputs": [
    {
     "data": {
      "text/html": [
       "<div>\n",
       "<style scoped>\n",
       "    .dataframe tbody tr th:only-of-type {\n",
       "        vertical-align: middle;\n",
       "    }\n",
       "\n",
       "    .dataframe tbody tr th {\n",
       "        vertical-align: top;\n",
       "    }\n",
       "\n",
       "    .dataframe thead th {\n",
       "        text-align: right;\n",
       "    }\n",
       "</style>\n",
       "<table border=\"1\" class=\"dataframe\">\n",
       "  <thead>\n",
       "    <tr style=\"text-align: right;\">\n",
       "      <th></th>\n",
       "      <th>Year</th>\n",
       "      <th>Term</th>\n",
       "      <th>Group</th>\n",
       "      <th>Limit</th>\n",
       "      <th>Registered</th>\n",
       "      <th>Course</th>\n",
       "      <th>Hours</th>\n",
       "      <th>People</th>\n",
       "      <th>Year Group</th>\n",
       "      <th>Term Group</th>\n",
       "      <th>All student</th>\n",
       "    </tr>\n",
       "  </thead>\n",
       "  <tbody>\n",
       "    <tr>\n",
       "      <th>count</th>\n",
       "      <td>131.000000</td>\n",
       "      <td>131.000000</td>\n",
       "      <td>131.000000</td>\n",
       "      <td>131.000000</td>\n",
       "      <td>131.000000</td>\n",
       "      <td>131.0</td>\n",
       "      <td>131.0</td>\n",
       "      <td>131.0</td>\n",
       "      <td>131.000000</td>\n",
       "      <td>131.000000</td>\n",
       "      <td>131.000000</td>\n",
       "    </tr>\n",
       "    <tr>\n",
       "      <th>mean</th>\n",
       "      <td>2560.358779</td>\n",
       "      <td>1.511450</td>\n",
       "      <td>1.893130</td>\n",
       "      <td>24.923664</td>\n",
       "      <td>10.473282</td>\n",
       "      <td>108.0</td>\n",
       "      <td>1728.0</td>\n",
       "      <td>1372.0</td>\n",
       "      <td>14.145038</td>\n",
       "      <td>7.854962</td>\n",
       "      <td>137.229008</td>\n",
       "    </tr>\n",
       "    <tr>\n",
       "      <th>std</th>\n",
       "      <td>3.760255</td>\n",
       "      <td>0.501788</td>\n",
       "      <td>2.016287</td>\n",
       "      <td>17.847481</td>\n",
       "      <td>11.089377</td>\n",
       "      <td>0.0</td>\n",
       "      <td>0.0</td>\n",
       "      <td>0.0</td>\n",
       "      <td>4.293326</td>\n",
       "      <td>2.654813</td>\n",
       "      <td>110.514849</td>\n",
       "    </tr>\n",
       "    <tr>\n",
       "      <th>min</th>\n",
       "      <td>2554.000000</td>\n",
       "      <td>1.000000</td>\n",
       "      <td>1.000000</td>\n",
       "      <td>1.000000</td>\n",
       "      <td>0.000000</td>\n",
       "      <td>108.0</td>\n",
       "      <td>1728.0</td>\n",
       "      <td>1372.0</td>\n",
       "      <td>5.000000</td>\n",
       "      <td>2.000000</td>\n",
       "      <td>0.000000</td>\n",
       "    </tr>\n",
       "    <tr>\n",
       "      <th>25%</th>\n",
       "      <td>2556.000000</td>\n",
       "      <td>1.000000</td>\n",
       "      <td>1.000000</td>\n",
       "      <td>10.000000</td>\n",
       "      <td>1.000000</td>\n",
       "      <td>108.0</td>\n",
       "      <td>1728.0</td>\n",
       "      <td>1372.0</td>\n",
       "      <td>12.500000</td>\n",
       "      <td>6.000000</td>\n",
       "      <td>63.000000</td>\n",
       "    </tr>\n",
       "    <tr>\n",
       "      <th>50%</th>\n",
       "      <td>2561.000000</td>\n",
       "      <td>2.000000</td>\n",
       "      <td>2.000000</td>\n",
       "      <td>20.000000</td>\n",
       "      <td>6.000000</td>\n",
       "      <td>108.0</td>\n",
       "      <td>1728.0</td>\n",
       "      <td>1372.0</td>\n",
       "      <td>15.000000</td>\n",
       "      <td>8.000000</td>\n",
       "      <td>105.000000</td>\n",
       "    </tr>\n",
       "    <tr>\n",
       "      <th>75%</th>\n",
       "      <td>2563.500000</td>\n",
       "      <td>2.000000</td>\n",
       "      <td>2.000000</td>\n",
       "      <td>50.000000</td>\n",
       "      <td>18.000000</td>\n",
       "      <td>108.0</td>\n",
       "      <td>1728.0</td>\n",
       "      <td>1372.0</td>\n",
       "      <td>16.000000</td>\n",
       "      <td>8.500000</td>\n",
       "      <td>144.000000</td>\n",
       "    </tr>\n",
       "    <tr>\n",
       "      <th>max</th>\n",
       "      <td>2565.000000</td>\n",
       "      <td>2.000000</td>\n",
       "      <td>21.000000</td>\n",
       "      <td>56.000000</td>\n",
       "      <td>51.000000</td>\n",
       "      <td>108.0</td>\n",
       "      <td>1728.0</td>\n",
       "      <td>1372.0</td>\n",
       "      <td>21.000000</td>\n",
       "      <td>14.000000</td>\n",
       "      <td>365.000000</td>\n",
       "    </tr>\n",
       "  </tbody>\n",
       "</table>\n",
       "</div>"
      ],
      "text/plain": [
       "              Year        Term       Group       Limit  Registered  Course  \\\n",
       "count   131.000000  131.000000  131.000000  131.000000  131.000000   131.0   \n",
       "mean   2560.358779    1.511450    1.893130   24.923664   10.473282   108.0   \n",
       "std       3.760255    0.501788    2.016287   17.847481   11.089377     0.0   \n",
       "min    2554.000000    1.000000    1.000000    1.000000    0.000000   108.0   \n",
       "25%    2556.000000    1.000000    1.000000   10.000000    1.000000   108.0   \n",
       "50%    2561.000000    2.000000    2.000000   20.000000    6.000000   108.0   \n",
       "75%    2563.500000    2.000000    2.000000   50.000000   18.000000   108.0   \n",
       "max    2565.000000    2.000000   21.000000   56.000000   51.000000   108.0   \n",
       "\n",
       "        Hours  People  Year Group  Term Group  All student  \n",
       "count   131.0   131.0  131.000000  131.000000   131.000000  \n",
       "mean   1728.0  1372.0   14.145038    7.854962   137.229008  \n",
       "std       0.0     0.0    4.293326    2.654813   110.514849  \n",
       "min    1728.0  1372.0    5.000000    2.000000     0.000000  \n",
       "25%    1728.0  1372.0   12.500000    6.000000    63.000000  \n",
       "50%    1728.0  1372.0   15.000000    8.000000   105.000000  \n",
       "75%    1728.0  1372.0   16.000000    8.500000   144.000000  \n",
       "max    1728.0  1372.0   21.000000   14.000000   365.000000  "
      ]
     },
     "execution_count": 86,
     "metadata": {},
     "output_type": "execute_result"
    }
   ],
   "source": [
    "df.describe()"
   ]
  },
  {
   "attachments": {},
   "cell_type": "markdown",
   "metadata": {},
   "source": [
    "Ok! Now our data is ready."
   ]
  },
  {
   "attachments": {},
   "cell_type": "markdown",
   "metadata": {},
   "source": [
    "Let's do it!"
   ]
  },
  {
   "attachments": {},
   "cell_type": "markdown",
   "metadata": {},
   "source": [
    "- Widgets"
   ]
  },
  {
   "cell_type": "code",
   "execution_count": 87,
   "metadata": {},
   "outputs": [
    {
     "data": {
      "application/vnd.jupyter.widget-view+json": {
       "model_id": "22d3e71521ac424aa4d40081050113a1",
       "version_major": 2,
       "version_minor": 0
      },
      "text/plain": [
       "interactive(children=(Dropdown(description='col', options=('Year', 'Term', 'Subject No.', 'Group', 'Course', '…"
      ]
     },
     "metadata": {},
     "output_type": "display_data"
    }
   ],
   "source": [
    "#Creating the interactive dashboard\n",
    "from ipywidgets import interact\n",
    "@interact\n",
    "def create_fare_plot(col = df.drop(['Registered', 'Limit'], axis =1).columns):\n",
    "    sns.barplot(data = df, x = col, y ='Registered')\n",
    "    plt.title(f'Mean Bar Plot of the People grouped by the {col}')"
   ]
  },
  {
   "attachments": {},
   "cell_type": "markdown",
   "metadata": {},
   "source": [
    "- Dash by plotly"
   ]
  },
  {
   "cell_type": "code",
   "execution_count": 88,
   "metadata": {},
   "outputs": [],
   "source": [
    "import dash\n",
    "from dash import dcc, html\n",
    "import plotly.express as px"
   ]
  },
  {
   "cell_type": "code",
   "execution_count": 89,
   "metadata": {},
   "outputs": [
    {
     "name": "stdout",
     "output_type": "stream",
     "text": [
      "Dash is running on http://127.0.0.1:8050/\n",
      "\n",
      "Dash is running on http://127.0.0.1:8050/\n",
      "\n"
     ]
    },
    {
     "name": "stderr",
     "output_type": "stream",
     "text": [
      "2023-02-17 17:19:49.123 Dash is running on http://127.0.0.1:8050/\n",
      "\n"
     ]
    },
    {
     "name": "stdout",
     "output_type": "stream",
     "text": [
      " * Serving Flask app \"__main__\" (lazy loading)\n",
      " * Environment: production\n",
      "\u001b[31m   WARNING: This is a development server. Do not use it in a production deployment.\u001b[0m\n",
      "\u001b[2m   Use a production WSGI server instead.\u001b[0m\n",
      " * Debug mode: on\n"
     ]
    },
    {
     "ename": "SystemExit",
     "evalue": "1",
     "output_type": "error",
     "traceback": [
      "An exception has occurred, use %tb to see the full traceback.\n",
      "\u001b[1;31mSystemExit\u001b[0m\u001b[1;31m:\u001b[0m 1\n"
     ]
    },
    {
     "name": "stderr",
     "output_type": "stream",
     "text": [
      "d:\\Anaconduy\\lib\\site-packages\\IPython\\core\\interactiveshell.py:3465: UserWarning:\n",
      "\n",
      "To exit: use 'exit', 'quit', or Ctrl-D.\n",
      "\n"
     ]
    }
   ],
   "source": [
    "app = dash.Dash()\n",
    "\n",
    "fig = px.scatter(\n",
    "    df,\n",
    "    x=\"Registered\",\n",
    "    y=\"Year\",\n",
    "    size=\"All student\",\n",
    "    color=\"Group\",\n",
    "    hover_name = \"Subject No.\",\n",
    "    log_x = True,\n",
    "    )\n",
    "\n",
    "app.layout = html.Div(children = [\n",
    "html.H1(children='T.Kholed Dashboard'),\n",
    "dcc.Graph(id=\"Registered_vs_Year\", figure=fig)])\n",
    "\n",
    "if __name__==\"__main__\":\n",
    "    app.run_server(debug=True)"
   ]
  },
  {
   "attachments": {},
   "cell_type": "markdown",
   "metadata": {},
   "source": [
    "This code is possible. But i can't open the dashboard because of some problem."
   ]
  },
  {
   "attachments": {},
   "cell_type": "markdown",
   "metadata": {},
   "source": [
    "- Streamlit"
   ]
  },
  {
   "cell_type": "code",
   "execution_count": null,
   "metadata": {},
   "outputs": [],
   "source": [
    "import streamlit as st\n",
    "import pandas as pd\n",
    "import plotly.express as px\n",
    "import seaborn as sns"
   ]
  },
  {
   "cell_type": "code",
   "execution_count": null,
   "metadata": {},
   "outputs": [
    {
     "data": {
      "text/plain": [
       "DeltaGenerator(_root_container=0, _provided_cursor=None, _parent=None, _block_type=None, _form_data=None)"
      ]
     },
     "execution_count": 57,
     "metadata": {},
     "output_type": "execute_result"
    }
   ],
   "source": [
    "df = sns.load_dataset('titanic')\n",
    "st.title('Titanic Dashboard')\n",
    "st.subheader('Dataset')\n",
    "st.dataframe(df)\n",
    "st.subheader('Data Numerical Statistic')\n",
    "st.dataframe(df.describe())"
   ]
  },
  {
   "attachments": {},
   "cell_type": "markdown",
   "metadata": {},
   "source": [
    "This code is possible. But i can't open the dashboard because of some problem."
   ]
  },
  {
   "attachments": {},
   "cell_type": "markdown",
   "metadata": {},
   "source": [
    "# To Be Continue..."
   ]
  }
 ],
 "metadata": {
  "kernelspec": {
   "display_name": "base",
   "language": "python",
   "name": "python3"
  },
  "language_info": {
   "codemirror_mode": {
    "name": "ipython",
    "version": 3
   },
   "file_extension": ".py",
   "mimetype": "text/x-python",
   "name": "python",
   "nbconvert_exporter": "python",
   "pygments_lexer": "ipython3",
   "version": "3.9.13"
  },
  "orig_nbformat": 4,
  "vscode": {
   "interpreter": {
    "hash": "6d881ab20baefb2a31dc75558dda7a1f52e07d1ad85216d34304d3199e30c0eb"
   }
  }
 },
 "nbformat": 4,
 "nbformat_minor": 2
}
