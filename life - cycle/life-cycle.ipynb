{
 "cells": [
  {
   "cell_type": "markdown",
   "id": "83ca7695-bb37-47a5-ab17-7426b03e76c2",
   "metadata": {},
   "source": [
    "**Business Understanding**"
   ]
  },
  {
   "cell_type": "markdown",
   "id": "7cfe8e22-2fb4-42b7-a602-46d9fd85fa28",
   "metadata": {},
   "source": [
    "สุขภาพจิต"
   ]
  },
  {
   "cell_type": "code",
   "execution_count": null,
   "id": "46e1eedf-dd6b-4658-bef1-20b80b80c549",
   "metadata": {},
   "outputs": [],
   "source": []
  },
  {
   "cell_type": "markdown",
   "id": "a3bc8bb7-f913-417e-8ec7-a07c345870cc",
   "metadata": {},
   "source": [
    "**Data Understanding**"
   ]
  },
  {
   "cell_type": "markdown",
   "id": "dd8551ee-4e1d-4c40-aaf1-b75f6e61f876",
   "metadata": {},
   "source": [
    "Superstore file in Excel format"
   ]
  },
  {
   "cell_type": "code",
   "execution_count": 2,
   "id": "af36d569-cbb3-4d89-9065-442d290a7e05",
   "metadata": {},
   "outputs": [],
   "source": [
    "import pandas as pd\n",
    "df1=pd.read_csv('OS_05_0002_01.csv')\n"
   ]
  },
  {
   "cell_type": "code",
   "execution_count": 3,
   "id": "e6bfdfb3-71ea-4b7d-ba77-efbc8ab855fc",
   "metadata": {},
   "outputs": [
    {
     "data": {
      "text/html": [
       "<div>\n",
       "<style scoped>\n",
       "    .dataframe tbody tr th:only-of-type {\n",
       "        vertical-align: middle;\n",
       "    }\n",
       "\n",
       "    .dataframe tbody tr th {\n",
       "        vertical-align: top;\n",
       "    }\n",
       "\n",
       "    .dataframe thead th {\n",
       "        text-align: right;\n",
       "    }\n",
       "</style>\n",
       "<table border=\"1\" class=\"dataframe\">\n",
       "  <thead>\n",
       "    <tr style=\"text-align: right;\">\n",
       "      <th></th>\n",
       "      <th>year</th>\n",
       "      <th>labor_status</th>\n",
       "      <th>work_status</th>\n",
       "      <th>value</th>\n",
       "      <th>unit</th>\n",
       "      <th>source</th>\n",
       "    </tr>\n",
       "  </thead>\n",
       "  <tbody>\n",
       "    <tr>\n",
       "      <th>0</th>\n",
       "      <td>2557</td>\n",
       "      <td>รวม</td>\n",
       "      <td>รวม</td>\n",
       "      <td>31.48</td>\n",
       "      <td>คะแนน</td>\n",
       "      <td>สำนักงานสถิติแห่งชาติ</td>\n",
       "    </tr>\n",
       "    <tr>\n",
       "      <th>1</th>\n",
       "      <td>2557</td>\n",
       "      <td>ผู้อยู่ในกำลังแรงงาน</td>\n",
       "      <td>รวม</td>\n",
       "      <td>31.66</td>\n",
       "      <td>คะแนน</td>\n",
       "      <td>สำนักงานสถิติแห่งชาติ</td>\n",
       "    </tr>\n",
       "    <tr>\n",
       "      <th>2</th>\n",
       "      <td>2557</td>\n",
       "      <td>ผู้อยู่ในกำลังแรงงาน</td>\n",
       "      <td>ผู้มีงานทำ</td>\n",
       "      <td>31.68</td>\n",
       "      <td>คะแนน</td>\n",
       "      <td>สำนักงานสถิติแห่งชาติ</td>\n",
       "    </tr>\n",
       "    <tr>\n",
       "      <th>3</th>\n",
       "      <td>2557</td>\n",
       "      <td>ผู้อยู่ในกำลังแรงงาน</td>\n",
       "      <td>ผู้ว่างงาน</td>\n",
       "      <td>30.10</td>\n",
       "      <td>คะแนน</td>\n",
       "      <td>สำนักงานสถิติแห่งชาติ</td>\n",
       "    </tr>\n",
       "    <tr>\n",
       "      <th>4</th>\n",
       "      <td>2557</td>\n",
       "      <td>ผู้อยู่ในกำลังแรงงาน</td>\n",
       "      <td>ผู้รอฤดูกาล</td>\n",
       "      <td>29.69</td>\n",
       "      <td>คะแนน</td>\n",
       "      <td>สำนักงานสถิติแห่งชาติ</td>\n",
       "    </tr>\n",
       "  </tbody>\n",
       "</table>\n",
       "</div>"
      ],
      "text/plain": [
       "   year          labor_status  work_status  value   unit  \\\n",
       "0  2557                   รวม          รวม  31.48  คะแนน   \n",
       "1  2557  ผู้อยู่ในกำลังแรงงาน          รวม  31.66  คะแนน   \n",
       "2  2557  ผู้อยู่ในกำลังแรงงาน   ผู้มีงานทำ  31.68  คะแนน   \n",
       "3  2557  ผู้อยู่ในกำลังแรงงาน   ผู้ว่างงาน  30.10  คะแนน   \n",
       "4  2557  ผู้อยู่ในกำลังแรงงาน  ผู้รอฤดูกาล  29.69  คะแนน   \n",
       "\n",
       "                  source  \n",
       "0  สำนักงานสถิติแห่งชาติ  \n",
       "1  สำนักงานสถิติแห่งชาติ  \n",
       "2  สำนักงานสถิติแห่งชาติ  \n",
       "3  สำนักงานสถิติแห่งชาติ  \n",
       "4  สำนักงานสถิติแห่งชาติ  "
      ]
     },
     "execution_count": 3,
     "metadata": {},
     "output_type": "execute_result"
    }
   ],
   "source": [
    "df1.head()"
   ]
  },
  {
   "cell_type": "markdown",
   "id": "e90fe1b0-f08b-4863-b9be-628821ef1584",
   "metadata": {},
   "source": [
    "**Data Preparation**"
   ]
  },
  {
   "cell_type": "code",
   "execution_count": null,
   "id": "fc7db532-7840-4e4d-a753-a8584fe09718",
   "metadata": {},
   "outputs": [],
   "source": []
  },
  {
   "cell_type": "markdown",
   "id": "c07bacf0-bd67-456d-b130-fd3d42ca190e",
   "metadata": {},
   "source": [
    "**Modeling**"
   ]
  },
  {
   "cell_type": "code",
   "execution_count": null,
   "id": "ea0118d7-251f-447d-aa4e-5949800c2e3a",
   "metadata": {},
   "outputs": [],
   "source": []
  },
  {
   "cell_type": "markdown",
   "id": "cb068e55-ba37-4c1d-bdd0-67da387f5219",
   "metadata": {},
   "source": [
    "**Evalution**"
   ]
  },
  {
   "cell_type": "code",
   "execution_count": null,
   "id": "b2cbd893-d881-47a1-ba5d-d8b1db7f6bd2",
   "metadata": {},
   "outputs": [],
   "source": []
  },
  {
   "cell_type": "markdown",
   "id": "ef6d099c-db87-42de-bde8-02e20f361ca2",
   "metadata": {},
   "source": [
    "**Deployment**"
   ]
  },
  {
   "cell_type": "code",
   "execution_count": null,
   "id": "52f4e1b5-f374-4eed-ad32-cbbc06dd6e90",
   "metadata": {},
   "outputs": [],
   "source": []
  }
 ],
 "metadata": {
  "kernelspec": {
   "display_name": "Python 3 (ipykernel)",
   "language": "python",
   "name": "python3"
  },
  "language_info": {
   "codemirror_mode": {
    "name": "ipython",
    "version": 3
   },
   "file_extension": ".py",
   "mimetype": "text/x-python",
   "name": "python",
   "nbconvert_exporter": "python",
   "pygments_lexer": "ipython3",
   "version": "3.9.12"
  }
 },
 "nbformat": 4,
 "nbformat_minor": 5
}
