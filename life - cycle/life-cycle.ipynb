{
 "cells": [
  {
   "cell_type": "markdown",
   "id": "83ca7695-bb37-47a5-ab17-7426b03e76c2",
   "metadata": {},
   "source": [
    "**Business Understanding**"
   ]
  },
  {
   "cell_type": "markdown",
   "id": "7cfe8e22-2fb4-42b7-a602-46d9fd85fa28",
   "metadata": {},
   "source": [
    "สุขภาพจิต"
   ]
  },
  {
   "cell_type": "code",
   "execution_count": null,
   "id": "46e1eedf-dd6b-4658-bef1-20b80b80c549",
   "metadata": {},
   "outputs": [],
   "source": []
  },
  {
   "cell_type": "markdown",
   "id": "a3bc8bb7-f913-417e-8ec7-a07c345870cc",
   "metadata": {},
   "source": [
    "**Data Understanding**"
   ]
  },
  {
   "cell_type": "markdown",
   "id": "dd8551ee-4e1d-4c40-aaf1-b75f6e61f876",
   "metadata": {},
   "source": [
    "Superstore file in Excel format"
   ]
  },
  {
   "cell_type": "code",
   "execution_count": 1,
   "id": "dff68f47-54c7-475c-8701-d8739fc5d52a",
   "metadata": {},
   "outputs": [],
   "source": [
    "import pandas as pd\n",
    "import matplotlib.pyplot as pl\n",
    "import numpy as np\n"
   ]
  },
  {
   "cell_type": "code",
   "execution_count": 2,
   "id": "af36d569-cbb3-4d89-9065-442d290a7e05",
   "metadata": {},
   "outputs": [],
   "source": [
    "df1=pd.read_csv('Thailand Happiness.csv.csv')"
   ]
  },
  {
   "cell_type": "markdown",
   "id": "e90fe1b0-f08b-4863-b9be-628821ef1584",
   "metadata": {},
   "source": [
    "**Data Preparation**"
   ]
  },
  {
   "cell_type": "code",
   "execution_count": 3,
   "id": "fc7db532-7840-4e4d-a753-a8584fe09718",
   "metadata": {},
   "outputs": [
    {
     "name": "stdout",
     "output_type": "stream",
     "text": [
      "<class 'pandas.core.frame.DataFrame'>\n",
      "RangeIndex: 10 entries, 0 to 9\n",
      "Data columns (total 10 columns):\n",
      " #   Column                         Non-Null Count  Dtype  \n",
      "---  ------                         --------------  -----  \n",
      " 0   Year                           9 non-null      object \n",
      " 1   Happiness Rank (158)           9 non-null      float64\n",
      " 2   Happiness Score(10)            9 non-null      float64\n",
      " 3   Economy (GDP per Capita)       9 non-null      float64\n",
      " 4   Family                         9 non-null      float64\n",
      " 5   Health (Life Expectancy)       9 non-null      float64\n",
      " 6   Freedom                        9 non-null      float64\n",
      " 7   Trust (Government Corruption)  9 non-null      float64\n",
      " 8   Generosity                     9 non-null      float64\n",
      " 9   Dystopia Residual              9 non-null      float64\n",
      "dtypes: float64(9), object(1)\n",
      "memory usage: 928.0+ bytes\n"
     ]
    }
   ],
   "source": [
    "df1.info()"
   ]
  },
  {
   "cell_type": "code",
   "execution_count": 4,
   "id": "a5023b74-c618-4ddc-8422-8e86b7d42470",
   "metadata": {},
   "outputs": [
    {
     "data": {
      "text/html": [
       "<div>\n",
       "<style scoped>\n",
       "    .dataframe tbody tr th:only-of-type {\n",
       "        vertical-align: middle;\n",
       "    }\n",
       "\n",
       "    .dataframe tbody tr th {\n",
       "        vertical-align: top;\n",
       "    }\n",
       "\n",
       "    .dataframe thead th {\n",
       "        text-align: right;\n",
       "    }\n",
       "</style>\n",
       "<table border=\"1\" class=\"dataframe\">\n",
       "  <thead>\n",
       "    <tr style=\"text-align: right;\">\n",
       "      <th></th>\n",
       "      <th>Year</th>\n",
       "      <th>Happiness Rank (158)</th>\n",
       "      <th>Happiness Score(10)</th>\n",
       "      <th>Economy (GDP per Capita)</th>\n",
       "      <th>Family</th>\n",
       "      <th>Health (Life Expectancy)</th>\n",
       "      <th>Freedom</th>\n",
       "      <th>Trust (Government Corruption)</th>\n",
       "      <th>Generosity</th>\n",
       "      <th>Dystopia Residual</th>\n",
       "    </tr>\n",
       "  </thead>\n",
       "  <tbody>\n",
       "    <tr>\n",
       "      <th>5</th>\n",
       "      <td>2020</td>\n",
       "      <td>54.00</td>\n",
       "      <td>5.9990</td>\n",
       "      <td>1.007000</td>\n",
       "      <td>1.348000</td>\n",
       "      <td>0.794000</td>\n",
       "      <td>0.609</td>\n",
       "      <td>0.032000</td>\n",
       "      <td>0.377000</td>\n",
       "      <td>1.832000</td>\n",
       "    </tr>\n",
       "    <tr>\n",
       "      <th>6</th>\n",
       "      <td>2021</td>\n",
       "      <td>54.00</td>\n",
       "      <td>5.9850</td>\n",
       "      <td>1.107000</td>\n",
       "      <td>0.957000</td>\n",
       "      <td>0.596000</td>\n",
       "      <td>0.611</td>\n",
       "      <td>0.028000</td>\n",
       "      <td>0.375000</td>\n",
       "      <td>2.309000</td>\n",
       "    </tr>\n",
       "    <tr>\n",
       "      <th>7</th>\n",
       "      <td>2022</td>\n",
       "      <td>61.00</td>\n",
       "      <td>5.8910</td>\n",
       "      <td>1.535000</td>\n",
       "      <td>1.096000</td>\n",
       "      <td>0.697000</td>\n",
       "      <td>0.617</td>\n",
       "      <td>0.000000</td>\n",
       "      <td>0.321000</td>\n",
       "      <td>1.600000</td>\n",
       "    </tr>\n",
       "    <tr>\n",
       "      <th>8</th>\n",
       "      <td>NaN</td>\n",
       "      <td>NaN</td>\n",
       "      <td>NaN</td>\n",
       "      <td>NaN</td>\n",
       "      <td>NaN</td>\n",
       "      <td>NaN</td>\n",
       "      <td>NaN</td>\n",
       "      <td>NaN</td>\n",
       "      <td>NaN</td>\n",
       "      <td>NaN</td>\n",
       "    </tr>\n",
       "    <tr>\n",
       "      <th>9</th>\n",
       "      <td>average</td>\n",
       "      <td>45.75</td>\n",
       "      <td>6.1635</td>\n",
       "      <td>1.112375</td>\n",
       "      <td>1.245375</td>\n",
       "      <td>0.707125</td>\n",
       "      <td>0.583</td>\n",
       "      <td>0.029375</td>\n",
       "      <td>0.441375</td>\n",
       "      <td>2.329074</td>\n",
       "    </tr>\n",
       "  </tbody>\n",
       "</table>\n",
       "</div>"
      ],
      "text/plain": [
       "      Year  Happiness Rank (158)  Happiness Score(10)  \\\n",
       "5     2020                 54.00               5.9990   \n",
       "6     2021                 54.00               5.9850   \n",
       "7     2022                 61.00               5.8910   \n",
       "8      NaN                   NaN                  NaN   \n",
       "9  average                 45.75               6.1635   \n",
       "\n",
       "   Economy (GDP per Capita)    Family  Health (Life Expectancy)  Freedom  \\\n",
       "5                  1.007000  1.348000                  0.794000    0.609   \n",
       "6                  1.107000  0.957000                  0.596000    0.611   \n",
       "7                  1.535000  1.096000                  0.697000    0.617   \n",
       "8                       NaN       NaN                       NaN      NaN   \n",
       "9                  1.112375  1.245375                  0.707125    0.583   \n",
       "\n",
       "   Trust (Government Corruption)  Generosity  Dystopia Residual  \n",
       "5                       0.032000    0.377000           1.832000  \n",
       "6                       0.028000    0.375000           2.309000  \n",
       "7                       0.000000    0.321000           1.600000  \n",
       "8                            NaN         NaN                NaN  \n",
       "9                       0.029375    0.441375           2.329074  "
      ]
     },
     "execution_count": 4,
     "metadata": {},
     "output_type": "execute_result"
    }
   ],
   "source": [
    "df1.tail()"
   ]
  },
  {
   "cell_type": "code",
   "execution_count": 5,
   "id": "ea0118d7-251f-447d-aa4e-5949800c2e3a",
   "metadata": {},
   "outputs": [],
   "source": [
    "df1.drop(9,inplace=True)"
   ]
  },
  {
   "cell_type": "code",
   "execution_count": 6,
   "id": "22998e34-4ccf-475b-bc15-1ebaa449edec",
   "metadata": {},
   "outputs": [],
   "source": [
    "df1.drop(8,inplace=True)"
   ]
  },
  {
   "cell_type": "code",
   "execution_count": 7,
   "id": "e3b1da7b-e9fc-43b0-b5f1-a8e1c27d685b",
   "metadata": {},
   "outputs": [
    {
     "data": {
      "text/html": [
       "<div>\n",
       "<style scoped>\n",
       "    .dataframe tbody tr th:only-of-type {\n",
       "        vertical-align: middle;\n",
       "    }\n",
       "\n",
       "    .dataframe tbody tr th {\n",
       "        vertical-align: top;\n",
       "    }\n",
       "\n",
       "    .dataframe thead th {\n",
       "        text-align: right;\n",
       "    }\n",
       "</style>\n",
       "<table border=\"1\" class=\"dataframe\">\n",
       "  <thead>\n",
       "    <tr style=\"text-align: right;\">\n",
       "      <th></th>\n",
       "      <th>Year</th>\n",
       "      <th>Happiness Rank (158)</th>\n",
       "      <th>Happiness Score(10)</th>\n",
       "      <th>Economy (GDP per Capita)</th>\n",
       "      <th>Family</th>\n",
       "      <th>Health (Life Expectancy)</th>\n",
       "      <th>Freedom</th>\n",
       "      <th>Trust (Government Corruption)</th>\n",
       "      <th>Generosity</th>\n",
       "      <th>Dystopia Residual</th>\n",
       "    </tr>\n",
       "  </thead>\n",
       "  <tbody>\n",
       "    <tr>\n",
       "      <th>3</th>\n",
       "      <td>2018</td>\n",
       "      <td>46.0</td>\n",
       "      <td>6.072</td>\n",
       "      <td>1.016</td>\n",
       "      <td>1.417</td>\n",
       "      <td>0.707</td>\n",
       "      <td>0.637</td>\n",
       "      <td>0.029</td>\n",
       "      <td>0.364</td>\n",
       "      <td>2.738</td>\n",
       "    </tr>\n",
       "    <tr>\n",
       "      <th>4</th>\n",
       "      <td>2019</td>\n",
       "      <td>52.0</td>\n",
       "      <td>6.008</td>\n",
       "      <td>1.050</td>\n",
       "      <td>1.409</td>\n",
       "      <td>0.828</td>\n",
       "      <td>0.557</td>\n",
       "      <td>0.028</td>\n",
       "      <td>0.359</td>\n",
       "      <td>3.215</td>\n",
       "    </tr>\n",
       "    <tr>\n",
       "      <th>5</th>\n",
       "      <td>2020</td>\n",
       "      <td>54.0</td>\n",
       "      <td>5.999</td>\n",
       "      <td>1.007</td>\n",
       "      <td>1.348</td>\n",
       "      <td>0.794</td>\n",
       "      <td>0.609</td>\n",
       "      <td>0.032</td>\n",
       "      <td>0.377</td>\n",
       "      <td>1.832</td>\n",
       "    </tr>\n",
       "    <tr>\n",
       "      <th>6</th>\n",
       "      <td>2021</td>\n",
       "      <td>54.0</td>\n",
       "      <td>5.985</td>\n",
       "      <td>1.107</td>\n",
       "      <td>0.957</td>\n",
       "      <td>0.596</td>\n",
       "      <td>0.611</td>\n",
       "      <td>0.028</td>\n",
       "      <td>0.375</td>\n",
       "      <td>2.309</td>\n",
       "    </tr>\n",
       "    <tr>\n",
       "      <th>7</th>\n",
       "      <td>2022</td>\n",
       "      <td>61.0</td>\n",
       "      <td>5.891</td>\n",
       "      <td>1.535</td>\n",
       "      <td>1.096</td>\n",
       "      <td>0.697</td>\n",
       "      <td>0.617</td>\n",
       "      <td>0.000</td>\n",
       "      <td>0.321</td>\n",
       "      <td>1.600</td>\n",
       "    </tr>\n",
       "  </tbody>\n",
       "</table>\n",
       "</div>"
      ],
      "text/plain": [
       "   Year  Happiness Rank (158)  Happiness Score(10)  Economy (GDP per Capita)  \\\n",
       "3  2018                  46.0                6.072                     1.016   \n",
       "4  2019                  52.0                6.008                     1.050   \n",
       "5  2020                  54.0                5.999                     1.007   \n",
       "6  2021                  54.0                5.985                     1.107   \n",
       "7  2022                  61.0                5.891                     1.535   \n",
       "\n",
       "   Family  Health (Life Expectancy)  Freedom  Trust (Government Corruption)  \\\n",
       "3   1.417                     0.707    0.637                          0.029   \n",
       "4   1.409                     0.828    0.557                          0.028   \n",
       "5   1.348                     0.794    0.609                          0.032   \n",
       "6   0.957                     0.596    0.611                          0.028   \n",
       "7   1.096                     0.697    0.617                          0.000   \n",
       "\n",
       "   Generosity  Dystopia Residual  \n",
       "3       0.364              2.738  \n",
       "4       0.359              3.215  \n",
       "5       0.377              1.832  \n",
       "6       0.375              2.309  \n",
       "7       0.321              1.600  "
      ]
     },
     "execution_count": 7,
     "metadata": {},
     "output_type": "execute_result"
    }
   ],
   "source": [
    "df1.tail()"
   ]
  },
  {
   "cell_type": "code",
   "execution_count": 8,
   "id": "f6923d65-2976-4a86-a2a0-d6a88df1c467",
   "metadata": {},
   "outputs": [
    {
     "name": "stdout",
     "output_type": "stream",
     "text": [
      "<class 'pandas.core.frame.DataFrame'>\n",
      "RangeIndex: 8 entries, 0 to 7\n",
      "Data columns (total 10 columns):\n",
      " #   Column                         Non-Null Count  Dtype  \n",
      "---  ------                         --------------  -----  \n",
      " 0   Year                           8 non-null      object \n",
      " 1   Happiness Rank (158)           8 non-null      float64\n",
      " 2   Happiness Score(10)            8 non-null      float64\n",
      " 3   Economy (GDP per Capita)       8 non-null      float64\n",
      " 4   Family                         8 non-null      float64\n",
      " 5   Health (Life Expectancy)       8 non-null      float64\n",
      " 6   Freedom                        8 non-null      float64\n",
      " 7   Trust (Government Corruption)  8 non-null      float64\n",
      " 8   Generosity                     8 non-null      float64\n",
      " 9   Dystopia Residual              8 non-null      float64\n",
      "dtypes: float64(9), object(1)\n",
      "memory usage: 768.0+ bytes\n"
     ]
    }
   ],
   "source": [
    "df1.info()"
   ]
  },
  {
   "cell_type": "code",
   "execution_count": 9,
   "id": "02eff1bf-0fcb-4919-beab-70b066efab83",
   "metadata": {},
   "outputs": [
    {
     "name": "stderr",
     "output_type": "stream",
     "text": [
      "C:\\Users\\ASUS\\AppData\\Local\\Temp\\ipykernel_12280\\1309801108.py:1: UserWarning: Pandas doesn't allow columns to be created via a new attribute name - see https://pandas.pydata.org/pandas-docs/stable/indexing.html#attribute-access\n",
      "  df1.Date=pd.to_datetime(df1.Year,format=\"%Y\")\n"
     ]
    }
   ],
   "source": [
    "df1.Date=pd.to_datetime(df1.Year,format=\"%Y\")"
   ]
  },
  {
   "cell_type": "code",
   "execution_count": 10,
   "id": "201882d6-e1fc-4c60-aa46-c95e77f9eaae",
   "metadata": {},
   "outputs": [],
   "source": [
    "df1.set_index('Year',inplace=True)\n"
   ]
  },
  {
   "cell_type": "code",
   "execution_count": 11,
   "id": "b770a78e-057b-49d5-a60b-9b41f965e38e",
   "metadata": {},
   "outputs": [
    {
     "data": {
      "text/html": [
       "<div>\n",
       "<style scoped>\n",
       "    .dataframe tbody tr th:only-of-type {\n",
       "        vertical-align: middle;\n",
       "    }\n",
       "\n",
       "    .dataframe tbody tr th {\n",
       "        vertical-align: top;\n",
       "    }\n",
       "\n",
       "    .dataframe thead th {\n",
       "        text-align: right;\n",
       "    }\n",
       "</style>\n",
       "<table border=\"1\" class=\"dataframe\">\n",
       "  <thead>\n",
       "    <tr style=\"text-align: right;\">\n",
       "      <th></th>\n",
       "      <th>Happiness Rank (158)</th>\n",
       "      <th>Happiness Score(10)</th>\n",
       "      <th>Economy (GDP per Capita)</th>\n",
       "      <th>Family</th>\n",
       "      <th>Health (Life Expectancy)</th>\n",
       "      <th>Freedom</th>\n",
       "      <th>Trust (Government Corruption)</th>\n",
       "      <th>Generosity</th>\n",
       "      <th>Dystopia Residual</th>\n",
       "    </tr>\n",
       "    <tr>\n",
       "      <th>Year</th>\n",
       "      <th></th>\n",
       "      <th></th>\n",
       "      <th></th>\n",
       "      <th></th>\n",
       "      <th></th>\n",
       "      <th></th>\n",
       "      <th></th>\n",
       "      <th></th>\n",
       "      <th></th>\n",
       "    </tr>\n",
       "  </thead>\n",
       "  <tbody>\n",
       "    <tr>\n",
       "      <th>2015</th>\n",
       "      <td>34.0</td>\n",
       "      <td>6.455</td>\n",
       "      <td>0.967</td>\n",
       "      <td>1.265</td>\n",
       "      <td>0.739</td>\n",
       "      <td>0.557</td>\n",
       "      <td>0.032</td>\n",
       "      <td>0.576</td>\n",
       "      <td>2.319</td>\n",
       "    </tr>\n",
       "    <tr>\n",
       "      <th>2016</th>\n",
       "      <td>33.0</td>\n",
       "      <td>6.474</td>\n",
       "      <td>1.089</td>\n",
       "      <td>1.045</td>\n",
       "      <td>0.649</td>\n",
       "      <td>0.496</td>\n",
       "      <td>0.028</td>\n",
       "      <td>0.587</td>\n",
       "      <td>2.580</td>\n",
       "    </tr>\n",
       "    <tr>\n",
       "      <th>2017</th>\n",
       "      <td>32.0</td>\n",
       "      <td>6.424</td>\n",
       "      <td>1.128</td>\n",
       "      <td>1.426</td>\n",
       "      <td>0.647</td>\n",
       "      <td>0.580</td>\n",
       "      <td>0.032</td>\n",
       "      <td>0.572</td>\n",
       "      <td>2.040</td>\n",
       "    </tr>\n",
       "    <tr>\n",
       "      <th>2018</th>\n",
       "      <td>46.0</td>\n",
       "      <td>6.072</td>\n",
       "      <td>1.016</td>\n",
       "      <td>1.417</td>\n",
       "      <td>0.707</td>\n",
       "      <td>0.637</td>\n",
       "      <td>0.029</td>\n",
       "      <td>0.364</td>\n",
       "      <td>2.738</td>\n",
       "    </tr>\n",
       "    <tr>\n",
       "      <th>2019</th>\n",
       "      <td>52.0</td>\n",
       "      <td>6.008</td>\n",
       "      <td>1.050</td>\n",
       "      <td>1.409</td>\n",
       "      <td>0.828</td>\n",
       "      <td>0.557</td>\n",
       "      <td>0.028</td>\n",
       "      <td>0.359</td>\n",
       "      <td>3.215</td>\n",
       "    </tr>\n",
       "  </tbody>\n",
       "</table>\n",
       "</div>"
      ],
      "text/plain": [
       "      Happiness Rank (158)  Happiness Score(10)  Economy (GDP per Capita)  \\\n",
       "Year                                                                        \n",
       "2015                  34.0                6.455                     0.967   \n",
       "2016                  33.0                6.474                     1.089   \n",
       "2017                  32.0                6.424                     1.128   \n",
       "2018                  46.0                6.072                     1.016   \n",
       "2019                  52.0                6.008                     1.050   \n",
       "\n",
       "      Family  Health (Life Expectancy)  Freedom  \\\n",
       "Year                                              \n",
       "2015   1.265                     0.739    0.557   \n",
       "2016   1.045                     0.649    0.496   \n",
       "2017   1.426                     0.647    0.580   \n",
       "2018   1.417                     0.707    0.637   \n",
       "2019   1.409                     0.828    0.557   \n",
       "\n",
       "      Trust (Government Corruption)  Generosity  Dystopia Residual  \n",
       "Year                                                                \n",
       "2015                          0.032       0.576              2.319  \n",
       "2016                          0.028       0.587              2.580  \n",
       "2017                          0.032       0.572              2.040  \n",
       "2018                          0.029       0.364              2.738  \n",
       "2019                          0.028       0.359              3.215  "
      ]
     },
     "execution_count": 11,
     "metadata": {},
     "output_type": "execute_result"
    }
   ],
   "source": [
    "df1.head()"
   ]
  },
  {
   "cell_type": "code",
   "execution_count": 13,
   "id": "b816a4bc-198b-4604-866d-24329cc0e816",
   "metadata": {},
   "outputs": [
    {
     "data": {
      "text/plain": [
       "<AxesSubplot:ylabel='Frequency'>"
      ]
     },
     "execution_count": 13,
     "metadata": {},
     "output_type": "execute_result"
    },
    {
     "data": {
      "image/png": "[encoded data removed]",
      "text/plain": [
       "<Figure size 432x288 with 1 Axes>"
      ]
     },
     "metadata": {
      "needs_background": "light"
     },
     "output_type": "display_data"
    }
   ],
   "source": [
    "df1.plot.hist()"
   ]
  },
  {
   "cell_type": "markdown",
   "id": "c07bacf0-bd67-456d-b130-fd3d42ca190e",
   "metadata": {},
   "source": [
    "**Modeling**"
   ]
  },
  {
   "cell_type": "markdown",
   "id": "cb068e55-ba37-4c1d-bdd0-67da387f5219",
   "metadata": {},
   "source": [
    "**Evalution**"
   ]
  },
  {
   "cell_type": "code",
   "execution_count": null,
   "id": "b2cbd893-d881-47a1-ba5d-d8b1db7f6bd2",
   "metadata": {},
   "outputs": [],
   "source": []
  },
  {
   "cell_type": "markdown",
   "id": "ef6d099c-db87-42de-bde8-02e20f361ca2",
   "metadata": {},
   "source": [
    "**Deployment**"
   ]
  },
  {
   "cell_type": "code",
   "execution_count": null,
   "id": "52f4e1b5-f374-4eed-ad32-cbbc06dd6e90",
   "metadata": {},
   "outputs": [],
   "source": []
  },
  {
   "cell_type": "code",
   "execution_count": null,
   "id": "5bd4f56d-cdd0-4004-a6b7-704b8b42f989",
   "metadata": {},
   "outputs": [],
   "source": []
  }
 ],
 "metadata": {
  "kernelspec": {
   "display_name": "Python 3 (ipykernel)",
   "language": "python",
   "name": "python3"
  },
  "language_info": {
   "codemirror_mode": {
    "name": "ipython",
    "version": 3
   },
   "file_extension": ".py",
   "mimetype": "text/x-python",
   "name": "python",
   "nbconvert_exporter": "python",
   "pygments_lexer": "ipython3",
   "version": "3.9.12"
  }
 },
 "nbformat": 4,
 "nbformat_minor": 5
}
