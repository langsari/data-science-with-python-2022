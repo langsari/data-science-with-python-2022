{
 "cells": [
  {
   "cell_type": "markdown",
   "id": "83ca7695-bb37-47a5-ab17-7426b03e76c2",
   "metadata": {},
   "source": [
    "**Business Understanding**"
   ]
  },
  {
   "cell_type": "markdown",
   "id": "7cfe8e22-2fb4-42b7-a602-46d9fd85fa28",
   "metadata": {},
   "source": [
    "Thailand Happiness"
   ]
  },
  {
   "cell_type": "markdown",
   "id": "4d9ecb1d-9659-4a5c-9f81-e79118525a5c",
   "metadata": {},
   "source": [
    "find cluster"
   ]
  },
  {
   "cell_type": "markdown",
   "id": "a3bc8bb7-f913-417e-8ec7-a07c345870cc",
   "metadata": {},
   "source": [
    "**Data Understanding**"
   ]
  },
  {
   "cell_type": "markdown",
   "id": "dd8551ee-4e1d-4c40-aaf1-b75f6e61f876",
   "metadata": {},
   "source": [
    "Superstore file in csv format"
   ]
  },
  {
   "cell_type": "code",
   "execution_count": 1,
   "id": "dff68f47-54c7-475c-8701-d8739fc5d52a",
   "metadata": {},
   "outputs": [],
   "source": [
    "import pandas as pd\n",
    "import matplotlib.pyplot as plt\n",
    "import numpy as np\n",
    "import seaborn as sns\n",
    "from sklearn.cluster import KMeans\n",
    "from sklearn.datasets import make_blobs\n",
    "from sklearn.metrics import silhouette_samples,silhouette_score\n",
    "from sklearn.metrics import classification_report\n",
    "from sklearn.metrics import confusion_matrix\n",
    "from sklearn.metrics import accuracy_score\n",
    "from yellowbrick.cluster import SilhouetteVisualizer"
   ]
  },
  {
   "cell_type": "code",
   "execution_count": 2,
   "id": "af36d569-cbb3-4d89-9065-442d290a7e05",
   "metadata": {},
   "outputs": [],
   "source": [
    "df1=pd.read_csv('Thailand Happiness.csv.csv')"
   ]
  },
  {
   "cell_type": "markdown",
   "id": "e90fe1b0-f08b-4863-b9be-628821ef1584",
   "metadata": {},
   "source": [
    "**Data Preparation**"
   ]
  },
  {
   "cell_type": "code",
   "execution_count": 3,
   "id": "fc7db532-7840-4e4d-a753-a8584fe09718",
   "metadata": {},
   "outputs": [
    {
     "name": "stdout",
     "output_type": "stream",
     "text": [
      "<class 'pandas.core.frame.DataFrame'>\n",
      "RangeIndex: 10 entries, 0 to 9\n",
      "Data columns (total 10 columns):\n",
      " #   Column                         Non-Null Count  Dtype  \n",
      "---  ------                         --------------  -----  \n",
      " 0   Year                           9 non-null      object \n",
      " 1   Happiness Rank (158)           9 non-null      float64\n",
      " 2   Happiness Score(10)            9 non-null      float64\n",
      " 3   Economy (GDP per Capita)       9 non-null      float64\n",
      " 4   Family                         9 non-null      float64\n",
      " 5   Health (Life Expectancy)       9 non-null      float64\n",
      " 6   Freedom                        9 non-null      float64\n",
      " 7   Trust (Government Corruption)  9 non-null      float64\n",
      " 8   Generosity                     9 non-null      float64\n",
      " 9   Dystopia Residual              9 non-null      float64\n",
      "dtypes: float64(9), object(1)\n",
      "memory usage: 928.0+ bytes\n"
     ]
    }
   ],
   "source": [
    "df1.info()"
   ]
  },
  {
   "cell_type": "code",
   "execution_count": 4,
   "id": "a5023b74-c618-4ddc-8422-8e86b7d42470",
   "metadata": {},
   "outputs": [
    {
     "data": {
      "text/html": [
       "<div>\n",
       "<style scoped>\n",
       "    .dataframe tbody tr th:only-of-type {\n",
       "        vertical-align: middle;\n",
       "    }\n",
       "\n",
       "    .dataframe tbody tr th {\n",
       "        vertical-align: top;\n",
       "    }\n",
       "\n",
       "    .dataframe thead th {\n",
       "        text-align: right;\n",
       "    }\n",
       "</style>\n",
       "<table border=\"1\" class=\"dataframe\">\n",
       "  <thead>\n",
       "    <tr style=\"text-align: right;\">\n",
       "      <th></th>\n",
       "      <th>Year</th>\n",
       "      <th>Happiness Rank (158)</th>\n",
       "      <th>Happiness Score(10)</th>\n",
       "      <th>Economy (GDP per Capita)</th>\n",
       "      <th>Family</th>\n",
       "      <th>Health (Life Expectancy)</th>\n",
       "      <th>Freedom</th>\n",
       "      <th>Trust (Government Corruption)</th>\n",
       "      <th>Generosity</th>\n",
       "      <th>Dystopia Residual</th>\n",
       "    </tr>\n",
       "  </thead>\n",
       "  <tbody>\n",
       "    <tr>\n",
       "      <th>5</th>\n",
       "      <td>2020</td>\n",
       "      <td>54.00</td>\n",
       "      <td>5.9990</td>\n",
       "      <td>1.007000</td>\n",
       "      <td>1.348000</td>\n",
       "      <td>0.794000</td>\n",
       "      <td>0.609</td>\n",
       "      <td>0.032000</td>\n",
       "      <td>0.377000</td>\n",
       "      <td>1.832000</td>\n",
       "    </tr>\n",
       "    <tr>\n",
       "      <th>6</th>\n",
       "      <td>2021</td>\n",
       "      <td>54.00</td>\n",
       "      <td>5.9850</td>\n",
       "      <td>1.107000</td>\n",
       "      <td>0.957000</td>\n",
       "      <td>0.596000</td>\n",
       "      <td>0.611</td>\n",
       "      <td>0.028000</td>\n",
       "      <td>0.375000</td>\n",
       "      <td>2.309000</td>\n",
       "    </tr>\n",
       "    <tr>\n",
       "      <th>7</th>\n",
       "      <td>2022</td>\n",
       "      <td>61.00</td>\n",
       "      <td>5.8910</td>\n",
       "      <td>1.535000</td>\n",
       "      <td>1.096000</td>\n",
       "      <td>0.697000</td>\n",
       "      <td>0.617</td>\n",
       "      <td>0.000000</td>\n",
       "      <td>0.321000</td>\n",
       "      <td>1.600000</td>\n",
       "    </tr>\n",
       "    <tr>\n",
       "      <th>8</th>\n",
       "      <td>NaN</td>\n",
       "      <td>NaN</td>\n",
       "      <td>NaN</td>\n",
       "      <td>NaN</td>\n",
       "      <td>NaN</td>\n",
       "      <td>NaN</td>\n",
       "      <td>NaN</td>\n",
       "      <td>NaN</td>\n",
       "      <td>NaN</td>\n",
       "      <td>NaN</td>\n",
       "    </tr>\n",
       "    <tr>\n",
       "      <th>9</th>\n",
       "      <td>average</td>\n",
       "      <td>45.75</td>\n",
       "      <td>6.1635</td>\n",
       "      <td>1.112375</td>\n",
       "      <td>1.245375</td>\n",
       "      <td>0.707125</td>\n",
       "      <td>0.583</td>\n",
       "      <td>0.029375</td>\n",
       "      <td>0.441375</td>\n",
       "      <td>2.329074</td>\n",
       "    </tr>\n",
       "  </tbody>\n",
       "</table>\n",
       "</div>"
      ],
      "text/plain": [
       "      Year  Happiness Rank (158)  Happiness Score(10)  \\\n",
       "5     2020                 54.00               5.9990   \n",
       "6     2021                 54.00               5.9850   \n",
       "7     2022                 61.00               5.8910   \n",
       "8      NaN                   NaN                  NaN   \n",
       "9  average                 45.75               6.1635   \n",
       "\n",
       "   Economy (GDP per Capita)    Family  Health (Life Expectancy)  Freedom  \\\n",
       "5                  1.007000  1.348000                  0.794000    0.609   \n",
       "6                  1.107000  0.957000                  0.596000    0.611   \n",
       "7                  1.535000  1.096000                  0.697000    0.617   \n",
       "8                       NaN       NaN                       NaN      NaN   \n",
       "9                  1.112375  1.245375                  0.707125    0.583   \n",
       "\n",
       "   Trust (Government Corruption)  Generosity  Dystopia Residual  \n",
       "5                       0.032000    0.377000           1.832000  \n",
       "6                       0.028000    0.375000           2.309000  \n",
       "7                       0.000000    0.321000           1.600000  \n",
       "8                            NaN         NaN                NaN  \n",
       "9                       0.029375    0.441375           2.329074  "
      ]
     },
     "execution_count": 4,
     "metadata": {},
     "output_type": "execute_result"
    }
   ],
   "source": [
    "df1.tail()"
   ]
  },
  {
   "cell_type": "code",
   "execution_count": 5,
   "id": "ea0118d7-251f-447d-aa4e-5949800c2e3a",
   "metadata": {},
   "outputs": [],
   "source": [
    "df1.drop(9,inplace=True)"
   ]
  },
  {
   "cell_type": "code",
   "execution_count": 6,
   "id": "22998e34-4ccf-475b-bc15-1ebaa449edec",
   "metadata": {},
   "outputs": [],
   "source": [
    "df1.drop(8,inplace=True)"
   ]
  },
  {
   "cell_type": "code",
   "execution_count": 7,
   "id": "e3b1da7b-e9fc-43b0-b5f1-a8e1c27d685b",
   "metadata": {},
   "outputs": [
    {
     "data": {
      "text/html": [
       "<div>\n",
       "<style scoped>\n",
       "    .dataframe tbody tr th:only-of-type {\n",
       "        vertical-align: middle;\n",
       "    }\n",
       "\n",
       "    .dataframe tbody tr th {\n",
       "        vertical-align: top;\n",
       "    }\n",
       "\n",
       "    .dataframe thead th {\n",
       "        text-align: right;\n",
       "    }\n",
       "</style>\n",
       "<table border=\"1\" class=\"dataframe\">\n",
       "  <thead>\n",
       "    <tr style=\"text-align: right;\">\n",
       "      <th></th>\n",
       "      <th>Year</th>\n",
       "      <th>Happiness Rank (158)</th>\n",
       "      <th>Happiness Score(10)</th>\n",
       "      <th>Economy (GDP per Capita)</th>\n",
       "      <th>Family</th>\n",
       "      <th>Health (Life Expectancy)</th>\n",
       "      <th>Freedom</th>\n",
       "      <th>Trust (Government Corruption)</th>\n",
       "      <th>Generosity</th>\n",
       "      <th>Dystopia Residual</th>\n",
       "    </tr>\n",
       "  </thead>\n",
       "  <tbody>\n",
       "    <tr>\n",
       "      <th>3</th>\n",
       "      <td>2018</td>\n",
       "      <td>46.0</td>\n",
       "      <td>6.072</td>\n",
       "      <td>1.016</td>\n",
       "      <td>1.417</td>\n",
       "      <td>0.707</td>\n",
       "      <td>0.637</td>\n",
       "      <td>0.029</td>\n",
       "      <td>0.364</td>\n",
       "      <td>2.738</td>\n",
       "    </tr>\n",
       "    <tr>\n",
       "      <th>4</th>\n",
       "      <td>2019</td>\n",
       "      <td>52.0</td>\n",
       "      <td>6.008</td>\n",
       "      <td>1.050</td>\n",
       "      <td>1.409</td>\n",
       "      <td>0.828</td>\n",
       "      <td>0.557</td>\n",
       "      <td>0.028</td>\n",
       "      <td>0.359</td>\n",
       "      <td>3.215</td>\n",
       "    </tr>\n",
       "    <tr>\n",
       "      <th>5</th>\n",
       "      <td>2020</td>\n",
       "      <td>54.0</td>\n",
       "      <td>5.999</td>\n",
       "      <td>1.007</td>\n",
       "      <td>1.348</td>\n",
       "      <td>0.794</td>\n",
       "      <td>0.609</td>\n",
       "      <td>0.032</td>\n",
       "      <td>0.377</td>\n",
       "      <td>1.832</td>\n",
       "    </tr>\n",
       "    <tr>\n",
       "      <th>6</th>\n",
       "      <td>2021</td>\n",
       "      <td>54.0</td>\n",
       "      <td>5.985</td>\n",
       "      <td>1.107</td>\n",
       "      <td>0.957</td>\n",
       "      <td>0.596</td>\n",
       "      <td>0.611</td>\n",
       "      <td>0.028</td>\n",
       "      <td>0.375</td>\n",
       "      <td>2.309</td>\n",
       "    </tr>\n",
       "    <tr>\n",
       "      <th>7</th>\n",
       "      <td>2022</td>\n",
       "      <td>61.0</td>\n",
       "      <td>5.891</td>\n",
       "      <td>1.535</td>\n",
       "      <td>1.096</td>\n",
       "      <td>0.697</td>\n",
       "      <td>0.617</td>\n",
       "      <td>0.000</td>\n",
       "      <td>0.321</td>\n",
       "      <td>1.600</td>\n",
       "    </tr>\n",
       "  </tbody>\n",
       "</table>\n",
       "</div>"
      ],
      "text/plain": [
       "   Year  Happiness Rank (158)  Happiness Score(10)  Economy (GDP per Capita)  \\\n",
       "3  2018                  46.0                6.072                     1.016   \n",
       "4  2019                  52.0                6.008                     1.050   \n",
       "5  2020                  54.0                5.999                     1.007   \n",
       "6  2021                  54.0                5.985                     1.107   \n",
       "7  2022                  61.0                5.891                     1.535   \n",
       "\n",
       "   Family  Health (Life Expectancy)  Freedom  Trust (Government Corruption)  \\\n",
       "3   1.417                     0.707    0.637                          0.029   \n",
       "4   1.409                     0.828    0.557                          0.028   \n",
       "5   1.348                     0.794    0.609                          0.032   \n",
       "6   0.957                     0.596    0.611                          0.028   \n",
       "7   1.096                     0.697    0.617                          0.000   \n",
       "\n",
       "   Generosity  Dystopia Residual  \n",
       "3       0.364              2.738  \n",
       "4       0.359              3.215  \n",
       "5       0.377              1.832  \n",
       "6       0.375              2.309  \n",
       "7       0.321              1.600  "
      ]
     },
     "execution_count": 7,
     "metadata": {},
     "output_type": "execute_result"
    }
   ],
   "source": [
    "df1.tail()"
   ]
  },
  {
   "cell_type": "code",
   "execution_count": 8,
   "id": "f6923d65-2976-4a86-a2a0-d6a88df1c467",
   "metadata": {},
   "outputs": [
    {
     "name": "stdout",
     "output_type": "stream",
     "text": [
      "<class 'pandas.core.frame.DataFrame'>\n",
      "RangeIndex: 8 entries, 0 to 7\n",
      "Data columns (total 10 columns):\n",
      " #   Column                         Non-Null Count  Dtype  \n",
      "---  ------                         --------------  -----  \n",
      " 0   Year                           8 non-null      object \n",
      " 1   Happiness Rank (158)           8 non-null      float64\n",
      " 2   Happiness Score(10)            8 non-null      float64\n",
      " 3   Economy (GDP per Capita)       8 non-null      float64\n",
      " 4   Family                         8 non-null      float64\n",
      " 5   Health (Life Expectancy)       8 non-null      float64\n",
      " 6   Freedom                        8 non-null      float64\n",
      " 7   Trust (Government Corruption)  8 non-null      float64\n",
      " 8   Generosity                     8 non-null      float64\n",
      " 9   Dystopia Residual              8 non-null      float64\n",
      "dtypes: float64(9), object(1)\n",
      "memory usage: 768.0+ bytes\n"
     ]
    }
   ],
   "source": [
    "df1.info()"
   ]
  },
  {
   "cell_type": "code",
   "execution_count": 9,
   "id": "02eff1bf-0fcb-4919-beab-70b066efab83",
   "metadata": {},
   "outputs": [
    {
     "name": "stderr",
     "output_type": "stream",
     "text": [
      "C:\\Users\\ASUS\\AppData\\Local\\Temp\\ipykernel_10872\\1309801108.py:1: UserWarning: Pandas doesn't allow columns to be created via a new attribute name - see https://pandas.pydata.org/pandas-docs/stable/indexing.html#attribute-access\n",
      "  df1.Date=pd.to_datetime(df1.Year,format=\"%Y\")\n"
     ]
    }
   ],
   "source": [
    "df1.Date=pd.to_datetime(df1.Year,format=\"%Y\")"
   ]
  },
  {
   "cell_type": "code",
   "execution_count": 10,
   "id": "201882d6-e1fc-4c60-aa46-c95e77f9eaae",
   "metadata": {},
   "outputs": [],
   "source": [
    "df1.set_index('Year',inplace=True)\n"
   ]
  },
  {
   "cell_type": "code",
   "execution_count": 11,
   "id": "b770a78e-057b-49d5-a60b-9b41f965e38e",
   "metadata": {},
   "outputs": [
    {
     "data": {
      "text/html": [
       "<div>\n",
       "<style scoped>\n",
       "    .dataframe tbody tr th:only-of-type {\n",
       "        vertical-align: middle;\n",
       "    }\n",
       "\n",
       "    .dataframe tbody tr th {\n",
       "        vertical-align: top;\n",
       "    }\n",
       "\n",
       "    .dataframe thead th {\n",
       "        text-align: right;\n",
       "    }\n",
       "</style>\n",
       "<table border=\"1\" class=\"dataframe\">\n",
       "  <thead>\n",
       "    <tr style=\"text-align: right;\">\n",
       "      <th></th>\n",
       "      <th>Happiness Rank (158)</th>\n",
       "      <th>Happiness Score(10)</th>\n",
       "      <th>Economy (GDP per Capita)</th>\n",
       "      <th>Family</th>\n",
       "      <th>Health (Life Expectancy)</th>\n",
       "      <th>Freedom</th>\n",
       "      <th>Trust (Government Corruption)</th>\n",
       "      <th>Generosity</th>\n",
       "      <th>Dystopia Residual</th>\n",
       "    </tr>\n",
       "    <tr>\n",
       "      <th>Year</th>\n",
       "      <th></th>\n",
       "      <th></th>\n",
       "      <th></th>\n",
       "      <th></th>\n",
       "      <th></th>\n",
       "      <th></th>\n",
       "      <th></th>\n",
       "      <th></th>\n",
       "      <th></th>\n",
       "    </tr>\n",
       "  </thead>\n",
       "  <tbody>\n",
       "    <tr>\n",
       "      <th>2015</th>\n",
       "      <td>34.0</td>\n",
       "      <td>6.455</td>\n",
       "      <td>0.967</td>\n",
       "      <td>1.265</td>\n",
       "      <td>0.739</td>\n",
       "      <td>0.557</td>\n",
       "      <td>0.032</td>\n",
       "      <td>0.576</td>\n",
       "      <td>2.319</td>\n",
       "    </tr>\n",
       "    <tr>\n",
       "      <th>2016</th>\n",
       "      <td>33.0</td>\n",
       "      <td>6.474</td>\n",
       "      <td>1.089</td>\n",
       "      <td>1.045</td>\n",
       "      <td>0.649</td>\n",
       "      <td>0.496</td>\n",
       "      <td>0.028</td>\n",
       "      <td>0.587</td>\n",
       "      <td>2.580</td>\n",
       "    </tr>\n",
       "    <tr>\n",
       "      <th>2017</th>\n",
       "      <td>32.0</td>\n",
       "      <td>6.424</td>\n",
       "      <td>1.128</td>\n",
       "      <td>1.426</td>\n",
       "      <td>0.647</td>\n",
       "      <td>0.580</td>\n",
       "      <td>0.032</td>\n",
       "      <td>0.572</td>\n",
       "      <td>2.040</td>\n",
       "    </tr>\n",
       "    <tr>\n",
       "      <th>2018</th>\n",
       "      <td>46.0</td>\n",
       "      <td>6.072</td>\n",
       "      <td>1.016</td>\n",
       "      <td>1.417</td>\n",
       "      <td>0.707</td>\n",
       "      <td>0.637</td>\n",
       "      <td>0.029</td>\n",
       "      <td>0.364</td>\n",
       "      <td>2.738</td>\n",
       "    </tr>\n",
       "    <tr>\n",
       "      <th>2019</th>\n",
       "      <td>52.0</td>\n",
       "      <td>6.008</td>\n",
       "      <td>1.050</td>\n",
       "      <td>1.409</td>\n",
       "      <td>0.828</td>\n",
       "      <td>0.557</td>\n",
       "      <td>0.028</td>\n",
       "      <td>0.359</td>\n",
       "      <td>3.215</td>\n",
       "    </tr>\n",
       "  </tbody>\n",
       "</table>\n",
       "</div>"
      ],
      "text/plain": [
       "      Happiness Rank (158)  Happiness Score(10)  Economy (GDP per Capita)  \\\n",
       "Year                                                                        \n",
       "2015                  34.0                6.455                     0.967   \n",
       "2016                  33.0                6.474                     1.089   \n",
       "2017                  32.0                6.424                     1.128   \n",
       "2018                  46.0                6.072                     1.016   \n",
       "2019                  52.0                6.008                     1.050   \n",
       "\n",
       "      Family  Health (Life Expectancy)  Freedom  \\\n",
       "Year                                              \n",
       "2015   1.265                     0.739    0.557   \n",
       "2016   1.045                     0.649    0.496   \n",
       "2017   1.426                     0.647    0.580   \n",
       "2018   1.417                     0.707    0.637   \n",
       "2019   1.409                     0.828    0.557   \n",
       "\n",
       "      Trust (Government Corruption)  Generosity  Dystopia Residual  \n",
       "Year                                                                \n",
       "2015                          0.032       0.576              2.319  \n",
       "2016                          0.028       0.587              2.580  \n",
       "2017                          0.032       0.572              2.040  \n",
       "2018                          0.029       0.364              2.738  \n",
       "2019                          0.028       0.359              3.215  "
      ]
     },
     "execution_count": 11,
     "metadata": {},
     "output_type": "execute_result"
    }
   ],
   "source": [
    "df1.head()"
   ]
  },
  {
   "cell_type": "code",
   "execution_count": 12,
   "id": "5469ab97-8212-4869-89c7-be33393b53dc",
   "metadata": {},
   "outputs": [
    {
     "data": {
      "text/plain": [
       "<AxesSubplot:xlabel='Year'>"
      ]
     },
     "execution_count": 12,
     "metadata": {},
     "output_type": "execute_result"
    },
    {
     "data": {
      "image/png": "[encoded data removed]",
      "text/plain": [
       "<Figure size 1440x360 with 1 Axes>"
      ]
     },
     "metadata": {},
     "output_type": "display_data"
    }
   ],
   "source": [
    "hh=['Happiness Score(10)']\n",
    "df1[hh].plot(marker='.',figsize=(20,5),grid=True)"
   ]
  },
  {
   "cell_type": "code",
   "execution_count": 13,
   "id": "561876ea-7c18-40e4-b6c8-42afcb92f849",
   "metadata": {},
   "outputs": [
    {
     "data": {
      "text/plain": [
       "<AxesSubplot:xlabel='Year'>"
      ]
     },
     "execution_count": 13,
     "metadata": {},
     "output_type": "execute_result"
    },
    {
     "data": {
      "image/png": "[encoded data removed]",
      "text/plain": [
       "<Figure size 1440x360 with 1 Axes>"
      ]
     },
     "metadata": {},
     "output_type": "display_data"
    }
   ],
   "source": [
    "hh=['Happiness Rank (158)']\n",
    "df1[hh].plot(marker='.',figsize=(20,5),grid=True)"
   ]
  },
  {
   "cell_type": "code",
   "execution_count": 14,
   "id": "428144c7-3068-40fb-80ed-a65d757801f8",
   "metadata": {},
   "outputs": [
    {
     "data": {
      "text/plain": [
       "Index(['Happiness Rank (158)', 'Happiness Score(10)',\n",
       "       'Economy (GDP per Capita)', 'Family', 'Health (Life Expectancy)',\n",
       "       'Freedom', 'Trust (Government Corruption)', 'Generosity',\n",
       "       'Dystopia Residual'],\n",
       "      dtype='object')"
      ]
     },
     "execution_count": 14,
     "metadata": {},
     "output_type": "execute_result"
    }
   ],
   "source": [
    "df1.columns"
   ]
  },
  {
   "cell_type": "code",
   "execution_count": 15,
   "id": "9b858ac5-6af2-44ee-b206-7c3d2b24a98e",
   "metadata": {},
   "outputs": [],
   "source": [
    "df1=df1.rename(columns={'Happiness Rank (158)':'Happiness_Rank','Happiness Score(10)':'Happiness_Score','Economy (GDP per Capita)':'Economy',\n",
    "                        'Health (Life Expectancy)':'Health','Trust (Government Corruption)':'Trust','Dystopia Residual':'Dystopia_Residual'})"
   ]
  },
  {
   "cell_type": "code",
   "execution_count": 16,
   "id": "99ccd646-b174-48fc-a806-8c3bd3b368e5",
   "metadata": {},
   "outputs": [
    {
     "data": {
      "text/plain": [
       "6.455    1\n",
       "6.474    1\n",
       "6.424    1\n",
       "6.072    1\n",
       "6.008    1\n",
       "5.999    1\n",
       "5.985    1\n",
       "5.891    1\n",
       "Name: Happiness_Score, dtype: int64"
      ]
     },
     "execution_count": 16,
     "metadata": {},
     "output_type": "execute_result"
    }
   ],
   "source": [
    "df1.Happiness_Score.value_counts()"
   ]
  },
  {
   "cell_type": "code",
   "execution_count": 17,
   "id": "8b80bd25-8459-48b8-b0d0-18bc1b9c0576",
   "metadata": {},
   "outputs": [
    {
     "data": {
      "text/plain": [
       "Index(['Happiness_Rank', 'Happiness_Score', 'Economy', 'Family', 'Health',\n",
       "       'Freedom', 'Trust', 'Generosity', 'Dystopia_Residual'],\n",
       "      dtype='object')"
      ]
     },
     "execution_count": 17,
     "metadata": {},
     "output_type": "execute_result"
    }
   ],
   "source": [
    "df1.columns"
   ]
  },
  {
   "cell_type": "code",
   "execution_count": 18,
   "id": "01a8bb77-b96a-43e4-a452-f89f25649313",
   "metadata": {},
   "outputs": [
    {
     "data": {
      "text/plain": [
       "Happiness_Rank       0\n",
       "Happiness_Score      0\n",
       "Economy              0\n",
       "Family               0\n",
       "Health               0\n",
       "Freedom              0\n",
       "Trust                0\n",
       "Generosity           0\n",
       "Dystopia_Residual    0\n",
       "dtype: int64"
      ]
     },
     "execution_count": 18,
     "metadata": {},
     "output_type": "execute_result"
    }
   ],
   "source": [
    "df1.isnull().sum()"
   ]
  },
  {
   "cell_type": "code",
   "execution_count": 19,
   "id": "964ac102-10f5-40d4-8adb-5657cfa63ce7",
   "metadata": {},
   "outputs": [
    {
     "data": {
      "text/plain": [
       "Index(['Happiness_Rank', 'Happiness_Score', 'Economy', 'Family', 'Health',\n",
       "       'Freedom', 'Trust', 'Generosity', 'Dystopia_Residual'],\n",
       "      dtype='object')"
      ]
     },
     "execution_count": 19,
     "metadata": {},
     "output_type": "execute_result"
    }
   ],
   "source": [
    "df1.columns"
   ]
  },
  {
   "cell_type": "markdown",
   "id": "7d1d730d-1501-4e6f-be4f-2fc31f2104fe",
   "metadata": {},
   "source": [
    "select data"
   ]
  },
  {
   "cell_type": "code",
   "execution_count": 20,
   "id": "78b8a0fb-6546-4d9a-9c81-710c311c0a1f",
   "metadata": {},
   "outputs": [],
   "source": [
    "from sklearn import preprocessing\n",
    "from sklearn.cluster import KMeans"
   ]
  },
  {
   "cell_type": "code",
   "execution_count": 21,
   "id": "346069bb-c338-4ff4-b1fa-ea732f803139",
   "metadata": {},
   "outputs": [
    {
     "data": {
      "text/plain": [
       "Index(['Happiness_Rank', 'Happiness_Score', 'Economy', 'Family', 'Health',\n",
       "       'Freedom', 'Trust', 'Generosity', 'Dystopia_Residual'],\n",
       "      dtype='object')"
      ]
     },
     "execution_count": 21,
     "metadata": {},
     "output_type": "execute_result"
    }
   ],
   "source": [
    "df1.columns"
   ]
  },
  {
   "cell_type": "code",
   "execution_count": 22,
   "id": "66ed4371-d7ec-4842-a70d-9d63f418f7b7",
   "metadata": {},
   "outputs": [],
   "source": [
    "colss=['Happiness_Rank']"
   ]
  },
  {
   "cell_type": "code",
   "execution_count": 23,
   "id": "996e198b-483e-42ec-9de6-06d8c7db8d1f",
   "metadata": {},
   "outputs": [
    {
     "data": {
      "text/plain": [
       "array([[-1.109 ],\n",
       "       [-1.2017],\n",
       "       [-1.2942],\n",
       "       [ 0.0159],\n",
       "       [ 0.586 ],\n",
       "       [ 0.777 ],\n",
       "       [ 0.777 ]])"
      ]
     },
     "execution_count": 23,
     "metadata": {},
     "output_type": "execute_result"
    }
   ],
   "source": [
    "scaler=preprocessing.PowerTransformer(standardize=True)\n",
    "S1=scaler.fit_transform(df1[colss])\n",
    "S1[:7].round(4)"
   ]
  },
  {
   "cell_type": "code",
   "execution_count": 24,
   "id": "9d73b312-e2c0-40b6-b706-3abc491b580d",
   "metadata": {},
   "outputs": [
    {
     "data": {
      "text/html": [
       "<div>\n",
       "<style scoped>\n",
       "    .dataframe tbody tr th:only-of-type {\n",
       "        vertical-align: middle;\n",
       "    }\n",
       "\n",
       "    .dataframe tbody tr th {\n",
       "        vertical-align: top;\n",
       "    }\n",
       "\n",
       "    .dataframe thead th {\n",
       "        text-align: right;\n",
       "    }\n",
       "</style>\n",
       "<table border=\"1\" class=\"dataframe\">\n",
       "  <thead>\n",
       "    <tr style=\"text-align: right;\">\n",
       "      <th></th>\n",
       "      <th>Happiness_Rank</th>\n",
       "    </tr>\n",
       "  </thead>\n",
       "  <tbody>\n",
       "    <tr>\n",
       "      <th>0</th>\n",
       "      <td>-1.109025</td>\n",
       "    </tr>\n",
       "    <tr>\n",
       "      <th>1</th>\n",
       "      <td>-1.201713</td>\n",
       "    </tr>\n",
       "    <tr>\n",
       "      <th>2</th>\n",
       "      <td>-1.294220</td>\n",
       "    </tr>\n",
       "    <tr>\n",
       "      <th>3</th>\n",
       "      <td>0.015898</td>\n",
       "    </tr>\n",
       "    <tr>\n",
       "      <th>4</th>\n",
       "      <td>0.585977</td>\n",
       "    </tr>\n",
       "    <tr>\n",
       "      <th>5</th>\n",
       "      <td>0.776991</td>\n",
       "    </tr>\n",
       "    <tr>\n",
       "      <th>6</th>\n",
       "      <td>0.776991</td>\n",
       "    </tr>\n",
       "    <tr>\n",
       "      <th>7</th>\n",
       "      <td>1.449101</td>\n",
       "    </tr>\n",
       "  </tbody>\n",
       "</table>\n",
       "</div>"
      ],
      "text/plain": [
       "   Happiness_Rank\n",
       "0       -1.109025\n",
       "1       -1.201713\n",
       "2       -1.294220\n",
       "3        0.015898\n",
       "4        0.585977\n",
       "5        0.776991\n",
       "6        0.776991\n",
       "7        1.449101"
      ]
     },
     "execution_count": 24,
     "metadata": {},
     "output_type": "execute_result"
    }
   ],
   "source": [
    "X2=pd.DataFrame(S1,columns=colss)\n",
    "X2"
   ]
  },
  {
   "cell_type": "code",
   "execution_count": 25,
   "id": "c5517256-f43d-4e44-b38c-b55ff8eeb8bc",
   "metadata": {},
   "outputs": [],
   "source": [
    "def sil_score(X2,from_k=2,to_k=6):\n",
    "    sils=[]\n",
    "    for k in range(from_k,to_k+1):\n",
    "        m=KMeans(n_clusters=k)\n",
    "        m.fit(X2)\n",
    "        silhouette_avg=silhouette_score(X2,m.labels_).round(4)\n",
    "        sils.append([silhouette_avg,k])\n",
    "        \n",
    "    return sils"
   ]
  },
  {
   "cell_type": "code",
   "execution_count": 26,
   "id": "25e45292-5612-443f-a643-96897def1e0f",
   "metadata": {},
   "outputs": [
    {
     "name": "stdout",
     "output_type": "stream",
     "text": [
      "score=[[0.7594, 2], [0.6127, 3], [0.6344, 4], [0.5868, 5]]\n"
     ]
    }
   ],
   "source": [
    "ss=sil_score(X2,2,5)\n",
    "print(f'score={ss}')"
   ]
  },
  {
   "cell_type": "markdown",
   "id": "c07bacf0-bd67-456d-b130-fd3d42ca190e",
   "metadata": {},
   "source": [
    "**Modeling**"
   ]
  },
  {
   "cell_type": "code",
   "execution_count": 27,
   "id": "cce30c30-f546-4bb2-a856-98ca638734e9",
   "metadata": {},
   "outputs": [],
   "source": [
    "from yellowbrick.cluster import SilhouetteVisualizer"
   ]
  },
  {
   "cell_type": "code",
   "execution_count": 28,
   "id": "b2f2250d-fe9f-492f-b4d2-73d6f2e1bca0",
   "metadata": {},
   "outputs": [],
   "source": [
    "cols1=['Happiness_Rank']"
   ]
  },
  {
   "cell_type": "code",
   "execution_count": 29,
   "id": "a654cead-7984-4530-8c12-9c463c64d318",
   "metadata": {},
   "outputs": [
    {
     "ename": "NameError",
     "evalue": "name 'cols' is not defined",
     "output_type": "error",
     "traceback": [
      "\u001b[1;31m---------------------------------------------------------------------------\u001b[0m",
      "\u001b[1;31mNameError\u001b[0m                                 Traceback (most recent call last)",
      "Input \u001b[1;32mIn [29]\u001b[0m, in \u001b[0;36m<cell line: 2>\u001b[1;34m()\u001b[0m\n\u001b[0;32m      1\u001b[0m scaler\u001b[38;5;241m=\u001b[39mpreprocessing\u001b[38;5;241m.\u001b[39mPowerTransformer(standardize\u001b[38;5;241m=\u001b[39m\u001b[38;5;28;01mTrue\u001b[39;00m)\n\u001b[1;32m----> 2\u001b[0m S\u001b[38;5;241m=\u001b[39mscaler\u001b[38;5;241m.\u001b[39mfit_transform(df1[\u001b[43mcols\u001b[49m])\n\u001b[0;32m      3\u001b[0m S[:\u001b[38;5;241m7\u001b[39m]\u001b[38;5;241m.\u001b[39mround(\u001b[38;5;241m4\u001b[39m)\n",
      "\u001b[1;31mNameError\u001b[0m: name 'cols' is not defined"
     ]
    }
   ],
   "source": [
    "scaler=preprocessing.PowerTransformer(standardize=True)\n",
    "S=scaler.fit_transform(df1[cols])\n",
    "S[:7].round(4)"
   ]
  },
  {
   "cell_type": "code",
   "execution_count": null,
   "id": "fa19ef34-00d0-4356-96cd-06b0dd0f4d86",
   "metadata": {},
   "outputs": [],
   "source": [
    "X11=pd.DataFrame(X1,columns=cols)\n",
    "X11.head()"
   ]
  },
  {
   "cell_type": "code",
   "execution_count": null,
   "id": "a94b5877-38db-433b-9f27-89066dee93c8",
   "metadata": {},
   "outputs": [],
   "source": [
    "model=KMeans(n_clusters=2)"
   ]
  },
  {
   "cell_type": "code",
   "execution_count": null,
   "id": "6a460693-588b-4fc7-8c3a-0be38321c4bf",
   "metadata": {},
   "outputs": [],
   "source": [
    "scaler=preprocessing.PowerTransformer(standardize=True)\n",
    "\n",
    "S=scaler.fit_transform(df1[cols1])\n",
    "S[:7].round(3)"
   ]
  },
  {
   "cell_type": "code",
   "execution_count": null,
   "id": "56988f25-3377-484e-99f7-3d44f4522499",
   "metadata": {},
   "outputs": [],
   "source": [
    "visualizer=SilhouetteVisualizer(model)\n",
    "visualizer.fit(X11)\n",
    "visualizer.poof()"
   ]
  },
  {
   "cell_type": "code",
   "execution_count": null,
   "id": "36725a82-38b4-4814-98f7-3f5822fa93c6",
   "metadata": {},
   "outputs": [],
   "source": [
    "dx=X11\n",
    "dx['cluster']=model.labels_\n",
    "dx"
   ]
  },
  {
   "cell_type": "code",
   "execution_count": null,
   "id": "c32f028b-5e78-42b0-b674-ce9ca9e58d2c",
   "metadata": {},
   "outputs": [],
   "source": [
    "df1['cluster']=model.labels_\n",
    "df1"
   ]
  },
  {
   "cell_type": "code",
   "execution_count": null,
   "id": "2de1c720-1c90-4774-a9e6-884afa3ff6f6",
   "metadata": {},
   "outputs": [],
   "source": [
    "df1.columns"
   ]
  },
  {
   "cell_type": "markdown",
   "id": "cb068e55-ba37-4c1d-bdd0-67da387f5219",
   "metadata": {},
   "source": [
    "**Evalution**"
   ]
  },
  {
   "cell_type": "code",
   "execution_count": null,
   "id": "b68dfb51-30c3-4829-8556-0b9ddbb5ce44",
   "metadata": {},
   "outputs": [],
   "source": [
    "clos=['Happiness_Rank', 'Economy', 'Family', 'Health',\n",
    "       'Freedom', 'Trust', 'Generosity', 'cluster']\n",
    "fig, ax =plt.subplots(ncols=2, figsize=(18,6))\n",
    "ax=ax.ravel()\n",
    "\n",
    "sns.heatmap(df1,cmap='Oranges',linewidths=1,\n",
    "           square=True,annot=True,fmt='.2f',ax=ax[0])"
   ]
  },
  {
   "cell_type": "code",
   "execution_count": null,
   "id": "4c177ff7-4fc7-4358-993c-d4e7d2f808be",
   "metadata": {},
   "outputs": [],
   "source": [
    "visualizer.silhouette_score_"
   ]
  },
  {
   "cell_type": "code",
   "execution_count": null,
   "id": "88ab7e32-3f1e-437d-9f0a-b043009ce2d7",
   "metadata": {},
   "outputs": [],
   "source": [
    "print('Score -> {:.3f}'.format(visualizer.silhouette_score_))"
   ]
  },
  {
   "cell_type": "markdown",
   "id": "ef6d099c-db87-42de-bde8-02e20f361ca2",
   "metadata": {},
   "source": [
    "**Deployment**"
   ]
  },
  {
   "cell_type": "code",
   "execution_count": null,
   "id": "f9a2a880-5075-4e99-93dd-ff72bb8ec16d",
   "metadata": {},
   "outputs": [],
   "source": []
  }
 ],
 "metadata": {
  "kernelspec": {
   "display_name": "Python 3 (ipykernel)",
   "language": "python",
   "name": "python3"
  },
  "language_info": {
   "codemirror_mode": {
    "name": "ipython",
    "version": 3
   },
   "file_extension": ".py",
   "mimetype": "text/x-python",
   "name": "python",
   "nbconvert_exporter": "python",
   "pygments_lexer": "ipython3",
   "version": "3.9.12"
  }
 },
 "nbformat": 4,
 "nbformat_minor": 5
}
