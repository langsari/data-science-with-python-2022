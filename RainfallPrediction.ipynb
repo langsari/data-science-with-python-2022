{
 "cells": [
  {
   "attachments": {},
   "cell_type": "markdown",
   "metadata": {},
   "source": [
    "Rainfall Predictation\n",
    "\n",
    "Predict next day rain in ...\n",
    "\n",
    "    Predicting next day-rain using a dataset containing years of daily weather\n",
    "\n",
    "Content\n",
    "\n",
    "1. IMPORTING LIBRARIES\n",
    "2. LOADING DATA\n",
    "3. DATA VISUALIZATION AND CLEANINGS\n",
    "4. DATA PREPROCESSING\n",
    "5. MODEL BUILDING\n",
    "6. CONCLUSION\n",
    "7. END"
   ]
  },
  {
   "cell_type": "code",
   "execution_count": null,
   "metadata": {},
   "outputs": [],
   "source": []
  }
 ],
 "metadata": {
  "kernelspec": {
   "display_name": "Python 3",
   "language": "python",
   "name": "python3"
  },
  "language_info": {
   "codemirror_mode": {
    "name": "ipython",
    "version": 3
   },
   "file_extension": ".py",
   "mimetype": "text/x-python",
   "name": "python",
   "nbconvert_exporter": "python",
   "pygments_lexer": "ipython3",
   "version": "3.11.0"
  },
  "orig_nbformat": 4,
  "vscode": {
   "interpreter": {
    "hash": "8b3f13f7d65f76489d19db692362f9e14dea72197a990bb96bb1b41169ae98b7"
   }
  }
 },
 "nbformat": 4,
 "nbformat_minor": 2
}
