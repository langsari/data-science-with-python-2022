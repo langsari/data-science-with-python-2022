{
 "cells": [
  {
   "cell_type": "code",
   "execution_count": 1,
   "id": "c8c8c74c-2883-4759-9c2b-c4f812369b4c",
   "metadata": {},
   "outputs": [
    {
     "data": {
      "text/plain": [
       "<BarContainer object of 5 artists>"
      ]
     },
     "execution_count": 1,
     "metadata": {},
     "output_type": "execute_result"
    },
    {
     "data": {
      "image/png": "[encoded data removed]",
      "text/plain": [
       "<Figure size 640x480 with 1 Axes>"
      ]
     },
     "metadata": {},
     "output_type": "display_data"
    }
   ],
   "source": [
    "%matplotlib inline\n",
    "import matplotlib.pyplot as plt\n",
    "y = [3,2,4,3,4]\n",
    "x = ['Jan','Feb','Mar','Apr','May']\n",
    "plt.bar(x,y)"
   ]
  },
  {
   "cell_type": "code",
   "execution_count": null,
   "id": "4f813257-f54b-4ae4-9073-02ccdd027619",
   "metadata": {},
   "outputs": [],
   "source": []
  },
  {
   "cell_type": "code",
   "execution_count": null,
   "id": "f4f5ebd4-7caa-4fe9-8cf4-a128cf3d8464",
   "metadata": {},
   "outputs": [],
   "source": []
  },
  {
   "cell_type": "code",
   "execution_count": null,
   "id": "a975c9db-5a1d-408f-81b0-1c3653d5b71a",
   "metadata": {},
   "outputs": [],
   "source": []
  },
  {
   "cell_type": "code",
   "execution_count": 2,
   "id": "36e6fb92-2faa-44f9-aa2f-eaa9956dcb33",
   "metadata": {
    "tags": []
   },
   "outputs": [
    {
     "name": "stdout",
     "output_type": "stream",
     "text": [
      "512\n",
      "kobkiat 512\n"
     ]
    }
   ],
   "source": [
    "b = 512\n",
    "print(b)\n",
    "\n",
    "name = 'kobkiat'\n",
    "print(name, b)\n",
    "\n",
    "b = 512"
   ]
  },
  {
   "cell_type": "markdown",
   "id": "c3cd4598-f742-4a18-bcfc-251608ce9c0a",
   "metadata": {},
   "source": [
    "# พล็ตกราฟด้วย Matplotlib"
   ]
  },
  {
   "cell_type": "markdown",
   "id": "607d2935-0f19-4f87-a22c-41cb9f8078e4",
   "metadata": {},
   "source": [
    "แสดงยอดขายรายเอนของสินค้า"
   ]
  },
  {
   "cell_type": "code",
   "execution_count": 3,
   "id": "9deb1718-c802-4000-933d-bdc8fe722cc7",
   "metadata": {},
   "outputs": [
    {
     "name": "stdout",
     "output_type": "stream",
     "text": [
      "IPython version: %6.6s(need at least 1.0)\n"
     ]
    }
   ],
   "source": [
    "import IPython\n",
    "print(\"IPython version: %6.6s(need at least 1.0)\")"
   ]
  },
  {
   "cell_type": "code",
   "execution_count": 4,
   "id": "3e5877ac-3e08-49dc-a1e2-2834b5494e9e",
   "metadata": {},
   "outputs": [
    {
     "name": "stdout",
     "output_type": "stream",
     "text": [
      "JupyterLab Version: %6.6(need at least 1.0)\n"
     ]
    }
   ],
   "source": [
    "import jupyterlab\n",
    "print(\"JupyterLab Version: %6.6(need at least 1.0)\")"
   ]
  },
  {
   "cell_type": "code",
   "execution_count": 5,
   "id": "c674b8b1-2307-4122-a93c-cb4203825723",
   "metadata": {},
   "outputs": [
    {
     "name": "stdout",
     "output_type": "stream",
     "text": [
      " Numpy Version: %6.6(need at least 1.0)\n"
     ]
    }
   ],
   "source": [
    "import numpy as np\n",
    "print(\" Numpy Version: %6.6(need at least 1.0)\")"
   ]
  },
  {
   "cell_type": "code",
   "execution_count": 6,
   "id": "f49f5d51-be3a-4303-a4e4-2d6f571f94f9",
   "metadata": {},
   "outputs": [
    {
     "name": "stdout",
     "output_type": "stream",
     "text": [
      "Xlrd Version: %6.6(need at least 1.0)\n"
     ]
    }
   ],
   "source": [
    "import xlrd\n",
    "print(\"Xlrd Version: %6.6(need at least 1.0)\")"
   ]
  },
  {
   "cell_type": "code",
   "execution_count": 7,
   "id": "cc54714e-54b2-4454-9c32-a8829476732d",
   "metadata": {},
   "outputs": [
    {
     "name": "stdout",
     "output_type": "stream",
     "text": [
      "Pandas Version: %6.6(need at least 1.0)\n"
     ]
    }
   ],
   "source": [
    "import pandas as pd\n",
    "print(\"Pandas Version: %6.6(need at least 1.0)\")"
   ]
  },
  {
   "cell_type": "code",
   "execution_count": 8,
   "id": "72317365-d6e8-4127-aec3-5dec44f0ca2f",
   "metadata": {},
   "outputs": [
    {
     "name": "stdout",
     "output_type": "stream",
     "text": [
      "Marplotlib Version: %6.6(need at least 1.0)\n"
     ]
    }
   ],
   "source": [
    "import matplotlib\n",
    "print(\"Marplotlib Version: %6.6(need at least 1.0)\")"
   ]
  },
  {
   "cell_type": "code",
   "execution_count": 9,
   "id": "1357b900-b7ad-4554-9aa9-928b53208b4c",
   "metadata": {},
   "outputs": [],
   "source": [
    "a = 5 \n",
    "b = 3 \n",
    "c = 8"
   ]
  },
  {
   "cell_type": "code",
   "execution_count": 10,
   "id": "b6596e0d-4b80-47a1-a218-8ce99408d155",
   "metadata": {
    "tags": []
   },
   "outputs": [
    {
     "data": {
      "text/plain": [
       "False"
      ]
     },
     "execution_count": 10,
     "metadata": {},
     "output_type": "execute_result"
    }
   ],
   "source": [
    "a > b and a > c # T and F = False"
   ]
  },
  {
   "cell_type": "code",
   "execution_count": 11,
   "id": "75cc0e9c-f1a0-4941-a785-675018d37fd3",
   "metadata": {},
   "outputs": [
    {
     "data": {
      "text/plain": [
       "True"
      ]
     },
     "execution_count": 11,
     "metadata": {},
     "output_type": "execute_result"
    }
   ],
   "source": [
    "a > b or a > c     # T or F = True\n",
    "(a > b)or(a > c)"
   ]
  },
  {
   "cell_type": "code",
   "execution_count": 12,
   "id": "d9b97bb9-b524-4966-88e8-78801a524ad4",
   "metadata": {},
   "outputs": [
    {
     "name": "stdout",
     "output_type": "stream",
     "text": [
      "Discount 5%\n",
      "done\n"
     ]
    }
   ],
   "source": [
    "price = 110\n",
    "if price >= 110:\n",
    "    print('Discount 5%')\n",
    "print('done')"
   ]
  },
  {
   "cell_type": "code",
   "execution_count": 13,
   "id": "7cc56976-bf41-4bfc-9def-83765321448a",
   "metadata": {
    "tags": []
   },
   "outputs": [
    {
     "name": "stdout",
     "output_type": "stream",
     "text": [
      "Discount 2%\n",
      "Bye\n"
     ]
    }
   ],
   "source": [
    "price = 90\n",
    "if price >= 100:\n",
    "    print('Discount 5%')\n",
    "else:\n",
    "    print('Discount 2%')\n",
    "print('Bye')"
   ]
  },
  {
   "cell_type": "code",
   "execution_count": 14,
   "id": "f21f8f38-48ed-4bd4-82cb-7c6bfa9962ef",
   "metadata": {},
   "outputs": [
    {
     "name": "stdout",
     "output_type": "stream",
     "text": [
      "Small Fan\n"
     ]
    }
   ],
   "source": [
    "temp = 32\n",
    "if temp < 30 :\n",
    "    print(\"Fan of\")\n",
    "    \n",
    "elif temp >= 30 and temp < 40:\n",
    "    print(\"Small Fan\")\n",
    "    \n",
    "else:\n",
    "    print(\"Turn on a Big Fan\")"
   ]
  },
  {
   "cell_type": "code",
   "execution_count": 15,
   "id": "26ed92f1-ea75-42b0-9746-d77211ac180d",
   "metadata": {},
   "outputs": [
    {
     "name": "stdout",
     "output_type": "stream",
     "text": [
      "On Fan\n",
      "done\n"
     ]
    }
   ],
   "source": [
    "temp = 40\n",
    "if temp >= 40:\n",
    "    print(\"On Fan\")\n",
    "    a = 2\n",
    "print(\"done\")"
   ]
  },
  {
   "cell_type": "code",
   "execution_count": 16,
   "id": "1244132e-cec4-4ceb-8801-15ec40321cc7",
   "metadata": {},
   "outputs": [
    {
     "name": "stdout",
     "output_type": "stream",
     "text": [
      "Turn on a Big Fan  location: building 1 floor 1\n",
      "done\n"
     ]
    }
   ],
   "source": [
    "temp = 40\n",
    "if temp <= 40:\n",
    "    print(\"Turn on a Big Fan\\\n",
    "  location: building 1 floor 1\")\n",
    "print('done')"
   ]
  },
  {
   "cell_type": "code",
   "execution_count": 17,
   "id": "ef5df2fe-e789-4550-9daa-2d6abe1ffdc9",
   "metadata": {},
   "outputs": [
    {
     "name": "stdout",
     "output_type": "stream",
     "text": [
      "test for\n",
      "0\n",
      "test for\n",
      "1\n",
      "test for\n",
      "2\n",
      "done\n"
     ]
    }
   ],
   "source": [
    "for count in range(3):\n",
    "    print(\"test for\")\n",
    "    print(count)\n",
    "print('done')"
   ]
  },
  {
   "cell_type": "code",
   "execution_count": 18,
   "id": "a0b3d70b-2443-45af-8b20-09151d7a07cb",
   "metadata": {
    "tags": []
   },
   "outputs": [
    {
     "name": "stdout",
     "output_type": "stream",
     "text": [
      "4\n",
      "5\n",
      "end of program ja\n"
     ]
    }
   ],
   "source": [
    "for v in range(4, 6):\n",
    "    print(v)\n",
    "print('end of program ja')"
   ]
  },
  {
   "cell_type": "code",
   "execution_count": 19,
   "id": "5307e12f-e0a4-4a33-8753-98d12476b384",
   "metadata": {},
   "outputs": [
    {
     "name": "stdout",
     "output_type": "stream",
     "text": [
      "Bye\n"
     ]
    }
   ],
   "source": [
    "count = 0 \n",
    "while count < 3:\n",
    "   # print(\"Halo ja!\")         \n",
    "    count = count + 1\n",
    "    \n",
    "temp = 30\n",
    "if temp >= 40:\n",
    "    print(\"Turn on a Big Fan\")\n",
    "''' else:\n",
    "    print(\"Turn on a Small  Fan\")\n",
    "'''\n",
    "print(\"Bye\")"
   ]
  },
  {
   "cell_type": "code",
   "execution_count": 20,
   "id": "4aa76b49-1f83-4bf3-bb55-20cc6b9af668",
   "metadata": {},
   "outputs": [
    {
     "name": "stdout",
     "output_type": "stream",
     "text": [
      "Hi, kobkiat\n",
      "Hi, kobkiat\n",
      "Hi, kobkiat\n"
     ]
    }
   ],
   "source": [
    "name = \"kobkiat\"\n",
    "print(\"Hi,\", name)\n",
    "print(\"Hi, %s\" %format(name))\n",
    "print(\"Hi, %s\" % name)"
   ]
  },
  {
   "cell_type": "code",
   "execution_count": 21,
   "id": "7e69ee6c-c8a9-4f18-bd5f-38fb0f74aafe",
   "metadata": {},
   "outputs": [
    {
     "name": "stdout",
     "output_type": "stream",
     "text": [
      "Hi, kobkiat a =  2\n",
      "Hi, kobkiat a =  2 b =  5.678\n"
     ]
    }
   ],
   "source": [
    "a = 2 \n",
    "b = 5.678\n",
    "name = \"kobkiat\"\n",
    "print(\"Hi,\",name, \"a = \", a)\n",
    "print(\"Hi,\",name, \"a = \", a , 'b = ', b)"
   ]
  },
  {
   "cell_type": "code",
   "execution_count": 22,
   "id": "e184ce81-cd51-47a8-9282-6c238c21a6c2",
   "metadata": {
    "tags": []
   },
   "outputs": [
    {
     "name": "stdout",
     "output_type": "stream",
     "text": [
      "Hi, kobkiat a = 2\n",
      "Hi, kobkiat b = 5.68\n",
      "Hi, kobkiat a = 2 d = 5.68\n",
      "Hi, kobkiat b =   5.68\n"
     ]
    }
   ],
   "source": [
    "print(\"Hi, %s a = %d\" % (name, a))\n",
    "print(\"Hi, %s b = %.2f\" % (name, b))\n",
    "print(\"Hi, %s a = %d d = %.2f\" % (name, a,b))\n",
    "print(\"Hi, %s b = %6.2f\" %(name, b))"
   ]
  },
  {
   "cell_type": "code",
   "execution_count": 23,
   "id": "1dae1b3e-758d-4dce-ac34-18204e953ca4",
   "metadata": {},
   "outputs": [
    {
     "name": "stdout",
     "output_type": "stream",
     "text": [
      "Hi, kobkiat Pi = 3.142\n",
      "Hi, kobkiat Pi =  3.142\n",
      "Hi, kobkiat Pi = 3.142\n"
     ]
    }
   ],
   "source": [
    "import math\n",
    "print(\"Hi, %s Pi = %.3f\" % (name,math.pi))\n",
    "print(\"Hi, %s Pi = %6.3f\" % (name,math.pi))\n",
    "print(\"Hi, %s Pi = %.3f\" % (name,math.pi))"
   ]
  },
  {
   "cell_type": "code",
   "execution_count": 24,
   "id": "30da2667-3dec-4c57-9391-43c815ff5db0",
   "metadata": {},
   "outputs": [
    {
     "name": "stdout",
     "output_type": "stream",
     "text": [
      "a = 2\n",
      "Hi kobkiat 5.7\n"
     ]
    }
   ],
   "source": [
    "print('a = {}'. format(a))\n",
    "print('Hi {} {:.1f}'.format(name, b))"
   ]
  },
  {
   "cell_type": "code",
   "execution_count": 25,
   "id": "09da6fff-0d67-4448-951f-61ebc072b8cd",
   "metadata": {},
   "outputs": [
    {
     "name": "stdout",
     "output_type": "stream",
     "text": [
      "Area = 16\n",
      "Area =  16\n"
     ]
    }
   ],
   "source": [
    "def area(length):\n",
    "    area = length * length\n",
    "    return area\n",
    "    \n",
    "b = area(4)\n",
    "print('Area = %d' % (b))\n",
    "print('Area = ', b)"
   ]
  },
  {
   "cell_type": "code",
   "execution_count": 26,
   "id": "3a5cda2a-a0e9-4426-82b4-fc4cce4ac64f",
   "metadata": {},
   "outputs": [
    {
     "name": "stdout",
     "output_type": "stream",
     "text": [
      "Area = 16\n",
      "Area = 16\n"
     ]
    }
   ],
   "source": [
    "def area(length):\n",
    "    area = length * length\n",
    "    return area\n",
    "\n",
    "if __name__ == '__main__':\n",
    "    b = area(4)\n",
    "    print('Area = %d' % (b))\n",
    "    print('Area =', b)\n"
   ]
  },
  {
   "cell_type": "code",
   "execution_count": 27,
   "id": "8abce8d1-2868-40e4-bee6-6c2135d8dd0b",
   "metadata": {
    "tags": []
   },
   "outputs": [
    {
     "name": "stdout",
     "output_type": "stream",
     "text": [
      "8\n",
      "14\n"
     ]
    }
   ],
   "source": [
    "cal = lambda x: x *2 \n",
    "\n",
    "a = cal(4)\n",
    "print(a)\n",
    "\n",
    "b = cal(7)\n",
    "print(b)"
   ]
  },
  {
   "cell_type": "code",
   "execution_count": 28,
   "id": "3e438903-27d4-4348-9ec0-d6ffff8a3ac9",
   "metadata": {},
   "outputs": [
    {
     "data": {
      "text/plain": [
       "[2, 1, 3, 4, 5, 6, 3]"
      ]
     },
     "execution_count": 28,
     "metadata": {},
     "output_type": "execute_result"
    }
   ],
   "source": [
    "data = [2,1,3,4,5,6,3]\n",
    "data"
   ]
  },
  {
   "cell_type": "code",
   "execution_count": 29,
   "id": "e9770c01-42e8-4df0-a193-88e977c2ecf6",
   "metadata": {},
   "outputs": [
    {
     "data": {
      "text/plain": [
       "['kobkiat', 2, 5, 8.5]"
      ]
     },
     "execution_count": 29,
     "metadata": {},
     "output_type": "execute_result"
    }
   ],
   "source": [
    "lst = ['kobkiat',2,5,8.5]\n",
    "lst"
   ]
  },
  {
   "cell_type": "code",
   "execution_count": 30,
   "id": "54bb7fad-e8a2-4a5b-a12f-ecf8a10853a6",
   "metadata": {},
   "outputs": [
    {
     "data": {
      "text/plain": [
       "list"
      ]
     },
     "execution_count": 30,
     "metadata": {},
     "output_type": "execute_result"
    }
   ],
   "source": [
    "type(data)"
   ]
  },
  {
   "cell_type": "code",
   "execution_count": 31,
   "id": "0eebb76b-b242-4467-ac64-c5e9bdf17c01",
   "metadata": {},
   "outputs": [],
   "source": [
    "data = [2,1,3,4,5,6,3,20]"
   ]
  },
  {
   "cell_type": "code",
   "execution_count": 32,
   "id": "f378ced8-2644-4ae3-99d0-14b9c4cbd7b4",
   "metadata": {
    "tags": []
   },
   "outputs": [
    {
     "data": {
      "text/plain": [
       "2"
      ]
     },
     "execution_count": 32,
     "metadata": {},
     "output_type": "execute_result"
    }
   ],
   "source": [
    "data[0]"
   ]
  },
  {
   "cell_type": "code",
   "execution_count": 33,
   "id": "113a179d-5c3a-452e-a921-e6cc76014f5f",
   "metadata": {},
   "outputs": [
    {
     "data": {
      "text/plain": [
       "3"
      ]
     },
     "execution_count": 33,
     "metadata": {},
     "output_type": "execute_result"
    }
   ],
   "source": [
    "data[2]"
   ]
  },
  {
   "cell_type": "code",
   "execution_count": 34,
   "id": "409b16cd-2dac-47b1-b22f-f693ffac0b68",
   "metadata": {
    "tags": []
   },
   "outputs": [
    {
     "data": {
      "text/plain": [
       "20"
      ]
     },
     "execution_count": 34,
     "metadata": {},
     "output_type": "execute_result"
    }
   ],
   "source": [
    "data[-1]"
   ]
  },
  {
   "cell_type": "code",
   "execution_count": 35,
   "id": "7a096aeb-c5b9-4dad-bdc2-93a085b580dd",
   "metadata": {
    "tags": []
   },
   "outputs": [
    {
     "data": {
      "text/plain": [
       "3"
      ]
     },
     "execution_count": 35,
     "metadata": {},
     "output_type": "execute_result"
    }
   ],
   "source": [
    "data[-2]"
   ]
  },
  {
   "cell_type": "code",
   "execution_count": 36,
   "id": "2d248bc9-0e17-4533-9d67-9f61565c489b",
   "metadata": {},
   "outputs": [],
   "source": [
    "data = [2,1,3,4,5,6,3,20]"
   ]
  },
  {
   "cell_type": "code",
   "execution_count": 37,
   "id": "1f77369c-0c2d-4a5e-89c4-c3783dd5ccd5",
   "metadata": {
    "tags": []
   },
   "outputs": [
    {
     "data": {
      "text/plain": [
       "[2, 1]"
      ]
     },
     "execution_count": 37,
     "metadata": {},
     "output_type": "execute_result"
    }
   ],
   "source": [
    "data[0:2]"
   ]
  },
  {
   "cell_type": "code",
   "execution_count": 38,
   "id": "10a51e33-fb59-4288-bd15-b8f45c42724c",
   "metadata": {},
   "outputs": [
    {
     "data": {
      "text/plain": [
       "[4, 5, 6]"
      ]
     },
     "execution_count": 38,
     "metadata": {},
     "output_type": "execute_result"
    }
   ],
   "source": [
    "data[3:6]"
   ]
  },
  {
   "cell_type": "code",
   "execution_count": 39,
   "id": "8be367d2-17ce-4722-8a21-cca0b012ab44",
   "metadata": {},
   "outputs": [
    {
     "data": {
      "text/plain": [
       "[1, 3, 4, 5, 6, 3]"
      ]
     },
     "execution_count": 39,
     "metadata": {},
     "output_type": "execute_result"
    }
   ],
   "source": [
    "data[1:-1]"
   ]
  },
  {
   "cell_type": "code",
   "execution_count": 40,
   "id": "019656f0-63e3-4faf-94df-c6c285cba94e",
   "metadata": {},
   "outputs": [
    {
     "data": {
      "text/plain": [
       "[2, 1, 3, 4, 5, 6, 3, 20]"
      ]
     },
     "execution_count": 40,
     "metadata": {},
     "output_type": "execute_result"
    }
   ],
   "source": [
    "data[:]\n"
   ]
  },
  {
   "cell_type": "code",
   "execution_count": 41,
   "id": "eb883907-7ee8-4cb0-a8a2-9a718aed44d9",
   "metadata": {},
   "outputs": [
    {
     "data": {
      "text/plain": [
       "[2, 1, 3, 4]"
      ]
     },
     "execution_count": 41,
     "metadata": {},
     "output_type": "execute_result"
    }
   ],
   "source": [
    "\n",
    "data[:4]"
   ]
  },
  {
   "cell_type": "code",
   "execution_count": 42,
   "id": "89073909-ad0e-4468-819a-eaffaa8cb419",
   "metadata": {},
   "outputs": [
    {
     "data": {
      "text/plain": [
       "[4, 5, 6, 3, 20]"
      ]
     },
     "execution_count": 42,
     "metadata": {},
     "output_type": "execute_result"
    }
   ],
   "source": [
    "data[3:]"
   ]
  },
  {
   "cell_type": "code",
   "execution_count": 43,
   "id": "c3f4721d-6d29-4843-a403-082be4cd9fba",
   "metadata": {},
   "outputs": [
    {
     "name": "stdout",
     "output_type": "stream",
     "text": [
      "4\n",
      "2\n",
      "6\n",
      "8\n",
      "10\n",
      "12\n",
      "6\n",
      "40\n"
     ]
    }
   ],
   "source": [
    "for k in data:\n",
    "    b = k * 2 \n",
    "    print(b)"
   ]
  },
  {
   "cell_type": "code",
   "execution_count": 44,
   "id": "9df4a12d-cbd7-478a-a987-441e63a1d6bf",
   "metadata": {},
   "outputs": [
    {
     "name": "stdout",
     "output_type": "stream",
     "text": [
      "4\n",
      "2\n",
      "6\n"
     ]
    }
   ],
   "source": [
    "for k in data[:3]:\n",
    "    b = k * 2\n",
    "    print(b)"
   ]
  },
  {
   "cell_type": "code",
   "execution_count": 45,
   "id": "bca2ecf2-a41a-4466-a25f-a931a6bd41c7",
   "metadata": {},
   "outputs": [
    {
     "name": "stdout",
     "output_type": "stream",
     "text": [
      "0 2\n",
      "1 1\n",
      "2 3\n",
      "3 4\n",
      "4 5\n",
      "5 6\n",
      "6 3\n",
      "7 20\n"
     ]
    }
   ],
   "source": [
    "for i,k in enumerate(data):\n",
    "    print(i,k)"
   ]
  },
  {
   "cell_type": "code",
   "execution_count": 46,
   "id": "2f9e3128-5147-48ed-9b3a-cbd35f9624ae",
   "metadata": {
    "tags": []
   },
   "outputs": [
    {
     "data": {
      "text/plain": [
       "type[{'Name': 'kobkiat', 'Age': 25, 'Score': 35}]"
      ]
     },
     "execution_count": 46,
     "metadata": {},
     "output_type": "execute_result"
    }
   ],
   "source": [
    "data = {'Name': 'kobkiat', 'Age': 25, 'Score': 35}\n",
    "type[data]"
   ]
  },
  {
   "cell_type": "code",
   "execution_count": 47,
   "id": "d0ba59f7-39cf-46ad-bf11-98e62f40c138",
   "metadata": {},
   "outputs": [
    {
     "data": {
      "text/plain": [
       "'kobkiat'"
      ]
     },
     "execution_count": 47,
     "metadata": {},
     "output_type": "execute_result"
    }
   ],
   "source": [
    "data['Name']"
   ]
  },
  {
   "cell_type": "code",
   "execution_count": 48,
   "id": "1ce4cf08-f722-42ab-80ea-9619da9a7f12",
   "metadata": {},
   "outputs": [
    {
     "data": {
      "text/plain": [
       "35"
      ]
     },
     "execution_count": 48,
     "metadata": {},
     "output_type": "execute_result"
    }
   ],
   "source": [
    "data['Score']"
   ]
  },
  {
   "cell_type": "code",
   "execution_count": 49,
   "id": "da551db7-b443-4cda-88f9-8c0b255cfe7f",
   "metadata": {},
   "outputs": [
    {
     "data": {
      "text/plain": [
       "25"
      ]
     },
     "execution_count": 49,
     "metadata": {},
     "output_type": "execute_result"
    }
   ],
   "source": [
    "data['Age']"
   ]
  },
  {
   "cell_type": "code",
   "execution_count": 50,
   "id": "3bbe1453-a7a8-44e8-9e6c-aa4007f6efbd",
   "metadata": {},
   "outputs": [
    {
     "data": {
      "text/plain": [
       "type[[{'Name': 'kobkiat', 'Age': 25, 'Score': 35}, {'Name': 'luis', 'Age': 22, 'Score': 26}, {'Name': 'john', 'Age': 25, 'Score': 32}, {'Name': 'Tim', 'Age': 35, 'Score': 29}, {'Name': 'Steal', 'Age': 32, 'Score': 27}]]"
      ]
     },
     "execution_count": 50,
     "metadata": {},
     "output_type": "execute_result"
    }
   ],
   "source": [
    "datas = [{'Name': 'kobkiat', 'Age':25, 'Score':35},\n",
    "        {'Name': 'luis', 'Age':22, 'Score':26},\n",
    "        {'Name': 'john', 'Age':25, 'Score':32},\n",
    "        {'Name': 'Tim', 'Age':35, 'Score':29},\n",
    "        {'Name': 'Steal', 'Age':32, 'Score':27}]\n",
    "type[datas]"
   ]
  },
  {
   "cell_type": "code",
   "execution_count": 51,
   "id": "a16c579d-7ffd-4764-b11f-02c368aced70",
   "metadata": {},
   "outputs": [],
   "source": [
    "##for i,k in enumerate(datas):\n",
    "    #print(i,k)"
   ]
  },
  {
   "cell_type": "code",
   "execution_count": 52,
   "id": "d1761132-cc15-4d25-8e0a-eda4c3fbfe68",
   "metadata": {
    "tags": []
   },
   "outputs": [
    {
     "data": {
      "text/plain": [
       "{'Name': 'kobkiat', 'Age': 25, 'Score': 35}"
      ]
     },
     "execution_count": 52,
     "metadata": {},
     "output_type": "execute_result"
    }
   ],
   "source": [
    "datas[0]"
   ]
  },
  {
   "cell_type": "code",
   "execution_count": 53,
   "id": "d5d8c5ed-d1ab-4a8c-805f-90cc8a394ef2",
   "metadata": {},
   "outputs": [
    {
     "data": {
      "text/plain": [
       "{'Name': 'luis', 'Age': 22, 'Score': 26}"
      ]
     },
     "execution_count": 53,
     "metadata": {},
     "output_type": "execute_result"
    }
   ],
   "source": [
    "datas[1]"
   ]
  },
  {
   "cell_type": "code",
   "execution_count": 54,
   "id": "ac4864cf-d8b7-4dd6-a9d2-1aa07042bd15",
   "metadata": {},
   "outputs": [
    {
     "data": {
      "text/plain": [
       "{'Name': 'Steal', 'Age': 32, 'Score': 27}"
      ]
     },
     "execution_count": 54,
     "metadata": {},
     "output_type": "execute_result"
    }
   ],
   "source": [
    "datas[-1]"
   ]
  },
  {
   "cell_type": "code",
   "execution_count": 55,
   "id": "7c1a2dd2-f6bc-40c3-9756-d480007735cd",
   "metadata": {},
   "outputs": [
    {
     "data": {
      "text/plain": [
       "[{'Name': 'kobkiat', 'Age': 25, 'Score': 35},\n",
       " {'Name': 'luis', 'Age': 22, 'Score': 26}]"
      ]
     },
     "execution_count": 55,
     "metadata": {},
     "output_type": "execute_result"
    }
   ],
   "source": [
    "datas[0:2]"
   ]
  },
  {
   "cell_type": "code",
   "execution_count": 56,
   "id": "a9aafb6c-ca8f-4a28-8630-010a7b180adf",
   "metadata": {},
   "outputs": [
    {
     "data": {
      "text/plain": [
       "'kobkiat'"
      ]
     },
     "execution_count": 56,
     "metadata": {},
     "output_type": "execute_result"
    }
   ],
   "source": [
    "datas[0]['Name']"
   ]
  },
  {
   "cell_type": "code",
   "execution_count": 57,
   "id": "3fcbb5aa-e468-4799-841b-5cf08cda4716",
   "metadata": {
    "tags": []
   },
   "outputs": [
    {
     "data": {
      "text/plain": [
       "35"
      ]
     },
     "execution_count": 57,
     "metadata": {},
     "output_type": "execute_result"
    }
   ],
   "source": [
    "datas[0]['Score']"
   ]
  },
  {
   "cell_type": "code",
   "execution_count": 58,
   "id": "6fb380fd-383d-4070-bbc5-d08d795b032a",
   "metadata": {},
   "outputs": [
    {
     "data": {
      "text/plain": [
       "25"
      ]
     },
     "execution_count": 58,
     "metadata": {},
     "output_type": "execute_result"
    }
   ],
   "source": [
    "datas[0]['Age']"
   ]
  },
  {
   "cell_type": "code",
   "execution_count": 59,
   "id": "7e352e03-4574-4071-81d0-b4ebde3fc17f",
   "metadata": {},
   "outputs": [
    {
     "data": {
      "text/plain": [
       "'luis'"
      ]
     },
     "execution_count": 59,
     "metadata": {},
     "output_type": "execute_result"
    }
   ],
   "source": [
    "datas[1]['Name']"
   ]
  },
  {
   "cell_type": "code",
   "execution_count": 60,
   "id": "13dbb61c-1c87-4f70-b574-84c4db1a327a",
   "metadata": {},
   "outputs": [
    {
     "name": "stdout",
     "output_type": "stream",
     "text": [
      "kobkiat 35\n",
      "luis 26\n",
      "john 32\n",
      "Tim 29\n",
      "Steal 27\n"
     ]
    }
   ],
   "source": [
    "for k in datas:\n",
    "    print(k['Name'], k['Score'])"
   ]
  },
  {
   "cell_type": "code",
   "execution_count": 61,
   "id": "58bec237-a3ff-4631-90df-004653942f1f",
   "metadata": {},
   "outputs": [
    {
     "name": "stdout",
     "output_type": "stream",
     "text": [
      "kobkiat  35\n",
      "luis     26\n",
      "john     32\n",
      "Tim      29\n",
      "Steal    27\n"
     ]
    }
   ],
   "source": [
    "for k in datas:\n",
    "    print('{:8} {}'.format(k['Name'], k['Score']))\n"
   ]
  },
  {
   "cell_type": "code",
   "execution_count": 62,
   "id": "b0e2a707-d9ee-48bb-91a4-1d1f672f5bbe",
   "metadata": {},
   "outputs": [],
   "source": [
    "import pandas as pd\n",
    "import numpy as np\n",
    "import matplotlib.pyplot as plt"
   ]
  },
  {
   "cell_type": "code",
   "execution_count": 63,
   "id": "b5ed78a6-9508-4d68-ab65-78a06c3559bc",
   "metadata": {},
   "outputs": [
    {
     "data": {
      "text/plain": [
       "5.5"
      ]
     },
     "execution_count": 63,
     "metadata": {},
     "output_type": "execute_result"
    }
   ],
   "source": [
    "data = [2,1,3,4,5,6,3,20]\n",
    "np.mean(data)"
   ]
  },
  {
   "cell_type": "code",
   "execution_count": 64,
   "id": "50451b63-daa9-46ee-ba85-7c2fa588a858",
   "metadata": {
    "tags": []
   },
   "outputs": [
    {
     "data": {
      "text/plain": [
       "5.5"
      ]
     },
     "execution_count": 64,
     "metadata": {},
     "output_type": "execute_result"
    }
   ],
   "source": [
    "np.mean([2,1,3,4,5,6,3,20]) # หาค่าเบียนเบนมาตรฐาน"
   ]
  },
  {
   "cell_type": "code",
   "execution_count": 65,
   "id": "4ab5bd26-f1fe-4a0a-b99a-624ea2c6e00d",
   "metadata": {},
   "outputs": [
    {
     "data": {
      "text/plain": [
       "5.678908345800274"
      ]
     },
     "execution_count": 65,
     "metadata": {},
     "output_type": "execute_result"
    }
   ],
   "source": [
    "np.std(data) #หาค่าสูงสุด ต่ำสุด"
   ]
  },
  {
   "cell_type": "code",
   "execution_count": 66,
   "id": "f3e06cdf-571e-43d5-9ae8-6b07209867d8",
   "metadata": {},
   "outputs": [
    {
     "data": {
      "text/plain": [
       "20"
      ]
     },
     "execution_count": 66,
     "metadata": {},
     "output_type": "execute_result"
    }
   ],
   "source": [
    "np.max(data)"
   ]
  },
  {
   "cell_type": "code",
   "execution_count": 67,
   "id": "307250ff-80ef-45e9-bf5a-a248dee75452",
   "metadata": {},
   "outputs": [
    {
     "data": {
      "text/plain": [
       "1"
      ]
     },
     "execution_count": 67,
     "metadata": {},
     "output_type": "execute_result"
    }
   ],
   "source": [
    "np.min(data)"
   ]
  },
  {
   "cell_type": "code",
   "execution_count": 68,
   "id": "497a30ae-c958-4364-996f-b82a160d3961",
   "metadata": {
    "tags": []
   },
   "outputs": [
    {
     "data": {
      "text/plain": [
       "numpy.ndarray"
      ]
     },
     "execution_count": 68,
     "metadata": {},
     "output_type": "execute_result"
    }
   ],
   "source": [
    "npa = np.array([data])\n",
    "type(npa)"
   ]
  },
  {
   "cell_type": "code",
   "execution_count": 69,
   "id": "2c3d56c9-6b17-4990-bed7-f80525af0268",
   "metadata": {},
   "outputs": [],
   "source": [
    "X = ([[6,7,4,5,1],\n",
    "     [2,8,3,6,4],\n",
    "     [1,3,2,9,6],\n",
    "     [8,9,1,7,2]])\n",
    "npx = np.array(X)"
   ]
  },
  {
   "cell_type": "code",
   "execution_count": 70,
   "id": "b14326aa-a8fe-46fb-a9f1-d832626901cc",
   "metadata": {
    "tags": []
   },
   "outputs": [
    {
     "data": {
      "text/plain": [
       "(4, 5)"
      ]
     },
     "execution_count": 70,
     "metadata": {},
     "output_type": "execute_result"
    }
   ],
   "source": [
    "npx.shape"
   ]
  },
  {
   "cell_type": "code",
   "execution_count": 71,
   "id": "94388f13-0986-4116-98f2-90507a67f6f6",
   "metadata": {},
   "outputs": [],
   "source": [
    "## numpy_data[row_index, column_index]"
   ]
  },
  {
   "cell_type": "code",
   "execution_count": 72,
   "id": "074cdb23-6aa6-4ba7-b270-a38b5a95b8a6",
   "metadata": {},
   "outputs": [
    {
     "data": {
      "text/plain": [
       "array([[6, 7, 4, 5, 1],\n",
       "       [2, 8, 3, 6, 4]])"
      ]
     },
     "execution_count": 72,
     "metadata": {},
     "output_type": "execute_result"
    }
   ],
   "source": [
    "npx[0:2]"
   ]
  },
  {
   "cell_type": "code",
   "execution_count": 73,
   "id": "ff4aa5ab-c06d-4b82-9417-ef937e3c9271",
   "metadata": {},
   "outputs": [
    {
     "data": {
      "text/plain": [
       "array([[2, 8, 3, 6, 4]])"
      ]
     },
     "execution_count": 73,
     "metadata": {},
     "output_type": "execute_result"
    }
   ],
   "source": [
    "npx[1:2]"
   ]
  },
  {
   "cell_type": "code",
   "execution_count": 74,
   "id": "78594845-0a3c-492b-90a4-075351511e14",
   "metadata": {},
   "outputs": [],
   "source": [
    "## Numpy_data[row_index1 : row_index2 , column_index1 : column_index2]"
   ]
  },
  {
   "cell_type": "code",
   "execution_count": 75,
   "id": "9d86a335-66e1-4a62-a44e-137520407ba0",
   "metadata": {},
   "outputs": [
    {
     "data": {
      "text/plain": [
       "array([[6, 7, 4, 5],\n",
       "       [2, 8, 3, 6],\n",
       "       [1, 3, 2, 9],\n",
       "       [8, 9, 1, 7]])"
      ]
     },
     "execution_count": 75,
     "metadata": {},
     "output_type": "execute_result"
    }
   ],
   "source": [
    "X = npx[:,:-1]\n",
    "X"
   ]
  },
  {
   "cell_type": "code",
   "execution_count": 76,
   "id": "3cdd7a1e-086e-4fdf-b482-9dc23d405d05",
   "metadata": {},
   "outputs": [
    {
     "data": {
      "text/plain": [
       "array([[1],\n",
       "       [4],\n",
       "       [6],\n",
       "       [2]])"
      ]
     },
     "execution_count": 76,
     "metadata": {},
     "output_type": "execute_result"
    }
   ],
   "source": [
    "y = npx[: , -1:]\n",
    "y"
   ]
  },
  {
   "cell_type": "code",
   "execution_count": 77,
   "id": "df24ecb9-d6ba-4c31-accc-4b8c7e95c1c3",
   "metadata": {},
   "outputs": [
    {
     "data": {
      "text/plain": [
       "array([[2, 8, 3, 6, 4],\n",
       "       [1, 3, 2, 9, 6],\n",
       "       [8, 9, 1, 7, 2]])"
      ]
     },
     "execution_count": 77,
     "metadata": {},
     "output_type": "execute_result"
    }
   ],
   "source": [
    "npx[1: , :]"
   ]
  },
  {
   "cell_type": "code",
   "execution_count": 78,
   "id": "03e13c2e-cbcc-40c7-ad74-efa094a75a08",
   "metadata": {},
   "outputs": [
    {
     "data": {
      "text/plain": [
       "array([[1, 3, 2, 9, 6]])"
      ]
     },
     "execution_count": 78,
     "metadata": {},
     "output_type": "execute_result"
    }
   ],
   "source": [
    "npx[2:3 , :]"
   ]
  },
  {
   "cell_type": "code",
   "execution_count": 79,
   "id": "a83f8d44-2f1c-4360-bc0f-e3d93e4126eb",
   "metadata": {
    "tags": []
   },
   "outputs": [
    {
     "data": {
      "text/plain": [
       "array([8])"
      ]
     },
     "execution_count": 79,
     "metadata": {},
     "output_type": "execute_result"
    }
   ],
   "source": [
    "npx[-1 ,:1]"
   ]
  },
  {
   "cell_type": "code",
   "execution_count": 80,
   "id": "1664fe8c-a9a6-43b4-b9f1-9988b5fa248e",
   "metadata": {},
   "outputs": [
    {
     "data": {
      "text/plain": [
       "array([[6],\n",
       "       [2],\n",
       "       [1],\n",
       "       [8]])"
      ]
     },
     "execution_count": 80,
     "metadata": {},
     "output_type": "execute_result"
    }
   ],
   "source": [
    "npx[: ,:1]"
   ]
  },
  {
   "cell_type": "code",
   "execution_count": 81,
   "id": "75f68d4f-f43e-495e-b8e3-00df52960e19",
   "metadata": {
    "tags": []
   },
   "outputs": [
    {
     "data": {
      "text/plain": [
       "array([[5, 1],\n",
       "       [6, 4],\n",
       "       [9, 6],\n",
       "       [7, 2]])"
      ]
     },
     "execution_count": 81,
     "metadata": {},
     "output_type": "execute_result"
    }
   ],
   "source": [
    "npx[: ,-2:]"
   ]
  },
  {
   "cell_type": "code",
   "execution_count": 82,
   "id": "cadafb73-1258-4685-bb9a-f091e4c91295",
   "metadata": {},
   "outputs": [
    {
     "data": {
      "text/plain": [
       "array([[5, 1],\n",
       "       [6, 4],\n",
       "       [9, 6],\n",
       "       [7, 2]])"
      ]
     },
     "execution_count": 82,
     "metadata": {},
     "output_type": "execute_result"
    }
   ],
   "source": [
    "npx[: ,3:]"
   ]
  },
  {
   "cell_type": "code",
   "execution_count": 83,
   "id": "5ee5d715-cd63-436c-95d8-b053bfb4439e",
   "metadata": {},
   "outputs": [
    {
     "data": {
      "text/plain": [
       "array([[6, 7, 4, 5, 1],\n",
       "       [2, 8, 3, 6, 4],\n",
       "       [1, 3, 2, 9, 6],\n",
       "       [8, 9, 1, 7, 2]])"
      ]
     },
     "execution_count": 83,
     "metadata": {},
     "output_type": "execute_result"
    }
   ],
   "source": [
    "npx[: , :]"
   ]
  },
  {
   "cell_type": "code",
   "execution_count": 84,
   "id": "a8b971cb-aed1-4241-86fe-091654e96b65",
   "metadata": {},
   "outputs": [
    {
     "data": {
      "text/plain": [
       "array([[ True,  True, False, False, False],\n",
       "       [False,  True, False,  True, False],\n",
       "       [False, False, False,  True,  True],\n",
       "       [ True,  True, False,  True, False]])"
      ]
     },
     "execution_count": 84,
     "metadata": {},
     "output_type": "execute_result"
    }
   ],
   "source": [
    "npx > 5"
   ]
  },
  {
   "cell_type": "code",
   "execution_count": 85,
   "id": "cb2fc508-5a5f-4158-81b6-b0a4da90eab5",
   "metadata": {},
   "outputs": [
    {
     "data": {
      "text/plain": [
       "array([6, 7, 8, 6, 9, 6, 8, 9, 7])"
      ]
     },
     "execution_count": 85,
     "metadata": {},
     "output_type": "execute_result"
    }
   ],
   "source": [
    "npx[npx > 5]"
   ]
  },
  {
   "cell_type": "code",
   "execution_count": 86,
   "id": "523dd25a-4a36-4514-acd8-9dbbe469d9ea",
   "metadata": {},
   "outputs": [
    {
     "data": {
      "text/plain": [
       "array([[6, 2, 1, 8],\n",
       "       [7, 8, 3, 9],\n",
       "       [4, 3, 2, 1],\n",
       "       [5, 6, 9, 7],\n",
       "       [1, 4, 6, 2]])"
      ]
     },
     "execution_count": 86,
     "metadata": {},
     "output_type": "execute_result"
    }
   ],
   "source": [
    "npx.T  "
   ]
  },
  {
   "cell_type": "code",
   "execution_count": 87,
   "id": "3ff01985-730b-40cf-96f2-28d27f1773c9",
   "metadata": {},
   "outputs": [
    {
     "data": {
      "text/plain": [
       "array([[6, 7, 4, 5, 1, 2, 8, 3, 6, 4, 1, 3, 2, 9, 6, 8, 9, 1, 7, 2]])"
      ]
     },
     "execution_count": 87,
     "metadata": {},
     "output_type": "execute_result"
    }
   ],
   "source": [
    "npx.reshape(1, -1)"
   ]
  },
  {
   "cell_type": "code",
   "execution_count": 88,
   "id": "d560cac4-6c4a-4395-bd39-e26aef4e5d6b",
   "metadata": {},
   "outputs": [
    {
     "data": {
      "text/plain": [
       "array([[6],\n",
       "       [7],\n",
       "       [4],\n",
       "       [5],\n",
       "       [1],\n",
       "       [2],\n",
       "       [8],\n",
       "       [3],\n",
       "       [6],\n",
       "       [4],\n",
       "       [1],\n",
       "       [3],\n",
       "       [2],\n",
       "       [9],\n",
       "       [6],\n",
       "       [8],\n",
       "       [9],\n",
       "       [1],\n",
       "       [7],\n",
       "       [2]])"
      ]
     },
     "execution_count": 88,
     "metadata": {},
     "output_type": "execute_result"
    }
   ],
   "source": [
    "npx.reshape(-1 , 1)"
   ]
  },
  {
   "cell_type": "code",
   "execution_count": 89,
   "id": "8914d910-e955-499c-a0f9-3b4b776604f5",
   "metadata": {},
   "outputs": [
    {
     "data": {
      "text/plain": [
       "array([0.88858609, 0.10234627, 0.70333773, 0.55863008])"
      ]
     },
     "execution_count": 89,
     "metadata": {},
     "output_type": "execute_result"
    }
   ],
   "source": [
    "np.random.rand(4)"
   ]
  },
  {
   "cell_type": "code",
   "execution_count": 90,
   "id": "e8f79c01-5ca5-48ee-a5ba-651230fc564f",
   "metadata": {},
   "outputs": [
    {
     "data": {
      "text/plain": [
       "array([5.4064347 , 2.60315517, 1.76031938, 9.60186215])"
      ]
     },
     "execution_count": 90,
     "metadata": {},
     "output_type": "execute_result"
    }
   ],
   "source": [
    "np.random.rand(4) * 10"
   ]
  },
  {
   "cell_type": "code",
   "execution_count": 91,
   "id": "7a6a27ba-77e3-47f4-9f57-7c9f44318f13",
   "metadata": {},
   "outputs": [
    {
     "data": {
      "text/plain": [
       "array([37.9140838 , 40.30401953, 42.06207976, 46.81481803])"
      ]
     },
     "execution_count": 91,
     "metadata": {},
     "output_type": "execute_result"
    }
   ],
   "source": [
    "np.random.rand(4) * 30 + 20"
   ]
  },
  {
   "cell_type": "code",
   "execution_count": 92,
   "id": "c8a0f638-67a7-446b-bea9-26657d870cca",
   "metadata": {},
   "outputs": [
    {
     "data": {
      "text/plain": [
       "array([[0.07632433, 0.76057025],\n",
       "       [0.76123089, 0.79452576],\n",
       "       [0.86058482, 0.09800746]])"
      ]
     },
     "execution_count": 92,
     "metadata": {},
     "output_type": "execute_result"
    }
   ],
   "source": [
    "np.random.rand(3, 2)"
   ]
  },
  {
   "cell_type": "code",
   "execution_count": 93,
   "id": "ec17573d-2fd3-45ac-9a2c-81068fb02d9f",
   "metadata": {},
   "outputs": [
    {
     "data": {
      "text/plain": [
       "array([3.07221307, 2.33606661, 2.22289355, 2.56681407, 3.96398272,\n",
       "       2.58595532, 2.81235837, 3.23439568, 3.16679519, 3.11553401])"
      ]
     },
     "execution_count": 93,
     "metadata": {},
     "output_type": "execute_result"
    }
   ],
   "source": [
    "mu, sigma = 3.2, 0.5\n",
    "s = np.random.normal(mu, sigma, 1000)\n",
    "s[:10]"
   ]
  },
  {
   "cell_type": "code",
   "execution_count": 94,
   "id": "3cf3ac77-f6c2-4a7e-8b01-1b00bcdf937c",
   "metadata": {},
   "outputs": [],
   "source": [
    "import matplotlib.pyplot as plt"
   ]
  },
  {
   "cell_type": "code",
   "execution_count": 95,
   "id": "ecf9f326-567f-48ec-bc20-4e846b5170de",
   "metadata": {},
   "outputs": [
    {
     "data": {
      "image/png": "[encoded data removed]",
      "text/plain": [
       "<Figure size 640x480 with 1 Axes>"
      ]
     },
     "metadata": {},
     "output_type": "display_data"
    }
   ],
   "source": [
    "plt.hist(s, bins=40)\n",
    "plt.show()"
   ]
  },
  {
   "cell_type": "code",
   "execution_count": 96,
   "id": "316a37ad-884f-4a40-81ca-8e6efc7ab820",
   "metadata": {
    "tags": []
   },
   "outputs": [
    {
     "data": {
      "text/plain": [
       "0      15\n",
       "1    12.5\n",
       "2     ksb\n",
       "3      22\n",
       "4     jim\n",
       "dtype: object"
      ]
     },
     "execution_count": 96,
     "metadata": {},
     "output_type": "execute_result"
    }
   ],
   "source": [
    "import pandas as pd\n",
    "\n",
    "datas = [15,12.5,'ksb',22,\"jim\"]\n",
    "\n",
    "ps = pd.Series(datas)\n",
    "\n",
    "ps"
   ]
  },
  {
   "cell_type": "code",
   "execution_count": 97,
   "id": "bc2cd76a-fd2c-4216-978b-385cd11746c0",
   "metadata": {},
   "outputs": [],
   "source": [
    "datas = (15,12.5,'ksb',22,\"jim\")"
   ]
  },
  {
   "cell_type": "code",
   "execution_count": 98,
   "id": "808eed44-5aeb-425d-9434-812683c64025",
   "metadata": {},
   "outputs": [
    {
     "data": {
      "text/plain": [
       "0      15\n",
       "1    12.5\n",
       "2     ksb\n",
       "3      22\n",
       "4     jim\n",
       "dtype: object"
      ]
     },
     "execution_count": 98,
     "metadata": {},
     "output_type": "execute_result"
    }
   ],
   "source": [
    "ps = pd.Series(datas)\n",
    "ps"
   ]
  },
  {
   "cell_type": "code",
   "execution_count": 99,
   "id": "fd4a304e-0b0b-4be7-a56f-bc06e969cc48",
   "metadata": {},
   "outputs": [
    {
     "data": {
      "text/plain": [
       "0      15\n",
       "1    12.5\n",
       "2     ksb\n",
       "3      22\n",
       "4     jim\n",
       "dtype: object"
      ]
     },
     "execution_count": 99,
     "metadata": {},
     "output_type": "execute_result"
    }
   ],
   "source": [
    "import pandas as pd\n",
    "import numpy as np\n",
    "\n",
    "datas = (15,12.5,'ksb',22,\"jim\")\n",
    "ndata = np.array(datas)\n",
    "ps = pd.Series(ndata)\n",
    "ps"
   ]
  },
  {
   "cell_type": "code",
   "execution_count": 100,
   "id": "c9b96df7-4115-495f-92aa-10e098a4c740",
   "metadata": {},
   "outputs": [
    {
     "data": {
      "text/plain": [
       "0      15\n",
       "1    12.5\n",
       "2     ksb\n",
       "3      22\n",
       "4     jim\n",
       "dtype: object"
      ]
     },
     "execution_count": 100,
     "metadata": {},
     "output_type": "execute_result"
    }
   ],
   "source": [
    "ndatas = np.array([15,12.5,'ksb',22,\"jim\"])\n",
    "ps = pd.Series(ndatas)\n",
    "ps"
   ]
  },
  {
   "cell_type": "code",
   "execution_count": 101,
   "id": "dda96048-3f02-47dc-ac1a-d220b5b3d4c1",
   "metadata": {
    "tags": []
   },
   "outputs": [
    {
     "data": {
      "text/plain": [
       "ksb      15.0\n",
       "ฌิแนน    12.5\n",
       "Tim      18.0\n",
       "Jan      22.0\n",
       "แมว      17.0\n",
       "dtype: float64"
      ]
     },
     "execution_count": 101,
     "metadata": {},
     "output_type": "execute_result"
    }
   ],
   "source": [
    "import pandas as pd\n",
    "\n",
    "datas = [15,12.5,18,22,17]\n",
    "idx = ['ksb','ฌิแนน','Tim','Jan','แมว']\n",
    "ps = pd.Series(datas, index=idx)\n",
    "ps"
   ]
  },
  {
   "cell_type": "code",
   "execution_count": 102,
   "id": "5d756d30-d3fd-4128-b42e-c2fb54a5a77b",
   "metadata": {},
   "outputs": [
    {
     "data": {
      "text/plain": [
       "ksb      15.0\n",
       "ฌิแนน    12.5\n",
       "Tim      18.0\n",
       "Jan      22.0\n",
       "dtype: float64"
      ]
     },
     "execution_count": 102,
     "metadata": {},
     "output_type": "execute_result"
    }
   ],
   "source": [
    "import pandas as pd\n",
    "\n",
    "datas = {'ksb':15, 'ฌิแนน':12.5,'Tim':18,'Jan':22}\n",
    "ps = pd.Series(datas)\n",
    "ps"
   ]
  },
  {
   "cell_type": "code",
   "execution_count": 103,
   "id": "23a23eab-c16a-4289-9f29-738538a542e3",
   "metadata": {},
   "outputs": [],
   "source": [
    "datas = {'ksb':15, 'ฌิแนน':12.5,'Tim':18,'Jan':22}\n",
    "ps = pd.Series(datas)"
   ]
  },
  {
   "cell_type": "code",
   "execution_count": 104,
   "id": "5ea92026-9909-42ed-bfcd-491aa7b29ac7",
   "metadata": {},
   "outputs": [
    {
     "data": {
      "text/plain": [
       "12.5"
      ]
     },
     "execution_count": 104,
     "metadata": {},
     "output_type": "execute_result"
    }
   ],
   "source": [
    "ps['ฌิแนน']"
   ]
  },
  {
   "cell_type": "code",
   "execution_count": 105,
   "id": "59c3e798-b70c-42e3-9956-b2763f01d83a",
   "metadata": {},
   "outputs": [
    {
     "data": {
      "text/plain": [
       "18.0"
      ]
     },
     "execution_count": 105,
     "metadata": {},
     "output_type": "execute_result"
    }
   ],
   "source": [
    "ps['Tim']"
   ]
  },
  {
   "cell_type": "code",
   "execution_count": 106,
   "id": "f05cd745-85d1-412c-b94a-8549edadd50e",
   "metadata": {},
   "outputs": [
    {
     "data": {
      "text/plain": [
       "15.0"
      ]
     },
     "execution_count": 106,
     "metadata": {},
     "output_type": "execute_result"
    }
   ],
   "source": [
    "ps[0]"
   ]
  },
  {
   "cell_type": "code",
   "execution_count": 107,
   "id": "00d13339-79bf-44d5-852f-d8db9a83fd02",
   "metadata": {},
   "outputs": [
    {
     "data": {
      "text/plain": [
       "12.5"
      ]
     },
     "execution_count": 107,
     "metadata": {},
     "output_type": "execute_result"
    }
   ],
   "source": [
    "ps[1]"
   ]
  },
  {
   "cell_type": "code",
   "execution_count": 108,
   "id": "6b3aa832-0143-4a3b-a878-afc1ecdffa88",
   "metadata": {},
   "outputs": [
    {
     "data": {
      "text/plain": [
       "22.0"
      ]
     },
     "execution_count": 108,
     "metadata": {},
     "output_type": "execute_result"
    }
   ],
   "source": [
    "ps[-1]"
   ]
  },
  {
   "cell_type": "code",
   "execution_count": 109,
   "id": "5d610f9a-7495-413e-9a97-922271c9637d",
   "metadata": {},
   "outputs": [],
   "source": [
    "datas = {'ksb':15, 'ฌิเนม':12.5,'Tim':18,'Jan':22}\n",
    "ps = pd.Series(datas)"
   ]
  },
  {
   "cell_type": "code",
   "execution_count": 110,
   "id": "25f77f2c-6735-4b31-8235-e3dd51761fc9",
   "metadata": {},
   "outputs": [
    {
     "data": {
      "text/plain": [
       "ksb      15.0\n",
       "ฌิเนม    12.5\n",
       "Tim      18.0\n",
       "Jan      22.0\n",
       "dtype: float64"
      ]
     },
     "execution_count": 110,
     "metadata": {},
     "output_type": "execute_result"
    }
   ],
   "source": [
    "ps[:]"
   ]
  },
  {
   "cell_type": "code",
   "execution_count": 111,
   "id": "7ac7b17d-77b9-4336-8891-47bf658d4998",
   "metadata": {},
   "outputs": [
    {
     "data": {
      "text/plain": [
       "Tim    18.0\n",
       "Jan    22.0\n",
       "dtype: float64"
      ]
     },
     "execution_count": 111,
     "metadata": {},
     "output_type": "execute_result"
    }
   ],
   "source": [
    "ps[2:]"
   ]
  },
  {
   "cell_type": "code",
   "execution_count": 112,
   "id": "604a97b1-c469-4d9f-afbb-be5384826745",
   "metadata": {},
   "outputs": [
    {
     "data": {
      "text/plain": [
       "ksb      15.0\n",
       "ฌิเนม    12.5\n",
       "dtype: float64"
      ]
     },
     "execution_count": 112,
     "metadata": {},
     "output_type": "execute_result"
    }
   ],
   "source": [
    "ps[:2]"
   ]
  },
  {
   "cell_type": "code",
   "execution_count": 113,
   "id": "fd45028e-4ff3-4d90-9cb8-b1cacd0a3e5f",
   "metadata": {},
   "outputs": [
    {
     "data": {
      "text/plain": [
       "ฌิเนม    12.5\n",
       "Tim      18.0\n",
       "dtype: float64"
      ]
     },
     "execution_count": 113,
     "metadata": {},
     "output_type": "execute_result"
    }
   ],
   "source": [
    "ps[1:3]"
   ]
  },
  {
   "cell_type": "code",
   "execution_count": 114,
   "id": "bae43dd9-a7ef-4a20-afd2-20227a7ddf78",
   "metadata": {},
   "outputs": [
    {
     "data": {
      "text/plain": [
       "Tim    18.0\n",
       "Jan    22.0\n",
       "dtype: float64"
      ]
     },
     "execution_count": 114,
     "metadata": {},
     "output_type": "execute_result"
    }
   ],
   "source": [
    "ps[2:len(ps)]"
   ]
  },
  {
   "cell_type": "code",
   "execution_count": 115,
   "id": "11e0ab5b-6040-4049-be5c-9fc972a7643c",
   "metadata": {},
   "outputs": [
    {
     "data": {
      "text/html": [
       "<div>\n",
       "<style scoped>\n",
       "    .dataframe tbody tr th:only-of-type {\n",
       "        vertical-align: middle;\n",
       "    }\n",
       "\n",
       "    .dataframe tbody tr th {\n",
       "        vertical-align: top;\n",
       "    }\n",
       "\n",
       "    .dataframe thead th {\n",
       "        text-align: right;\n",
       "    }\n",
       "</style>\n",
       "<table border=\"1\" class=\"dataframe\">\n",
       "  <thead>\n",
       "    <tr style=\"text-align: right;\">\n",
       "      <th></th>\n",
       "      <th>0</th>\n",
       "    </tr>\n",
       "  </thead>\n",
       "  <tbody>\n",
       "    <tr>\n",
       "      <th>0</th>\n",
       "      <td>25</td>\n",
       "    </tr>\n",
       "    <tr>\n",
       "      <th>1</th>\n",
       "      <td>22</td>\n",
       "    </tr>\n",
       "    <tr>\n",
       "      <th>2</th>\n",
       "      <td>26</td>\n",
       "    </tr>\n",
       "    <tr>\n",
       "      <th>3</th>\n",
       "      <td>35</td>\n",
       "    </tr>\n",
       "    <tr>\n",
       "      <th>4</th>\n",
       "      <td>32</td>\n",
       "    </tr>\n",
       "  </tbody>\n",
       "</table>\n",
       "</div>"
      ],
      "text/plain": [
       "    0\n",
       "0  25\n",
       "1  22\n",
       "2  26\n",
       "3  35\n",
       "4  32"
      ]
     },
     "execution_count": 115,
     "metadata": {},
     "output_type": "execute_result"
    }
   ],
   "source": [
    "import pandas as pd\n",
    "\n",
    "datas = [25,22,26,35,32]\n",
    "df = pd.DataFrame(datas)\n",
    "df"
   ]
  },
  {
   "cell_type": "code",
   "execution_count": 116,
   "id": "f4320015-4263-4bdb-89fb-6d4b1dfa2148",
   "metadata": {},
   "outputs": [
    {
     "data": {
      "text/html": [
       "<div>\n",
       "<style scoped>\n",
       "    .dataframe tbody tr th:only-of-type {\n",
       "        vertical-align: middle;\n",
       "    }\n",
       "\n",
       "    .dataframe tbody tr th {\n",
       "        vertical-align: top;\n",
       "    }\n",
       "\n",
       "    .dataframe thead th {\n",
       "        text-align: right;\n",
       "    }\n",
       "</style>\n",
       "<table border=\"1\" class=\"dataframe\">\n",
       "  <thead>\n",
       "    <tr style=\"text-align: right;\">\n",
       "      <th></th>\n",
       "      <th>Age</th>\n",
       "    </tr>\n",
       "  </thead>\n",
       "  <tbody>\n",
       "    <tr>\n",
       "      <th>0</th>\n",
       "      <td>25</td>\n",
       "    </tr>\n",
       "    <tr>\n",
       "      <th>1</th>\n",
       "      <td>22</td>\n",
       "    </tr>\n",
       "    <tr>\n",
       "      <th>2</th>\n",
       "      <td>26</td>\n",
       "    </tr>\n",
       "    <tr>\n",
       "      <th>3</th>\n",
       "      <td>35</td>\n",
       "    </tr>\n",
       "    <tr>\n",
       "      <th>4</th>\n",
       "      <td>32</td>\n",
       "    </tr>\n",
       "  </tbody>\n",
       "</table>\n",
       "</div>"
      ],
      "text/plain": [
       "   Age\n",
       "0   25\n",
       "1   22\n",
       "2   26\n",
       "3   35\n",
       "4   32"
      ]
     },
     "execution_count": 116,
     "metadata": {},
     "output_type": "execute_result"
    }
   ],
   "source": [
    "datas = [25,22,26,35,32]\n",
    "cols=[\"Age\"]\n",
    "df = pd.DataFrame(datas, columns=cols)\n",
    "df"
   ]
  },
  {
   "cell_type": "code",
   "execution_count": 117,
   "id": "380807cc-86f3-4939-976a-96c00c4f84a7",
   "metadata": {},
   "outputs": [
    {
     "data": {
      "text/html": [
       "<div>\n",
       "<style scoped>\n",
       "    .dataframe tbody tr th:only-of-type {\n",
       "        vertical-align: middle;\n",
       "    }\n",
       "\n",
       "    .dataframe tbody tr th {\n",
       "        vertical-align: top;\n",
       "    }\n",
       "\n",
       "    .dataframe thead th {\n",
       "        text-align: right;\n",
       "    }\n",
       "</style>\n",
       "<table border=\"1\" class=\"dataframe\">\n",
       "  <thead>\n",
       "    <tr style=\"text-align: right;\">\n",
       "      <th></th>\n",
       "      <th>height</th>\n",
       "      <th>hair_length</th>\n",
       "      <th>voice_pitch</th>\n",
       "    </tr>\n",
       "  </thead>\n",
       "  <tbody>\n",
       "    <tr>\n",
       "      <th>0</th>\n",
       "      <td>163</td>\n",
       "      <td>37</td>\n",
       "      <td>1</td>\n",
       "    </tr>\n",
       "    <tr>\n",
       "      <th>1</th>\n",
       "      <td>175</td>\n",
       "      <td>20</td>\n",
       "      <td>0</td>\n",
       "    </tr>\n",
       "    <tr>\n",
       "      <th>2</th>\n",
       "      <td>162</td>\n",
       "      <td>27</td>\n",
       "      <td>0</td>\n",
       "    </tr>\n",
       "    <tr>\n",
       "      <th>3</th>\n",
       "      <td>150</td>\n",
       "      <td>10</td>\n",
       "      <td>1</td>\n",
       "    </tr>\n",
       "  </tbody>\n",
       "</table>\n",
       "</div>"
      ],
      "text/plain": [
       "   height  hair_length  voice_pitch\n",
       "0     163           37            1\n",
       "1     175           20            0\n",
       "2     162           27            0\n",
       "3     150           10            1"
      ]
     },
     "execution_count": 117,
     "metadata": {},
     "output_type": "execute_result"
    }
   ],
   "source": [
    "datas = [ [163, 37,1],\n",
    "          [175, 20, 0],\n",
    "          [162, 27, 0],\n",
    "          [150, 10, 1] ]\n",
    "\n",
    "colms = ['height','hair_length','voice_pitch']\n",
    "df = pd.DataFrame(datas, columns=colms)\n",
    "df"
   ]
  },
  {
   "cell_type": "code",
   "execution_count": 118,
   "id": "f21373ae-d4b7-46ae-b05a-aba05c332444",
   "metadata": {},
   "outputs": [],
   "source": [
    "lst1 = [15,22,30,24]\n",
    "lst2 = [20,18,38,19]\n",
    "datas = list(zip(lst1,lst2))\n",
    "\n",
    "cols = [\"Age\",\"Score\"]\n",
    "df = pd.DataFrame(datas, columns=cols)"
   ]
  },
  {
   "cell_type": "code",
   "execution_count": 119,
   "id": "e2d60400-af26-4937-9662-eb4e61526e23",
   "metadata": {},
   "outputs": [
    {
     "data": {
      "text/html": [
       "<div>\n",
       "<style scoped>\n",
       "    .dataframe tbody tr th:only-of-type {\n",
       "        vertical-align: middle;\n",
       "    }\n",
       "\n",
       "    .dataframe tbody tr th {\n",
       "        vertical-align: top;\n",
       "    }\n",
       "\n",
       "    .dataframe thead th {\n",
       "        text-align: right;\n",
       "    }\n",
       "</style>\n",
       "<table border=\"1\" class=\"dataframe\">\n",
       "  <thead>\n",
       "    <tr style=\"text-align: right;\">\n",
       "      <th></th>\n",
       "      <th>Age</th>\n",
       "      <th>Score</th>\n",
       "    </tr>\n",
       "  </thead>\n",
       "  <tbody>\n",
       "    <tr>\n",
       "      <th>0</th>\n",
       "      <td>15</td>\n",
       "      <td>20</td>\n",
       "    </tr>\n",
       "    <tr>\n",
       "      <th>1</th>\n",
       "      <td>22</td>\n",
       "      <td>18</td>\n",
       "    </tr>\n",
       "    <tr>\n",
       "      <th>2</th>\n",
       "      <td>30</td>\n",
       "      <td>38</td>\n",
       "    </tr>\n",
       "    <tr>\n",
       "      <th>3</th>\n",
       "      <td>24</td>\n",
       "      <td>19</td>\n",
       "    </tr>\n",
       "  </tbody>\n",
       "</table>\n",
       "</div>"
      ],
      "text/plain": [
       "   Age  Score\n",
       "0   15     20\n",
       "1   22     18\n",
       "2   30     38\n",
       "3   24     19"
      ]
     },
     "execution_count": 119,
     "metadata": {},
     "output_type": "execute_result"
    }
   ],
   "source": [
    "df"
   ]
  },
  {
   "cell_type": "code",
   "execution_count": 120,
   "id": "9c0feb65-0fde-45dc-abab-60b1392314c8",
   "metadata": {},
   "outputs": [
    {
     "data": {
      "text/html": [
       "<div>\n",
       "<style scoped>\n",
       "    .dataframe tbody tr th:only-of-type {\n",
       "        vertical-align: middle;\n",
       "    }\n",
       "\n",
       "    .dataframe tbody tr th {\n",
       "        vertical-align: top;\n",
       "    }\n",
       "\n",
       "    .dataframe thead th {\n",
       "        text-align: right;\n",
       "    }\n",
       "</style>\n",
       "<table border=\"1\" class=\"dataframe\">\n",
       "  <thead>\n",
       "    <tr style=\"text-align: right;\">\n",
       "      <th></th>\n",
       "      <th>Age</th>\n",
       "      <th>Name</th>\n",
       "      <th>Score</th>\n",
       "    </tr>\n",
       "  </thead>\n",
       "  <tbody>\n",
       "    <tr>\n",
       "      <th>0</th>\n",
       "      <td>kobkiat</td>\n",
       "      <td>25</td>\n",
       "      <td>35</td>\n",
       "    </tr>\n",
       "    <tr>\n",
       "      <th>1</th>\n",
       "      <td>ฌิแนน</td>\n",
       "      <td>22</td>\n",
       "      <td>26</td>\n",
       "    </tr>\n",
       "    <tr>\n",
       "      <th>2</th>\n",
       "      <td>john</td>\n",
       "      <td>25</td>\n",
       "      <td>32</td>\n",
       "    </tr>\n",
       "    <tr>\n",
       "      <th>3</th>\n",
       "      <td>Tim</td>\n",
       "      <td>35</td>\n",
       "      <td>29</td>\n",
       "    </tr>\n",
       "    <tr>\n",
       "      <th>4</th>\n",
       "      <td>Steal</td>\n",
       "      <td>32</td>\n",
       "      <td>27</td>\n",
       "    </tr>\n",
       "  </tbody>\n",
       "</table>\n",
       "</div>"
      ],
      "text/plain": [
       "       Age  Name  Score\n",
       "0  kobkiat    25     35\n",
       "1    ฌิแนน    22     26\n",
       "2     john    25     32\n",
       "3      Tim    35     29\n",
       "4    Steal    32     27"
      ]
     },
     "execution_count": 120,
     "metadata": {},
     "output_type": "execute_result"
    }
   ],
   "source": [
    "datas = [['kobkiat',25,35],['ฌิแนน',22,26],\n",
    "        ['john',25,32],['Tim',35,29],['Steal',32,27]]\n",
    "cols = [\"Age\",\"Name\",\"Score\"]\n",
    "\n",
    "df = pd.DataFrame(datas, columns=cols)\n",
    "df"
   ]
  },
  {
   "cell_type": "code",
   "execution_count": 121,
   "id": "8f30609b-c2b3-44e5-9a13-842029f869f2",
   "metadata": {},
   "outputs": [
    {
     "data": {
      "text/html": [
       "<div>\n",
       "<style scoped>\n",
       "    .dataframe tbody tr th:only-of-type {\n",
       "        vertical-align: middle;\n",
       "    }\n",
       "\n",
       "    .dataframe tbody tr th {\n",
       "        vertical-align: top;\n",
       "    }\n",
       "\n",
       "    .dataframe thead th {\n",
       "        text-align: right;\n",
       "    }\n",
       "</style>\n",
       "<table border=\"1\" class=\"dataframe\">\n",
       "  <thead>\n",
       "    <tr style=\"text-align: right;\">\n",
       "      <th></th>\n",
       "      <th>Age</th>\n",
       "      <th>Score</th>\n",
       "    </tr>\n",
       "    <tr>\n",
       "      <th>Name</th>\n",
       "      <th></th>\n",
       "      <th></th>\n",
       "    </tr>\n",
       "  </thead>\n",
       "  <tbody>\n",
       "    <tr>\n",
       "      <th>25</th>\n",
       "      <td>kobkiat</td>\n",
       "      <td>35</td>\n",
       "    </tr>\n",
       "    <tr>\n",
       "      <th>22</th>\n",
       "      <td>ฌิแนน</td>\n",
       "      <td>26</td>\n",
       "    </tr>\n",
       "    <tr>\n",
       "      <th>25</th>\n",
       "      <td>john</td>\n",
       "      <td>32</td>\n",
       "    </tr>\n",
       "    <tr>\n",
       "      <th>35</th>\n",
       "      <td>Tim</td>\n",
       "      <td>29</td>\n",
       "    </tr>\n",
       "    <tr>\n",
       "      <th>32</th>\n",
       "      <td>Steal</td>\n",
       "      <td>27</td>\n",
       "    </tr>\n",
       "  </tbody>\n",
       "</table>\n",
       "</div>"
      ],
      "text/plain": [
       "          Age  Score\n",
       "Name                \n",
       "25    kobkiat     35\n",
       "22      ฌิแนน     26\n",
       "25       john     32\n",
       "35        Tim     29\n",
       "32      Steal     27"
      ]
     },
     "execution_count": 121,
     "metadata": {},
     "output_type": "execute_result"
    }
   ],
   "source": [
    "df.set_index([\"Name\"], inplace=True)\n",
    "df"
   ]
  },
  {
   "cell_type": "code",
   "execution_count": 122,
   "id": "5fbffc68-626e-4af1-96e6-ad8761f50a87",
   "metadata": {},
   "outputs": [
    {
     "data": {
      "text/html": [
       "<div>\n",
       "<style scoped>\n",
       "    .dataframe tbody tr th:only-of-type {\n",
       "        vertical-align: middle;\n",
       "    }\n",
       "\n",
       "    .dataframe tbody tr th {\n",
       "        vertical-align: top;\n",
       "    }\n",
       "\n",
       "    .dataframe thead th {\n",
       "        text-align: right;\n",
       "    }\n",
       "</style>\n",
       "<table border=\"1\" class=\"dataframe\">\n",
       "  <thead>\n",
       "    <tr style=\"text-align: right;\">\n",
       "      <th></th>\n",
       "      <th>Name</th>\n",
       "      <th>Age</th>\n",
       "      <th>Score</th>\n",
       "    </tr>\n",
       "  </thead>\n",
       "  <tbody>\n",
       "    <tr>\n",
       "      <th>0</th>\n",
       "      <td>Kobkiat</td>\n",
       "      <td>25</td>\n",
       "      <td>35</td>\n",
       "    </tr>\n",
       "    <tr>\n",
       "      <th>1</th>\n",
       "      <td>ฌิแนน</td>\n",
       "      <td>22</td>\n",
       "      <td>26</td>\n",
       "    </tr>\n",
       "    <tr>\n",
       "      <th>2</th>\n",
       "      <td>จอร์น</td>\n",
       "      <td>25</td>\n",
       "      <td>32</td>\n",
       "    </tr>\n",
       "    <tr>\n",
       "      <th>3</th>\n",
       "      <td>Tim</td>\n",
       "      <td>35</td>\n",
       "      <td>29</td>\n",
       "    </tr>\n",
       "    <tr>\n",
       "      <th>4</th>\n",
       "      <td>Steal</td>\n",
       "      <td>32</td>\n",
       "      <td>27</td>\n",
       "    </tr>\n",
       "  </tbody>\n",
       "</table>\n",
       "</div>"
      ],
      "text/plain": [
       "      Name  Age  Score\n",
       "0  Kobkiat   25     35\n",
       "1    ฌิแนน   22     26\n",
       "2    จอร์น   25     32\n",
       "3      Tim   35     29\n",
       "4    Steal   32     27"
      ]
     },
     "execution_count": 122,
     "metadata": {},
     "output_type": "execute_result"
    }
   ],
   "source": [
    "datas = [{'Name':'Kobkiat','Age':25,'Score':35},\n",
    "         {'Name':'ฌิแนน','Age':22,'Score':26},\n",
    "         {'Name':'จอร์น','Age':25,'Score':32},\n",
    "         {'Name':'Tim','Age':35,'Score':29},\n",
    "         {'Name':'Steal','Age':32,'Score':27}]\n",
    "\n",
    "df = pd.DataFrame(datas)\n",
    "df"
   ]
  },
  {
   "cell_type": "code",
   "execution_count": 123,
   "id": "8d286585-f749-4414-98bb-bd0d1539ac8b",
   "metadata": {},
   "outputs": [
    {
     "data": {
      "text/html": [
       "<div>\n",
       "<style scoped>\n",
       "    .dataframe tbody tr th:only-of-type {\n",
       "        vertical-align: middle;\n",
       "    }\n",
       "\n",
       "    .dataframe tbody tr th {\n",
       "        vertical-align: top;\n",
       "    }\n",
       "\n",
       "    .dataframe thead th {\n",
       "        text-align: right;\n",
       "    }\n",
       "</style>\n",
       "<table border=\"1\" class=\"dataframe\">\n",
       "  <thead>\n",
       "    <tr style=\"text-align: right;\">\n",
       "      <th></th>\n",
       "      <th>Name</th>\n",
       "      <th>Age</th>\n",
       "      <th>score</th>\n",
       "    </tr>\n",
       "  </thead>\n",
       "  <tbody>\n",
       "    <tr>\n",
       "      <th>0</th>\n",
       "      <td>Kobkiat</td>\n",
       "      <td>25</td>\n",
       "      <td>35</td>\n",
       "    </tr>\n",
       "    <tr>\n",
       "      <th>1</th>\n",
       "      <td>ฌิแนน</td>\n",
       "      <td>22</td>\n",
       "      <td>26</td>\n",
       "    </tr>\n",
       "    <tr>\n",
       "      <th>2</th>\n",
       "      <td>จอร์น</td>\n",
       "      <td>25</td>\n",
       "      <td>32</td>\n",
       "    </tr>\n",
       "    <tr>\n",
       "      <th>3</th>\n",
       "      <td>Tim</td>\n",
       "      <td>35</td>\n",
       "      <td>29</td>\n",
       "    </tr>\n",
       "    <tr>\n",
       "      <th>4</th>\n",
       "      <td>Steal</td>\n",
       "      <td>32</td>\n",
       "      <td>27</td>\n",
       "    </tr>\n",
       "  </tbody>\n",
       "</table>\n",
       "</div>"
      ],
      "text/plain": [
       "      Name  Age  score\n",
       "0  Kobkiat   25     35\n",
       "1    ฌิแนน   22     26\n",
       "2    จอร์น   25     32\n",
       "3      Tim   35     29\n",
       "4    Steal   32     27"
      ]
     },
     "execution_count": 123,
     "metadata": {},
     "output_type": "execute_result"
    }
   ],
   "source": [
    "import pandas as pd\n",
    "\n",
    "names = ['Kobkiat','ฌิแนน','จอร์น','Tim','Steal']\n",
    "ages = [25,22,25,35,32]\n",
    "scores = [35,26,32,29,27]\n",
    "cols = ['Name','Age','Score']\n",
    "\n",
    "name_series = pd.Series(names)\n",
    "age_series = pd.Series(ages)\n",
    "score_series = pd.Series(scores)\n",
    "\n",
    "frame = {'Name':name_series,\n",
    "        'Age':age_series,\n",
    "        'score':score_series}\n",
    "\n",
    "df = pd.DataFrame(frame)\n",
    "df\n"
   ]
  },
  {
   "cell_type": "code",
   "execution_count": 124,
   "id": "f2fb714d-8ca1-45d5-9a72-7b008104c35d",
   "metadata": {},
   "outputs": [
    {
     "data": {
      "text/html": [
       "<div>\n",
       "<style scoped>\n",
       "    .dataframe tbody tr th:only-of-type {\n",
       "        vertical-align: middle;\n",
       "    }\n",
       "\n",
       "    .dataframe tbody tr th {\n",
       "        vertical-align: top;\n",
       "    }\n",
       "\n",
       "    .dataframe thead th {\n",
       "        text-align: right;\n",
       "    }\n",
       "</style>\n",
       "<table border=\"1\" class=\"dataframe\">\n",
       "  <thead>\n",
       "    <tr style=\"text-align: right;\">\n",
       "      <th></th>\n",
       "      <th>StudentName</th>\n",
       "    </tr>\n",
       "  </thead>\n",
       "  <tbody>\n",
       "    <tr>\n",
       "      <th>0</th>\n",
       "      <td>Kobkiat</td>\n",
       "    </tr>\n",
       "    <tr>\n",
       "      <th>1</th>\n",
       "      <td>ฌิแนน</td>\n",
       "    </tr>\n",
       "    <tr>\n",
       "      <th>2</th>\n",
       "      <td>จอร์น</td>\n",
       "    </tr>\n",
       "    <tr>\n",
       "      <th>3</th>\n",
       "      <td>Tim</td>\n",
       "    </tr>\n",
       "    <tr>\n",
       "      <th>4</th>\n",
       "      <td>Steal</td>\n",
       "    </tr>\n",
       "  </tbody>\n",
       "</table>\n",
       "</div>"
      ],
      "text/plain": [
       "  StudentName\n",
       "0     Kobkiat\n",
       "1       ฌิแนน\n",
       "2       จอร์น\n",
       "3         Tim\n",
       "4       Steal"
      ]
     },
     "execution_count": 124,
     "metadata": {},
     "output_type": "execute_result"
    }
   ],
   "source": [
    "names = ['Kobkiat','ฌิแนน','จอร์น','Tim','Steal']\n",
    "ages = [25,22,25,35,32]\n",
    "scores = [35,26,32,29,27]\n",
    "cols = ['Name','Age','Score']\n",
    "\n",
    "\n",
    "frame = {'Name':name_series,\n",
    "        'Age':age_series,\n",
    "        'score':score_series}\n",
    "\n",
    "df = pd.DataFrame(frame)\n",
    "name_series = pd.Series(names)\n",
    "df = name_series.to_frame(name='StudentName')\n",
    "df"
   ]
  },
  {
   "cell_type": "code",
   "execution_count": 125,
   "id": "1e2faa65-2803-4f8c-a738-35fabfc01c11",
   "metadata": {
    "tags": []
   },
   "outputs": [],
   "source": [
    "filepath = 'mydata02.csv'"
   ]
  },
  {
   "cell_type": "code",
   "execution_count": 126,
   "id": "da8c63d9-4d11-442b-b51c-6af13b094e5a",
   "metadata": {},
   "outputs": [],
   "source": [
    "df.to_csv(filepath)"
   ]
  },
  {
   "cell_type": "code",
   "execution_count": 127,
   "id": "77847c20-47e6-4c3f-a310-9622b1f2e968",
   "metadata": {},
   "outputs": [],
   "source": [
    "df.to_csv(filepath, index_label=\"id\")"
   ]
  },
  {
   "cell_type": "code",
   "execution_count": 128,
   "id": "2b329844-035b-4bfa-b3c4-83bbeafb18e8",
   "metadata": {},
   "outputs": [],
   "source": [
    "df.to_csv(filepath, index=False)"
   ]
  },
  {
   "cell_type": "code",
   "execution_count": 129,
   "id": "5fed7afa-63b6-4fa4-82a3-b2ba220a5937",
   "metadata": {},
   "outputs": [],
   "source": [
    "df.to_csv(filepath, index=False, header=False)"
   ]
  },
  {
   "cell_type": "code",
   "execution_count": 130,
   "id": "ceb51d40-5e97-4368-a2eb-38dc973343e1",
   "metadata": {},
   "outputs": [],
   "source": [
    "# uri = 'data/score_ageb.xlsx'\n",
    "# df = pd.read_excel(uri)\n",
    "# cols = ['Name','Age']\n",
    "# df.to_csv('data/testfile.csv', index=False, columns=cols)"
   ]
  },
  {
   "cell_type": "code",
   "execution_count": 131,
   "id": "2b601cbe-f121-4ddc-a0c8-a55464e105f2",
   "metadata": {},
   "outputs": [
    {
     "name": "stdout",
     "output_type": "stream",
     "text": [
      "Collecting package metadata (current_repodata.json): done\n",
      "Solving environment: done\n",
      "\n",
      "\n",
      "==> WARNING: A newer version of conda exists. <==\n",
      "  current version: 22.9.0\n",
      "  latest version: 23.3.1\n",
      "\n",
      "Please update conda by running\n",
      "\n",
      "    $ conda update -n base -c defaults conda\n",
      "\n",
      "\n",
      "\n",
      "# All requested packages already installed.\n",
      "\n",
      "Retrieving notices: ...working... done\n",
      "\n",
      "Note: you may need to restart the kernel to use updated packages.\n"
     ]
    }
   ],
   "source": [
    "conda install openpyxl"
   ]
  },
  {
   "cell_type": "code",
   "execution_count": 132,
   "id": "36c155c8-f958-4525-9c01-4dfe3b0bfd80",
   "metadata": {},
   "outputs": [],
   "source": [
    "filepath = 'myfile.xlsx'\n",
    "writer = pd.ExcelWriter(filepath)\n",
    "df.to_excel(writer, 'MySheet1',index=False)\n",
    "writer.save()"
   ]
  },
  {
   "cell_type": "code",
   "execution_count": 133,
   "id": "85a72585-79d2-4617-bb86-4d7c36ac115e",
   "metadata": {},
   "outputs": [
    {
     "data": {
      "text/html": [
       "<div>\n",
       "<style scoped>\n",
       "    .dataframe tbody tr th:only-of-type {\n",
       "        vertical-align: middle;\n",
       "    }\n",
       "\n",
       "    .dataframe tbody tr th {\n",
       "        vertical-align: top;\n",
       "    }\n",
       "\n",
       "    .dataframe thead th {\n",
       "        text-align: right;\n",
       "    }\n",
       "</style>\n",
       "<table border=\"1\" class=\"dataframe\">\n",
       "  <thead>\n",
       "    <tr style=\"text-align: right;\">\n",
       "      <th></th>\n",
       "      <th>StudentName</th>\n",
       "    </tr>\n",
       "  </thead>\n",
       "  <tbody>\n",
       "    <tr>\n",
       "      <th>0</th>\n",
       "      <td>Kobkiat</td>\n",
       "    </tr>\n",
       "    <tr>\n",
       "      <th>1</th>\n",
       "      <td>ฌิแนน</td>\n",
       "    </tr>\n",
       "    <tr>\n",
       "      <th>2</th>\n",
       "      <td>จอร์น</td>\n",
       "    </tr>\n",
       "    <tr>\n",
       "      <th>3</th>\n",
       "      <td>Tim</td>\n",
       "    </tr>\n",
       "    <tr>\n",
       "      <th>4</th>\n",
       "      <td>Steal</td>\n",
       "    </tr>\n",
       "  </tbody>\n",
       "</table>\n",
       "</div>"
      ],
      "text/plain": [
       "  StudentName\n",
       "0     Kobkiat\n",
       "1       ฌิแนน\n",
       "2       จอร์น\n",
       "3         Tim\n",
       "4       Steal"
      ]
     },
     "execution_count": 133,
     "metadata": {},
     "output_type": "execute_result"
    }
   ],
   "source": [
    "import pandas as pd \n",
    "df = pd.read_excel(filepath)\n",
    "df "
   ]
  },
  {
   "cell_type": "code",
   "execution_count": null,
   "id": "e3a723a7-bc40-4a0f-b795-38cc8478c8b1",
   "metadata": {},
   "outputs": [],
   "source": []
  },
  {
   "cell_type": "code",
   "execution_count": null,
   "id": "fe9c0c74-475d-4ee0-b9aa-070dd162bc63",
   "metadata": {},
   "outputs": [],
   "source": []
  },
  {
   "cell_type": "code",
   "execution_count": null,
   "id": "60fe7f39-49be-41b0-a569-45f0ceb8e667",
   "metadata": {},
   "outputs": [],
   "source": []
  },
  {
   "cell_type": "code",
   "execution_count": null,
   "id": "6c7a945a-fe78-4f09-9b57-881e86bf8806",
   "metadata": {},
   "outputs": [],
   "source": []
  },
  {
   "cell_type": "code",
   "execution_count": null,
   "id": "e639c21e-5bf8-4951-8f4a-65897a25ae79",
   "metadata": {},
   "outputs": [],
   "source": []
  },
  {
   "cell_type": "code",
   "execution_count": null,
   "id": "b568c58f-250f-47c1-9e88-3289c9325630",
   "metadata": {},
   "outputs": [],
   "source": []
  },
  {
   "cell_type": "code",
   "execution_count": null,
   "id": "10d8bfb7-29fa-4f0c-8a10-77e67be6b536",
   "metadata": {},
   "outputs": [],
   "source": []
  }
 ],
 "metadata": {
  "kernelspec": {
   "display_name": "Python 3 (ipykernel)",
   "language": "python",
   "name": "python3"
  },
  "language_info": {
   "codemirror_mode": {
    "name": "ipython",
    "version": 3
   },
   "file_extension": ".py",
   "mimetype": "text/x-python",
   "name": "python",
   "nbconvert_exporter": "python",
   "pygments_lexer": "ipython3",
   "version": "3.9.13"
  }
 },
 "nbformat": 4,
 "nbformat_minor": 5
}
