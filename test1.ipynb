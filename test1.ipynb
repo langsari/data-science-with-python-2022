{
 "cells": [
  {
   "cell_type": "code",
   "execution_count": 1,
   "metadata": {},
   "outputs": [
    {
     "name": "stdout",
     "output_type": "stream",
     "text": [
      "Python 3.9.13\n",
      "Assalam mualaikum\n"
     ]
    }
   ],
   "source": [
    "!python --version\n",
    "print(\"Assalam mualaikum\")"
   ]
  },
  {
   "cell_type": "code",
   "execution_count": 1,
   "metadata": {},
   "outputs": [],
   "source": [
    "import random\n",
    "foodList = (\"ไข่เจียว\",\"ผัดไท\",\"กะเพรา\")\n",
    "checker = \"y\""
   ]
  },
  {
   "cell_type": "code",
   "execution_count": 2,
   "metadata": {},
   "outputs": [
    {
     "name": "stdout",
     "output_type": "stream",
     "text": [
      "เสียมซีเสี่ยงทายเมนู: ไข่เจียว\n",
      "เสียมซีเสี่ยงทายเมนู: ผัดไท\n",
      "เสียมซีเสี่ยงทายเมนู: ผัดไท\n",
      "เสียมซีเสี่ยงทายเมนู: ไข่เจียว\n"
     ]
    }
   ],
   "source": [
    "while True:\n",
    "    if checker == \"y\":\n",
    "        menu = random.choice(foodList)\n",
    "        print(\"เสียมซีเสี่ยงทายเมนู:\", menu)\n",
    "        checker = input(\"เสี่ยทายอีกครั้งมั้ย (y อีกครั้ง n ไม่):\")\n",
    "    else:\n",
    "        break "
   ]
  },
  {
   "cell_type": "code",
   "execution_count": null,
   "metadata": {},
   "outputs": [],
   "source": []
  }
 ],
 "metadata": {
  "kernelspec": {
   "display_name": "Python 3.9.13 ('base')",
   "language": "python",
   "name": "python3"
  },
  "language_info": {
   "codemirror_mode": {
    "name": "ipython",
    "version": 3
   },
   "file_extension": ".py",
   "mimetype": "text/x-python",
   "name": "python",
   "nbconvert_exporter": "python",
   "pygments_lexer": "ipython3",
   "version": "3.9.13"
  },
  "orig_nbformat": 4,
  "vscode": {
   "interpreter": {
    "hash": "c14828a1509bb290547294b888b4812cafbfe86ef965be24dcdd99fa6550db58"
   }
  }
 },
 "nbformat": 4,
 "nbformat_minor": 2
}
