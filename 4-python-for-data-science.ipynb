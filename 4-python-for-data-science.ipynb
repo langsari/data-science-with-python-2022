{
 "cells": [
  {
   "cell_type": "markdown",
   "metadata": {},
   "source": [
    "# Python for Data Science"
   ]
  },
  {
   "cell_type": "markdown",
   "metadata": {},
   "source": [
    "## Python Basic for working with data"
   ]
  },
  {
   "cell_type": "markdown",
   "metadata": {},
   "source": [
    "Python https://www.python.org/\n",
    "\n",
    "Zen of Python https://legacy.python.org/dev/peps/pep-0020/"
   ]
  },
  {
   "cell_type": "markdown",
   "metadata": {},
   "source": [
    "## Whitespace Formatting"
   ]
  },
  {
   "cell_type": "markdown",
   "metadata": {},
   "source": [
    "Many languages use curly braces `{ }`, to delimit blocks of code. Python uses `indentation`"
   ]
  },
  {
   "cell_type": "code",
   "execution_count": 3,
   "metadata": {
    "collapsed": true
   },
   "outputs": [
    {
     "name": "stdout",
     "output_type": "stream",
     "text": [
      "1\n",
      "1\n",
      "2\n",
      "2\n",
      "3\n",
      "3\n",
      "4\n",
      "4\n",
      "5\n",
      "5\n",
      "6\n",
      "1\n",
      "2\n",
      "1\n",
      "3\n",
      "2\n",
      "4\n",
      "3\n",
      "5\n",
      "4\n",
      "6\n",
      "5\n",
      "7\n",
      "2\n",
      "3\n",
      "1\n",
      "4\n",
      "2\n",
      "5\n",
      "3\n",
      "6\n",
      "4\n",
      "7\n",
      "5\n",
      "8\n",
      "3\n",
      "4\n",
      "1\n",
      "5\n",
      "2\n",
      "6\n",
      "3\n",
      "7\n",
      "4\n",
      "8\n",
      "5\n",
      "9\n",
      "4\n",
      "5\n",
      "1\n",
      "6\n",
      "2\n",
      "7\n",
      "3\n",
      "8\n",
      "4\n",
      "9\n",
      "5\n",
      "10\n",
      "5\n"
     ]
    }
   ],
   "source": [
    "for i in [1, 2, 3, 4, 5]:\n",
    "    print(i)                    # first line in \"for i\" block\n",
    "    for j in [1, 2, 3, 4, 5]:\n",
    "        print(j)                # first line in \"for j\" block\n",
    "        print(i + j)            # last line in \"for j\" block\n",
    "    print(i)                    # last line in \"for i\" block\n",
    "# print(\"done looping\")"
   ]
  },
  {
   "cell_type": "code",
   "execution_count": 2,
   "metadata": {},
   "outputs": [],
   "source": [
    "long_winded_computation = (1 + 2 + 3 + 4 + 5 + 6 + 7 + 8 + 9 + 10 + 11 + 12 +\n",
    "                           \n",
    "                           \n",
    "                           \n",
    "                           13 + 14 + 15 + 16 + 17 + 18 + 19 + 20)"
   ]
  },
  {
   "cell_type": "code",
   "execution_count": 4,
   "metadata": {},
   "outputs": [],
   "source": [
    "list_of_lists = [[1, 2, 3], [4, 5, 6], [7, 8, 9]]"
   ]
  },
  {
   "cell_type": "code",
   "execution_count": 5,
   "metadata": {},
   "outputs": [],
   "source": [
    "easier_to_read_list_of_lists = [[1, 2, 3],\n",
    "                                [4, 5, 6],\n",
    "                                [7, 8, 9]]"
   ]
  },
  {
   "cell_type": "code",
   "execution_count": 6,
   "metadata": {},
   "outputs": [],
   "source": [
    "two_plus_three = 2 + \\\n",
    "                 3"
   ]
  },
  {
   "cell_type": "code",
   "execution_count": 7,
   "metadata": {
    "collapsed": true
   },
   "outputs": [
    {
     "name": "stdout",
     "output_type": "stream",
     "text": [
      "1\n",
      "2\n",
      "3\n",
      "4\n",
      "5\n"
     ]
    }
   ],
   "source": [
    "for i in [1, 2, 3, 4, 5]:\n",
    "\n",
    "    \n",
    "    # notice the blank line\n",
    "    print(i)"
   ]
  },
  {
   "cell_type": "markdown",
   "metadata": {},
   "source": [
    "## Module"
   ]
  },
  {
   "cell_type": "markdown",
   "metadata": {},
   "source": [
    "Certain features of Python are not loaded by default. These include both features that are included as part of the language as well as third-party features that you download yourself. In order to use these features, you’ll need to import the modules that contain them."
   ]
  },
  {
   "cell_type": "code",
   "execution_count": 38,
   "metadata": {},
   "outputs": [],
   "source": [
    "import re\n",
    "my_regex = re.compile(\"[0-9]+\", re.I)"
   ]
  },
  {
   "cell_type": "code",
   "execution_count": 39,
   "metadata": {},
   "outputs": [],
   "source": [
    "import re as regex\n",
    "my_regex = regex.compile(\"[0-9]+\", regex.I)"
   ]
  },
  {
   "cell_type": "code",
   "execution_count": 40,
   "metadata": {},
   "outputs": [],
   "source": [
    "from collections import defaultdict, Counter\n",
    "lookup = defaultdict(int)\n",
    "my_counter = Counter()"
   ]
  },
  {
   "cell_type": "code",
   "execution_count": 41,
   "metadata": {
    "scrolled": true
   },
   "outputs": [
    {
     "name": "stdout",
     "output_type": "stream",
     "text": [
      "<function match at 0x10d3447b8>\n"
     ]
    }
   ],
   "source": [
    "match = 10\n",
    "from re import *    # uh oh, re has a match function\n",
    "print(match)        # \"<function match at 0x10281e6a8>\""
   ]
  },
  {
   "cell_type": "code",
   "execution_count": 51,
   "metadata": {},
   "outputs": [],
   "source": [
    "import numpy as np\n",
    "import pandas as pd\n",
    "import matplotlib.pyplot as plt\n",
    "import seaborn as sns\n",
    "import statsmodels as sm"
   ]
  },
  {
   "cell_type": "markdown",
   "metadata": {},
   "source": [
    "## Functions"
   ]
  },
  {
   "cell_type": "markdown",
   "metadata": {},
   "source": [
    "A function is a rule for taking zero or more inputs and returning a corresponding output. In Python, we typically define functions using `def`:"
   ]
  },
  {
   "cell_type": "code",
   "execution_count": 8,
   "metadata": {},
   "outputs": [],
   "source": [
    "def double(x):\n",
    "    \"\"\"\n",
    "    This is where you put an optional docstring that explains what the\n",
    "    function does. For example, this function multiplies its input by 2.\n",
    "    \"\"\"\n",
    "    return x * 2"
   ]
  },
  {
   "cell_type": "code",
   "execution_count": null,
   "metadata": {},
   "outputs": [],
   "source": [
    "def double(x):\n",
    "    y = x * 2\n",
    "    return y"
   ]
  },
  {
   "cell_type": "code",
   "execution_count": 9,
   "metadata": {},
   "outputs": [],
   "source": [
    "def apply_to_one(f):\n",
    "    \"\"\"Calls the function f with 1 as its argument\"\"\"\n",
    "    return f(1)"
   ]
  },
  {
   "cell_type": "code",
   "execution_count": 10,
   "metadata": {},
   "outputs": [],
   "source": [
    "my_double = double             # refers to the previously defined function\n",
    "x = apply_to_one(my_double)    # equals 2\n",
    "\n",
    "assert x == 2"
   ]
  },
  {
   "cell_type": "code",
   "execution_count": 12,
   "metadata": {},
   "outputs": [],
   "source": [
    "y = apply_to_one(lambda x: x + 4)      # equals 5\n",
    "\n",
    "assert y == 5"
   ]
  },
  {
   "cell_type": "code",
   "execution_count": 14,
   "metadata": {},
   "outputs": [],
   "source": [
    "another_double = lambda x: 2 * x       # Don't do this"
   ]
  },
  {
   "cell_type": "code",
   "execution_count": 15,
   "metadata": {},
   "outputs": [],
   "source": [
    "def another_double(x):\n",
    "    \"\"\"Do this instead\"\"\"\n",
    "    return 2 * x"
   ]
  },
  {
   "cell_type": "code",
   "execution_count": 16,
   "metadata": {},
   "outputs": [],
   "source": [
    "def my_print(message = \"my default message\"):\n",
    "    print(message)"
   ]
  },
  {
   "cell_type": "code",
   "execution_count": 17,
   "metadata": {},
   "outputs": [
    {
     "name": "stdout",
     "output_type": "stream",
     "text": [
      "hello\n",
      "my default message\n"
     ]
    }
   ],
   "source": [
    "my_print(\"hello\")   # prints 'hello'\n",
    "my_print()          # prints 'my default message'"
   ]
  },
  {
   "cell_type": "code",
   "execution_count": 18,
   "metadata": {},
   "outputs": [],
   "source": [
    "def full_name(first = \"What's-his-name\", last = \"Something\"):\n",
    "    return first + \" \" + last"
   ]
  },
  {
   "cell_type": "code",
   "execution_count": 19,
   "metadata": {},
   "outputs": [
    {
     "data": {
      "text/plain": [
       "\"What's-his-name Langsari\""
      ]
     },
     "execution_count": 19,
     "metadata": {},
     "output_type": "execute_result"
    }
   ],
   "source": [
    "full_name(\"Kholed\", \"Langsari\")     # \"Kholed Langsari\"\n",
    "full_name(\"Kholed\")             # \"Kholed Something\"\n",
    "full_name(last=\"Langsari\")        # \"What's-his-name Langsari\""
   ]
  },
  {
   "cell_type": "code",
   "execution_count": 21,
   "metadata": {},
   "outputs": [],
   "source": [
    "assert full_name(\"Kholed\", \"Langsari\")     == \"Kholed Langsari\"\n",
    "assert full_name(\"Kholed\")                 == \"Kholed Something\"\n",
    "assert full_name(last=\"Langsari\")          == \"What's-his-name Langsari\""
   ]
  },
  {
   "cell_type": "markdown",
   "metadata": {},
   "source": [
    "## Strings"
   ]
  },
  {
   "cell_type": "markdown",
   "metadata": {},
   "source": [
    "Strings can be delimited by single or double quotation marks (but the quotes have to match):"
   ]
  },
  {
   "cell_type": "code",
   "execution_count": null,
   "metadata": {},
   "outputs": [],
   "source": [
    "# Dynamic data types\n",
    "a = 'data science'\n",
    "b = 1\n",
    "\n",
    "# strong data types\n",
    "str a = 'data science'\n",
    "int b = 1"
   ]
  },
  {
   "cell_type": "code",
   "execution_count": 26,
   "metadata": {},
   "outputs": [],
   "source": [
    "single_quoted_string = 'data \\n science'\n",
    "double_quoted_string = \"data science\""
   ]
  },
  {
   "cell_type": "code",
   "execution_count": 83,
   "metadata": {},
   "outputs": [],
   "source": [
    "tab_string = \"\\t\"       # represents the tab character\n",
    "len(tab_string)         # is 1\n",
    "\n",
    "assert len(tab_string) == 1"
   ]
  },
  {
   "cell_type": "code",
   "execution_count": 82,
   "metadata": {},
   "outputs": [],
   "source": [
    "not_tab_string = r\"\\t\"  # represents the characters '\\' and 't'\n",
    "len(not_tab_string)     # is 2\n",
    "\n",
    "assert len(not_tab_string) == 2"
   ]
  },
  {
   "cell_type": "code",
   "execution_count": 24,
   "metadata": {},
   "outputs": [
    {
     "name": "stdout",
     "output_type": "stream",
     "text": [
      "This is the first line.\n",
      "and this is the second line\n",
      "and this is the third line\n"
     ]
    }
   ],
   "source": [
    "multi_line_string = \"\"\"This is the first line.\n",
    "and this is the second line\n",
    "and this is the third line\"\"\"\n",
    "print(multi_line_string)"
   ]
  },
  {
   "cell_type": "code",
   "execution_count": 25,
   "metadata": {},
   "outputs": [],
   "source": [
    "first_name = \"Kholed\"\n",
    "last_name = \"Langsari\""
   ]
  },
  {
   "cell_type": "code",
   "execution_count": 29,
   "metadata": {},
   "outputs": [],
   "source": [
    "full_name1 = first_name + \" \" + last_name             # string addition\n",
    "full_name2 = \"{0} {1}\".format(first_name, last_name)  # string.format"
   ]
  },
  {
   "cell_type": "code",
   "execution_count": 30,
   "metadata": {},
   "outputs": [],
   "source": [
    "full_name3 = f\"{first_name} {last_name}\""
   ]
  },
  {
   "cell_type": "code",
   "execution_count": null,
   "metadata": {},
   "outputs": [],
   "source": [
    "# uft8 = unicode for all languages"
   ]
  },
  {
   "cell_type": "markdown",
   "metadata": {},
   "source": [
    "## Exceptions"
   ]
  },
  {
   "cell_type": "markdown",
   "metadata": {},
   "source": [
    "When something goes wrong, Python raises an *exception*. Unhandled, exceptions will cause your program to crash. You can handle them using `try` and `except`:"
   ]
  },
  {
   "cell_type": "code",
   "execution_count": 2,
   "metadata": {},
   "outputs": [
    {
     "name": "stdout",
     "output_type": "stream",
     "text": [
      "sorry, cannot divide by zero\n"
     ]
    }
   ],
   "source": [
    "try:\n",
    "    print(0 / 0)\n",
    "except ZeroDivisionError:\n",
    "    print(\"sorry, cannot divide by zero\")"
   ]
  },
  {
   "cell_type": "code",
   "execution_count": 1,
   "metadata": {},
   "outputs": [
    {
     "ename": "ZeroDivisionError",
     "evalue": "division by zero",
     "output_type": "error",
     "traceback": [
      "\u001b[0;31m---------------------------------------------------------------------------\u001b[0m",
      "\u001b[0;31mZeroDivisionError\u001b[0m                         Traceback (most recent call last)",
      "\u001b[0;32m<ipython-input-1-b6c088d31521>\u001b[0m in \u001b[0;36m<module>\u001b[0;34m\u001b[0m\n\u001b[0;32m----> 1\u001b[0;31m \u001b[0mprint\u001b[0m\u001b[0;34m(\u001b[0m\u001b[0;36m0\u001b[0m \u001b[0;34m/\u001b[0m \u001b[0;36m0\u001b[0m\u001b[0;34m)\u001b[0m\u001b[0;34m\u001b[0m\u001b[0;34m\u001b[0m\u001b[0m\n\u001b[0m",
      "\u001b[0;31mZeroDivisionError\u001b[0m: division by zero"
     ]
    }
   ],
   "source": [
    "print(0 / 0)"
   ]
  },
  {
   "cell_type": "markdown",
   "metadata": {},
   "source": [
    "# Lists"
   ]
  },
  {
   "cell_type": "markdown",
   "metadata": {},
   "source": [
    "Probably the most fundamental data structure in Python is the `list`, which is simply an ordered collection (it is similar to what in other languages might be called an array, but with some added functionality): "
   ]
  },
  {
   "cell_type": "code",
   "execution_count": 67,
   "metadata": {},
   "outputs": [],
   "source": [
    "list_empty = []\n",
    "integer_list = [1, 2, 3]\n",
    "heterogeneous_list = [\"string\", 0.1, True]\n",
    "list_of_lists = [integer_list, heterogeneous_list, [], list_empty]\n",
    "\n",
    "list_length = len(integer_list)     # equals 3\n",
    "list_sum    = sum(integer_list)     # equals 6\n",
    "\n",
    "assert list_length == 3\n",
    "assert list_sum == 6"
   ]
  },
  {
   "cell_type": "code",
   "execution_count": 68,
   "metadata": {},
   "outputs": [],
   "source": [
    "x = [0, 1, 2, 3, 4, 5, 6, 7, 8, 9]\n",
    "\n",
    "zero = x[0]          # equals 0, lists are 0-indexed\n",
    "one = x[1]           # equals 1\n",
    "nine = x[-1]         # equals 9, 'Pythonic' for last element\n",
    "eight = x[-2]        # equals 8, 'Pythonic' for next-to-last element\n",
    "x[0] = -1            # now x is [-1, 1, 2, 3, ..., 9]\n",
    "x[10] = 10\n",
    "assert x == [-1, 1, 2, 3, 4, 5, 6, 7, 8, 9, 10]"
   ]
  },
  {
   "cell_type": "code",
   "execution_count": 69,
   "metadata": {},
   "outputs": [],
   "source": [
    "x = [-1, 1, 2, 3, 4, 5, 6, 7, 8, 9]\n",
    "\n",
    "first_three = x[:3]                 # [-1, 1, 2]\n",
    "three_to_end = x[3:]                # [3, 4, ..., 9]\n",
    "one_to_four = x[1:5]                # [1, 2, 3, 4]\n",
    "last_three = x[-3:]                 # [7, 8, 9]\n",
    "without_first_and_last = x[1:-1]    # [1, 2, ..., 8]\n",
    "copy_of_x = x[:]                    # [-1, 1, 2, ..., 9]\n",
    "\n",
    "every_third = x[::3]                 # [-1, 3, 6, 9]\n",
    "five_to_three = x[5:2:-1]            # [5, 4, 3]\n",
    "\n",
    "assert every_third == [-1, 3, 6, 9]\n",
    "assert five_to_three == [5, 4, 3]"
   ]
  },
  {
   "cell_type": "code",
   "execution_count": 70,
   "metadata": {},
   "outputs": [
    {
     "data": {
      "text/plain": [
       "False"
      ]
     },
     "execution_count": 70,
     "metadata": {},
     "output_type": "execute_result"
    }
   ],
   "source": [
    "1 in [1, 2, 3]    # True\n",
    "0 in [1, 2, 3]    # False"
   ]
  },
  {
   "cell_type": "code",
   "execution_count": 72,
   "metadata": {},
   "outputs": [],
   "source": [
    "x = [1, 2, 3]\n",
    "x.extend([4, 5, 6])     # x is now [1, 2, 3, 4, 5, 6]\n",
    "\n",
    "assert x == [1, 2, 3, 4, 5, 6]"
   ]
  },
  {
   "cell_type": "code",
   "execution_count": 75,
   "metadata": {},
   "outputs": [],
   "source": [
    "x = [1, 2, 3]\n",
    "y = x + [4, 5, 6]       # y is [1, 2, 3, 4, 5, 6]; x is unchanged\n",
    "\n",
    "assert x == [1, 2, 3]\n",
    "assert y == [1, 2, 3, 4, 5, 6]"
   ]
  },
  {
   "cell_type": "code",
   "execution_count": 79,
   "metadata": {},
   "outputs": [],
   "source": [
    "x = [1, 2, 3]\n",
    "x.append(0)      # x is now [1, 2, 3, 0]\n",
    "y = x[-1]        # equals 0\n",
    "z = len(x)       # equals 4\n",
    "\n",
    "assert x == [1, 2, 3, 0]\n",
    "assert y == 0\n",
    "assert z == 4"
   ]
  },
  {
   "cell_type": "code",
   "execution_count": 80,
   "metadata": {},
   "outputs": [],
   "source": [
    "x, y = [1, 2]    # now x is 1, y is 2\n",
    "x, y, z = [1, 2, 3]\n",
    "\n",
    "assert x == 1\n",
    "assert y == 2"
   ]
  },
  {
   "cell_type": "code",
   "execution_count": 81,
   "metadata": {},
   "outputs": [],
   "source": [
    "_, y = [1, 2]    # now y == 2, didn't care about the first element"
   ]
  },
  {
   "cell_type": "markdown",
   "metadata": {},
   "source": [
    "## Tuples"
   ]
  },
  {
   "cell_type": "markdown",
   "metadata": {},
   "source": [
    "Tuples are lists’ immutable cousins. Pretty much anything you can do to a list that doesn’t involve modifying it, you can do to a tuple. You specify a tuple by using parentheses (or nothing) instead of square brackets:"
   ]
  },
  {
   "cell_type": "code",
   "execution_count": 84,
   "metadata": {},
   "outputs": [
    {
     "name": "stdout",
     "output_type": "stream",
     "text": [
      "cannot modify a tuple\n"
     ]
    }
   ],
   "source": [
    "my_list = [1, 2]\n",
    "my_tuple = (1, 2)\n",
    "other_tuple = 3, 4\n",
    "my_list[1] = 3      # my_list is now [1, 3]\n",
    "\n",
    "try:\n",
    "    my_tuple[1] = 3\n",
    "except TypeError:\n",
    "    print(\"cannot modify a tuple\")"
   ]
  },
  {
   "cell_type": "code",
   "execution_count": 85,
   "metadata": {},
   "outputs": [],
   "source": [
    "def sum_and_product(x, y):\n",
    "    return (x + y), (x * y)\n",
    "\n",
    "sp = sum_and_product(2, 3)     # sp is (5, 6)\n",
    "s, p = sum_and_product(5, 10)  # s is 15, p is 50"
   ]
  },
  {
   "cell_type": "code",
   "execution_count": 86,
   "metadata": {},
   "outputs": [],
   "source": [
    "x, y = 1, 2     # now x is 1, y is 2\n",
    "x, y = y, x     # Pythonic way to swap variables; now x is 2, y is 1\n",
    "\n",
    "assert x == 2\n",
    "assert y == 1"
   ]
  },
  {
   "cell_type": "markdown",
   "metadata": {},
   "source": [
    "## Dictionaries"
   ]
  },
  {
   "cell_type": "markdown",
   "metadata": {},
   "source": [
    "Another fundamental data structure is a dictionary, which associates *values* with *keys* and allows you to quickly retrieve the value corresponding to a given key:"
   ]
  },
  {
   "cell_type": "code",
   "execution_count": 190,
   "metadata": {},
   "outputs": [],
   "source": [
    "empty_dict = {}                     # Pythonic\n",
    "empty_dict2 = dict()                # less Pythonic\n",
    "grades = {\"Kholed\": 80, \"Muhammad\": 95}    # dictionary literal"
   ]
  },
  {
   "cell_type": "code",
   "execution_count": 191,
   "metadata": {},
   "outputs": [],
   "source": [
    "kholed_grade = grades[\"Kholed\"]        # equals 80\n",
    "\n",
    "\n",
    "assert kholed_grade == 80"
   ]
  },
  {
   "cell_type": "code",
   "execution_count": 192,
   "metadata": {},
   "outputs": [
    {
     "name": "stdout",
     "output_type": "stream",
     "text": [
      "no grade for Someone!\n"
     ]
    }
   ],
   "source": [
    "try:\n",
    "    someone_grade = grades[\"Someone\"]\n",
    "except KeyError:\n",
    "    print(\"no grade for Someone!\")"
   ]
  },
  {
   "cell_type": "code",
   "execution_count": 193,
   "metadata": {},
   "outputs": [],
   "source": [
    "kholed_has_grade = \"Kholed\" in grades     # True\n",
    "someone_has_grade = \"Someone\" in grades     # False\n",
    "\n",
    "\n",
    "assert kholed_has_grade\n",
    "assert not someone_has_grade"
   ]
  },
  {
   "cell_type": "code",
   "execution_count": 194,
   "metadata": {},
   "outputs": [],
   "source": [
    "kholed_grade = grades.get(\"Kholed\", 0)   # equals 80\n",
    "someone_grade = grades.get(\"Someone\", 0)   # equals 0\n",
    "no_ones_grade = grades.get(\"No One\")  # default default is None\n",
    "\n",
    "\n",
    "assert kholed_grade == 80\n",
    "assert someone_grade == 0\n",
    "assert no_ones_grade is None"
   ]
  },
  {
   "cell_type": "code",
   "execution_count": 195,
   "metadata": {
    "scrolled": false
   },
   "outputs": [
    {
     "name": "stdout",
     "output_type": "stream",
     "text": [
      "{'Kholed': 80, 'Muhammad': 99, 'Someone': 100}\n"
     ]
    }
   ],
   "source": [
    "grades[\"Muhammad\"] = 99                    # replaces the old value\n",
    "grades[\"Someone\"] = 100                  # adds a third entry\n",
    "num_students = len(grades)            # equals 3\n",
    "\n",
    "print(grades)\n",
    "assert num_students == 3"
   ]
  },
  {
   "cell_type": "code",
   "execution_count": 1,
   "metadata": {},
   "outputs": [],
   "source": [
    "tweet = {\n",
    "    \"user\" : \"kholedlangsari\",\n",
    "    \"text\" : \"Fundamentals Data Science with Python is Awesome\",\n",
    "    \"retweet_count\" : 100,\n",
    "    \"hashtags\" : [\"#data\", \"#science\", \"#datascience\", \"python\", \"#awesome\", \"#let'sgo\"]\n",
    "}"
   ]
  },
  {
   "cell_type": "code",
   "execution_count": 3,
   "metadata": {},
   "outputs": [
    {
     "name": "stdout",
     "output_type": "stream",
     "text": [
      "dict_keys(['user', 'text', 'retweet_count', 'hashtags'])\n"
     ]
    }
   ],
   "source": [
    "tweet_keys   = tweet.keys()\n",
    "print(tweet_keys)"
   ]
  },
  {
   "cell_type": "code",
   "execution_count": 188,
   "metadata": {},
   "outputs": [],
   "source": [
    "tweet_keys   = tweet.keys()     # iterable for the keys\n",
    "tweet_values = tweet.values()   # iterable for the values\n",
    "tweet_items  = tweet.items()    # iterable for the (key, value) tuples\n",
    "\n",
    "\"user\" in tweet_keys            # True, but not Pythonic\n",
    "\"user\" in tweet                 # Pythonic way of checking for keys\n",
    "\"kholedlangsari\" in tweet_values      # True (slow but the only way to check)\n",
    "\n",
    "\n",
    "assert \"user\" in tweet_keys\n",
    "assert \"user\" in tweet\n",
    "assert \"kholedlangsari\" in tweet_values"
   ]
  },
  {
   "cell_type": "code",
   "execution_count": 4,
   "metadata": {},
   "outputs": [
    {
     "name": "stdout",
     "output_type": "stream",
     "text": [
      "dict_items([('user', 'kholedlangsari'), ('text', 'Fundamentals Data Science with Python is Awesome'), ('retweet_count', 100), ('hashtags', ['#data', '#science', '#datascience', 'python', '#awesome', \"#let'sgo\"])])\n"
     ]
    }
   ],
   "source": [
    "tweet_items  = tweet.items()\n",
    "print(tweet_items)"
   ]
  },
  {
   "cell_type": "markdown",
   "metadata": {},
   "source": [
    "### defaultdict"
   ]
  },
  {
   "cell_type": "code",
   "execution_count": 101,
   "metadata": {},
   "outputs": [],
   "source": [
    "document = [\"fundamentals\", \"data\", \"science\", \"with\", \"python\"]"
   ]
  },
  {
   "cell_type": "code",
   "execution_count": 105,
   "metadata": {},
   "outputs": [],
   "source": [
    "word_counts = {}\n",
    "for word in document:\n",
    "    if word in word_counts:\n",
    "        word_counts[word] += 1\n",
    "    else:\n",
    "        word_counts[word] = 1"
   ]
  },
  {
   "cell_type": "code",
   "execution_count": 106,
   "metadata": {},
   "outputs": [],
   "source": [
    "word_counts = {}\n",
    "for word in document:\n",
    "    try:\n",
    "        word_counts[word] += 1\n",
    "    except KeyError:\n",
    "        word_counts[word] = 1"
   ]
  },
  {
   "cell_type": "code",
   "execution_count": 107,
   "metadata": {},
   "outputs": [],
   "source": [
    "word_counts = {}\n",
    "for word in document:\n",
    "    previous_count = word_counts.get(word, 0)\n",
    "    word_counts[word] = previous_count + 1"
   ]
  },
  {
   "cell_type": "code",
   "execution_count": 108,
   "metadata": {},
   "outputs": [],
   "source": [
    "from collections import defaultdict\n",
    "\n",
    "word_counts = defaultdict(int)          # int() produces 0\n",
    "for word in document:\n",
    "    word_counts[word] += 1"
   ]
  },
  {
   "cell_type": "code",
   "execution_count": 189,
   "metadata": {},
   "outputs": [],
   "source": [
    "dd_list = defaultdict(list)             # list() produces an empty list\n",
    "dd_list[2].append(1)                    # now dd_list contains {2: [1]}\n",
    "\n",
    "dd_dict = defaultdict(dict)             # dict() produces an empty dict\n",
    "dd_dict[\"Kholed\"][\"City\"] = \"Yala\"     # {\"Kholed\" : {\"City\": Yala\"}}\n",
    "\n",
    "dd_pair = defaultdict(lambda: [0, 0])\n",
    "dd_pair[2][1] = 1                       # now dd_pair contains {2: [0, 1]}"
   ]
  },
  {
   "cell_type": "markdown",
   "metadata": {},
   "source": [
    "## Counters"
   ]
  },
  {
   "cell_type": "markdown",
   "metadata": {},
   "source": [
    "A `Counter` turns a sequence of values into a `defaultdict(int)`-like object mapping keys to counts:"
   ]
  },
  {
   "cell_type": "code",
   "execution_count": 111,
   "metadata": {},
   "outputs": [],
   "source": [
    "document = [\"big\", \"data\", \"engineering\", \"with\", \"big\", \"python\"]"
   ]
  },
  {
   "cell_type": "code",
   "execution_count": 112,
   "metadata": {},
   "outputs": [],
   "source": [
    "from collections import Counter\n",
    "c = Counter([0, 1, 2, 0])          # c is (basically) {0: 2, 1: 1, 2: 1}"
   ]
  },
  {
   "cell_type": "code",
   "execution_count": 114,
   "metadata": {},
   "outputs": [],
   "source": [
    "# recall, document is a list of words\n",
    "word_counts = Counter(document)"
   ]
  },
  {
   "cell_type": "code",
   "execution_count": 115,
   "metadata": {},
   "outputs": [
    {
     "name": "stdout",
     "output_type": "stream",
     "text": [
      "big 2\n",
      "data 1\n",
      "engineering 1\n",
      "with 1\n",
      "python 1\n"
     ]
    }
   ],
   "source": [
    "# print the 10 most common words and their counts\n",
    "for word, count in word_counts.most_common(10):\n",
    "    print(word, count)"
   ]
  },
  {
   "cell_type": "markdown",
   "metadata": {},
   "source": [
    "## Sets"
   ]
  },
  {
   "cell_type": "markdown",
   "metadata": {},
   "source": [
    "Another useful data structure is set, which represents a collection of *distinct* elements. You can define a set by listing its elements between curly braces:"
   ]
  },
  {
   "cell_type": "code",
   "execution_count": 116,
   "metadata": {},
   "outputs": [],
   "source": [
    "primes_below_10 = {2, 3, 5, 7}"
   ]
  },
  {
   "cell_type": "code",
   "execution_count": 117,
   "metadata": {},
   "outputs": [],
   "source": [
    "s = set()\n",
    "s.add(1)       # s is now {1}\n",
    "s.add(2)       # s is now {1, 2}\n",
    "s.add(2)       # s is still {1, 2}\n",
    "x = len(s)     # equals 2\n",
    "y = 2 in s     # equals True\n",
    "z = 3 in s     # equals False"
   ]
  },
  {
   "cell_type": "code",
   "execution_count": 118,
   "metadata": {},
   "outputs": [
    {
     "data": {
      "text/plain": [
       "False"
      ]
     },
     "execution_count": 118,
     "metadata": {},
     "output_type": "execute_result"
    }
   ],
   "source": [
    "hundreds_of_other_words = []  # required for the below code to run\n",
    "\n",
    "stopwords_list = [\"a\", \"an\", \"at\"] + hundreds_of_other_words + [\"yet\", \"you\"]\n",
    "\n",
    "\"zip\" in stopwords_list     # False, but have to check every element\n",
    "\n",
    "stopwords_set = set(stopwords_list)\n",
    "\"zip\" in stopwords_set      # very fast to check"
   ]
  },
  {
   "cell_type": "code",
   "execution_count": 119,
   "metadata": {},
   "outputs": [],
   "source": [
    "item_list = [1, 2, 3, 1, 2, 3]\n",
    "num_items = len(item_list)                # 6\n",
    "item_set = set(item_list)                 # {1, 2, 3}\n",
    "num_distinct_items = len(item_set)        # 3\n",
    "distinct_item_list = list(item_set)       # [1, 2, 3]\n",
    "\n",
    "\n",
    "assert num_items == 6\n",
    "assert item_set == {1, 2, 3}\n",
    "assert num_distinct_items == 3\n",
    "assert distinct_item_list == [1, 2, 3]"
   ]
  },
  {
   "cell_type": "markdown",
   "metadata": {},
   "source": [
    "## Control Flow"
   ]
  },
  {
   "cell_type": "markdown",
   "metadata": {},
   "source": [
    "As in most programming languages, you can perform an action conditionally using `if` `while` and `for` "
   ]
  },
  {
   "cell_type": "code",
   "execution_count": 120,
   "metadata": {},
   "outputs": [],
   "source": [
    "if 1 > 2:\n",
    "    message = \"if only 1 were greater than two...\"\n",
    "elif 1 > 3:\n",
    "    message = \"elif stands for 'else if'\"\n",
    "else:\n",
    "    message = \"when all else fails use else (if you want to)\""
   ]
  },
  {
   "cell_type": "code",
   "execution_count": 121,
   "metadata": {},
   "outputs": [],
   "source": [
    "parity = \"even\" if x % 2 == 0 else \"odd\""
   ]
  },
  {
   "cell_type": "code",
   "execution_count": 123,
   "metadata": {},
   "outputs": [
    {
     "name": "stdout",
     "output_type": "stream",
     "text": [
      "0 is less than 10\n",
      "1 is less than 10\n",
      "2 is less than 10\n",
      "3 is less than 10\n",
      "4 is less than 10\n",
      "5 is less than 10\n",
      "6 is less than 10\n",
      "7 is less than 10\n",
      "8 is less than 10\n",
      "9 is less than 10\n"
     ]
    }
   ],
   "source": [
    "x = 0\n",
    "while x < 10:\n",
    "    print(f\"{x} is less than 10\")\n",
    "    x += 1"
   ]
  },
  {
   "cell_type": "code",
   "execution_count": 124,
   "metadata": {},
   "outputs": [
    {
     "name": "stdout",
     "output_type": "stream",
     "text": [
      "0 is less than 10\n",
      "1 is less than 10\n",
      "2 is less than 10\n",
      "3 is less than 10\n",
      "4 is less than 10\n",
      "5 is less than 10\n",
      "6 is less than 10\n",
      "7 is less than 10\n",
      "8 is less than 10\n",
      "9 is less than 10\n"
     ]
    }
   ],
   "source": [
    "# range(10) is the numbers 0, 1, ..., 9\n",
    "for x in range(10):\n",
    "    print(f\"{x} is less than 10\")"
   ]
  },
  {
   "cell_type": "code",
   "execution_count": 125,
   "metadata": {},
   "outputs": [
    {
     "name": "stdout",
     "output_type": "stream",
     "text": [
      "0\n",
      "1\n",
      "2\n",
      "4\n"
     ]
    }
   ],
   "source": [
    "for x in range(10):\n",
    "    if x == 3:\n",
    "        continue  # go immediately to the next iteration\n",
    "    if x == 5:\n",
    "        break     # quit the loop entirely\n",
    "    print(x)"
   ]
  },
  {
   "cell_type": "markdown",
   "metadata": {},
   "source": [
    "## Truthiness"
   ]
  },
  {
   "cell_type": "markdown",
   "metadata": {},
   "source": [
    "Booleans in Python work as in most other languages, except that they’re capitalized:"
   ]
  },
  {
   "cell_type": "code",
   "execution_count": 126,
   "metadata": {},
   "outputs": [],
   "source": [
    "one_is_less_than_two = 1 < 2          # equals True\n",
    "true_equals_false = True == False     # equals False\n",
    "\n",
    "\n",
    "assert one_is_less_than_two\n",
    "assert not true_equals_false"
   ]
  },
  {
   "cell_type": "code",
   "execution_count": 127,
   "metadata": {},
   "outputs": [],
   "source": [
    "x = None\n",
    "assert x == None, \"this is the not the Pythonic way to check for None\"\n",
    "assert x is None, \"this is the Pythonic way to check for None\""
   ]
  },
  {
   "cell_type": "code",
   "execution_count": 128,
   "metadata": {},
   "outputs": [],
   "source": [
    "def some_function_that_returns_a_string():\n",
    "    return \"\""
   ]
  },
  {
   "cell_type": "code",
   "execution_count": 129,
   "metadata": {},
   "outputs": [],
   "source": [
    "s = some_function_that_returns_a_string()\n",
    "if s:\n",
    "    first_char = s[0]\n",
    "else:\n",
    "    first_char = \"\""
   ]
  },
  {
   "cell_type": "code",
   "execution_count": 130,
   "metadata": {},
   "outputs": [],
   "source": [
    "first_char = s and s[0]"
   ]
  },
  {
   "cell_type": "code",
   "execution_count": 131,
   "metadata": {},
   "outputs": [],
   "source": [
    "safe_x = x or 0"
   ]
  },
  {
   "cell_type": "code",
   "execution_count": 132,
   "metadata": {},
   "outputs": [],
   "source": [
    "safe_x = x if x is not None else 0"
   ]
  },
  {
   "cell_type": "code",
   "execution_count": 133,
   "metadata": {},
   "outputs": [
    {
     "data": {
      "text/plain": [
       "False"
      ]
     },
     "execution_count": 133,
     "metadata": {},
     "output_type": "execute_result"
    }
   ],
   "source": [
    "all([True, 1, {3}])   # True, all are truthy\n",
    "all([True, 1, {}])    # False, {} is falsy\n",
    "any([True, 1, {}])    # True, True is truthy\n",
    "all([])               # True, no falsy elements in the list\n",
    "any([])               # False, no truthy elements in the list"
   ]
  },
  {
   "cell_type": "markdown",
   "metadata": {},
   "source": [
    "## More advanced Python features\n",
    "that useful for working with data"
   ]
  },
  {
   "cell_type": "markdown",
   "metadata": {},
   "source": [
    "## Sorting"
   ]
  },
  {
   "cell_type": "markdown",
   "metadata": {},
   "source": [
    "Every Python list has a `sort` method that sorts it in place. If you don’t want to mess up your list, you can use the `sorted` function, which returns a new list:"
   ]
  },
  {
   "cell_type": "code",
   "execution_count": 196,
   "metadata": {},
   "outputs": [],
   "source": [
    "x = [4, 1, 2, 3]\n",
    "y = sorted(x)     # y is [1, 2, 3, 4], x is unchanged\n",
    "x.sort()          # now x is [1, 2, 3, 4]"
   ]
  },
  {
   "cell_type": "code",
   "execution_count": 197,
   "metadata": {},
   "outputs": [],
   "source": [
    "\n",
    "# sort the list by absolute value from largest to smallest\n",
    "x = sorted([-4, 1, -2, 3], key=abs, reverse=True)  # is [-4, 3, -2, 1]\n",
    "\n",
    "# sort the words and counts from highest count to lowest\n",
    "wc = sorted(word_counts.items(),\n",
    "            key=lambda word_and_count: word_and_count[1],\n",
    "            reverse=True)"
   ]
  },
  {
   "cell_type": "markdown",
   "metadata": {},
   "source": [
    "## List Comprehensions"
   ]
  },
  {
   "cell_type": "markdown",
   "metadata": {},
   "source": [
    "Frequently, you’ll want to transform a list into another list by choosing only certain elements, by transforming elements, or both. The Pythonic way to do this is with *list comprehensions*:"
   ]
  },
  {
   "cell_type": "code",
   "execution_count": 198,
   "metadata": {},
   "outputs": [],
   "source": [
    "even_numbers = [x for x in range(5) if x % 2 == 0]  # [0, 2, 4]\n",
    "squares      = [x * x for x in range(5)]            # [0, 1, 4, 9, 16]\n",
    "even_squares = [x * x for x in even_numbers]        # [0, 4, 16]\n",
    "\n",
    "\n",
    "assert even_numbers == [0, 2, 4]\n",
    "assert squares == [0, 1, 4, 9, 16]\n",
    "assert even_squares == [0, 4, 16]"
   ]
  },
  {
   "cell_type": "code",
   "execution_count": 199,
   "metadata": {},
   "outputs": [],
   "source": [
    "square_dict = {x: x * x for x in range(5)}  # {0: 0, 1: 1, 2: 4, 3: 9, 4: 16}\n",
    "square_set  = {x * x for x in [1, -1]}      # {1}\n",
    "\n",
    "\n",
    "assert square_dict == {0: 0, 1: 1, 2: 4, 3: 9, 4: 16}\n",
    "assert square_set == {1}"
   ]
  },
  {
   "cell_type": "code",
   "execution_count": 200,
   "metadata": {},
   "outputs": [],
   "source": [
    "zeros = [0 for _ in even_numbers]      # has the same length as even_numbers\n",
    "\n",
    "\n",
    "assert zeros == [0, 0, 0]"
   ]
  },
  {
   "cell_type": "code",
   "execution_count": 201,
   "metadata": {},
   "outputs": [],
   "source": [
    "pairs = [(x, y)\n",
    "         for x in range(10)\n",
    "         for y in range(10)]   # 100 pairs (0,0) (0,1) ... (9,8), (9,9)\n",
    "\n",
    "\n",
    "assert len(pairs) == 100"
   ]
  },
  {
   "cell_type": "code",
   "execution_count": 52,
   "metadata": {},
   "outputs": [],
   "source": [
    "increasing_pairs = [(x, y)                       # only pairs with x < y,\n",
    "                    for x in range(10)           # range(lo, hi) equals\n",
    "                    for y in range(x + 1, 10)]   # [lo, lo + 1, ..., hi - 1]\n",
    "\n",
    "\n",
    "assert len(increasing_pairs) == 9 + 8 + 7 + 6 + 5 + 4 + 3 + 2 + 1\n",
    "assert all(x < y for x, y in increasing_pairs)"
   ]
  },
  {
   "cell_type": "markdown",
   "metadata": {},
   "source": [
    "## Automated Testing and assert"
   ]
  },
  {
   "cell_type": "markdown",
   "metadata": {},
   "source": [
    "As data scientists, we’ll be writing a lot of code. How can we be confident our code is correct? One way is with *types* (discussed shortly), but another way is with *automated tests*."
   ]
  },
  {
   "cell_type": "code",
   "execution_count": 202,
   "metadata": {},
   "outputs": [],
   "source": [
    "assert 1 + 1 == 2\n",
    "assert 1 + 1 == 2, \"1 + 1 should equal 2 but didn't\""
   ]
  },
  {
   "cell_type": "code",
   "execution_count": 203,
   "metadata": {},
   "outputs": [],
   "source": [
    "def smallest_item(xs):\n",
    "    return min(xs)\n",
    "\n",
    "assert smallest_item([10, 20, 5, 40]) == 5\n",
    "assert smallest_item([1, 0, -1, 2]) == -1"
   ]
  },
  {
   "cell_type": "code",
   "execution_count": 204,
   "metadata": {},
   "outputs": [],
   "source": [
    "def smallest_item(xs):\n",
    "    assert xs, \"empty list has no smallest item\"\n",
    "    return min(xs)"
   ]
  },
  {
   "cell_type": "markdown",
   "metadata": {},
   "source": [
    "## Object-Oriented Programming"
   ]
  },
  {
   "cell_type": "markdown",
   "metadata": {},
   "source": [
    "Like many languages, Python allows you to define classes that encapsulate data and the functions that operate on them. We’ll use them sometimes to make our code cleaner and simpler. It’s probably simplest to explain them by constructing a heavily annotated example."
   ]
  },
  {
   "cell_type": "code",
   "execution_count": 205,
   "metadata": {},
   "outputs": [],
   "source": [
    "## define class\n",
    "class CountingClicker:\n",
    "    \"\"\"A class can/should have a docstring, just like a function\"\"\"\n",
    "\n",
    "    def __init__(self, count = 0):\n",
    "        self.count = count\n",
    "\n",
    "    def __repr__(self):\n",
    "        return f\"CountingClicker(count={self.count})\"\n",
    "\n",
    "    def click(self, num_times = 1):\n",
    "        \"\"\"Click the clicker some number of times.\"\"\"\n",
    "        self.count += num_times\n",
    "\n",
    "    def read(self):\n",
    "        return self.count\n",
    "\n",
    "    def reset(self):\n",
    "        self.count = 0"
   ]
  },
  {
   "cell_type": "code",
   "execution_count": null,
   "metadata": {},
   "outputs": [],
   "source": [
    "# create object\n",
    "clicker = CountingClicker()\n",
    "assert clicker.read() == 0, \"clicker should start with count 0\"\n",
    "clicker.click()\n",
    "clicker.click()\n",
    "assert clicker.read() == 2, \"after two clicks, clicker should have count 2\"\n",
    "clicker.reset()\n",
    "assert clicker.read() == 0, \"after reset, clicker should be back to 0\""
   ]
  },
  {
   "cell_type": "code",
   "execution_count": 207,
   "metadata": {},
   "outputs": [],
   "source": [
    "# A subclass inherits all the behavior of its parent class.\n",
    "class NoResetClicker(CountingClicker):\n",
    "    # This class has all the same methods as CountingClicker\n",
    "\n",
    "    # Except that it has a reset method that does nothing.\n",
    "    def reset(self):\n",
    "        pass"
   ]
  },
  {
   "cell_type": "code",
   "execution_count": 208,
   "metadata": {},
   "outputs": [],
   "source": [
    "clicker2 = NoResetClicker()\n",
    "assert clicker2.read() == 0\n",
    "clicker2.click()\n",
    "assert clicker2.read() == 1\n",
    "clicker2.reset()\n",
    "assert clicker2.read() == 1, \"reset shouldn't do anything\""
   ]
  },
  {
   "cell_type": "markdown",
   "metadata": {},
   "source": [
    "## Iterables and Generators"
   ]
  },
  {
   "cell_type": "markdown",
   "metadata": {},
   "source": [
    "One nice thing about a list is that you can retrieve specific elements by their indices. But you don’t always need this! A list of a billion numbers takes up a lot of memory. If you only want the elements one at a time, there’s no good reason to keep them all around. If you only end up needing the first several elements, generating the entire billion is hugely wasteful.\n",
    "\n",
    "Often all we need is to iterate over the collection using `for` and `in`. In this case we can create *generators*, which can be iterated over just like lists but generate their values lazily on demand.\n",
    "\n",
    "One way to create generators is with functions and the `yield` operator:"
   ]
  },
  {
   "cell_type": "code",
   "execution_count": 209,
   "metadata": {},
   "outputs": [],
   "source": [
    "def generate_range(n):\n",
    "    i = 0\n",
    "    while i < n:\n",
    "        yield i   # every call to yield produces a value of the generator\n",
    "        i += 1"
   ]
  },
  {
   "cell_type": "code",
   "execution_count": 210,
   "metadata": {},
   "outputs": [
    {
     "name": "stdout",
     "output_type": "stream",
     "text": [
      "i: 0\n",
      "i: 1\n",
      "i: 2\n",
      "i: 3\n",
      "i: 4\n",
      "i: 5\n",
      "i: 6\n",
      "i: 7\n",
      "i: 8\n",
      "i: 9\n"
     ]
    }
   ],
   "source": [
    "for i in generate_range(10):\n",
    "    print(f\"i: {i}\")"
   ]
  },
  {
   "cell_type": "code",
   "execution_count": 211,
   "metadata": {},
   "outputs": [],
   "source": [
    "def natural_numbers():\n",
    "    \"\"\"returns 1, 2, 3, ...\"\"\"\n",
    "    n = 1\n",
    "    while True:\n",
    "        yield n\n",
    "        n += 1"
   ]
  },
  {
   "cell_type": "code",
   "execution_count": 213,
   "metadata": {},
   "outputs": [],
   "source": [
    "evens_below_20 = (i for i in generate_range(20) if i % 2 == 0)"
   ]
  },
  {
   "cell_type": "code",
   "execution_count": 214,
   "metadata": {},
   "outputs": [],
   "source": [
    "# None of these computations *does* anything until we iterate\n",
    "data = natural_numbers()\n",
    "evens = (x for x in data if x % 2 == 0)\n",
    "even_squares = (x ** 2 for x in evens)\n",
    "even_squares_ending_in_six = (x for x in even_squares if x % 10 == 6)\n",
    "# and so on\n",
    "\n",
    "assert next(even_squares_ending_in_six) == 16\n",
    "assert next(even_squares_ending_in_six) == 36\n",
    "assert next(even_squares_ending_in_six) == 196"
   ]
  },
  {
   "cell_type": "code",
   "execution_count": 215,
   "metadata": {},
   "outputs": [
    {
     "name": "stdout",
     "output_type": "stream",
     "text": [
      "name 0 is Alice\n",
      "name 1 is Bob\n",
      "name 2 is Charlie\n",
      "name 3 is Debbie\n",
      "name 0 is Alice\n",
      "name 1 is Bob\n",
      "name 2 is Charlie\n",
      "name 3 is Debbie\n",
      "name 0 is Alice\n",
      "name 1 is Bob\n",
      "name 2 is Charlie\n",
      "name 3 is Debbie\n"
     ]
    }
   ],
   "source": [
    "names = [\"Alice\", \"Bob\", \"Charlie\", \"Debbie\"]\n",
    "\n",
    "# not Pythonic\n",
    "for i in range(len(names)):\n",
    "    print(f\"name {i} is {names[i]}\")\n",
    "\n",
    "# also not Pythonic\n",
    "i = 0\n",
    "for name in names:\n",
    "    print(f\"name {i} is {names[i]}\")\n",
    "    i += 1\n",
    "\n",
    "# Pythonic\n",
    "for i, name in enumerate(names):\n",
    "    print(f\"name {i} is {name}\")"
   ]
  },
  {
   "cell_type": "markdown",
   "metadata": {},
   "source": [
    "## Randomness"
   ]
  },
  {
   "cell_type": "markdown",
   "metadata": {},
   "source": [
    "As we learn data science, we will frequently need to generate random numbers, which we can do with the `random` module:"
   ]
  },
  {
   "cell_type": "code",
   "execution_count": 217,
   "metadata": {},
   "outputs": [
    {
     "name": "stdout",
     "output_type": "stream",
     "text": [
      "[0.5714025946899135, 0.4288890546751146, 0.5780913011344704, 0.20609823213950174]\n"
     ]
    }
   ],
   "source": [
    "import random\n",
    "random.seed(10)  # this ensures we get the same results every time\n",
    "\n",
    "four_uniform_randoms = [random.random() for _ in range(4)]\n",
    "print(four_uniform_randoms)\n",
    "\n",
    "# [0.5714025946899135,       # random.random() produces numbers\n",
    "#  0.4288890546751146,       # uniformly between 0 and 1\n",
    "#  0.5780913011344704,       # it's the random function we'll use\n",
    "#  0.20609823213950174]      # most often"
   ]
  },
  {
   "cell_type": "code",
   "execution_count": 218,
   "metadata": {},
   "outputs": [
    {
     "name": "stdout",
     "output_type": "stream",
     "text": [
      "0.5714025946899135\n",
      "0.5714025946899135\n"
     ]
    }
   ],
   "source": [
    "random.seed(10)         # set the seed to 10\n",
    "print(random.random())  # 0.57140259469\n",
    "random.seed(10)         # reset the seed to 10\n",
    "print(random.random())  # 0.57140259469 again"
   ]
  },
  {
   "cell_type": "code",
   "execution_count": 219,
   "metadata": {},
   "outputs": [
    {
     "data": {
      "text/plain": [
       "4"
      ]
     },
     "execution_count": 219,
     "metadata": {},
     "output_type": "execute_result"
    }
   ],
   "source": [
    "random.randrange(10)    # choose randomly from range(10) = [0, 1, ..., 9]\n",
    "random.randrange(3, 6)  # choose randomly from range(3, 6) = [3, 4, 5]"
   ]
  },
  {
   "cell_type": "code",
   "execution_count": 220,
   "metadata": {},
   "outputs": [
    {
     "name": "stdout",
     "output_type": "stream",
     "text": [
      "[5, 6, 9, 2, 3, 7, 8, 4, 1, 10]\n"
     ]
    }
   ],
   "source": [
    "up_to_ten = [1, 2, 3, 4, 5, 6, 7, 8, 9, 10]\n",
    "random.shuffle(up_to_ten)\n",
    "print(up_to_ten)\n",
    "# [7, 2, 6, 8, 9, 4, 10, 1, 3, 5]   (your results will probably be different)"
   ]
  },
  {
   "cell_type": "code",
   "execution_count": 229,
   "metadata": {},
   "outputs": [
    {
     "name": "stdout",
     "output_type": "stream",
     "text": [
      "Charlie\n"
     ]
    }
   ],
   "source": [
    "my_best_friend = random.choice([\"Alice\", \"Bob\", \"Charlie\"])     # \"Bob\" for me\n",
    "print(my_best_friend)"
   ]
  },
  {
   "cell_type": "code",
   "execution_count": 230,
   "metadata": {},
   "outputs": [],
   "source": [
    "lottery_numbers = range(60)\n",
    "winning_numbers = random.sample(lottery_numbers, 6)  # [16, 36, 10, 6, 25, 9]"
   ]
  },
  {
   "cell_type": "code",
   "execution_count": 231,
   "metadata": {},
   "outputs": [
    {
     "name": "stdout",
     "output_type": "stream",
     "text": [
      "[4, 7, 2, 4]\n"
     ]
    }
   ],
   "source": [
    "four_with_replacement = [random.choice(range(10)) for _ in range(4)]\n",
    "print(four_with_replacement)  # [9, 4, 4, 2]"
   ]
  },
  {
   "cell_type": "markdown",
   "metadata": {},
   "source": [
    "## Regular Expressions"
   ]
  },
  {
   "cell_type": "markdown",
   "metadata": {},
   "source": [
    "Regular expressions provide a way of searching text. They are incredibly useful, but also fairly complicated—so much so that there are entire books written about them. We will get into their details the few times we encounter them; here are a few examples of how to use them in Python:"
   ]
  },
  {
   "cell_type": "code",
   "execution_count": 234,
   "metadata": {},
   "outputs": [],
   "source": [
    "import re\n",
    "\n",
    "re_examples = [                        # all of these are true, because\n",
    "    not re.match(\"a\", \"cat\"),              #  'cat' doesn't start with 'a'\n",
    "    re.search(\"a\", \"cat\"),                 #  'cat' has an 'a' in it\n",
    "    not re.search(\"c\", \"dog\"),             #  'dog' doesn't have a 'c' in it\n",
    "    3 == len(re.split(\"[ab]\", \"carbs\")),   #  split on a or b to ['c','r','s']\n",
    "    \"R-D-\" == re.sub(\"[0-9]\", \"-\", \"R2D2\") #  replace digits with dashes\n",
    "    ]\n",
    "\n",
    "assert all(re_examples), \"all the regex examples should be True\""
   ]
  },
  {
   "cell_type": "markdown",
   "metadata": {},
   "source": [
    "## zip and Argument Unpacking"
   ]
  },
  {
   "cell_type": "markdown",
   "metadata": {},
   "source": [
    "Often we will need to `zip` two or more iterables together. The `zip` function transforms multiple iterables into a single iterable of tuples of corresponding function:"
   ]
  },
  {
   "cell_type": "code",
   "execution_count": 235,
   "metadata": {},
   "outputs": [],
   "source": [
    "list1 = ['a', 'b', 'c']\n",
    "list2 = [1, 2, 3]\n",
    "\n",
    "# zip is lazy, so you have to do something like the following\n",
    "[pair for pair in zip(list1, list2)]    # is [('a', 1), ('b', 2), ('c', 3)]\n",
    "\n",
    "\n",
    "assert [pair for pair in zip(list1, list2)] == [('a', 1), ('b', 2), ('c', 3)]"
   ]
  },
  {
   "cell_type": "code",
   "execution_count": 236,
   "metadata": {},
   "outputs": [],
   "source": [
    "pairs = [('a', 1), ('b', 2), ('c', 3)]\n",
    "letters, numbers = zip(*pairs)"
   ]
  },
  {
   "cell_type": "code",
   "execution_count": 237,
   "metadata": {},
   "outputs": [],
   "source": [
    "letters, numbers = zip(('a', 1), ('b', 2), ('c', 3))"
   ]
  },
  {
   "cell_type": "code",
   "execution_count": 238,
   "metadata": {},
   "outputs": [
    {
     "name": "stdout",
     "output_type": "stream",
     "text": [
      "add expects two inputs\n"
     ]
    },
    {
     "data": {
      "text/plain": [
       "3"
      ]
     },
     "execution_count": 238,
     "metadata": {},
     "output_type": "execute_result"
    }
   ],
   "source": [
    "def add(a, b): return a + b\n",
    "\n",
    "add(1, 2)      # returns 3\n",
    "try:\n",
    "    add([1, 2])\n",
    "except TypeError:\n",
    "    print(\"add expects two inputs\")\n",
    "add(*[1, 2])   # returns 3"
   ]
  },
  {
   "cell_type": "markdown",
   "metadata": {},
   "source": [
    "## args and kwargs"
   ]
  },
  {
   "cell_type": "markdown",
   "metadata": {},
   "source": [
    "Let’s say we want to create a higher-order function that takes as input some function `f` and returns a new function that for any input returns twice the value of `f`:"
   ]
  },
  {
   "cell_type": "code",
   "execution_count": 239,
   "metadata": {},
   "outputs": [],
   "source": [
    "def doubler(f):\n",
    "    # Here we define a new function that keeps a reference to f\n",
    "    def g(x):\n",
    "        return 2 * f(x)\n",
    "\n",
    "    # And return that new function.\n",
    "    return g"
   ]
  },
  {
   "cell_type": "code",
   "execution_count": 240,
   "metadata": {},
   "outputs": [],
   "source": [
    "def f1(x):\n",
    "    return x + 1\n",
    "\n",
    "g = doubler(f1)\n",
    "assert g(3) == 8,  \"(3 + 1) * 2 should equal 8\"\n",
    "assert g(-1) == 0, \"(-1 + 1) * 2 should equal 0\""
   ]
  },
  {
   "cell_type": "code",
   "execution_count": 241,
   "metadata": {},
   "outputs": [
    {
     "name": "stdout",
     "output_type": "stream",
     "text": [
      "as defined, g only takes one argument\n"
     ]
    }
   ],
   "source": [
    "def f2(x, y):\n",
    "    return x + y\n",
    "\n",
    "g = doubler(f2)\n",
    "try:\n",
    "    g(1, 2)\n",
    "except TypeError:\n",
    "    print(\"as defined, g only takes one argument\")"
   ]
  },
  {
   "cell_type": "code",
   "execution_count": 243,
   "metadata": {},
   "outputs": [
    {
     "name": "stdout",
     "output_type": "stream",
     "text": [
      "unnamed args: (1, 2)\n",
      "keyword args: {'key': 'word', 'key2': 'word2'}\n"
     ]
    }
   ],
   "source": [
    "def magic(*args, **kwargs):\n",
    "    print(\"unnamed args:\", args)\n",
    "    print(\"keyword args:\", kwargs)\n",
    "\n",
    "magic(1, 2, key=\"word\", key2=\"word2\")\n",
    "\n",
    "# prints\n",
    "#  unnamed args: (1, 2)\n",
    "#  keyword args: {'key': 'word', 'key2': 'word2'}"
   ]
  },
  {
   "cell_type": "code",
   "execution_count": 244,
   "metadata": {},
   "outputs": [],
   "source": [
    "def other_way_magic(x, y, z):\n",
    "    return x + y + z\n",
    "\n",
    "x_y_list = [1, 2]\n",
    "z_dict = {\"z\": 3}\n",
    "assert other_way_magic(*x_y_list, **z_dict) == 6, \"1 + 2 + 3 should be 6\""
   ]
  },
  {
   "cell_type": "code",
   "execution_count": 245,
   "metadata": {},
   "outputs": [],
   "source": [
    "def doubler_correct(f):\n",
    "    \"\"\"works no matter what kind of inputs f expects\"\"\"\n",
    "    def g(*args, **kwargs):\n",
    "        \"\"\"whatever arguments g is supplied, pass them through to f\"\"\"\n",
    "        return 2 * f(*args, **kwargs)\n",
    "    return g\n",
    "\n",
    "g = doubler_correct(f2)\n",
    "assert g(1, 2) == 6, \"doubler should work now\""
   ]
  },
  {
   "cell_type": "markdown",
   "metadata": {},
   "source": [
    "## Type Annotations"
   ]
  },
  {
   "cell_type": "markdown",
   "metadata": {},
   "source": [
    "Python is a *dynamically typed* language. That means that it in general it doesn’t care about the types of objects we use, as long as we use them in valid ways:"
   ]
  },
  {
   "cell_type": "code",
   "execution_count": 246,
   "metadata": {},
   "outputs": [
    {
     "name": "stdout",
     "output_type": "stream",
     "text": [
      "cannot add an int to a string\n"
     ]
    }
   ],
   "source": [
    "## dynamically typed\n",
    "def add(a, b):\n",
    "    return a + b\n",
    "\n",
    "assert add(10, 5) == 15,                  \"+ is valid for numbers\"\n",
    "assert add([1, 2], [3]) == [1, 2, 3],     \"+ is valid for lists\"\n",
    "assert add(\"hi \", \"there\") == \"hi there\", \"+ is valid for strings\"\n",
    "\n",
    "try:\n",
    "    add(10, \"five\")\n",
    "except TypeError:\n",
    "    print(\"cannot add an int to a string\")"
   ]
  },
  {
   "cell_type": "code",
   "execution_count": 247,
   "metadata": {},
   "outputs": [
    {
     "data": {
      "text/plain": [
       "'hi there'"
      ]
     },
     "execution_count": 247,
     "metadata": {},
     "output_type": "execute_result"
    }
   ],
   "source": [
    "## statically typed\n",
    "def add(a: int, b: int) -> int:\n",
    "    return a + b\n",
    "\n",
    "add(10, 5)           # you'd like this to be OK\n",
    "add(\"hi \", \"there\")  # you'd like this to be not OK"
   ]
  },
  {
   "cell_type": "code",
   "execution_count": 248,
   "metadata": {},
   "outputs": [],
   "source": [
    "# This is not in the book, but it's needed\n",
    "# to make the `dot_product` stubs not error out.\n",
    "from typing import List\n",
    "Vector = List[float]\n",
    "\n",
    "def dot_product(x, y): ...\n",
    "\n",
    "# we have not yet defined Vector, but imagine we had\n",
    "def dot_product(x: Vector, y: Vector) -> float: ...\n",
    "\n",
    "from typing import Union\n",
    "\n",
    "def secretly_ugly_function(value, operation): ...\n",
    "\n",
    "def ugly_function(value: int, operation: Union[str, int, float, bool]) -> int:\n",
    "    ...\n",
    "\n",
    "def total(xs: list) -> float:\n",
    "    return sum(xs)\n",
    "\n",
    "from typing import List  # note capital L\n",
    "\n",
    "def total(xs: List[float]) -> float:\n",
    "    return sum(xs)\n",
    "\n",
    "# This is how to type-annotate variables when you define them.\n",
    "# But this is unnecessary; it's \"obvious\" x is an int.\n",
    "x: int = 5\n",
    "\n",
    "values = []         # what's my type?\n",
    "best_so_far = None  # what's my type?\n",
    "\n",
    "from typing import Optional\n",
    "\n",
    "values: List[int] = []\n",
    "best_so_far: Optional[float] = None  # allowed to be either a float or None\n",
    "\n",
    "lazy = True\n",
    "\n",
    "# the type annotations in this snippet are all unnecessary\n",
    "from typing import Dict, Iterable, Tuple\n",
    "\n",
    "# keys are strings, values are ints\n",
    "counts: Dict[str, int] = {'data': 1, 'science': 2}\n",
    "\n",
    "# lists and generators are both iterable\n",
    "if lazy:\n",
    "    evens: Iterable[int] = (x for x in range(10) if x % 2 == 0)\n",
    "else:\n",
    "    evens = [0, 2, 4, 6, 8]\n",
    "\n",
    "# tuples specify a type for each element\n",
    "triple: Tuple[int, float, int] = (10, 2.3, 5)\n",
    "\n",
    "from typing import Callable\n",
    "\n",
    "# The type hint says that repeater is a function that takes\n",
    "# two arguments, a string and an int, and returns a string.\n",
    "def twice(repeater: Callable[[str, int], str], s: str) -> str:\n",
    "    return repeater(s, 2)\n",
    "\n",
    "def comma_repeater(s: str, n: int) -> str:\n",
    "    n_copies = [s for _ in range(n)]\n",
    "    return ', '.join(n_copies)\n",
    "\n",
    "assert twice(comma_repeater, \"type hints\") == \"type hints, type hints\"\n",
    "\n",
    "Number = int\n",
    "Numbers = List[Number]\n",
    "\n",
    "def total(xs: Numbers) -> Number:\n",
    "    return sum(xs)"
   ]
  },
  {
   "cell_type": "markdown",
   "metadata": {},
   "source": [
    "# An Application of Python for Data Science"
   ]
  },
  {
   "cell_type": "markdown",
   "metadata": {},
   "source": [
    "### Load data into Pandas dataframe "
   ]
  },
  {
   "cell_type": "code",
   "execution_count": 1,
   "metadata": {},
   "outputs": [],
   "source": [
    "import pandas as pd\n",
    "\n",
    "data = pd.read_excel('dataset/Superstore.xlsx')"
   ]
  },
  {
   "cell_type": "code",
   "execution_count": 3,
   "metadata": {
    "scrolled": true
   },
   "outputs": [
    {
     "data": {
      "text/html": [
       "<div>\n",
       "<style scoped>\n",
       "    .dataframe tbody tr th:only-of-type {\n",
       "        vertical-align: middle;\n",
       "    }\n",
       "\n",
       "    .dataframe tbody tr th {\n",
       "        vertical-align: top;\n",
       "    }\n",
       "\n",
       "    .dataframe thead th {\n",
       "        text-align: right;\n",
       "    }\n",
       "</style>\n",
       "<table border=\"1\" class=\"dataframe\">\n",
       "  <thead>\n",
       "    <tr style=\"text-align: right;\">\n",
       "      <th></th>\n",
       "      <th>Row ID</th>\n",
       "      <th>Order Priority</th>\n",
       "      <th>Discount</th>\n",
       "      <th>Unit Price</th>\n",
       "      <th>Shipping Cost</th>\n",
       "      <th>Customer ID</th>\n",
       "      <th>Customer Name</th>\n",
       "      <th>Ship Mode</th>\n",
       "      <th>Customer Segment</th>\n",
       "      <th>Product Category</th>\n",
       "      <th>...</th>\n",
       "      <th>Region</th>\n",
       "      <th>State or Province</th>\n",
       "      <th>City</th>\n",
       "      <th>Postal Code</th>\n",
       "      <th>Order Date</th>\n",
       "      <th>Ship Date</th>\n",
       "      <th>Profit</th>\n",
       "      <th>Quantity ordered new</th>\n",
       "      <th>Sales</th>\n",
       "      <th>Order ID</th>\n",
       "    </tr>\n",
       "  </thead>\n",
       "  <tbody>\n",
       "    <tr>\n",
       "      <th>0</th>\n",
       "      <td>18606</td>\n",
       "      <td>Not Specified</td>\n",
       "      <td>0.01</td>\n",
       "      <td>2.88</td>\n",
       "      <td>0.50</td>\n",
       "      <td>2</td>\n",
       "      <td>Janice Fletcher</td>\n",
       "      <td>Regular Air</td>\n",
       "      <td>Corporate</td>\n",
       "      <td>Office Supplies</td>\n",
       "      <td>...</td>\n",
       "      <td>Central</td>\n",
       "      <td>Illinois</td>\n",
       "      <td>Addison</td>\n",
       "      <td>60101</td>\n",
       "      <td>2012-05-28</td>\n",
       "      <td>2012-05-30</td>\n",
       "      <td>1.3200</td>\n",
       "      <td>2</td>\n",
       "      <td>5.90</td>\n",
       "      <td>88525</td>\n",
       "    </tr>\n",
       "    <tr>\n",
       "      <th>1</th>\n",
       "      <td>20847</td>\n",
       "      <td>High</td>\n",
       "      <td>0.01</td>\n",
       "      <td>2.84</td>\n",
       "      <td>0.93</td>\n",
       "      <td>3</td>\n",
       "      <td>Bonnie Potter</td>\n",
       "      <td>Express Air</td>\n",
       "      <td>Corporate</td>\n",
       "      <td>Office Supplies</td>\n",
       "      <td>...</td>\n",
       "      <td>West</td>\n",
       "      <td>Washington</td>\n",
       "      <td>Anacortes</td>\n",
       "      <td>98221</td>\n",
       "      <td>2010-07-07</td>\n",
       "      <td>2010-07-08</td>\n",
       "      <td>4.5600</td>\n",
       "      <td>4</td>\n",
       "      <td>13.01</td>\n",
       "      <td>88522</td>\n",
       "    </tr>\n",
       "    <tr>\n",
       "      <th>2</th>\n",
       "      <td>23086</td>\n",
       "      <td>Not Specified</td>\n",
       "      <td>0.03</td>\n",
       "      <td>6.68</td>\n",
       "      <td>6.15</td>\n",
       "      <td>3</td>\n",
       "      <td>Bonnie Potter</td>\n",
       "      <td>Express Air</td>\n",
       "      <td>Corporate</td>\n",
       "      <td>Office Supplies</td>\n",
       "      <td>...</td>\n",
       "      <td>West</td>\n",
       "      <td>Washington</td>\n",
       "      <td>Anacortes</td>\n",
       "      <td>98221</td>\n",
       "      <td>2011-07-27</td>\n",
       "      <td>2011-07-28</td>\n",
       "      <td>-47.6400</td>\n",
       "      <td>7</td>\n",
       "      <td>49.92</td>\n",
       "      <td>88523</td>\n",
       "    </tr>\n",
       "    <tr>\n",
       "      <th>3</th>\n",
       "      <td>23087</td>\n",
       "      <td>Not Specified</td>\n",
       "      <td>0.01</td>\n",
       "      <td>5.68</td>\n",
       "      <td>3.60</td>\n",
       "      <td>3</td>\n",
       "      <td>Bonnie Potter</td>\n",
       "      <td>Regular Air</td>\n",
       "      <td>Corporate</td>\n",
       "      <td>Office Supplies</td>\n",
       "      <td>...</td>\n",
       "      <td>West</td>\n",
       "      <td>Washington</td>\n",
       "      <td>Anacortes</td>\n",
       "      <td>98221</td>\n",
       "      <td>2011-07-27</td>\n",
       "      <td>2011-07-28</td>\n",
       "      <td>-30.5100</td>\n",
       "      <td>7</td>\n",
       "      <td>41.64</td>\n",
       "      <td>88523</td>\n",
       "    </tr>\n",
       "    <tr>\n",
       "      <th>4</th>\n",
       "      <td>23088</td>\n",
       "      <td>Not Specified</td>\n",
       "      <td>0.00</td>\n",
       "      <td>205.99</td>\n",
       "      <td>2.50</td>\n",
       "      <td>3</td>\n",
       "      <td>Bonnie Potter</td>\n",
       "      <td>Express Air</td>\n",
       "      <td>Corporate</td>\n",
       "      <td>Technology</td>\n",
       "      <td>...</td>\n",
       "      <td>West</td>\n",
       "      <td>Washington</td>\n",
       "      <td>Anacortes</td>\n",
       "      <td>98221</td>\n",
       "      <td>2011-07-27</td>\n",
       "      <td>2011-07-27</td>\n",
       "      <td>998.2023</td>\n",
       "      <td>8</td>\n",
       "      <td>1446.67</td>\n",
       "      <td>88523</td>\n",
       "    </tr>\n",
       "    <tr>\n",
       "      <th>5</th>\n",
       "      <td>23597</td>\n",
       "      <td>Medium</td>\n",
       "      <td>0.09</td>\n",
       "      <td>55.48</td>\n",
       "      <td>14.30</td>\n",
       "      <td>3</td>\n",
       "      <td>Bonnie Potter</td>\n",
       "      <td>Express Air</td>\n",
       "      <td>Corporate</td>\n",
       "      <td>Office Supplies</td>\n",
       "      <td>...</td>\n",
       "      <td>West</td>\n",
       "      <td>Washington</td>\n",
       "      <td>Anacortes</td>\n",
       "      <td>98221</td>\n",
       "      <td>2011-11-09</td>\n",
       "      <td>2011-11-11</td>\n",
       "      <td>1388.0523</td>\n",
       "      <td>37</td>\n",
       "      <td>2011.67</td>\n",
       "      <td>88524</td>\n",
       "    </tr>\n",
       "    <tr>\n",
       "      <th>6</th>\n",
       "      <td>25549</td>\n",
       "      <td>Low</td>\n",
       "      <td>0.08</td>\n",
       "      <td>120.97</td>\n",
       "      <td>26.30</td>\n",
       "      <td>3</td>\n",
       "      <td>Bonnie Potter</td>\n",
       "      <td>Delivery Truck</td>\n",
       "      <td>Corporate</td>\n",
       "      <td>Technology</td>\n",
       "      <td>...</td>\n",
       "      <td>West</td>\n",
       "      <td>Washington</td>\n",
       "      <td>Anacortes</td>\n",
       "      <td>98221</td>\n",
       "      <td>2013-07-01</td>\n",
       "      <td>2013-07-08</td>\n",
       "      <td>1001.4453</td>\n",
       "      <td>12</td>\n",
       "      <td>1451.37</td>\n",
       "      <td>88526</td>\n",
       "    </tr>\n",
       "    <tr>\n",
       "      <th>7</th>\n",
       "      <td>20228</td>\n",
       "      <td>Not Specified</td>\n",
       "      <td>0.02</td>\n",
       "      <td>500.98</td>\n",
       "      <td>26.00</td>\n",
       "      <td>5</td>\n",
       "      <td>Ronnie Proctor</td>\n",
       "      <td>Delivery Truck</td>\n",
       "      <td>Home Office</td>\n",
       "      <td>Furniture</td>\n",
       "      <td>...</td>\n",
       "      <td>West</td>\n",
       "      <td>California</td>\n",
       "      <td>San Gabriel</td>\n",
       "      <td>91776</td>\n",
       "      <td>2010-12-13</td>\n",
       "      <td>2010-12-15</td>\n",
       "      <td>4390.3665</td>\n",
       "      <td>12</td>\n",
       "      <td>6362.85</td>\n",
       "      <td>90193</td>\n",
       "    </tr>\n",
       "    <tr>\n",
       "      <th>8</th>\n",
       "      <td>19483</td>\n",
       "      <td>Low</td>\n",
       "      <td>0.08</td>\n",
       "      <td>6.48</td>\n",
       "      <td>6.81</td>\n",
       "      <td>5</td>\n",
       "      <td>Ronnie Proctor</td>\n",
       "      <td>Regular Air</td>\n",
       "      <td>Home Office</td>\n",
       "      <td>Office Supplies</td>\n",
       "      <td>...</td>\n",
       "      <td>West</td>\n",
       "      <td>California</td>\n",
       "      <td>San Gabriel</td>\n",
       "      <td>91776</td>\n",
       "      <td>2012-05-12</td>\n",
       "      <td>2012-05-21</td>\n",
       "      <td>-141.2600</td>\n",
       "      <td>18</td>\n",
       "      <td>113.25</td>\n",
       "      <td>90197</td>\n",
       "    </tr>\n",
       "    <tr>\n",
       "      <th>9</th>\n",
       "      <td>24782</td>\n",
       "      <td>High</td>\n",
       "      <td>0.01</td>\n",
       "      <td>90.24</td>\n",
       "      <td>0.99</td>\n",
       "      <td>6</td>\n",
       "      <td>Dwight Hwang</td>\n",
       "      <td>Regular Air</td>\n",
       "      <td>Home Office</td>\n",
       "      <td>Office Supplies</td>\n",
       "      <td>...</td>\n",
       "      <td>West</td>\n",
       "      <td>California</td>\n",
       "      <td>San Jose</td>\n",
       "      <td>95123</td>\n",
       "      <td>2011-05-26</td>\n",
       "      <td>2011-05-26</td>\n",
       "      <td>1045.4673</td>\n",
       "      <td>16</td>\n",
       "      <td>1515.17</td>\n",
       "      <td>90194</td>\n",
       "    </tr>\n",
       "  </tbody>\n",
       "</table>\n",
       "<p>10 rows × 24 columns</p>\n",
       "</div>"
      ],
      "text/plain": [
       "   Row ID Order Priority  Discount  Unit Price  Shipping Cost  Customer ID  \\\n",
       "0   18606  Not Specified      0.01        2.88           0.50            2   \n",
       "1   20847           High      0.01        2.84           0.93            3   \n",
       "2   23086  Not Specified      0.03        6.68           6.15            3   \n",
       "3   23087  Not Specified      0.01        5.68           3.60            3   \n",
       "4   23088  Not Specified      0.00      205.99           2.50            3   \n",
       "5   23597         Medium      0.09       55.48          14.30            3   \n",
       "6   25549            Low      0.08      120.97          26.30            3   \n",
       "7   20228  Not Specified      0.02      500.98          26.00            5   \n",
       "8   19483            Low      0.08        6.48           6.81            5   \n",
       "9   24782           High      0.01       90.24           0.99            6   \n",
       "\n",
       "     Customer Name       Ship Mode Customer Segment Product Category  ...  \\\n",
       "0  Janice Fletcher     Regular Air        Corporate  Office Supplies  ...   \n",
       "1    Bonnie Potter     Express Air        Corporate  Office Supplies  ...   \n",
       "2    Bonnie Potter     Express Air        Corporate  Office Supplies  ...   \n",
       "3    Bonnie Potter     Regular Air        Corporate  Office Supplies  ...   \n",
       "4    Bonnie Potter     Express Air        Corporate       Technology  ...   \n",
       "5    Bonnie Potter     Express Air        Corporate  Office Supplies  ...   \n",
       "6    Bonnie Potter  Delivery Truck        Corporate       Technology  ...   \n",
       "7   Ronnie Proctor  Delivery Truck      Home Office        Furniture  ...   \n",
       "8   Ronnie Proctor     Regular Air      Home Office  Office Supplies  ...   \n",
       "9     Dwight Hwang     Regular Air      Home Office  Office Supplies  ...   \n",
       "\n",
       "    Region State or Province         City  Postal Code Order Date  Ship Date  \\\n",
       "0  Central          Illinois      Addison        60101 2012-05-28 2012-05-30   \n",
       "1     West        Washington    Anacortes        98221 2010-07-07 2010-07-08   \n",
       "2     West        Washington    Anacortes        98221 2011-07-27 2011-07-28   \n",
       "3     West        Washington    Anacortes        98221 2011-07-27 2011-07-28   \n",
       "4     West        Washington    Anacortes        98221 2011-07-27 2011-07-27   \n",
       "5     West        Washington    Anacortes        98221 2011-11-09 2011-11-11   \n",
       "6     West        Washington    Anacortes        98221 2013-07-01 2013-07-08   \n",
       "7     West        California  San Gabriel        91776 2010-12-13 2010-12-15   \n",
       "8     West        California  San Gabriel        91776 2012-05-12 2012-05-21   \n",
       "9     West        California     San Jose        95123 2011-05-26 2011-05-26   \n",
       "\n",
       "      Profit  Quantity ordered new    Sales Order ID  \n",
       "0     1.3200                     2     5.90    88525  \n",
       "1     4.5600                     4    13.01    88522  \n",
       "2   -47.6400                     7    49.92    88523  \n",
       "3   -30.5100                     7    41.64    88523  \n",
       "4   998.2023                     8  1446.67    88523  \n",
       "5  1388.0523                    37  2011.67    88524  \n",
       "6  1001.4453                    12  1451.37    88526  \n",
       "7  4390.3665                    12  6362.85    90193  \n",
       "8  -141.2600                    18   113.25    90197  \n",
       "9  1045.4673                    16  1515.17    90194  \n",
       "\n",
       "[10 rows x 24 columns]"
      ]
     },
     "execution_count": 3,
     "metadata": {},
     "output_type": "execute_result"
    }
   ],
   "source": [
    "data.head(10)"
   ]
  },
  {
   "cell_type": "code",
   "execution_count": 2,
   "metadata": {},
   "outputs": [
    {
     "data": {
      "text/html": [
       "<div>\n",
       "<style scoped>\n",
       "    .dataframe tbody tr th:only-of-type {\n",
       "        vertical-align: middle;\n",
       "    }\n",
       "\n",
       "    .dataframe tbody tr th {\n",
       "        vertical-align: top;\n",
       "    }\n",
       "\n",
       "    .dataframe thead th {\n",
       "        text-align: right;\n",
       "    }\n",
       "</style>\n",
       "<table border=\"1\" class=\"dataframe\">\n",
       "  <thead>\n",
       "    <tr style=\"text-align: right;\">\n",
       "      <th></th>\n",
       "      <th>Row ID</th>\n",
       "      <th>Order Priority</th>\n",
       "      <th>Discount</th>\n",
       "      <th>Unit Price</th>\n",
       "      <th>Shipping Cost</th>\n",
       "      <th>Customer ID</th>\n",
       "      <th>Customer Name</th>\n",
       "      <th>Ship Mode</th>\n",
       "      <th>Customer Segment</th>\n",
       "      <th>Product Category</th>\n",
       "      <th>...</th>\n",
       "      <th>Region</th>\n",
       "      <th>State or Province</th>\n",
       "      <th>City</th>\n",
       "      <th>Postal Code</th>\n",
       "      <th>Order Date</th>\n",
       "      <th>Ship Date</th>\n",
       "      <th>Profit</th>\n",
       "      <th>Quantity ordered new</th>\n",
       "      <th>Sales</th>\n",
       "      <th>Order ID</th>\n",
       "    </tr>\n",
       "  </thead>\n",
       "  <tbody>\n",
       "    <tr>\n",
       "      <th>0</th>\n",
       "      <td>18606</td>\n",
       "      <td>Not Specified</td>\n",
       "      <td>0.01</td>\n",
       "      <td>2.88</td>\n",
       "      <td>0.50</td>\n",
       "      <td>2</td>\n",
       "      <td>Janice Fletcher</td>\n",
       "      <td>Regular Air</td>\n",
       "      <td>Corporate</td>\n",
       "      <td>Office Supplies</td>\n",
       "      <td>...</td>\n",
       "      <td>Central</td>\n",
       "      <td>Illinois</td>\n",
       "      <td>Addison</td>\n",
       "      <td>60101</td>\n",
       "      <td>2012-05-28</td>\n",
       "      <td>2012-05-30</td>\n",
       "      <td>1.320000</td>\n",
       "      <td>2</td>\n",
       "      <td>5.90</td>\n",
       "      <td>88525</td>\n",
       "    </tr>\n",
       "    <tr>\n",
       "      <th>1</th>\n",
       "      <td>20847</td>\n",
       "      <td>High</td>\n",
       "      <td>0.01</td>\n",
       "      <td>2.84</td>\n",
       "      <td>0.93</td>\n",
       "      <td>3</td>\n",
       "      <td>Bonnie Potter</td>\n",
       "      <td>Express Air</td>\n",
       "      <td>Corporate</td>\n",
       "      <td>Office Supplies</td>\n",
       "      <td>...</td>\n",
       "      <td>West</td>\n",
       "      <td>Washington</td>\n",
       "      <td>Anacortes</td>\n",
       "      <td>98221</td>\n",
       "      <td>2010-07-07</td>\n",
       "      <td>2010-07-08</td>\n",
       "      <td>4.560000</td>\n",
       "      <td>4</td>\n",
       "      <td>13.01</td>\n",
       "      <td>88522</td>\n",
       "    </tr>\n",
       "    <tr>\n",
       "      <th>2</th>\n",
       "      <td>23086</td>\n",
       "      <td>Not Specified</td>\n",
       "      <td>0.03</td>\n",
       "      <td>6.68</td>\n",
       "      <td>6.15</td>\n",
       "      <td>3</td>\n",
       "      <td>Bonnie Potter</td>\n",
       "      <td>Express Air</td>\n",
       "      <td>Corporate</td>\n",
       "      <td>Office Supplies</td>\n",
       "      <td>...</td>\n",
       "      <td>West</td>\n",
       "      <td>Washington</td>\n",
       "      <td>Anacortes</td>\n",
       "      <td>98221</td>\n",
       "      <td>2011-07-27</td>\n",
       "      <td>2011-07-28</td>\n",
       "      <td>-47.640000</td>\n",
       "      <td>7</td>\n",
       "      <td>49.92</td>\n",
       "      <td>88523</td>\n",
       "    </tr>\n",
       "    <tr>\n",
       "      <th>3</th>\n",
       "      <td>23087</td>\n",
       "      <td>Not Specified</td>\n",
       "      <td>0.01</td>\n",
       "      <td>5.68</td>\n",
       "      <td>3.60</td>\n",
       "      <td>3</td>\n",
       "      <td>Bonnie Potter</td>\n",
       "      <td>Regular Air</td>\n",
       "      <td>Corporate</td>\n",
       "      <td>Office Supplies</td>\n",
       "      <td>...</td>\n",
       "      <td>West</td>\n",
       "      <td>Washington</td>\n",
       "      <td>Anacortes</td>\n",
       "      <td>98221</td>\n",
       "      <td>2011-07-27</td>\n",
       "      <td>2011-07-28</td>\n",
       "      <td>-30.510000</td>\n",
       "      <td>7</td>\n",
       "      <td>41.64</td>\n",
       "      <td>88523</td>\n",
       "    </tr>\n",
       "    <tr>\n",
       "      <th>4</th>\n",
       "      <td>23088</td>\n",
       "      <td>Not Specified</td>\n",
       "      <td>0.00</td>\n",
       "      <td>205.99</td>\n",
       "      <td>2.50</td>\n",
       "      <td>3</td>\n",
       "      <td>Bonnie Potter</td>\n",
       "      <td>Express Air</td>\n",
       "      <td>Corporate</td>\n",
       "      <td>Technology</td>\n",
       "      <td>...</td>\n",
       "      <td>West</td>\n",
       "      <td>Washington</td>\n",
       "      <td>Anacortes</td>\n",
       "      <td>98221</td>\n",
       "      <td>2011-07-27</td>\n",
       "      <td>2011-07-27</td>\n",
       "      <td>998.202300</td>\n",
       "      <td>8</td>\n",
       "      <td>1446.67</td>\n",
       "      <td>88523</td>\n",
       "    </tr>\n",
       "    <tr>\n",
       "      <th>5</th>\n",
       "      <td>23597</td>\n",
       "      <td>Medium</td>\n",
       "      <td>0.09</td>\n",
       "      <td>55.48</td>\n",
       "      <td>14.30</td>\n",
       "      <td>3</td>\n",
       "      <td>Bonnie Potter</td>\n",
       "      <td>Express Air</td>\n",
       "      <td>Corporate</td>\n",
       "      <td>Office Supplies</td>\n",
       "      <td>...</td>\n",
       "      <td>West</td>\n",
       "      <td>Washington</td>\n",
       "      <td>Anacortes</td>\n",
       "      <td>98221</td>\n",
       "      <td>2011-11-09</td>\n",
       "      <td>2011-11-11</td>\n",
       "      <td>1388.052300</td>\n",
       "      <td>37</td>\n",
       "      <td>2011.67</td>\n",
       "      <td>88524</td>\n",
       "    </tr>\n",
       "    <tr>\n",
       "      <th>6</th>\n",
       "      <td>25549</td>\n",
       "      <td>Low</td>\n",
       "      <td>0.08</td>\n",
       "      <td>120.97</td>\n",
       "      <td>26.30</td>\n",
       "      <td>3</td>\n",
       "      <td>Bonnie Potter</td>\n",
       "      <td>Delivery Truck</td>\n",
       "      <td>Corporate</td>\n",
       "      <td>Technology</td>\n",
       "      <td>...</td>\n",
       "      <td>West</td>\n",
       "      <td>Washington</td>\n",
       "      <td>Anacortes</td>\n",
       "      <td>98221</td>\n",
       "      <td>2013-07-01</td>\n",
       "      <td>2013-07-08</td>\n",
       "      <td>1001.445300</td>\n",
       "      <td>12</td>\n",
       "      <td>1451.37</td>\n",
       "      <td>88526</td>\n",
       "    </tr>\n",
       "    <tr>\n",
       "      <th>7</th>\n",
       "      <td>20228</td>\n",
       "      <td>Not Specified</td>\n",
       "      <td>0.02</td>\n",
       "      <td>500.98</td>\n",
       "      <td>26.00</td>\n",
       "      <td>5</td>\n",
       "      <td>Ronnie Proctor</td>\n",
       "      <td>Delivery Truck</td>\n",
       "      <td>Home Office</td>\n",
       "      <td>Furniture</td>\n",
       "      <td>...</td>\n",
       "      <td>West</td>\n",
       "      <td>California</td>\n",
       "      <td>San Gabriel</td>\n",
       "      <td>91776</td>\n",
       "      <td>2010-12-13</td>\n",
       "      <td>2010-12-15</td>\n",
       "      <td>4390.366500</td>\n",
       "      <td>12</td>\n",
       "      <td>6362.85</td>\n",
       "      <td>90193</td>\n",
       "    </tr>\n",
       "    <tr>\n",
       "      <th>8</th>\n",
       "      <td>19483</td>\n",
       "      <td>Low</td>\n",
       "      <td>0.08</td>\n",
       "      <td>6.48</td>\n",
       "      <td>6.81</td>\n",
       "      <td>5</td>\n",
       "      <td>Ronnie Proctor</td>\n",
       "      <td>Regular Air</td>\n",
       "      <td>Home Office</td>\n",
       "      <td>Office Supplies</td>\n",
       "      <td>...</td>\n",
       "      <td>West</td>\n",
       "      <td>California</td>\n",
       "      <td>San Gabriel</td>\n",
       "      <td>91776</td>\n",
       "      <td>2012-05-12</td>\n",
       "      <td>2012-05-21</td>\n",
       "      <td>-141.260000</td>\n",
       "      <td>18</td>\n",
       "      <td>113.25</td>\n",
       "      <td>90197</td>\n",
       "    </tr>\n",
       "    <tr>\n",
       "      <th>9</th>\n",
       "      <td>24782</td>\n",
       "      <td>High</td>\n",
       "      <td>0.01</td>\n",
       "      <td>90.24</td>\n",
       "      <td>0.99</td>\n",
       "      <td>6</td>\n",
       "      <td>Dwight Hwang</td>\n",
       "      <td>Regular Air</td>\n",
       "      <td>Home Office</td>\n",
       "      <td>Office Supplies</td>\n",
       "      <td>...</td>\n",
       "      <td>West</td>\n",
       "      <td>California</td>\n",
       "      <td>San Jose</td>\n",
       "      <td>95123</td>\n",
       "      <td>2011-05-26</td>\n",
       "      <td>2011-05-26</td>\n",
       "      <td>1045.467300</td>\n",
       "      <td>16</td>\n",
       "      <td>1515.17</td>\n",
       "      <td>90194</td>\n",
       "    </tr>\n",
       "    <tr>\n",
       "      <th>10</th>\n",
       "      <td>24563</td>\n",
       "      <td>Critical</td>\n",
       "      <td>0.07</td>\n",
       "      <td>6.48</td>\n",
       "      <td>6.60</td>\n",
       "      <td>6</td>\n",
       "      <td>Dwight Hwang</td>\n",
       "      <td>Regular Air</td>\n",
       "      <td>Home Office</td>\n",
       "      <td>Office Supplies</td>\n",
       "      <td>...</td>\n",
       "      <td>West</td>\n",
       "      <td>California</td>\n",
       "      <td>San Jose</td>\n",
       "      <td>95123</td>\n",
       "      <td>2012-12-29</td>\n",
       "      <td>2012-12-31</td>\n",
       "      <td>-13.860000</td>\n",
       "      <td>4</td>\n",
       "      <td>28.61</td>\n",
       "      <td>90200</td>\n",
       "    </tr>\n",
       "    <tr>\n",
       "      <th>11</th>\n",
       "      <td>24564</td>\n",
       "      <td>Critical</td>\n",
       "      <td>0.01</td>\n",
       "      <td>4.84</td>\n",
       "      <td>0.71</td>\n",
       "      <td>6</td>\n",
       "      <td>Dwight Hwang</td>\n",
       "      <td>Regular Air</td>\n",
       "      <td>Home Office</td>\n",
       "      <td>Office Supplies</td>\n",
       "      <td>...</td>\n",
       "      <td>West</td>\n",
       "      <td>California</td>\n",
       "      <td>San Jose</td>\n",
       "      <td>95123</td>\n",
       "      <td>2012-12-29</td>\n",
       "      <td>2012-12-31</td>\n",
       "      <td>57.580500</td>\n",
       "      <td>17</td>\n",
       "      <td>83.45</td>\n",
       "      <td>90200</td>\n",
       "    </tr>\n",
       "    <tr>\n",
       "      <th>12</th>\n",
       "      <td>24565</td>\n",
       "      <td>Critical</td>\n",
       "      <td>0.10</td>\n",
       "      <td>85.99</td>\n",
       "      <td>0.99</td>\n",
       "      <td>6</td>\n",
       "      <td>Dwight Hwang</td>\n",
       "      <td>Regular Air</td>\n",
       "      <td>Home Office</td>\n",
       "      <td>Technology</td>\n",
       "      <td>...</td>\n",
       "      <td>West</td>\n",
       "      <td>California</td>\n",
       "      <td>San Jose</td>\n",
       "      <td>95123</td>\n",
       "      <td>2012-12-29</td>\n",
       "      <td>2012-12-31</td>\n",
       "      <td>1176.505200</td>\n",
       "      <td>24</td>\n",
       "      <td>1705.08</td>\n",
       "      <td>90200</td>\n",
       "    </tr>\n",
       "    <tr>\n",
       "      <th>13</th>\n",
       "      <td>21866</td>\n",
       "      <td>High</td>\n",
       "      <td>0.05</td>\n",
       "      <td>12.28</td>\n",
       "      <td>4.86</td>\n",
       "      <td>7</td>\n",
       "      <td>Leon Gill</td>\n",
       "      <td>Regular Air</td>\n",
       "      <td>Home Office</td>\n",
       "      <td>Office Supplies</td>\n",
       "      <td>...</td>\n",
       "      <td>East</td>\n",
       "      <td>Massachusetts</td>\n",
       "      <td>Fall River</td>\n",
       "      <td>2724</td>\n",
       "      <td>2012-10-30</td>\n",
       "      <td>2012-10-31</td>\n",
       "      <td>72.992800</td>\n",
       "      <td>19</td>\n",
       "      <td>232.95</td>\n",
       "      <td>90198</td>\n",
       "    </tr>\n",
       "    <tr>\n",
       "      <th>14</th>\n",
       "      <td>20876</td>\n",
       "      <td>Medium</td>\n",
       "      <td>0.08</td>\n",
       "      <td>140.98</td>\n",
       "      <td>36.09</td>\n",
       "      <td>8</td>\n",
       "      <td>Melanie Garner</td>\n",
       "      <td>Delivery Truck</td>\n",
       "      <td>Home Office</td>\n",
       "      <td>Furniture</td>\n",
       "      <td>...</td>\n",
       "      <td>East</td>\n",
       "      <td>New Hampshire</td>\n",
       "      <td>Bedford</td>\n",
       "      <td>3110</td>\n",
       "      <td>2012-12-25</td>\n",
       "      <td>2012-12-26</td>\n",
       "      <td>-158.740000</td>\n",
       "      <td>5</td>\n",
       "      <td>705.47</td>\n",
       "      <td>90199</td>\n",
       "    </tr>\n",
       "    <tr>\n",
       "      <th>15</th>\n",
       "      <td>20877</td>\n",
       "      <td>Medium</td>\n",
       "      <td>0.10</td>\n",
       "      <td>286.85</td>\n",
       "      <td>61.76</td>\n",
       "      <td>9</td>\n",
       "      <td>Lorraine Houston</td>\n",
       "      <td>Delivery Truck</td>\n",
       "      <td>Home Office</td>\n",
       "      <td>Furniture</td>\n",
       "      <td>...</td>\n",
       "      <td>East</td>\n",
       "      <td>New Jersey</td>\n",
       "      <td>Camden</td>\n",
       "      <td>8101</td>\n",
       "      <td>2012-12-25</td>\n",
       "      <td>2012-12-27</td>\n",
       "      <td>-346.615198</td>\n",
       "      <td>8</td>\n",
       "      <td>1794.27</td>\n",
       "      <td>90199</td>\n",
       "    </tr>\n",
       "    <tr>\n",
       "      <th>16</th>\n",
       "      <td>22241</td>\n",
       "      <td>Critical</td>\n",
       "      <td>0.06</td>\n",
       "      <td>15.57</td>\n",
       "      <td>1.39</td>\n",
       "      <td>10</td>\n",
       "      <td>Meredith Norris Thomas</td>\n",
       "      <td>Regular Air</td>\n",
       "      <td>Home Office</td>\n",
       "      <td>Office Supplies</td>\n",
       "      <td>...</td>\n",
       "      <td>East</td>\n",
       "      <td>New Jersey</td>\n",
       "      <td>Pennsauken</td>\n",
       "      <td>8109</td>\n",
       "      <td>2011-10-04</td>\n",
       "      <td>2011-10-05</td>\n",
       "      <td>142.795500</td>\n",
       "      <td>14</td>\n",
       "      <td>206.95</td>\n",
       "      <td>90195</td>\n",
       "    </tr>\n",
       "    <tr>\n",
       "      <th>17</th>\n",
       "      <td>21776</td>\n",
       "      <td>Critical</td>\n",
       "      <td>0.06</td>\n",
       "      <td>9.48</td>\n",
       "      <td>7.29</td>\n",
       "      <td>11</td>\n",
       "      <td>Marcus Dunlap</td>\n",
       "      <td>Regular Air</td>\n",
       "      <td>Home Office</td>\n",
       "      <td>Furniture</td>\n",
       "      <td>...</td>\n",
       "      <td>East</td>\n",
       "      <td>New Jersey</td>\n",
       "      <td>Roselle</td>\n",
       "      <td>7203</td>\n",
       "      <td>2010-08-15</td>\n",
       "      <td>2010-08-17</td>\n",
       "      <td>-53.809600</td>\n",
       "      <td>22</td>\n",
       "      <td>211.15</td>\n",
       "      <td>90192</td>\n",
       "    </tr>\n",
       "    <tr>\n",
       "      <th>18</th>\n",
       "      <td>23328</td>\n",
       "      <td>High</td>\n",
       "      <td>0.04</td>\n",
       "      <td>10.98</td>\n",
       "      <td>3.37</td>\n",
       "      <td>12</td>\n",
       "      <td>Kara Pace</td>\n",
       "      <td>Regular Air</td>\n",
       "      <td>Home Office</td>\n",
       "      <td>Office Supplies</td>\n",
       "      <td>...</td>\n",
       "      <td>East</td>\n",
       "      <td>Rhode Island</td>\n",
       "      <td>Cranston</td>\n",
       "      <td>2907</td>\n",
       "      <td>2012-02-24</td>\n",
       "      <td>2012-02-26</td>\n",
       "      <td>23.120000</td>\n",
       "      <td>8</td>\n",
       "      <td>90.39</td>\n",
       "      <td>90196</td>\n",
       "    </tr>\n",
       "    <tr>\n",
       "      <th>19</th>\n",
       "      <td>24844</td>\n",
       "      <td>Medium</td>\n",
       "      <td>0.09</td>\n",
       "      <td>78.69</td>\n",
       "      <td>19.99</td>\n",
       "      <td>14</td>\n",
       "      <td>Gwendolyn F Tyson</td>\n",
       "      <td>Regular Air</td>\n",
       "      <td>Small Business</td>\n",
       "      <td>Furniture</td>\n",
       "      <td>...</td>\n",
       "      <td>Central</td>\n",
       "      <td>Minnesota</td>\n",
       "      <td>Prior Lake</td>\n",
       "      <td>55372</td>\n",
       "      <td>2010-05-12</td>\n",
       "      <td>2010-05-14</td>\n",
       "      <td>803.470500</td>\n",
       "      <td>16</td>\n",
       "      <td>1164.45</td>\n",
       "      <td>86838</td>\n",
       "    </tr>\n",
       "    <tr>\n",
       "      <th>20</th>\n",
       "      <td>24846</td>\n",
       "      <td>Medium</td>\n",
       "      <td>0.08</td>\n",
       "      <td>3.28</td>\n",
       "      <td>2.31</td>\n",
       "      <td>14</td>\n",
       "      <td>Gwendolyn F Tyson</td>\n",
       "      <td>Regular Air</td>\n",
       "      <td>Small Business</td>\n",
       "      <td>Office Supplies</td>\n",
       "      <td>...</td>\n",
       "      <td>Central</td>\n",
       "      <td>Minnesota</td>\n",
       "      <td>Prior Lake</td>\n",
       "      <td>55372</td>\n",
       "      <td>2010-05-12</td>\n",
       "      <td>2010-05-13</td>\n",
       "      <td>-24.030000</td>\n",
       "      <td>7</td>\n",
       "      <td>22.23</td>\n",
       "      <td>86838</td>\n",
       "    </tr>\n",
       "    <tr>\n",
       "      <th>21</th>\n",
       "      <td>24847</td>\n",
       "      <td>Medium</td>\n",
       "      <td>0.05</td>\n",
       "      <td>3.28</td>\n",
       "      <td>4.20</td>\n",
       "      <td>14</td>\n",
       "      <td>Gwendolyn F Tyson</td>\n",
       "      <td>Regular Air</td>\n",
       "      <td>Small Business</td>\n",
       "      <td>Office Supplies</td>\n",
       "      <td>...</td>\n",
       "      <td>Central</td>\n",
       "      <td>Minnesota</td>\n",
       "      <td>Prior Lake</td>\n",
       "      <td>55372</td>\n",
       "      <td>2010-05-12</td>\n",
       "      <td>2010-05-13</td>\n",
       "      <td>-37.030000</td>\n",
       "      <td>4</td>\n",
       "      <td>13.99</td>\n",
       "      <td>86838</td>\n",
       "    </tr>\n",
       "    <tr>\n",
       "      <th>22</th>\n",
       "      <td>24848</td>\n",
       "      <td>Medium</td>\n",
       "      <td>0.05</td>\n",
       "      <td>3.58</td>\n",
       "      <td>1.63</td>\n",
       "      <td>14</td>\n",
       "      <td>Gwendolyn F Tyson</td>\n",
       "      <td>Regular Air</td>\n",
       "      <td>Small Business</td>\n",
       "      <td>Office Supplies</td>\n",
       "      <td>...</td>\n",
       "      <td>Central</td>\n",
       "      <td>Minnesota</td>\n",
       "      <td>Prior Lake</td>\n",
       "      <td>55372</td>\n",
       "      <td>2010-05-12</td>\n",
       "      <td>2010-05-13</td>\n",
       "      <td>-0.710000</td>\n",
       "      <td>4</td>\n",
       "      <td>14.26</td>\n",
       "      <td>86838</td>\n",
       "    </tr>\n",
       "    <tr>\n",
       "      <th>23</th>\n",
       "      <td>24845</td>\n",
       "      <td>Medium</td>\n",
       "      <td>0.01</td>\n",
       "      <td>6.48</td>\n",
       "      <td>7.86</td>\n",
       "      <td>14</td>\n",
       "      <td>Gwendolyn F Tyson</td>\n",
       "      <td>Regular Air</td>\n",
       "      <td>Small Business</td>\n",
       "      <td>Office Supplies</td>\n",
       "      <td>...</td>\n",
       "      <td>Central</td>\n",
       "      <td>Minnesota</td>\n",
       "      <td>Prior Lake</td>\n",
       "      <td>55372</td>\n",
       "      <td>2013-05-12</td>\n",
       "      <td>2013-05-13</td>\n",
       "      <td>-44.540000</td>\n",
       "      <td>4</td>\n",
       "      <td>29.55</td>\n",
       "      <td>86845</td>\n",
       "    </tr>\n",
       "    <tr>\n",
       "      <th>24</th>\n",
       "      <td>18181</td>\n",
       "      <td>Critical</td>\n",
       "      <td>0.00</td>\n",
       "      <td>4.42</td>\n",
       "      <td>4.99</td>\n",
       "      <td>15</td>\n",
       "      <td>Timothy Reese</td>\n",
       "      <td>Regular Air</td>\n",
       "      <td>Small Business</td>\n",
       "      <td>Office Supplies</td>\n",
       "      <td>...</td>\n",
       "      <td>East</td>\n",
       "      <td>New York</td>\n",
       "      <td>Smithtown</td>\n",
       "      <td>11787</td>\n",
       "      <td>2010-04-08</td>\n",
       "      <td>2010-04-09</td>\n",
       "      <td>-59.820000</td>\n",
       "      <td>7</td>\n",
       "      <td>33.47</td>\n",
       "      <td>86837</td>\n",
       "    </tr>\n",
       "    <tr>\n",
       "      <th>25</th>\n",
       "      <td>20925</td>\n",
       "      <td>Medium</td>\n",
       "      <td>0.01</td>\n",
       "      <td>35.94</td>\n",
       "      <td>6.66</td>\n",
       "      <td>15</td>\n",
       "      <td>Timothy Reese</td>\n",
       "      <td>Regular Air</td>\n",
       "      <td>Small Business</td>\n",
       "      <td>Office Supplies</td>\n",
       "      <td>...</td>\n",
       "      <td>East</td>\n",
       "      <td>New York</td>\n",
       "      <td>Smithtown</td>\n",
       "      <td>11787</td>\n",
       "      <td>2010-05-28</td>\n",
       "      <td>2010-05-28</td>\n",
       "      <td>261.875700</td>\n",
       "      <td>10</td>\n",
       "      <td>379.53</td>\n",
       "      <td>86839</td>\n",
       "    </tr>\n",
       "    <tr>\n",
       "      <th>26</th>\n",
       "      <td>18263</td>\n",
       "      <td>Medium</td>\n",
       "      <td>0.03</td>\n",
       "      <td>1.76</td>\n",
       "      <td>0.70</td>\n",
       "      <td>15</td>\n",
       "      <td>Timothy Reese</td>\n",
       "      <td>Regular Air</td>\n",
       "      <td>Small Business</td>\n",
       "      <td>Office Supplies</td>\n",
       "      <td>...</td>\n",
       "      <td>East</td>\n",
       "      <td>New York</td>\n",
       "      <td>Smithtown</td>\n",
       "      <td>11787</td>\n",
       "      <td>2011-12-04</td>\n",
       "      <td>2011-12-06</td>\n",
       "      <td>-1.170000</td>\n",
       "      <td>10</td>\n",
       "      <td>17.39</td>\n",
       "      <td>86840</td>\n",
       "    </tr>\n",
       "    <tr>\n",
       "      <th>27</th>\n",
       "      <td>18554</td>\n",
       "      <td>Medium</td>\n",
       "      <td>0.04</td>\n",
       "      <td>5.98</td>\n",
       "      <td>5.20</td>\n",
       "      <td>15</td>\n",
       "      <td>Timothy Reese</td>\n",
       "      <td>Regular Air</td>\n",
       "      <td>Small Business</td>\n",
       "      <td>Office Supplies</td>\n",
       "      <td>...</td>\n",
       "      <td>East</td>\n",
       "      <td>New York</td>\n",
       "      <td>Smithtown</td>\n",
       "      <td>11787</td>\n",
       "      <td>2012-04-29</td>\n",
       "      <td>2012-05-01</td>\n",
       "      <td>-24.030000</td>\n",
       "      <td>3</td>\n",
       "      <td>19.04</td>\n",
       "      <td>86841</td>\n",
       "    </tr>\n",
       "    <tr>\n",
       "      <th>28</th>\n",
       "      <td>22781</td>\n",
       "      <td>Low</td>\n",
       "      <td>0.00</td>\n",
       "      <td>7.59</td>\n",
       "      <td>4.00</td>\n",
       "      <td>15</td>\n",
       "      <td>Timothy Reese</td>\n",
       "      <td>Regular Air</td>\n",
       "      <td>Small Business</td>\n",
       "      <td>Furniture</td>\n",
       "      <td>...</td>\n",
       "      <td>East</td>\n",
       "      <td>New York</td>\n",
       "      <td>Smithtown</td>\n",
       "      <td>11787</td>\n",
       "      <td>2013-01-19</td>\n",
       "      <td>2013-01-21</td>\n",
       "      <td>23.266800</td>\n",
       "      <td>4</td>\n",
       "      <td>33.72</td>\n",
       "      <td>86842</td>\n",
       "    </tr>\n",
       "    <tr>\n",
       "      <th>29</th>\n",
       "      <td>23287</td>\n",
       "      <td>Low</td>\n",
       "      <td>0.07</td>\n",
       "      <td>4.13</td>\n",
       "      <td>6.89</td>\n",
       "      <td>15</td>\n",
       "      <td>Timothy Reese</td>\n",
       "      <td>Regular Air</td>\n",
       "      <td>Small Business</td>\n",
       "      <td>Office Supplies</td>\n",
       "      <td>...</td>\n",
       "      <td>East</td>\n",
       "      <td>New York</td>\n",
       "      <td>Smithtown</td>\n",
       "      <td>11787</td>\n",
       "      <td>2013-01-21</td>\n",
       "      <td>2013-01-23</td>\n",
       "      <td>-174.269600</td>\n",
       "      <td>9</td>\n",
       "      <td>38.18</td>\n",
       "      <td>86843</td>\n",
       "    </tr>\n",
       "    <tr>\n",
       "      <th>...</th>\n",
       "      <td>...</td>\n",
       "      <td>...</td>\n",
       "      <td>...</td>\n",
       "      <td>...</td>\n",
       "      <td>...</td>\n",
       "      <td>...</td>\n",
       "      <td>...</td>\n",
       "      <td>...</td>\n",
       "      <td>...</td>\n",
       "      <td>...</td>\n",
       "      <td>...</td>\n",
       "      <td>...</td>\n",
       "      <td>...</td>\n",
       "      <td>...</td>\n",
       "      <td>...</td>\n",
       "      <td>...</td>\n",
       "      <td>...</td>\n",
       "      <td>...</td>\n",
       "      <td>...</td>\n",
       "      <td>...</td>\n",
       "      <td>...</td>\n",
       "    </tr>\n",
       "    <tr>\n",
       "      <th>70</th>\n",
       "      <td>22410</td>\n",
       "      <td>Medium</td>\n",
       "      <td>0.08</td>\n",
       "      <td>59.98</td>\n",
       "      <td>3.99</td>\n",
       "      <td>26</td>\n",
       "      <td>Marguerite Kane</td>\n",
       "      <td>Regular Air</td>\n",
       "      <td>Corporate</td>\n",
       "      <td>Office Supplies</td>\n",
       "      <td>...</td>\n",
       "      <td>West</td>\n",
       "      <td>California</td>\n",
       "      <td>Lake Forest</td>\n",
       "      <td>92630</td>\n",
       "      <td>2012-06-27</td>\n",
       "      <td>2012-06-29</td>\n",
       "      <td>420.984000</td>\n",
       "      <td>11</td>\n",
       "      <td>619.14</td>\n",
       "      <td>87658</td>\n",
       "    </tr>\n",
       "    <tr>\n",
       "      <th>71</th>\n",
       "      <td>22737</td>\n",
       "      <td>Not Specified</td>\n",
       "      <td>0.00</td>\n",
       "      <td>2.89</td>\n",
       "      <td>0.50</td>\n",
       "      <td>26</td>\n",
       "      <td>Marguerite Kane</td>\n",
       "      <td>Express Air</td>\n",
       "      <td>Corporate</td>\n",
       "      <td>Office Supplies</td>\n",
       "      <td>...</td>\n",
       "      <td>West</td>\n",
       "      <td>California</td>\n",
       "      <td>Lake Forest</td>\n",
       "      <td>92630</td>\n",
       "      <td>2013-09-02</td>\n",
       "      <td>2013-09-03</td>\n",
       "      <td>19.409700</td>\n",
       "      <td>7</td>\n",
       "      <td>28.13</td>\n",
       "      <td>87667</td>\n",
       "    </tr>\n",
       "    <tr>\n",
       "      <th>72</th>\n",
       "      <td>21292</td>\n",
       "      <td>High</td>\n",
       "      <td>0.09</td>\n",
       "      <td>3.69</td>\n",
       "      <td>0.50</td>\n",
       "      <td>26</td>\n",
       "      <td>Marguerite Kane</td>\n",
       "      <td>Regular Air</td>\n",
       "      <td>Corporate</td>\n",
       "      <td>Office Supplies</td>\n",
       "      <td>...</td>\n",
       "      <td>West</td>\n",
       "      <td>California</td>\n",
       "      <td>Lake Forest</td>\n",
       "      <td>92630</td>\n",
       "      <td>2013-12-11</td>\n",
       "      <td>2013-12-12</td>\n",
       "      <td>37.370400</td>\n",
       "      <td>15</td>\n",
       "      <td>54.16</td>\n",
       "      <td>87670</td>\n",
       "    </tr>\n",
       "    <tr>\n",
       "      <th>73</th>\n",
       "      <td>21293</td>\n",
       "      <td>High</td>\n",
       "      <td>0.06</td>\n",
       "      <td>65.99</td>\n",
       "      <td>8.99</td>\n",
       "      <td>26</td>\n",
       "      <td>Marguerite Kane</td>\n",
       "      <td>Regular Air</td>\n",
       "      <td>Corporate</td>\n",
       "      <td>Technology</td>\n",
       "      <td>...</td>\n",
       "      <td>West</td>\n",
       "      <td>California</td>\n",
       "      <td>Lake Forest</td>\n",
       "      <td>92630</td>\n",
       "      <td>2013-12-11</td>\n",
       "      <td>2013-12-12</td>\n",
       "      <td>-85.606752</td>\n",
       "      <td>3</td>\n",
       "      <td>170.67</td>\n",
       "      <td>87670</td>\n",
       "    </tr>\n",
       "    <tr>\n",
       "      <th>74</th>\n",
       "      <td>23967</td>\n",
       "      <td>Not Specified</td>\n",
       "      <td>0.04</td>\n",
       "      <td>4.14</td>\n",
       "      <td>6.60</td>\n",
       "      <td>27</td>\n",
       "      <td>Guy Gallagher</td>\n",
       "      <td>Regular Air</td>\n",
       "      <td>Corporate</td>\n",
       "      <td>Furniture</td>\n",
       "      <td>...</td>\n",
       "      <td>West</td>\n",
       "      <td>California</td>\n",
       "      <td>Lakewood</td>\n",
       "      <td>90712</td>\n",
       "      <td>2010-11-02</td>\n",
       "      <td>2010-11-04</td>\n",
       "      <td>8.894000</td>\n",
       "      <td>12</td>\n",
       "      <td>54.78</td>\n",
       "      <td>87652</td>\n",
       "    </tr>\n",
       "    <tr>\n",
       "      <th>75</th>\n",
       "      <td>23535</td>\n",
       "      <td>Low</td>\n",
       "      <td>0.10</td>\n",
       "      <td>35.44</td>\n",
       "      <td>19.99</td>\n",
       "      <td>27</td>\n",
       "      <td>Guy Gallagher</td>\n",
       "      <td>Regular Air</td>\n",
       "      <td>Corporate</td>\n",
       "      <td>Office Supplies</td>\n",
       "      <td>...</td>\n",
       "      <td>West</td>\n",
       "      <td>California</td>\n",
       "      <td>Lakewood</td>\n",
       "      <td>90712</td>\n",
       "      <td>2012-07-12</td>\n",
       "      <td>2012-07-14</td>\n",
       "      <td>-47.010000</td>\n",
       "      <td>4</td>\n",
       "      <td>142.51</td>\n",
       "      <td>87659</td>\n",
       "    </tr>\n",
       "    <tr>\n",
       "      <th>76</th>\n",
       "      <td>23536</td>\n",
       "      <td>Low</td>\n",
       "      <td>0.06</td>\n",
       "      <td>55.48</td>\n",
       "      <td>14.30</td>\n",
       "      <td>27</td>\n",
       "      <td>Guy Gallagher</td>\n",
       "      <td>Regular Air</td>\n",
       "      <td>Corporate</td>\n",
       "      <td>Office Supplies</td>\n",
       "      <td>...</td>\n",
       "      <td>West</td>\n",
       "      <td>California</td>\n",
       "      <td>Lakewood</td>\n",
       "      <td>90712</td>\n",
       "      <td>2012-07-12</td>\n",
       "      <td>2012-07-17</td>\n",
       "      <td>346.704300</td>\n",
       "      <td>9</td>\n",
       "      <td>502.47</td>\n",
       "      <td>87659</td>\n",
       "    </tr>\n",
       "    <tr>\n",
       "      <th>77</th>\n",
       "      <td>23505</td>\n",
       "      <td>Critical</td>\n",
       "      <td>0.00</td>\n",
       "      <td>8.09</td>\n",
       "      <td>7.96</td>\n",
       "      <td>27</td>\n",
       "      <td>Guy Gallagher</td>\n",
       "      <td>Express Air</td>\n",
       "      <td>Corporate</td>\n",
       "      <td>Furniture</td>\n",
       "      <td>...</td>\n",
       "      <td>West</td>\n",
       "      <td>California</td>\n",
       "      <td>Lakewood</td>\n",
       "      <td>90712</td>\n",
       "      <td>2012-10-26</td>\n",
       "      <td>2012-10-26</td>\n",
       "      <td>-171.266400</td>\n",
       "      <td>23</td>\n",
       "      <td>204.57</td>\n",
       "      <td>87661</td>\n",
       "    </tr>\n",
       "    <tr>\n",
       "      <th>78</th>\n",
       "      <td>23506</td>\n",
       "      <td>Critical</td>\n",
       "      <td>0.06</td>\n",
       "      <td>14.20</td>\n",
       "      <td>5.30</td>\n",
       "      <td>27</td>\n",
       "      <td>Guy Gallagher</td>\n",
       "      <td>Regular Air</td>\n",
       "      <td>Corporate</td>\n",
       "      <td>Furniture</td>\n",
       "      <td>...</td>\n",
       "      <td>West</td>\n",
       "      <td>California</td>\n",
       "      <td>Lakewood</td>\n",
       "      <td>90712</td>\n",
       "      <td>2012-10-26</td>\n",
       "      <td>2012-10-28</td>\n",
       "      <td>33.414400</td>\n",
       "      <td>11</td>\n",
       "      <td>161.11</td>\n",
       "      <td>87661</td>\n",
       "    </tr>\n",
       "    <tr>\n",
       "      <th>79</th>\n",
       "      <td>23968</td>\n",
       "      <td>Not Specified</td>\n",
       "      <td>0.01</td>\n",
       "      <td>65.99</td>\n",
       "      <td>8.99</td>\n",
       "      <td>27</td>\n",
       "      <td>Guy Gallagher</td>\n",
       "      <td>Regular Air</td>\n",
       "      <td>Corporate</td>\n",
       "      <td>Technology</td>\n",
       "      <td>...</td>\n",
       "      <td>West</td>\n",
       "      <td>California</td>\n",
       "      <td>Lakewood</td>\n",
       "      <td>90712</td>\n",
       "      <td>2013-11-02</td>\n",
       "      <td>2013-11-04</td>\n",
       "      <td>847.943712</td>\n",
       "      <td>29</td>\n",
       "      <td>1730.04</td>\n",
       "      <td>87668</td>\n",
       "    </tr>\n",
       "    <tr>\n",
       "      <th>80</th>\n",
       "      <td>24987</td>\n",
       "      <td>High</td>\n",
       "      <td>0.06</td>\n",
       "      <td>2.88</td>\n",
       "      <td>0.70</td>\n",
       "      <td>28</td>\n",
       "      <td>Ronnie McNamara</td>\n",
       "      <td>Regular Air</td>\n",
       "      <td>Corporate</td>\n",
       "      <td>Office Supplies</td>\n",
       "      <td>...</td>\n",
       "      <td>West</td>\n",
       "      <td>California</td>\n",
       "      <td>Lancaster</td>\n",
       "      <td>93534</td>\n",
       "      <td>2011-01-22</td>\n",
       "      <td>2011-01-23</td>\n",
       "      <td>-2.207200</td>\n",
       "      <td>1</td>\n",
       "      <td>3.41</td>\n",
       "      <td>87653</td>\n",
       "    </tr>\n",
       "    <tr>\n",
       "      <th>81</th>\n",
       "      <td>24074</td>\n",
       "      <td>Critical</td>\n",
       "      <td>0.07</td>\n",
       "      <td>225.04</td>\n",
       "      <td>11.79</td>\n",
       "      <td>28</td>\n",
       "      <td>Ronnie McNamara</td>\n",
       "      <td>Regular Air</td>\n",
       "      <td>Corporate</td>\n",
       "      <td>Office Supplies</td>\n",
       "      <td>...</td>\n",
       "      <td>West</td>\n",
       "      <td>California</td>\n",
       "      <td>Lancaster</td>\n",
       "      <td>93534</td>\n",
       "      <td>2013-04-14</td>\n",
       "      <td>2013-04-16</td>\n",
       "      <td>28.810000</td>\n",
       "      <td>1</td>\n",
       "      <td>226.03</td>\n",
       "      <td>87665</td>\n",
       "    </tr>\n",
       "    <tr>\n",
       "      <th>82</th>\n",
       "      <td>25324</td>\n",
       "      <td>Not Specified</td>\n",
       "      <td>0.08</td>\n",
       "      <td>65.99</td>\n",
       "      <td>3.90</td>\n",
       "      <td>29</td>\n",
       "      <td>Elizabeth Walker</td>\n",
       "      <td>Regular Air</td>\n",
       "      <td>Corporate</td>\n",
       "      <td>Technology</td>\n",
       "      <td>...</td>\n",
       "      <td>West</td>\n",
       "      <td>California</td>\n",
       "      <td>Lawndale</td>\n",
       "      <td>90260</td>\n",
       "      <td>2011-01-30</td>\n",
       "      <td>2011-02-01</td>\n",
       "      <td>-120.523040</td>\n",
       "      <td>3</td>\n",
       "      <td>164.10</td>\n",
       "      <td>87654</td>\n",
       "    </tr>\n",
       "    <tr>\n",
       "      <th>83</th>\n",
       "      <td>25323</td>\n",
       "      <td>Not Specified</td>\n",
       "      <td>0.08</td>\n",
       "      <td>3.08</td>\n",
       "      <td>0.99</td>\n",
       "      <td>29</td>\n",
       "      <td>Elizabeth Walker</td>\n",
       "      <td>Regular Air</td>\n",
       "      <td>Corporate</td>\n",
       "      <td>Office Supplies</td>\n",
       "      <td>...</td>\n",
       "      <td>West</td>\n",
       "      <td>California</td>\n",
       "      <td>Lawndale</td>\n",
       "      <td>90260</td>\n",
       "      <td>2013-01-30</td>\n",
       "      <td>2013-01-31</td>\n",
       "      <td>-1.686400</td>\n",
       "      <td>1</td>\n",
       "      <td>3.85</td>\n",
       "      <td>87664</td>\n",
       "    </tr>\n",
       "    <tr>\n",
       "      <th>84</th>\n",
       "      <td>18877</td>\n",
       "      <td>High</td>\n",
       "      <td>0.01</td>\n",
       "      <td>6.48</td>\n",
       "      <td>6.65</td>\n",
       "      <td>31</td>\n",
       "      <td>Alice Capps</td>\n",
       "      <td>Regular Air</td>\n",
       "      <td>Corporate</td>\n",
       "      <td>Office Supplies</td>\n",
       "      <td>...</td>\n",
       "      <td>West</td>\n",
       "      <td>Oregon</td>\n",
       "      <td>Eugene</td>\n",
       "      <td>97405</td>\n",
       "      <td>2012-08-11</td>\n",
       "      <td>2012-08-13</td>\n",
       "      <td>-43.331600</td>\n",
       "      <td>15</td>\n",
       "      <td>99.56</td>\n",
       "      <td>89206</td>\n",
       "    </tr>\n",
       "    <tr>\n",
       "      <th>85</th>\n",
       "      <td>23509</td>\n",
       "      <td>High</td>\n",
       "      <td>0.08</td>\n",
       "      <td>34.99</td>\n",
       "      <td>7.73</td>\n",
       "      <td>32</td>\n",
       "      <td>Matthew Berman</td>\n",
       "      <td>Regular Air</td>\n",
       "      <td>Corporate</td>\n",
       "      <td>Office Supplies</td>\n",
       "      <td>...</td>\n",
       "      <td>West</td>\n",
       "      <td>Oregon</td>\n",
       "      <td>Grants Pass</td>\n",
       "      <td>97526</td>\n",
       "      <td>2010-02-22</td>\n",
       "      <td>2010-02-23</td>\n",
       "      <td>144.690000</td>\n",
       "      <td>13</td>\n",
       "      <td>424.68</td>\n",
       "      <td>89199</td>\n",
       "    </tr>\n",
       "    <tr>\n",
       "      <th>86</th>\n",
       "      <td>23612</td>\n",
       "      <td>High</td>\n",
       "      <td>0.01</td>\n",
       "      <td>17.98</td>\n",
       "      <td>8.51</td>\n",
       "      <td>32</td>\n",
       "      <td>Matthew Berman</td>\n",
       "      <td>Regular Air</td>\n",
       "      <td>Corporate</td>\n",
       "      <td>Technology</td>\n",
       "      <td>...</td>\n",
       "      <td>West</td>\n",
       "      <td>Oregon</td>\n",
       "      <td>Grants Pass</td>\n",
       "      <td>97526</td>\n",
       "      <td>2010-03-27</td>\n",
       "      <td>2010-03-28</td>\n",
       "      <td>-35.878800</td>\n",
       "      <td>2</td>\n",
       "      <td>40.17</td>\n",
       "      <td>89200</td>\n",
       "    </tr>\n",
       "    <tr>\n",
       "      <th>87</th>\n",
       "      <td>23278</td>\n",
       "      <td>Medium</td>\n",
       "      <td>0.09</td>\n",
       "      <td>125.99</td>\n",
       "      <td>7.69</td>\n",
       "      <td>32</td>\n",
       "      <td>Matthew Berman</td>\n",
       "      <td>Express Air</td>\n",
       "      <td>Corporate</td>\n",
       "      <td>Technology</td>\n",
       "      <td>...</td>\n",
       "      <td>West</td>\n",
       "      <td>Oregon</td>\n",
       "      <td>Grants Pass</td>\n",
       "      <td>97526</td>\n",
       "      <td>2010-07-20</td>\n",
       "      <td>2010-07-22</td>\n",
       "      <td>209.997000</td>\n",
       "      <td>8</td>\n",
       "      <td>783.55</td>\n",
       "      <td>89202</td>\n",
       "    </tr>\n",
       "    <tr>\n",
       "      <th>88</th>\n",
       "      <td>19355</td>\n",
       "      <td>Low</td>\n",
       "      <td>0.06</td>\n",
       "      <td>205.99</td>\n",
       "      <td>8.99</td>\n",
       "      <td>32</td>\n",
       "      <td>Matthew Berman</td>\n",
       "      <td>Regular Air</td>\n",
       "      <td>Corporate</td>\n",
       "      <td>Technology</td>\n",
       "      <td>...</td>\n",
       "      <td>West</td>\n",
       "      <td>Oregon</td>\n",
       "      <td>Grants Pass</td>\n",
       "      <td>97526</td>\n",
       "      <td>2010-09-12</td>\n",
       "      <td>2010-09-19</td>\n",
       "      <td>2568.096000</td>\n",
       "      <td>22</td>\n",
       "      <td>3838.14</td>\n",
       "      <td>89203</td>\n",
       "    </tr>\n",
       "    <tr>\n",
       "      <th>89</th>\n",
       "      <td>21213</td>\n",
       "      <td>Critical</td>\n",
       "      <td>0.08</td>\n",
       "      <td>8.95</td>\n",
       "      <td>2.01</td>\n",
       "      <td>32</td>\n",
       "      <td>Matthew Berman</td>\n",
       "      <td>Regular Air</td>\n",
       "      <td>Corporate</td>\n",
       "      <td>Office Supplies</td>\n",
       "      <td>...</td>\n",
       "      <td>West</td>\n",
       "      <td>Oregon</td>\n",
       "      <td>Grants Pass</td>\n",
       "      <td>97526</td>\n",
       "      <td>2011-10-06</td>\n",
       "      <td>2011-10-08</td>\n",
       "      <td>85.863600</td>\n",
       "      <td>15</td>\n",
       "      <td>133.07</td>\n",
       "      <td>89204</td>\n",
       "    </tr>\n",
       "    <tr>\n",
       "      <th>90</th>\n",
       "      <td>22221</td>\n",
       "      <td>High</td>\n",
       "      <td>0.06</td>\n",
       "      <td>449.99</td>\n",
       "      <td>49.00</td>\n",
       "      <td>32</td>\n",
       "      <td>Matthew Berman</td>\n",
       "      <td>Delivery Truck</td>\n",
       "      <td>Corporate</td>\n",
       "      <td>Technology</td>\n",
       "      <td>...</td>\n",
       "      <td>West</td>\n",
       "      <td>Oregon</td>\n",
       "      <td>Grants Pass</td>\n",
       "      <td>97526</td>\n",
       "      <td>2013-06-12</td>\n",
       "      <td>2013-06-14</td>\n",
       "      <td>345.000000</td>\n",
       "      <td>5</td>\n",
       "      <td>2157.25</td>\n",
       "      <td>89207</td>\n",
       "    </tr>\n",
       "    <tr>\n",
       "      <th>91</th>\n",
       "      <td>23654</td>\n",
       "      <td>Not Specified</td>\n",
       "      <td>0.03</td>\n",
       "      <td>4.24</td>\n",
       "      <td>5.41</td>\n",
       "      <td>33</td>\n",
       "      <td>Ricky Hensley</td>\n",
       "      <td>Regular Air</td>\n",
       "      <td>Corporate</td>\n",
       "      <td>Office Supplies</td>\n",
       "      <td>...</td>\n",
       "      <td>West</td>\n",
       "      <td>Oregon</td>\n",
       "      <td>Gresham</td>\n",
       "      <td>97030</td>\n",
       "      <td>2010-06-15</td>\n",
       "      <td>2010-06-17</td>\n",
       "      <td>-84.437600</td>\n",
       "      <td>13</td>\n",
       "      <td>58.68</td>\n",
       "      <td>89201</td>\n",
       "    </tr>\n",
       "    <tr>\n",
       "      <th>92</th>\n",
       "      <td>23655</td>\n",
       "      <td>Not Specified</td>\n",
       "      <td>0.04</td>\n",
       "      <td>2.94</td>\n",
       "      <td>0.70</td>\n",
       "      <td>33</td>\n",
       "      <td>Ricky Hensley</td>\n",
       "      <td>Regular Air</td>\n",
       "      <td>Corporate</td>\n",
       "      <td>Office Supplies</td>\n",
       "      <td>...</td>\n",
       "      <td>West</td>\n",
       "      <td>Oregon</td>\n",
       "      <td>Gresham</td>\n",
       "      <td>97030</td>\n",
       "      <td>2010-06-15</td>\n",
       "      <td>2010-06-16</td>\n",
       "      <td>24.312000</td>\n",
       "      <td>18</td>\n",
       "      <td>53.10</td>\n",
       "      <td>89201</td>\n",
       "    </tr>\n",
       "    <tr>\n",
       "      <th>93</th>\n",
       "      <td>25327</td>\n",
       "      <td>Medium</td>\n",
       "      <td>0.05</td>\n",
       "      <td>4.82</td>\n",
       "      <td>5.24</td>\n",
       "      <td>33</td>\n",
       "      <td>Ricky Hensley</td>\n",
       "      <td>Regular Air</td>\n",
       "      <td>Corporate</td>\n",
       "      <td>Office Supplies</td>\n",
       "      <td>...</td>\n",
       "      <td>West</td>\n",
       "      <td>Oregon</td>\n",
       "      <td>Gresham</td>\n",
       "      <td>97030</td>\n",
       "      <td>2012-01-26</td>\n",
       "      <td>2012-01-27</td>\n",
       "      <td>-75.121680</td>\n",
       "      <td>5</td>\n",
       "      <td>24.27</td>\n",
       "      <td>89205</td>\n",
       "    </tr>\n",
       "    <tr>\n",
       "      <th>94</th>\n",
       "      <td>24531</td>\n",
       "      <td>Critical</td>\n",
       "      <td>0.05</td>\n",
       "      <td>70.98</td>\n",
       "      <td>30.00</td>\n",
       "      <td>33</td>\n",
       "      <td>Ricky Hensley</td>\n",
       "      <td>Delivery Truck</td>\n",
       "      <td>Corporate</td>\n",
       "      <td>Furniture</td>\n",
       "      <td>...</td>\n",
       "      <td>West</td>\n",
       "      <td>Oregon</td>\n",
       "      <td>Gresham</td>\n",
       "      <td>97030</td>\n",
       "      <td>2013-08-16</td>\n",
       "      <td>2013-08-18</td>\n",
       "      <td>-162.150320</td>\n",
       "      <td>9</td>\n",
       "      <td>640.97</td>\n",
       "      <td>89208</td>\n",
       "    </tr>\n",
       "    <tr>\n",
       "      <th>95</th>\n",
       "      <td>24532</td>\n",
       "      <td>Critical</td>\n",
       "      <td>0.05</td>\n",
       "      <td>4.98</td>\n",
       "      <td>4.70</td>\n",
       "      <td>33</td>\n",
       "      <td>Ricky Hensley</td>\n",
       "      <td>Regular Air</td>\n",
       "      <td>Corporate</td>\n",
       "      <td>Office Supplies</td>\n",
       "      <td>...</td>\n",
       "      <td>West</td>\n",
       "      <td>Oregon</td>\n",
       "      <td>Gresham</td>\n",
       "      <td>97030</td>\n",
       "      <td>2013-08-16</td>\n",
       "      <td>2013-08-18</td>\n",
       "      <td>-14.992640</td>\n",
       "      <td>9</td>\n",
       "      <td>46.63</td>\n",
       "      <td>89208</td>\n",
       "    </tr>\n",
       "    <tr>\n",
       "      <th>96</th>\n",
       "      <td>25223</td>\n",
       "      <td>Not Specified</td>\n",
       "      <td>0.00</td>\n",
       "      <td>6783.02</td>\n",
       "      <td>24.49</td>\n",
       "      <td>35</td>\n",
       "      <td>Milton Bland</td>\n",
       "      <td>Regular Air</td>\n",
       "      <td>Small Business</td>\n",
       "      <td>Technology</td>\n",
       "      <td>...</td>\n",
       "      <td>West</td>\n",
       "      <td>Oregon</td>\n",
       "      <td>Gresham</td>\n",
       "      <td>97030</td>\n",
       "      <td>2012-11-27</td>\n",
       "      <td>2012-11-28</td>\n",
       "      <td>2396.879580</td>\n",
       "      <td>3</td>\n",
       "      <td>21366.51</td>\n",
       "      <td>91256</td>\n",
       "    </tr>\n",
       "    <tr>\n",
       "      <th>97</th>\n",
       "      <td>21026</td>\n",
       "      <td>Low</td>\n",
       "      <td>0.07</td>\n",
       "      <td>65.99</td>\n",
       "      <td>3.99</td>\n",
       "      <td>35</td>\n",
       "      <td>Milton Bland</td>\n",
       "      <td>Regular Air</td>\n",
       "      <td>Small Business</td>\n",
       "      <td>Technology</td>\n",
       "      <td>...</td>\n",
       "      <td>West</td>\n",
       "      <td>Oregon</td>\n",
       "      <td>Gresham</td>\n",
       "      <td>97030</td>\n",
       "      <td>2013-05-28</td>\n",
       "      <td>2013-06-02</td>\n",
       "      <td>165.501000</td>\n",
       "      <td>7</td>\n",
       "      <td>394.37</td>\n",
       "      <td>91257</td>\n",
       "    </tr>\n",
       "    <tr>\n",
       "      <th>98</th>\n",
       "      <td>25224</td>\n",
       "      <td>Not Specified</td>\n",
       "      <td>0.02</td>\n",
       "      <td>9.27</td>\n",
       "      <td>4.39</td>\n",
       "      <td>36</td>\n",
       "      <td>Ray Morgan</td>\n",
       "      <td>Express Air</td>\n",
       "      <td>Small Business</td>\n",
       "      <td>Office Supplies</td>\n",
       "      <td>...</td>\n",
       "      <td>West</td>\n",
       "      <td>Oregon</td>\n",
       "      <td>Hillsboro</td>\n",
       "      <td>97123</td>\n",
       "      <td>2012-11-27</td>\n",
       "      <td>2012-11-29</td>\n",
       "      <td>71.434000</td>\n",
       "      <td>29</td>\n",
       "      <td>272.98</td>\n",
       "      <td>91256</td>\n",
       "    </tr>\n",
       "    <tr>\n",
       "      <th>99</th>\n",
       "      <td>25225</td>\n",
       "      <td>Not Specified</td>\n",
       "      <td>0.03</td>\n",
       "      <td>6.68</td>\n",
       "      <td>6.15</td>\n",
       "      <td>36</td>\n",
       "      <td>Ray Morgan</td>\n",
       "      <td>Regular Air</td>\n",
       "      <td>Small Business</td>\n",
       "      <td>Office Supplies</td>\n",
       "      <td>...</td>\n",
       "      <td>West</td>\n",
       "      <td>Oregon</td>\n",
       "      <td>Hillsboro</td>\n",
       "      <td>97123</td>\n",
       "      <td>2012-11-27</td>\n",
       "      <td>2012-11-29</td>\n",
       "      <td>5.650000</td>\n",
       "      <td>10</td>\n",
       "      <td>73.81</td>\n",
       "      <td>91256</td>\n",
       "    </tr>\n",
       "  </tbody>\n",
       "</table>\n",
       "<p>100 rows × 24 columns</p>\n",
       "</div>"
      ],
      "text/plain": [
       "    Row ID Order Priority  Discount  Unit Price  Shipping Cost  Customer ID  \\\n",
       "0    18606  Not Specified      0.01        2.88           0.50            2   \n",
       "1    20847           High      0.01        2.84           0.93            3   \n",
       "2    23086  Not Specified      0.03        6.68           6.15            3   \n",
       "3    23087  Not Specified      0.01        5.68           3.60            3   \n",
       "4    23088  Not Specified      0.00      205.99           2.50            3   \n",
       "5    23597         Medium      0.09       55.48          14.30            3   \n",
       "6    25549            Low      0.08      120.97          26.30            3   \n",
       "7    20228  Not Specified      0.02      500.98          26.00            5   \n",
       "8    19483            Low      0.08        6.48           6.81            5   \n",
       "9    24782           High      0.01       90.24           0.99            6   \n",
       "10   24563       Critical      0.07        6.48           6.60            6   \n",
       "11   24564       Critical      0.01        4.84           0.71            6   \n",
       "12   24565       Critical      0.10       85.99           0.99            6   \n",
       "13   21866           High      0.05       12.28           4.86            7   \n",
       "14   20876         Medium      0.08      140.98          36.09            8   \n",
       "15   20877         Medium      0.10      286.85          61.76            9   \n",
       "16   22241       Critical      0.06       15.57           1.39           10   \n",
       "17   21776       Critical      0.06        9.48           7.29           11   \n",
       "18   23328           High      0.04       10.98           3.37           12   \n",
       "19   24844         Medium      0.09       78.69          19.99           14   \n",
       "20   24846         Medium      0.08        3.28           2.31           14   \n",
       "21   24847         Medium      0.05        3.28           4.20           14   \n",
       "22   24848         Medium      0.05        3.58           1.63           14   \n",
       "23   24845         Medium      0.01        6.48           7.86           14   \n",
       "24   18181       Critical      0.00        4.42           4.99           15   \n",
       "25   20925         Medium      0.01       35.94           6.66           15   \n",
       "26   18263         Medium      0.03        1.76           0.70           15   \n",
       "27   18554         Medium      0.04        5.98           5.20           15   \n",
       "28   22781            Low      0.00        7.59           4.00           15   \n",
       "29   23287            Low      0.07        4.13           6.89           15   \n",
       "..     ...            ...       ...         ...            ...          ...   \n",
       "70   22410         Medium      0.08       59.98           3.99           26   \n",
       "71   22737  Not Specified      0.00        2.89           0.50           26   \n",
       "72   21292           High      0.09        3.69           0.50           26   \n",
       "73   21293           High      0.06       65.99           8.99           26   \n",
       "74   23967  Not Specified      0.04        4.14           6.60           27   \n",
       "75   23535            Low      0.10       35.44          19.99           27   \n",
       "76   23536            Low      0.06       55.48          14.30           27   \n",
       "77   23505       Critical      0.00        8.09           7.96           27   \n",
       "78   23506       Critical      0.06       14.20           5.30           27   \n",
       "79   23968  Not Specified      0.01       65.99           8.99           27   \n",
       "80   24987           High      0.06        2.88           0.70           28   \n",
       "81   24074       Critical      0.07      225.04          11.79           28   \n",
       "82   25324  Not Specified      0.08       65.99           3.90           29   \n",
       "83   25323  Not Specified      0.08        3.08           0.99           29   \n",
       "84   18877           High      0.01        6.48           6.65           31   \n",
       "85   23509           High      0.08       34.99           7.73           32   \n",
       "86   23612           High      0.01       17.98           8.51           32   \n",
       "87   23278         Medium      0.09      125.99           7.69           32   \n",
       "88   19355            Low      0.06      205.99           8.99           32   \n",
       "89   21213       Critical      0.08        8.95           2.01           32   \n",
       "90   22221           High      0.06      449.99          49.00           32   \n",
       "91   23654  Not Specified      0.03        4.24           5.41           33   \n",
       "92   23655  Not Specified      0.04        2.94           0.70           33   \n",
       "93   25327         Medium      0.05        4.82           5.24           33   \n",
       "94   24531       Critical      0.05       70.98          30.00           33   \n",
       "95   24532       Critical      0.05        4.98           4.70           33   \n",
       "96   25223  Not Specified      0.00     6783.02          24.49           35   \n",
       "97   21026            Low      0.07       65.99           3.99           35   \n",
       "98   25224  Not Specified      0.02        9.27           4.39           36   \n",
       "99   25225  Not Specified      0.03        6.68           6.15           36   \n",
       "\n",
       "             Customer Name       Ship Mode Customer Segment Product Category  \\\n",
       "0          Janice Fletcher     Regular Air        Corporate  Office Supplies   \n",
       "1            Bonnie Potter     Express Air        Corporate  Office Supplies   \n",
       "2            Bonnie Potter     Express Air        Corporate  Office Supplies   \n",
       "3            Bonnie Potter     Regular Air        Corporate  Office Supplies   \n",
       "4            Bonnie Potter     Express Air        Corporate       Technology   \n",
       "5            Bonnie Potter     Express Air        Corporate  Office Supplies   \n",
       "6            Bonnie Potter  Delivery Truck        Corporate       Technology   \n",
       "7           Ronnie Proctor  Delivery Truck      Home Office        Furniture   \n",
       "8           Ronnie Proctor     Regular Air      Home Office  Office Supplies   \n",
       "9             Dwight Hwang     Regular Air      Home Office  Office Supplies   \n",
       "10            Dwight Hwang     Regular Air      Home Office  Office Supplies   \n",
       "11            Dwight Hwang     Regular Air      Home Office  Office Supplies   \n",
       "12            Dwight Hwang     Regular Air      Home Office       Technology   \n",
       "13               Leon Gill     Regular Air      Home Office  Office Supplies   \n",
       "14          Melanie Garner  Delivery Truck      Home Office        Furniture   \n",
       "15        Lorraine Houston  Delivery Truck      Home Office        Furniture   \n",
       "16  Meredith Norris Thomas     Regular Air      Home Office  Office Supplies   \n",
       "17           Marcus Dunlap     Regular Air      Home Office        Furniture   \n",
       "18               Kara Pace     Regular Air      Home Office  Office Supplies   \n",
       "19       Gwendolyn F Tyson     Regular Air   Small Business        Furniture   \n",
       "20       Gwendolyn F Tyson     Regular Air   Small Business  Office Supplies   \n",
       "21       Gwendolyn F Tyson     Regular Air   Small Business  Office Supplies   \n",
       "22       Gwendolyn F Tyson     Regular Air   Small Business  Office Supplies   \n",
       "23       Gwendolyn F Tyson     Regular Air   Small Business  Office Supplies   \n",
       "24           Timothy Reese     Regular Air   Small Business  Office Supplies   \n",
       "25           Timothy Reese     Regular Air   Small Business  Office Supplies   \n",
       "26           Timothy Reese     Regular Air   Small Business  Office Supplies   \n",
       "27           Timothy Reese     Regular Air   Small Business  Office Supplies   \n",
       "28           Timothy Reese     Regular Air   Small Business        Furniture   \n",
       "29           Timothy Reese     Regular Air   Small Business  Office Supplies   \n",
       "..                     ...             ...              ...              ...   \n",
       "70         Marguerite Kane     Regular Air        Corporate  Office Supplies   \n",
       "71         Marguerite Kane     Express Air        Corporate  Office Supplies   \n",
       "72         Marguerite Kane     Regular Air        Corporate  Office Supplies   \n",
       "73         Marguerite Kane     Regular Air        Corporate       Technology   \n",
       "74           Guy Gallagher     Regular Air        Corporate        Furniture   \n",
       "75           Guy Gallagher     Regular Air        Corporate  Office Supplies   \n",
       "76           Guy Gallagher     Regular Air        Corporate  Office Supplies   \n",
       "77           Guy Gallagher     Express Air        Corporate        Furniture   \n",
       "78           Guy Gallagher     Regular Air        Corporate        Furniture   \n",
       "79           Guy Gallagher     Regular Air        Corporate       Technology   \n",
       "80         Ronnie McNamara     Regular Air        Corporate  Office Supplies   \n",
       "81         Ronnie McNamara     Regular Air        Corporate  Office Supplies   \n",
       "82        Elizabeth Walker     Regular Air        Corporate       Technology   \n",
       "83        Elizabeth Walker     Regular Air        Corporate  Office Supplies   \n",
       "84             Alice Capps     Regular Air        Corporate  Office Supplies   \n",
       "85          Matthew Berman     Regular Air        Corporate  Office Supplies   \n",
       "86          Matthew Berman     Regular Air        Corporate       Technology   \n",
       "87          Matthew Berman     Express Air        Corporate       Technology   \n",
       "88          Matthew Berman     Regular Air        Corporate       Technology   \n",
       "89          Matthew Berman     Regular Air        Corporate  Office Supplies   \n",
       "90          Matthew Berman  Delivery Truck        Corporate       Technology   \n",
       "91           Ricky Hensley     Regular Air        Corporate  Office Supplies   \n",
       "92           Ricky Hensley     Regular Air        Corporate  Office Supplies   \n",
       "93           Ricky Hensley     Regular Air        Corporate  Office Supplies   \n",
       "94           Ricky Hensley  Delivery Truck        Corporate        Furniture   \n",
       "95           Ricky Hensley     Regular Air        Corporate  Office Supplies   \n",
       "96            Milton Bland     Regular Air   Small Business       Technology   \n",
       "97            Milton Bland     Regular Air   Small Business       Technology   \n",
       "98              Ray Morgan     Express Air   Small Business  Office Supplies   \n",
       "99              Ray Morgan     Regular Air   Small Business  Office Supplies   \n",
       "\n",
       "    ...   Region State or Province         City  Postal Code Order Date  \\\n",
       "0   ...  Central          Illinois      Addison        60101 2012-05-28   \n",
       "1   ...     West        Washington    Anacortes        98221 2010-07-07   \n",
       "2   ...     West        Washington    Anacortes        98221 2011-07-27   \n",
       "3   ...     West        Washington    Anacortes        98221 2011-07-27   \n",
       "4   ...     West        Washington    Anacortes        98221 2011-07-27   \n",
       "5   ...     West        Washington    Anacortes        98221 2011-11-09   \n",
       "6   ...     West        Washington    Anacortes        98221 2013-07-01   \n",
       "7   ...     West        California  San Gabriel        91776 2010-12-13   \n",
       "8   ...     West        California  San Gabriel        91776 2012-05-12   \n",
       "9   ...     West        California     San Jose        95123 2011-05-26   \n",
       "10  ...     West        California     San Jose        95123 2012-12-29   \n",
       "11  ...     West        California     San Jose        95123 2012-12-29   \n",
       "12  ...     West        California     San Jose        95123 2012-12-29   \n",
       "13  ...     East     Massachusetts   Fall River         2724 2012-10-30   \n",
       "14  ...     East     New Hampshire      Bedford         3110 2012-12-25   \n",
       "15  ...     East        New Jersey       Camden         8101 2012-12-25   \n",
       "16  ...     East        New Jersey   Pennsauken         8109 2011-10-04   \n",
       "17  ...     East        New Jersey      Roselle         7203 2010-08-15   \n",
       "18  ...     East      Rhode Island     Cranston         2907 2012-02-24   \n",
       "19  ...  Central         Minnesota   Prior Lake        55372 2010-05-12   \n",
       "20  ...  Central         Minnesota   Prior Lake        55372 2010-05-12   \n",
       "21  ...  Central         Minnesota   Prior Lake        55372 2010-05-12   \n",
       "22  ...  Central         Minnesota   Prior Lake        55372 2010-05-12   \n",
       "23  ...  Central         Minnesota   Prior Lake        55372 2013-05-12   \n",
       "24  ...     East          New York    Smithtown        11787 2010-04-08   \n",
       "25  ...     East          New York    Smithtown        11787 2010-05-28   \n",
       "26  ...     East          New York    Smithtown        11787 2011-12-04   \n",
       "27  ...     East          New York    Smithtown        11787 2012-04-29   \n",
       "28  ...     East          New York    Smithtown        11787 2013-01-19   \n",
       "29  ...     East          New York    Smithtown        11787 2013-01-21   \n",
       "..  ...      ...               ...          ...          ...        ...   \n",
       "70  ...     West        California  Lake Forest        92630 2012-06-27   \n",
       "71  ...     West        California  Lake Forest        92630 2013-09-02   \n",
       "72  ...     West        California  Lake Forest        92630 2013-12-11   \n",
       "73  ...     West        California  Lake Forest        92630 2013-12-11   \n",
       "74  ...     West        California     Lakewood        90712 2010-11-02   \n",
       "75  ...     West        California     Lakewood        90712 2012-07-12   \n",
       "76  ...     West        California     Lakewood        90712 2012-07-12   \n",
       "77  ...     West        California     Lakewood        90712 2012-10-26   \n",
       "78  ...     West        California     Lakewood        90712 2012-10-26   \n",
       "79  ...     West        California     Lakewood        90712 2013-11-02   \n",
       "80  ...     West        California    Lancaster        93534 2011-01-22   \n",
       "81  ...     West        California    Lancaster        93534 2013-04-14   \n",
       "82  ...     West        California     Lawndale        90260 2011-01-30   \n",
       "83  ...     West        California     Lawndale        90260 2013-01-30   \n",
       "84  ...     West            Oregon       Eugene        97405 2012-08-11   \n",
       "85  ...     West            Oregon  Grants Pass        97526 2010-02-22   \n",
       "86  ...     West            Oregon  Grants Pass        97526 2010-03-27   \n",
       "87  ...     West            Oregon  Grants Pass        97526 2010-07-20   \n",
       "88  ...     West            Oregon  Grants Pass        97526 2010-09-12   \n",
       "89  ...     West            Oregon  Grants Pass        97526 2011-10-06   \n",
       "90  ...     West            Oregon  Grants Pass        97526 2013-06-12   \n",
       "91  ...     West            Oregon      Gresham        97030 2010-06-15   \n",
       "92  ...     West            Oregon      Gresham        97030 2010-06-15   \n",
       "93  ...     West            Oregon      Gresham        97030 2012-01-26   \n",
       "94  ...     West            Oregon      Gresham        97030 2013-08-16   \n",
       "95  ...     West            Oregon      Gresham        97030 2013-08-16   \n",
       "96  ...     West            Oregon      Gresham        97030 2012-11-27   \n",
       "97  ...     West            Oregon      Gresham        97030 2013-05-28   \n",
       "98  ...     West            Oregon    Hillsboro        97123 2012-11-27   \n",
       "99  ...     West            Oregon    Hillsboro        97123 2012-11-27   \n",
       "\n",
       "    Ship Date       Profit  Quantity ordered new     Sales Order ID  \n",
       "0  2012-05-30     1.320000                     2      5.90    88525  \n",
       "1  2010-07-08     4.560000                     4     13.01    88522  \n",
       "2  2011-07-28   -47.640000                     7     49.92    88523  \n",
       "3  2011-07-28   -30.510000                     7     41.64    88523  \n",
       "4  2011-07-27   998.202300                     8   1446.67    88523  \n",
       "5  2011-11-11  1388.052300                    37   2011.67    88524  \n",
       "6  2013-07-08  1001.445300                    12   1451.37    88526  \n",
       "7  2010-12-15  4390.366500                    12   6362.85    90193  \n",
       "8  2012-05-21  -141.260000                    18    113.25    90197  \n",
       "9  2011-05-26  1045.467300                    16   1515.17    90194  \n",
       "10 2012-12-31   -13.860000                     4     28.61    90200  \n",
       "11 2012-12-31    57.580500                    17     83.45    90200  \n",
       "12 2012-12-31  1176.505200                    24   1705.08    90200  \n",
       "13 2012-10-31    72.992800                    19    232.95    90198  \n",
       "14 2012-12-26  -158.740000                     5    705.47    90199  \n",
       "15 2012-12-27  -346.615198                     8   1794.27    90199  \n",
       "16 2011-10-05   142.795500                    14    206.95    90195  \n",
       "17 2010-08-17   -53.809600                    22    211.15    90192  \n",
       "18 2012-02-26    23.120000                     8     90.39    90196  \n",
       "19 2010-05-14   803.470500                    16   1164.45    86838  \n",
       "20 2010-05-13   -24.030000                     7     22.23    86838  \n",
       "21 2010-05-13   -37.030000                     4     13.99    86838  \n",
       "22 2010-05-13    -0.710000                     4     14.26    86838  \n",
       "23 2013-05-13   -44.540000                     4     29.55    86845  \n",
       "24 2010-04-09   -59.820000                     7     33.47    86837  \n",
       "25 2010-05-28   261.875700                    10    379.53    86839  \n",
       "26 2011-12-06    -1.170000                    10     17.39    86840  \n",
       "27 2012-05-01   -24.030000                     3     19.04    86841  \n",
       "28 2013-01-21    23.266800                     4     33.72    86842  \n",
       "29 2013-01-23  -174.269600                     9     38.18    86843  \n",
       "..        ...          ...                   ...       ...      ...  \n",
       "70 2012-06-29   420.984000                    11    619.14    87658  \n",
       "71 2013-09-03    19.409700                     7     28.13    87667  \n",
       "72 2013-12-12    37.370400                    15     54.16    87670  \n",
       "73 2013-12-12   -85.606752                     3    170.67    87670  \n",
       "74 2010-11-04     8.894000                    12     54.78    87652  \n",
       "75 2012-07-14   -47.010000                     4    142.51    87659  \n",
       "76 2012-07-17   346.704300                     9    502.47    87659  \n",
       "77 2012-10-26  -171.266400                    23    204.57    87661  \n",
       "78 2012-10-28    33.414400                    11    161.11    87661  \n",
       "79 2013-11-04   847.943712                    29   1730.04    87668  \n",
       "80 2011-01-23    -2.207200                     1      3.41    87653  \n",
       "81 2013-04-16    28.810000                     1    226.03    87665  \n",
       "82 2011-02-01  -120.523040                     3    164.10    87654  \n",
       "83 2013-01-31    -1.686400                     1      3.85    87664  \n",
       "84 2012-08-13   -43.331600                    15     99.56    89206  \n",
       "85 2010-02-23   144.690000                    13    424.68    89199  \n",
       "86 2010-03-28   -35.878800                     2     40.17    89200  \n",
       "87 2010-07-22   209.997000                     8    783.55    89202  \n",
       "88 2010-09-19  2568.096000                    22   3838.14    89203  \n",
       "89 2011-10-08    85.863600                    15    133.07    89204  \n",
       "90 2013-06-14   345.000000                     5   2157.25    89207  \n",
       "91 2010-06-17   -84.437600                    13     58.68    89201  \n",
       "92 2010-06-16    24.312000                    18     53.10    89201  \n",
       "93 2012-01-27   -75.121680                     5     24.27    89205  \n",
       "94 2013-08-18  -162.150320                     9    640.97    89208  \n",
       "95 2013-08-18   -14.992640                     9     46.63    89208  \n",
       "96 2012-11-28  2396.879580                     3  21366.51    91256  \n",
       "97 2013-06-02   165.501000                     7    394.37    91257  \n",
       "98 2012-11-29    71.434000                    29    272.98    91256  \n",
       "99 2012-11-29     5.650000                    10     73.81    91256  \n",
       "\n",
       "[100 rows x 24 columns]"
      ]
     },
     "execution_count": 2,
     "metadata": {},
     "output_type": "execute_result"
    }
   ],
   "source": [
    "data.head(100)"
   ]
  },
  {
   "cell_type": "markdown",
   "metadata": {},
   "source": [
    "### Plot Graph with Matplotlib"
   ]
  },
  {
   "cell_type": "code",
   "execution_count": 8,
   "metadata": {
    "scrolled": true
   },
   "outputs": [
    {
     "data": {
      "image/png": "[encoded data removed]",
      "text/plain": [
       "<Figure size 432x288 with 1 Axes>"
      ]
     },
     "metadata": {
      "needs_background": "light"
     },
     "output_type": "display_data"
    }
   ],
   "source": [
    "from matplotlib import pyplot as plt\n",
    "\n",
    "years = [1950, 1960, 1970, 1980, 1990, 2000, 2010]\n",
    "gdp = [300.2, 543.3, 1075.9, 2862.5, 5979.6, 10289.7, 14958.3]\n",
    "\n",
    "# create a line chart, years on x-axis, gdp on y-axis\n",
    "plt.plot(years, gdp, color='green', marker='o', linestyle='solid')\n",
    "\n",
    "# add a title\n",
    "plt.title(\"Nominal GDP\")\n",
    "\n",
    "# add a label to the y-axis\n",
    "plt.ylabel(\"Billions of $\")\n",
    "# plt.show()\n",
    "\n",
    "plt.savefig('viz_gdp.png')\n",
    "# plt.gca().clear()"
   ]
  },
  {
   "cell_type": "code",
   "execution_count": null,
   "metadata": {},
   "outputs": [],
   "source": []
  }
 ],
 "metadata": {
  "kernelspec": {
   "display_name": "jupyterlab",
   "language": "python",
   "name": "python3"
  },
  "language_info": {
   "codemirror_mode": {
    "name": "ipython",
    "version": 3
   },
   "file_extension": ".py",
   "mimetype": "text/x-python",
   "name": "python",
   "nbconvert_exporter": "python",
   "pygments_lexer": "ipython3",
   "version": "3.7.4 (default, Aug 13 2019, 15:17:50) \n[Clang 4.0.1 (tags/RELEASE_401/final)]"
  },
  "vscode": {
   "interpreter": {
    "hash": "02ef55d574c0ec933217e3c9438266c97b939f743db4e78f0883f5c52344e267"
   }
  }
 },
 "nbformat": 4,
 "nbformat_minor": 2
}
