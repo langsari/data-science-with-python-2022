{
 "cells": [
  {
   "cell_type": "code",
   "execution_count": 7,
   "id": "15ffe63e-d6df-46ce-a7ba-fff0fd97c200",
   "metadata": {},
   "outputs": [],
   "source": [
    "#Install the dependencies\n",
    "import numpy as np\n",
    "import pandas as pd\n",
    "from sklearn.tree import DecisionTreeRegressor\n",
    "from sklearn.linear_model import LinearRegression\n",
    "from sklearn.model_selection import train_test_split\n",
    "import matplotlib.pyplot as plt\n",
    "plt.style.use('bmh')\n"
   ]
  },
  {
   "cell_type": "code",
   "execution_count": null,
   "id": "f5f37c99-18b5-4bd2-817b-883086a3405b",
   "metadata": {},
   "outputs": [],
   "source": [
    "#load the data\n",
    "from jupyterlab import files"
   ]
  },
  {
   "cell_type": "code",
   "execution_count": null,
   "id": "82e053cf-b9dc-4f0d-98b6-cb2dfc158506",
   "metadata": {},
   "outputs": [],
   "source": []
  }
 ],
 "metadata": {
  "kernelspec": {
   "display_name": "Python 3 (ipykernel)",
   "language": "python",
   "name": "python3"
  },
  "language_info": {
   "codemirror_mode": {
    "name": "ipython",
    "version": 3
   },
   "file_extension": ".py",
   "mimetype": "text/x-python",
   "name": "python",
   "nbconvert_exporter": "python",
   "pygments_lexer": "ipython3",
   "version": "3.9.13"
  }
 },
 "nbformat": 4,
 "nbformat_minor": 5
}
