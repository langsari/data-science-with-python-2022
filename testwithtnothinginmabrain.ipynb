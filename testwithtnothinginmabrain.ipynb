{
 "cells": [
  {
   "cell_type": "markdown",
   "metadata": {},
   "source": [
    "!pynb file"
   ]
  },
  {
   "cell_type": "code",
   "execution_count": 4,
   "metadata": {},
   "outputs": [
    {
     "name": "stderr",
     "output_type": "stream",
     "text": [
      "python: can't open file 'c:\\\\Users\\\\TUF GAMING\\\\Documents\\\\GitHub\\\\data-science-with-python-2022\\\\version': [Errno 2] No such file or directory\n"
     ]
    }
   ],
   "source": [
    "!python -- version"
   ]
  }
 ],
 "metadata": {
  "kernelspec": {
   "display_name": "Python 3.11.0 64-bit",
   "language": "python",
   "name": "python3"
  },
  "language_info": {
   "codemirror_mode": {
    "name": "ipython",
    "version": 3
   },
   "file_extension": ".py",
   "mimetype": "text/x-python",
   "name": "python",
   "nbconvert_exporter": "python",
   "pygments_lexer": "ipython3",
   "version": "3.11.0"
  },
  "orig_nbformat": 4,
  "vscode": {
   "interpreter": {
    "hash": "8b3f13f7d65f76489d19db692362f9e14dea72197a990bb96bb1b41169ae98b7"
   }
  }
 },
 "nbformat": 4,
 "nbformat_minor": 2
}
