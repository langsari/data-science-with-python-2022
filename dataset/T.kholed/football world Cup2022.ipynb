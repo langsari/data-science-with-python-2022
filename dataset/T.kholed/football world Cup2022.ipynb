{
 "cells": [
  {
   "cell_type": "markdown",
   "id": "e2f1a542-ead6-45d4-b664-6e27fd3d7807",
   "metadata": {},
   "source": [
    "#  **<span style=color:chocolate>F</span><span style=color:darkslateblue>o</span><span style=color:crimson>o</span><span style=color:darkseagreen>t</span><span style=color:blue>b</span><span style=color:orange>a</span><span style=color:gray>l</span><span style=color:maroon>l</span> <span style=color:purple>W</span><span style=color:thistle>o</span><span style=color:teal>r</span><span style=color:teal>l</span><span style=color:tomato>d</span><span style=color:olive>C</span><span style=color:crimson>u</span><span style=color:#2ecc71>p</span><span style=color:green>2</span><span style=color:peru>0</span><span style=color:orchid>2</span><span style=color:goldenrod>2</span>**"
   ]
  },
  {
   "cell_type": "code",
   "execution_count": 1,
   "id": "bca2a089-32c6-4234-b3bf-c09df3b922df",
   "metadata": {},
   "outputs": [],
   "source": [
    "import numpy as np\n",
    "import pandas as pd\n",
    "import os  "
   ]
  },
  {
   "cell_type": "code",
   "execution_count": 2,
   "id": "d7e019c3-854a-418e-be91-d4d35b0cb70f",
   "metadata": {},
   "outputs": [],
   "source": [
    "import numpy as np \n",
    "import pandas as pd \n",
    "import os\n",
    "for dirname, _, filenames in os.walk('/Users/hilmanyusoh/Documents/PWFWCup 2022/Fifa_world_cup_matches.csv'):\n",
    "    for filename in filenames:\n",
    "        print(os.path.join(dirname, filename))\n",
    "\n"
   ]
  },
  {
   "cell_type": "code",
   "execution_count": 3,
   "id": "07341312-eeb6-4c1d-b3d1-bb35aad39e84",
   "metadata": {},
   "outputs": [],
   "source": [
    "import pandas as pd\n",
    "import numpy as np\n",
    "import matplotlib.pyplot as plt\n",
    "import seaborn as sns\n",
    "%matplotlib inline\n",
    "sns.set()"
   ]
  },
  {
   "cell_type": "code",
   "execution_count": 4,
   "id": "91854edf-e857-4757-8a5e-a1d998a476bb",
   "metadata": {},
   "outputs": [],
   "source": [
    "df=pd.read_csv('/Users/hilmanyusoh/Documents/PWFWCup 2022/Fifa_world_cup_matches.csv')"
   ]
  },
  {
   "cell_type": "code",
   "execution_count": 5,
   "id": "80b5c823-69d7-4470-aa8d-e2722da27aa4",
   "metadata": {},
   "outputs": [
    {
     "data": {
      "text/html": [
       "<div>\n",
       "<style scoped>\n",
       "    .dataframe tbody tr th:only-of-type {\n",
       "        vertical-align: middle;\n",
       "    }\n",
       "\n",
       "    .dataframe tbody tr th {\n",
       "        vertical-align: top;\n",
       "    }\n",
       "\n",
       "    .dataframe thead th {\n",
       "        text-align: right;\n",
       "    }\n",
       "</style>\n",
       "<table border=\"1\" class=\"dataframe\">\n",
       "  <thead>\n",
       "    <tr style=\"text-align: right;\">\n",
       "      <th></th>\n",
       "      <th>team1</th>\n",
       "      <th>team2</th>\n",
       "      <th>possession team1</th>\n",
       "      <th>possession team2</th>\n",
       "      <th>possession in contest</th>\n",
       "      <th>number of goals team1</th>\n",
       "      <th>number of goals team2</th>\n",
       "      <th>date</th>\n",
       "      <th>hour</th>\n",
       "      <th>category</th>\n",
       "      <th>...</th>\n",
       "      <th>penalties scored team1</th>\n",
       "      <th>penalties scored team2</th>\n",
       "      <th>goal preventions team1</th>\n",
       "      <th>goal preventions team2</th>\n",
       "      <th>own goals team1</th>\n",
       "      <th>own goals team2</th>\n",
       "      <th>forced turnovers team1</th>\n",
       "      <th>forced turnovers team2</th>\n",
       "      <th>defensive pressures applied team1</th>\n",
       "      <th>defensive pressures applied team2</th>\n",
       "    </tr>\n",
       "  </thead>\n",
       "  <tbody>\n",
       "    <tr>\n",
       "      <th>0</th>\n",
       "      <td>QATAR</td>\n",
       "      <td>ECUADOR</td>\n",
       "      <td>42%</td>\n",
       "      <td>50%</td>\n",
       "      <td>8%</td>\n",
       "      <td>0</td>\n",
       "      <td>2</td>\n",
       "      <td>20 NOV 2022</td>\n",
       "      <td>17 : 00</td>\n",
       "      <td>Group A</td>\n",
       "      <td>...</td>\n",
       "      <td>0</td>\n",
       "      <td>1</td>\n",
       "      <td>6</td>\n",
       "      <td>5</td>\n",
       "      <td>0</td>\n",
       "      <td>0</td>\n",
       "      <td>52</td>\n",
       "      <td>72</td>\n",
       "      <td>256</td>\n",
       "      <td>279</td>\n",
       "    </tr>\n",
       "    <tr>\n",
       "      <th>1</th>\n",
       "      <td>ENGLAND</td>\n",
       "      <td>IRAN</td>\n",
       "      <td>72%</td>\n",
       "      <td>19%</td>\n",
       "      <td>9%</td>\n",
       "      <td>6</td>\n",
       "      <td>2</td>\n",
       "      <td>21 NOV 2022</td>\n",
       "      <td>14 : 00</td>\n",
       "      <td>Group B</td>\n",
       "      <td>...</td>\n",
       "      <td>0</td>\n",
       "      <td>1</td>\n",
       "      <td>8</td>\n",
       "      <td>13</td>\n",
       "      <td>0</td>\n",
       "      <td>0</td>\n",
       "      <td>63</td>\n",
       "      <td>72</td>\n",
       "      <td>139</td>\n",
       "      <td>416</td>\n",
       "    </tr>\n",
       "    <tr>\n",
       "      <th>2</th>\n",
       "      <td>SENEGAL</td>\n",
       "      <td>NETHERLANDS</td>\n",
       "      <td>44%</td>\n",
       "      <td>45%</td>\n",
       "      <td>11%</td>\n",
       "      <td>0</td>\n",
       "      <td>2</td>\n",
       "      <td>21 NOV 2022</td>\n",
       "      <td>17 : 00</td>\n",
       "      <td>Group A</td>\n",
       "      <td>...</td>\n",
       "      <td>0</td>\n",
       "      <td>0</td>\n",
       "      <td>9</td>\n",
       "      <td>15</td>\n",
       "      <td>0</td>\n",
       "      <td>0</td>\n",
       "      <td>63</td>\n",
       "      <td>73</td>\n",
       "      <td>263</td>\n",
       "      <td>251</td>\n",
       "    </tr>\n",
       "    <tr>\n",
       "      <th>3</th>\n",
       "      <td>UNITED STATES</td>\n",
       "      <td>WALES</td>\n",
       "      <td>51%</td>\n",
       "      <td>39%</td>\n",
       "      <td>10%</td>\n",
       "      <td>1</td>\n",
       "      <td>1</td>\n",
       "      <td>21 NOV 2022</td>\n",
       "      <td>20 : 00</td>\n",
       "      <td>Group B</td>\n",
       "      <td>...</td>\n",
       "      <td>0</td>\n",
       "      <td>1</td>\n",
       "      <td>7</td>\n",
       "      <td>7</td>\n",
       "      <td>0</td>\n",
       "      <td>0</td>\n",
       "      <td>81</td>\n",
       "      <td>72</td>\n",
       "      <td>242</td>\n",
       "      <td>292</td>\n",
       "    </tr>\n",
       "    <tr>\n",
       "      <th>4</th>\n",
       "      <td>ARGENTINA</td>\n",
       "      <td>SAUDI ARABIA</td>\n",
       "      <td>64%</td>\n",
       "      <td>24%</td>\n",
       "      <td>12%</td>\n",
       "      <td>1</td>\n",
       "      <td>2</td>\n",
       "      <td>22 NOV 2022</td>\n",
       "      <td>11 : 00</td>\n",
       "      <td>Group C</td>\n",
       "      <td>...</td>\n",
       "      <td>1</td>\n",
       "      <td>0</td>\n",
       "      <td>4</td>\n",
       "      <td>14</td>\n",
       "      <td>0</td>\n",
       "      <td>0</td>\n",
       "      <td>65</td>\n",
       "      <td>80</td>\n",
       "      <td>163</td>\n",
       "      <td>361</td>\n",
       "    </tr>\n",
       "  </tbody>\n",
       "</table>\n",
       "<p>5 rows × 88 columns</p>\n",
       "</div>"
      ],
      "text/plain": [
       "           team1         team2 possession team1 possession team2  \\\n",
       "0          QATAR       ECUADOR              42%              50%   \n",
       "1        ENGLAND          IRAN              72%              19%   \n",
       "2        SENEGAL   NETHERLANDS              44%              45%   \n",
       "3  UNITED STATES         WALES              51%              39%   \n",
       "4      ARGENTINA  SAUDI ARABIA              64%              24%   \n",
       "\n",
       "  possession in contest  number of goals team1  number of goals team2  \\\n",
       "0                    8%                      0                      2   \n",
       "1                    9%                      6                      2   \n",
       "2                   11%                      0                      2   \n",
       "3                   10%                      1                      1   \n",
       "4                   12%                      1                      2   \n",
       "\n",
       "          date     hour category  ...  penalties scored team1  \\\n",
       "0  20 NOV 2022  17 : 00  Group A  ...                       0   \n",
       "1  21 NOV 2022  14 : 00  Group B  ...                       0   \n",
       "2  21 NOV 2022  17 : 00  Group A  ...                       0   \n",
       "3  21 NOV 2022  20 : 00  Group B  ...                       0   \n",
       "4  22 NOV 2022  11 : 00  Group C  ...                       1   \n",
       "\n",
       "   penalties scored team2  goal preventions team1  goal preventions team2  \\\n",
       "0                       1                       6                       5   \n",
       "1                       1                       8                      13   \n",
       "2                       0                       9                      15   \n",
       "3                       1                       7                       7   \n",
       "4                       0                       4                      14   \n",
       "\n",
       "   own goals team1  own goals team2  forced turnovers team1  \\\n",
       "0                0                0                      52   \n",
       "1                0                0                      63   \n",
       "2                0                0                      63   \n",
       "3                0                0                      81   \n",
       "4                0                0                      65   \n",
       "\n",
       "   forced turnovers team2  defensive pressures applied team1  \\\n",
       "0                      72                                256   \n",
       "1                      72                                139   \n",
       "2                      73                                263   \n",
       "3                      72                                242   \n",
       "4                      80                                163   \n",
       "\n",
       "   defensive pressures applied team2  \n",
       "0                                279  \n",
       "1                                416  \n",
       "2                                251  \n",
       "3                                292  \n",
       "4                                361  \n",
       "\n",
       "[5 rows x 88 columns]"
      ]
     },
     "execution_count": 5,
     "metadata": {},
     "output_type": "execute_result"
    }
   ],
   "source": [
    "df.head(5)"
   ]
  },
  {
   "cell_type": "code",
   "execution_count": 6,
   "id": "4de6e538-4944-499d-9357-e2e1dc48d2ad",
   "metadata": {},
   "outputs": [
    {
     "name": "stdout",
     "output_type": "stream",
     "text": [
      "<class 'pandas.core.frame.DataFrame'>\n",
      "RangeIndex: 64 entries, 0 to 63\n",
      "Data columns (total 88 columns):\n",
      " #   Column                                                 Non-Null Count  Dtype \n",
      "---  ------                                                 --------------  ----- \n",
      " 0   team1                                                  64 non-null     object\n",
      " 1   team2                                                  64 non-null     object\n",
      " 2   possession team1                                       64 non-null     object\n",
      " 3   possession team2                                       64 non-null     object\n",
      " 4   possession in contest                                  64 non-null     object\n",
      " 5   number of goals team1                                  64 non-null     int64 \n",
      " 6   number of goals team2                                  64 non-null     int64 \n",
      " 7   date                                                   64 non-null     object\n",
      " 8   hour                                                   64 non-null     object\n",
      " 9   category                                               64 non-null     object\n",
      " 10  total attempts team1                                   64 non-null     int64 \n",
      " 11  total attempts team2                                   64 non-null     int64 \n",
      " 12  conceded team1                                         64 non-null     int64 \n",
      " 13  conceded team2                                         64 non-null     int64 \n",
      " 14  goal inside the penalty area team1                     64 non-null     int64 \n",
      " 15  goal inside the penalty area team2                     64 non-null     int64 \n",
      " 16  goal outside the penalty area team1                    64 non-null     int64 \n",
      " 17  goal outside the penalty area team2                    64 non-null     int64 \n",
      " 18  assists team1                                          64 non-null     int64 \n",
      " 19  assists team2                                          64 non-null     int64 \n",
      " 20  on target attempts team1                               64 non-null     int64 \n",
      " 21  on target attempts team2                               64 non-null     int64 \n",
      " 22  off target attempts team1                              64 non-null     int64 \n",
      " 23  off target attempts team2                              64 non-null     int64 \n",
      " 24  attempts inside the penalty area team1                 64 non-null     int64 \n",
      " 25  attempts inside the penalty area  team2                64 non-null     int64 \n",
      " 26  attempts outside the penalty area  team1               64 non-null     int64 \n",
      " 27  attempts outside the penalty area  team2               64 non-null     int64 \n",
      " 28  left channel team1                                     64 non-null     int64 \n",
      " 29  left channel team2                                     64 non-null     int64 \n",
      " 30  left inside channel team1                              64 non-null     int64 \n",
      " 31  left inside channel team2                              64 non-null     int64 \n",
      " 32  central channel team1                                  64 non-null     int64 \n",
      " 33  central channel team2                                  64 non-null     int64 \n",
      " 34  right inside channel team1                             64 non-null     int64 \n",
      " 35  right inside channel team2                             64 non-null     int64 \n",
      " 36  right channel team1                                    64 non-null     int64 \n",
      " 37  right channel team2                                    64 non-null     int64 \n",
      " 38  total offers to receive team1                          64 non-null     int64 \n",
      " 39  total offers to receive team2                          64 non-null     int64 \n",
      " 40  inbehind offers to receive team1                       64 non-null     int64 \n",
      " 41  inbehind offers to receive team2                       64 non-null     int64 \n",
      " 42  inbetween offers to receive team1                      64 non-null     int64 \n",
      " 43  inbetween offers to receive team2                      64 non-null     int64 \n",
      " 44  infront offers to receive team1                        64 non-null     int64 \n",
      " 45  infront offers to receive team2                        64 non-null     int64 \n",
      " 46  receptions between midfield and defensive lines team1  64 non-null     int64 \n",
      " 47  receptions between midfield and defensive lines team2  64 non-null     int64 \n",
      " 48  attempted line breaks team1                            64 non-null     int64 \n",
      " 49  attempted line breaks team2                            64 non-null     int64 \n",
      " 50  completed line breaksteam1                             64 non-null     int64 \n",
      " 51  completed line breaks team2                            64 non-null     int64 \n",
      " 52  attempted defensive line breaks team1                  64 non-null     int64 \n",
      " 53  attempted defensive line breaks team2                  64 non-null     int64 \n",
      " 54  completed defensive line breaksteam1                   64 non-null     int64 \n",
      " 55  completed defensive line breaks team2                  64 non-null     int64 \n",
      " 56  yellow cards team1                                     64 non-null     int64 \n",
      " 57  yellow cards team2                                     64 non-null     int64 \n",
      " 58  red cards team1                                        64 non-null     int64 \n",
      " 59  red cards team2                                        64 non-null     int64 \n",
      " 60  fouls against team1                                    64 non-null     int64 \n",
      " 61  fouls against team2                                    64 non-null     int64 \n",
      " 62  offsides team1                                         64 non-null     int64 \n",
      " 63  offsides team2                                         64 non-null     int64 \n",
      " 64  passes team1                                           64 non-null     int64 \n",
      " 65  passes team2                                           64 non-null     int64 \n",
      " 66  passes completed team1                                 64 non-null     int64 \n",
      " 67  passes completed team2                                 64 non-null     int64 \n",
      " 68  crosses team1                                          64 non-null     int64 \n",
      " 69  crosses team2                                          64 non-null     int64 \n",
      " 70  crosses completed team1                                64 non-null     int64 \n",
      " 71  crosses completed team2                                64 non-null     int64 \n",
      " 72  switches of play completed team1                       64 non-null     int64 \n",
      " 73  switches of play completed team2                       64 non-null     int64 \n",
      " 74  corners team1                                          64 non-null     int64 \n",
      " 75  corners team2                                          64 non-null     int64 \n",
      " 76  free kicks team1                                       64 non-null     int64 \n",
      " 77  free kicks team2                                       64 non-null     int64 \n",
      " 78  penalties scored team1                                 64 non-null     int64 \n",
      " 79  penalties scored team2                                 64 non-null     int64 \n",
      " 80  goal preventions team1                                 64 non-null     int64 \n",
      " 81  goal preventions team2                                 64 non-null     int64 \n",
      " 82  own goals team1                                        64 non-null     int64 \n",
      " 83  own goals team2                                        64 non-null     int64 \n",
      " 84  forced turnovers team1                                 64 non-null     int64 \n",
      " 85  forced turnovers team2                                 64 non-null     int64 \n",
      " 86  defensive pressures applied team1                      64 non-null     int64 \n",
      " 87  defensive pressures applied team2                      64 non-null     int64 \n",
      "dtypes: int64(80), object(8)\n",
      "memory usage: 44.1+ KB\n"
     ]
    }
   ],
   "source": [
    "df.info()"
   ]
  },
  {
   "cell_type": "markdown",
   "id": "427cccdc-3735-41b1-8f6c-3b1ddaa5baa8",
   "metadata": {
    "tags": []
   },
   "source": [
    "## *<span style=color:purple>1. Check if any value is missing</span>*"
   ]
  },
  {
   "cell_type": "code",
   "execution_count": 7,
   "id": "0e405a0b-014d-4987-a550-c7b364774b26",
   "metadata": {},
   "outputs": [],
   "source": [
    "t = df.columns"
   ]
  },
  {
   "cell_type": "code",
   "execution_count": 8,
   "id": "39b2a0db-8f5e-4209-aa78-d806744a7c22",
   "metadata": {},
   "outputs": [
    {
     "name": "stdout",
     "output_type": "stream",
     "text": [
      "team1  0\n",
      "team2  0\n",
      "possession team1  0\n",
      "possession team2  0\n",
      "possession in contest  0\n",
      "number of goals team1  0\n",
      "number of goals team2  0\n",
      "date  0\n",
      "hour  0\n",
      "category  0\n",
      "total attempts team1  0\n",
      "total attempts team2  0\n",
      "conceded team1  0\n",
      "conceded team2  0\n",
      "goal inside the penalty area team1  0\n",
      "goal inside the penalty area team2  0\n",
      "goal outside the penalty area team1  0\n",
      "goal outside the penalty area team2  0\n",
      "assists team1  0\n",
      "assists team2  0\n",
      "on target attempts team1  0\n",
      "on target attempts team2  0\n",
      "off target attempts team1  0\n",
      "off target attempts team2  0\n",
      "attempts inside the penalty area team1  0\n",
      "attempts inside the penalty area  team2  0\n",
      "attempts outside the penalty area  team1  0\n",
      "attempts outside the penalty area  team2  0\n",
      "left channel team1  0\n",
      "left channel team2  0\n",
      "left inside channel team1  0\n",
      "left inside channel team2  0\n",
      "central channel team1  0\n",
      "central channel team2  0\n",
      "right inside channel team1  0\n",
      "right inside channel team2  0\n",
      "right channel team1  0\n",
      "right channel team2  0\n",
      "total offers to receive team1  0\n",
      "total offers to receive team2  0\n",
      "inbehind offers to receive team1  0\n",
      "inbehind offers to receive team2  0\n",
      "inbetween offers to receive team1  0\n",
      "inbetween offers to receive team2  0\n",
      "infront offers to receive team1  0\n",
      "infront offers to receive team2  0\n",
      "receptions between midfield and defensive lines team1  0\n",
      "receptions between midfield and defensive lines team2  0\n",
      "attempted line breaks team1  0\n",
      "attempted line breaks team2  0\n",
      "completed line breaksteam1  0\n",
      "completed line breaks team2  0\n",
      "attempted defensive line breaks team1  0\n",
      "attempted defensive line breaks team2  0\n",
      "completed defensive line breaksteam1  0\n",
      "completed defensive line breaks team2  0\n",
      "yellow cards team1  0\n",
      "yellow cards team2  0\n",
      "red cards team1  0\n",
      "red cards team2  0\n",
      "fouls against team1  0\n",
      "fouls against team2  0\n",
      "offsides team1  0\n",
      "offsides team2  0\n",
      "passes team1  0\n",
      "passes team2  0\n",
      "passes completed team1  0\n",
      "passes completed team2  0\n",
      "crosses team1  0\n",
      "crosses team2  0\n",
      "crosses completed team1  0\n",
      "crosses completed team2  0\n",
      "switches of play completed team1  0\n",
      "switches of play completed team2  0\n",
      "corners team1  0\n",
      "corners team2  0\n",
      "free kicks team1  0\n",
      "free kicks team2  0\n",
      "penalties scored team1  0\n",
      "penalties scored team2  0\n",
      "goal preventions team1  0\n",
      "goal preventions team2  0\n",
      "own goals team1  0\n",
      "own goals team2  0\n",
      "forced turnovers team1  0\n",
      "forced turnovers team2  0\n",
      "defensive pressures applied team1  0\n",
      "defensive pressures applied team2  0\n"
     ]
    }
   ],
   "source": [
    "for i in t:\n",
    "    print(i + ' ', df.loc[:,i].isna().sum())\n"
   ]
  },
  {
   "cell_type": "code",
   "execution_count": 9,
   "id": "953c697f-563e-49be-8b81-e715fb8a0038",
   "metadata": {},
   "outputs": [
    {
     "data": {
      "text/plain": [
       "Index(['team1', 'team2', 'possession team1', 'possession team2',\n",
       "       'possession in contest', 'number of goals team1',\n",
       "       'number of goals team2', 'date', 'hour', 'category',\n",
       "       'total attempts team1', 'total attempts team2', 'conceded team1',\n",
       "       'conceded team2', 'goal inside the penalty area team1',\n",
       "       'goal inside the penalty area team2',\n",
       "       'goal outside the penalty area team1',\n",
       "       'goal outside the penalty area team2', 'assists team1', 'assists team2',\n",
       "       'on target attempts team1', 'on target attempts team2',\n",
       "       'off target attempts team1', 'off target attempts team2',\n",
       "       'attempts inside the penalty area team1',\n",
       "       'attempts inside the penalty area  team2',\n",
       "       'attempts outside the penalty area  team1',\n",
       "       'attempts outside the penalty area  team2', 'left channel team1',\n",
       "       'left channel team2', 'left inside channel team1',\n",
       "       'left inside channel team2', 'central channel team1',\n",
       "       'central channel team2', 'right inside channel team1',\n",
       "       'right inside channel team2', 'right channel team1',\n",
       "       'right channel team2', 'total offers to receive team1',\n",
       "       'total offers to receive team2', 'inbehind offers to receive team1',\n",
       "       'inbehind offers to receive team2', 'inbetween offers to receive team1',\n",
       "       'inbetween offers to receive team2', 'infront offers to receive team1',\n",
       "       'infront offers to receive team2',\n",
       "       'receptions between midfield and defensive lines team1',\n",
       "       'receptions between midfield and defensive lines team2',\n",
       "       'attempted line breaks team1', 'attempted line breaks team2',\n",
       "       'completed line breaksteam1', 'completed line breaks team2',\n",
       "       'attempted defensive line breaks team1',\n",
       "       'attempted defensive line breaks team2',\n",
       "       'completed defensive line breaksteam1',\n",
       "       'completed defensive line breaks team2', 'yellow cards team1',\n",
       "       'yellow cards team2', 'red cards team1', 'red cards team2',\n",
       "       'fouls against team1', 'fouls against team2', 'offsides team1',\n",
       "       'offsides team2', 'passes team1', 'passes team2',\n",
       "       'passes completed team1', 'passes completed team2', 'crosses team1',\n",
       "       'crosses team2', 'crosses completed team1', 'crosses completed team2',\n",
       "       'switches of play completed team1', 'switches of play completed team2',\n",
       "       'corners team1', 'corners team2', 'free kicks team1',\n",
       "       'free kicks team2', 'penalties scored team1', 'penalties scored team2',\n",
       "       'goal preventions team1', 'goal preventions team2', 'own goals team1',\n",
       "       'own goals team2', 'forced turnovers team1', 'forced turnovers team2',\n",
       "       'defensive pressures applied team1',\n",
       "       'defensive pressures applied team2'],\n",
       "      dtype='object')"
      ]
     },
     "execution_count": 9,
     "metadata": {},
     "output_type": "execute_result"
    }
   ],
   "source": [
    "df.columns"
   ]
  },
  {
   "cell_type": "code",
   "execution_count": 10,
   "id": "638dd3c0-1c0d-4a3c-9996-e7aea403d465",
   "metadata": {},
   "outputs": [
    {
     "data": {
      "text/html": [
       "<div>\n",
       "<style scoped>\n",
       "    .dataframe tbody tr th:only-of-type {\n",
       "        vertical-align: middle;\n",
       "    }\n",
       "\n",
       "    .dataframe tbody tr th {\n",
       "        vertical-align: top;\n",
       "    }\n",
       "\n",
       "    .dataframe thead th {\n",
       "        text-align: right;\n",
       "    }\n",
       "</style>\n",
       "<table border=\"1\" class=\"dataframe\">\n",
       "  <thead>\n",
       "    <tr style=\"text-align: right;\">\n",
       "      <th></th>\n",
       "      <th>team1</th>\n",
       "      <th>team2</th>\n",
       "      <th>number of goals team1</th>\n",
       "      <th>number of goals team2</th>\n",
       "      <th>goal inside the penalty area team1</th>\n",
       "      <th>goal inside the penalty area team2</th>\n",
       "      <th>goal outside the penalty area team1</th>\n",
       "      <th>goal outside the penalty area team2</th>\n",
       "    </tr>\n",
       "  </thead>\n",
       "  <tbody>\n",
       "    <tr>\n",
       "      <th>0</th>\n",
       "      <td>QATAR</td>\n",
       "      <td>ECUADOR</td>\n",
       "      <td>0</td>\n",
       "      <td>2</td>\n",
       "      <td>0</td>\n",
       "      <td>2</td>\n",
       "      <td>0</td>\n",
       "      <td>0</td>\n",
       "    </tr>\n",
       "    <tr>\n",
       "      <th>1</th>\n",
       "      <td>ENGLAND</td>\n",
       "      <td>IRAN</td>\n",
       "      <td>6</td>\n",
       "      <td>2</td>\n",
       "      <td>6</td>\n",
       "      <td>2</td>\n",
       "      <td>0</td>\n",
       "      <td>0</td>\n",
       "    </tr>\n",
       "    <tr>\n",
       "      <th>2</th>\n",
       "      <td>SENEGAL</td>\n",
       "      <td>NETHERLANDS</td>\n",
       "      <td>0</td>\n",
       "      <td>2</td>\n",
       "      <td>0</td>\n",
       "      <td>2</td>\n",
       "      <td>0</td>\n",
       "      <td>0</td>\n",
       "    </tr>\n",
       "    <tr>\n",
       "      <th>3</th>\n",
       "      <td>UNITED STATES</td>\n",
       "      <td>WALES</td>\n",
       "      <td>1</td>\n",
       "      <td>1</td>\n",
       "      <td>1</td>\n",
       "      <td>1</td>\n",
       "      <td>0</td>\n",
       "      <td>0</td>\n",
       "    </tr>\n",
       "    <tr>\n",
       "      <th>4</th>\n",
       "      <td>ARGENTINA</td>\n",
       "      <td>SAUDI ARABIA</td>\n",
       "      <td>1</td>\n",
       "      <td>2</td>\n",
       "      <td>1</td>\n",
       "      <td>2</td>\n",
       "      <td>0</td>\n",
       "      <td>0</td>\n",
       "    </tr>\n",
       "    <tr>\n",
       "      <th>...</th>\n",
       "      <td>...</td>\n",
       "      <td>...</td>\n",
       "      <td>...</td>\n",
       "      <td>...</td>\n",
       "      <td>...</td>\n",
       "      <td>...</td>\n",
       "      <td>...</td>\n",
       "      <td>...</td>\n",
       "    </tr>\n",
       "    <tr>\n",
       "      <th>59</th>\n",
       "      <td>ENGLAND</td>\n",
       "      <td>FRANCE</td>\n",
       "      <td>1</td>\n",
       "      <td>2</td>\n",
       "      <td>1</td>\n",
       "      <td>1</td>\n",
       "      <td>0</td>\n",
       "      <td>1</td>\n",
       "    </tr>\n",
       "    <tr>\n",
       "      <th>60</th>\n",
       "      <td>ARGENTINA</td>\n",
       "      <td>CROATIA</td>\n",
       "      <td>3</td>\n",
       "      <td>0</td>\n",
       "      <td>3</td>\n",
       "      <td>0</td>\n",
       "      <td>0</td>\n",
       "      <td>0</td>\n",
       "    </tr>\n",
       "    <tr>\n",
       "      <th>61</th>\n",
       "      <td>FRANCE</td>\n",
       "      <td>MOROCCO</td>\n",
       "      <td>2</td>\n",
       "      <td>0</td>\n",
       "      <td>2</td>\n",
       "      <td>0</td>\n",
       "      <td>0</td>\n",
       "      <td>0</td>\n",
       "    </tr>\n",
       "    <tr>\n",
       "      <th>62</th>\n",
       "      <td>CROATIA</td>\n",
       "      <td>MOROCCO</td>\n",
       "      <td>2</td>\n",
       "      <td>1</td>\n",
       "      <td>2</td>\n",
       "      <td>1</td>\n",
       "      <td>0</td>\n",
       "      <td>0</td>\n",
       "    </tr>\n",
       "    <tr>\n",
       "      <th>63</th>\n",
       "      <td>ARGENTINA</td>\n",
       "      <td>FRANCE</td>\n",
       "      <td>3</td>\n",
       "      <td>3</td>\n",
       "      <td>3</td>\n",
       "      <td>3</td>\n",
       "      <td>0</td>\n",
       "      <td>0</td>\n",
       "    </tr>\n",
       "  </tbody>\n",
       "</table>\n",
       "<p>64 rows × 8 columns</p>\n",
       "</div>"
      ],
      "text/plain": [
       "            team1         team2  number of goals team1  number of goals team2  \\\n",
       "0           QATAR       ECUADOR                      0                      2   \n",
       "1         ENGLAND          IRAN                      6                      2   \n",
       "2         SENEGAL   NETHERLANDS                      0                      2   \n",
       "3   UNITED STATES         WALES                      1                      1   \n",
       "4       ARGENTINA  SAUDI ARABIA                      1                      2   \n",
       "..            ...           ...                    ...                    ...   \n",
       "59        ENGLAND        FRANCE                      1                      2   \n",
       "60      ARGENTINA       CROATIA                      3                      0   \n",
       "61         FRANCE       MOROCCO                      2                      0   \n",
       "62        CROATIA       MOROCCO                      2                      1   \n",
       "63      ARGENTINA        FRANCE                      3                      3   \n",
       "\n",
       "    goal inside the penalty area team1  goal inside the penalty area team2  \\\n",
       "0                                    0                                   2   \n",
       "1                                    6                                   2   \n",
       "2                                    0                                   2   \n",
       "3                                    1                                   1   \n",
       "4                                    1                                   2   \n",
       "..                                 ...                                 ...   \n",
       "59                                   1                                   1   \n",
       "60                                   3                                   0   \n",
       "61                                   2                                   0   \n",
       "62                                   2                                   1   \n",
       "63                                   3                                   3   \n",
       "\n",
       "    goal outside the penalty area team1  goal outside the penalty area team2  \n",
       "0                                     0                                    0  \n",
       "1                                     0                                    0  \n",
       "2                                     0                                    0  \n",
       "3                                     0                                    0  \n",
       "4                                     0                                    0  \n",
       "..                                  ...                                  ...  \n",
       "59                                    0                                    1  \n",
       "60                                    0                                    0  \n",
       "61                                    0                                    0  \n",
       "62                                    0                                    0  \n",
       "63                                    0                                    0  \n",
       "\n",
       "[64 rows x 8 columns]"
      ]
     },
     "execution_count": 10,
     "metadata": {},
     "output_type": "execute_result"
    }
   ],
   "source": [
    "df[['team1', 'team2','number of goals team1','number of goals team2','goal inside the penalty area team1',\n",
    "    'goal inside the penalty area team2','goal outside the penalty area team1','goal outside the penalty area team2']]"
   ]
  },
  {
   "cell_type": "markdown",
   "id": "dde97afd-3c16-4efb-b842-d4b81e95e36d",
   "metadata": {},
   "source": [
    "## *<span style=color:chocolate>2. The sum of 'score'for each team</span>*"
   ]
  },
  {
   "cell_type": "code",
   "execution_count": 11,
   "id": "e799fa7c-23b3-47a7-b67f-127cdf04a518",
   "metadata": {},
   "outputs": [
    {
     "data": {
      "text/plain": [
       "team1\n",
       "ARGENTINA         11\n",
       "AUSTRALIA          1\n",
       "BELGIUM            1\n",
       "BRAZIL             7\n",
       "CAMEROON           4\n",
       "CANADA             1\n",
       "COSTA RICA         2\n",
       "CROATIA            7\n",
       "DENMARK            0\n",
       "ECUADOR            1\n",
       "ENGLAND           10\n",
       "FRANCE            11\n",
       "GERMANY            1\n",
       "GHANA              0\n",
       "IRAN               0\n",
       "JAPAN              3\n",
       "KOREA REPUBLIC     4\n",
       "MEXICO             0\n",
       "MOROCCO            1\n",
       "NETHERLANDS        8\n",
       "POLAND             2\n",
       "PORTUGAL          11\n",
       "QATAR              1\n",
       "SAUDI ARABIA       1\n",
       "SENEGAL            0\n",
       "SERBIA             2\n",
       "SPAIN              8\n",
       "SWITZERLAND        1\n",
       "TUNISIA            1\n",
       "UNITED STATES      1\n",
       "URUGUAY            0\n",
       "WALES              0\n",
       "Name: number of goals team1, dtype: int64"
      ]
     },
     "execution_count": 11,
     "metadata": {},
     "output_type": "execute_result"
    }
   ],
   "source": [
    "part1=df.groupby('team1')['number of goals team1'].sum()\n",
    "part1"
   ]
  },
  {
   "cell_type": "code",
   "execution_count": 12,
   "id": "e67bea54-dc2b-4ee6-af67-7e2d709164ca",
   "metadata": {},
   "outputs": [
    {
     "data": {
      "text/plain": [
       "team2\n",
       "ARGENTINA         4\n",
       "AUSTRALIA         3\n",
       "BELGIUM           0\n",
       "BRAZIL            1\n",
       "CAMEROON          0\n",
       "CANADA            1\n",
       "COSTA RICA        1\n",
       "CROATIA           1\n",
       "DENMARK           1\n",
       "ECUADOR           3\n",
       "ENGLAND           3\n",
       "FRANCE            5\n",
       "GERMANY           5\n",
       "GHANA             5\n",
       "IRAN              4\n",
       "JAPAN             2\n",
       "KOREA REPUBLIC    1\n",
       "MEXICO            2\n",
       "MOROCCO           5\n",
       "NETHERLANDS       2\n",
       "POLAND            1\n",
       "PORTUGAL          1\n",
       "QATAR             0\n",
       "SAUDI ARABIA      2\n",
       "SENEGAL           5\n",
       "SERBIA            3\n",
       "SPAIN             1\n",
       "SWITZERLAND       4\n",
       "TUNISIA           0\n",
       "UNITED STATES     2\n",
       "URUGUAY           2\n",
       "WALES             1\n",
       "Name: number of goals team2, dtype: int64"
      ]
     },
     "execution_count": 12,
     "metadata": {},
     "output_type": "execute_result"
    }
   ],
   "source": [
    "part2=df.groupby('team2')['number of goals team2'].sum()\n",
    "part2"
   ]
  },
  {
   "cell_type": "code",
   "execution_count": 13,
   "id": "e7f93d99-fe13-4740-9797-388c9d6f7cd8",
   "metadata": {},
   "outputs": [
    {
     "data": {
      "text/plain": [
       "team1\n",
       "FRANCE            16\n",
       "ARGENTINA         15\n",
       "ENGLAND           13\n",
       "PORTUGAL          12\n",
       "NETHERLANDS       10\n",
       "SPAIN              9\n",
       "BRAZIL             8\n",
       "CROATIA            8\n",
       "GERMANY            6\n",
       "MOROCCO            6\n",
       "JAPAN              5\n",
       "SWITZERLAND        5\n",
       "SERBIA             5\n",
       "SENEGAL            5\n",
       "KOREA REPUBLIC     5\n",
       "GHANA              5\n",
       "IRAN               4\n",
       "AUSTRALIA          4\n",
       "ECUADOR            4\n",
       "CAMEROON           4\n",
       "UNITED STATES      3\n",
       "COSTA RICA         3\n",
       "SAUDI ARABIA       3\n",
       "POLAND             3\n",
       "CANADA             2\n",
       "MEXICO             2\n",
       "URUGUAY            2\n",
       "QATAR              1\n",
       "DENMARK            1\n",
       "BELGIUM            1\n",
       "TUNISIA            1\n",
       "WALES              1\n",
       "dtype: int64"
      ]
     },
     "execution_count": 13,
     "metadata": {},
     "output_type": "execute_result"
    }
   ],
   "source": [
    "total=part1+part2\n",
    "total.sort_values(ascending=False)"
   ]
  },
  {
   "cell_type": "markdown",
   "id": "b91f5f35-6827-4538-9dae-edbffd204a5a",
   "metadata": {},
   "source": [
    "### ***<span style=color:blue>ploting</span><span style=color:red>!</span>***"
   ]
  },
  {
   "cell_type": "code",
   "execution_count": 14,
   "id": "2bd13c03-2925-4256-a887-aec1f2a8e5d1",
   "metadata": {},
   "outputs": [
    {
     "data": {
      "image/png": "[encoded data removed]",
      "text/plain": [
       "<Figure size 640x480 with 1 Axes>"
      ]
     },
     "metadata": {},
     "output_type": "display_data"
    }
   ],
   "source": [
    "plt.scatter(part1,part2)\n",
    "plt.show()"
   ]
  },
  {
   "cell_type": "markdown",
   "id": "944476b5-e2b2-4204-b553-52b3bf97d83d",
   "metadata": {},
   "source": [
    "## *<span style=color:#104e73>3. The sum of 'score' inside the penalty area for each team</span>*"
   ]
  },
  {
   "cell_type": "code",
   "execution_count": 15,
   "id": "9d774dcc-2a1f-40a9-ad8e-c1024f8cae42",
   "metadata": {},
   "outputs": [],
   "source": [
    "inside1=df.groupby('team1')['goal inside the penalty area team1'].sum()"
   ]
  },
  {
   "cell_type": "code",
   "execution_count": 16,
   "id": "8843f879-bdd5-4db9-b51c-f4ab53fc1d51",
   "metadata": {},
   "outputs": [],
   "source": [
    "inside2=df.groupby('team2')['goal inside the penalty area team2'].sum()"
   ]
  },
  {
   "cell_type": "code",
   "execution_count": 17,
   "id": "a62a6480-ac04-4c2d-b71e-50ff584c6511",
   "metadata": {},
   "outputs": [
    {
     "data": {
      "text/plain": [
       "team1\n",
       "ARGENTINA         10\n",
       "AUSTRALIA          1\n",
       "BELGIUM            1\n",
       "BRAZIL             7\n",
       "CAMEROON           4\n",
       "CANADA             0\n",
       "COSTA RICA         2\n",
       "CROATIA            6\n",
       "DENMARK            0\n",
       "ECUADOR            1\n",
       "ENGLAND           10\n",
       "FRANCE            11\n",
       "GERMANY            1\n",
       "GHANA              0\n",
       "IRAN               0\n",
       "JAPAN              2\n",
       "KOREA REPUBLIC     4\n",
       "MEXICO             0\n",
       "MOROCCO            1\n",
       "NETHERLANDS        7\n",
       "POLAND             2\n",
       "PORTUGAL          10\n",
       "QATAR              1\n",
       "SAUDI ARABIA       1\n",
       "SENEGAL            0\n",
       "SERBIA             2\n",
       "SPAIN              8\n",
       "SWITZERLAND        1\n",
       "TUNISIA            0\n",
       "UNITED STATES      1\n",
       "URUGUAY            0\n",
       "WALES              0\n",
       "Name: goal inside the penalty area team1, dtype: int64"
      ]
     },
     "execution_count": 17,
     "metadata": {},
     "output_type": "execute_result"
    }
   ],
   "source": [
    "inside1"
   ]
  },
  {
   "cell_type": "code",
   "execution_count": 18,
   "id": "73a1ddf0-dde1-449b-8ff6-cbd99bb8b6f5",
   "metadata": {},
   "outputs": [
    {
     "data": {
      "text/plain": [
       "team2\n",
       "ARGENTINA         4\n",
       "AUSTRALIA         2\n",
       "BELGIUM           0\n",
       "BRAZIL            1\n",
       "CAMEROON          0\n",
       "CANADA            1\n",
       "COSTA RICA        1\n",
       "CROATIA           1\n",
       "DENMARK           1\n",
       "ECUADOR           3\n",
       "ENGLAND           2\n",
       "FRANCE            4\n",
       "GERMANY           5\n",
       "GHANA             5\n",
       "IRAN              3\n",
       "JAPAN             2\n",
       "KOREA REPUBLIC    0\n",
       "MEXICO            1\n",
       "MOROCCO           4\n",
       "NETHERLANDS       2\n",
       "POLAND            1\n",
       "PORTUGAL          1\n",
       "QATAR             0\n",
       "SAUDI ARABIA      2\n",
       "SENEGAL           5\n",
       "SERBIA            2\n",
       "SPAIN             1\n",
       "SWITZERLAND       4\n",
       "TUNISIA           0\n",
       "UNITED STATES     2\n",
       "URUGUAY           2\n",
       "WALES             1\n",
       "Name: goal inside the penalty area team2, dtype: int64"
      ]
     },
     "execution_count": 18,
     "metadata": {},
     "output_type": "execute_result"
    }
   ],
   "source": [
    "inside2"
   ]
  },
  {
   "cell_type": "code",
   "execution_count": 19,
   "id": "fa863c13-10a5-4d0a-9cfe-c3c0bfecaf5f",
   "metadata": {},
   "outputs": [
    {
     "data": {
      "text/plain": [
       "team1\n",
       "ARGENTINA         14\n",
       "AUSTRALIA          3\n",
       "BELGIUM            1\n",
       "BRAZIL             8\n",
       "CAMEROON           4\n",
       "CANADA             1\n",
       "COSTA RICA         3\n",
       "CROATIA            7\n",
       "DENMARK            1\n",
       "ECUADOR            4\n",
       "ENGLAND           12\n",
       "FRANCE            15\n",
       "GERMANY            6\n",
       "GHANA              5\n",
       "IRAN               3\n",
       "JAPAN              4\n",
       "KOREA REPUBLIC     4\n",
       "MEXICO             1\n",
       "MOROCCO            5\n",
       "NETHERLANDS        9\n",
       "POLAND             3\n",
       "PORTUGAL          11\n",
       "QATAR              1\n",
       "SAUDI ARABIA       3\n",
       "SENEGAL            5\n",
       "SERBIA             4\n",
       "SPAIN              9\n",
       "SWITZERLAND        5\n",
       "TUNISIA            0\n",
       "UNITED STATES      3\n",
       "URUGUAY            2\n",
       "WALES              1\n",
       "dtype: int64"
      ]
     },
     "execution_count": 19,
     "metadata": {},
     "output_type": "execute_result"
    }
   ],
   "source": [
    "inside=inside1+inside2\n",
    "inside"
   ]
  },
  {
   "cell_type": "markdown",
   "id": "dc26dc32-1a7b-44c0-b434-c8362ce9ede5",
   "metadata": {},
   "source": [
    "### ***<span style=color:blue>ploting</span><span style=color:red>!</span>***"
   ]
  },
  {
   "cell_type": "code",
   "execution_count": 20,
   "id": "ea0e91b4-369e-46e3-9388-5d9ebaebf513",
   "metadata": {},
   "outputs": [
    {
     "data": {
      "image/png": "[encoded data removed]",
      "text/plain": [
       "<Figure size 640x480 with 1 Axes>"
      ]
     },
     "metadata": {},
     "output_type": "display_data"
    }
   ],
   "source": [
    "plt.scatter(inside1,inside2)\n",
    "plt.show()"
   ]
  },
  {
   "cell_type": "markdown",
   "id": "190371b5-ae92-4560-89bc-20c657edb364",
   "metadata": {},
   "source": [
    "## *<span style=color:goldenrod>4. The sum of 'score' outside the penalty area for each team</span>*"
   ]
  },
  {
   "cell_type": "code",
   "execution_count": 21,
   "id": "051a6c62-1711-4e7a-ad74-cedbb6fc5621",
   "metadata": {},
   "outputs": [],
   "source": [
    "outside1=df.groupby('team1')['goal outside the penalty area team1'].sum()"
   ]
  },
  {
   "cell_type": "code",
   "execution_count": 22,
   "id": "ac5fa1ff-b64a-47ca-9267-2f9be36418a0",
   "metadata": {},
   "outputs": [],
   "source": [
    "outside2=df.groupby(['team2'])['goal outside the penalty area team2'].sum()"
   ]
  },
  {
   "cell_type": "code",
   "execution_count": 23,
   "id": "93603974-720a-4bc7-8a3f-8a31a2ba05f6",
   "metadata": {},
   "outputs": [
    {
     "data": {
      "text/plain": [
       "team1\n",
       "ARGENTINA         1\n",
       "AUSTRALIA         0\n",
       "BELGIUM           0\n",
       "BRAZIL            0\n",
       "CAMEROON          0\n",
       "CANADA            0\n",
       "COSTA RICA        0\n",
       "CROATIA           1\n",
       "DENMARK           0\n",
       "ECUADOR           0\n",
       "ENGLAND           0\n",
       "FRANCE            0\n",
       "GERMANY           0\n",
       "GHANA             0\n",
       "IRAN              0\n",
       "JAPAN             1\n",
       "KOREA REPUBLIC    0\n",
       "MEXICO            0\n",
       "MOROCCO           0\n",
       "NETHERLANDS       1\n",
       "POLAND            0\n",
       "PORTUGAL          1\n",
       "QATAR             0\n",
       "SAUDI ARABIA      0\n",
       "SENEGAL           0\n",
       "SERBIA            0\n",
       "SPAIN             0\n",
       "SWITZERLAND       0\n",
       "TUNISIA           1\n",
       "UNITED STATES     0\n",
       "URUGUAY           0\n",
       "WALES             0\n",
       "Name: goal outside the penalty area team1, dtype: int64"
      ]
     },
     "execution_count": 23,
     "metadata": {},
     "output_type": "execute_result"
    }
   ],
   "source": [
    "outside1"
   ]
  },
  {
   "cell_type": "code",
   "execution_count": 24,
   "id": "8c4cc07e-7614-4a3b-938c-740e6b529767",
   "metadata": {},
   "outputs": [
    {
     "data": {
      "text/plain": [
       "team2\n",
       "ARGENTINA         0\n",
       "AUSTRALIA         0\n",
       "BELGIUM           0\n",
       "BRAZIL            0\n",
       "CAMEROON          0\n",
       "CANADA            0\n",
       "COSTA RICA        0\n",
       "CROATIA           0\n",
       "DENMARK           0\n",
       "ECUADOR           0\n",
       "ENGLAND           1\n",
       "FRANCE            1\n",
       "GERMANY           0\n",
       "GHANA             0\n",
       "IRAN              1\n",
       "JAPAN             0\n",
       "KOREA REPUBLIC    1\n",
       "MEXICO            1\n",
       "MOROCCO           1\n",
       "NETHERLANDS       0\n",
       "POLAND            0\n",
       "PORTUGAL          0\n",
       "QATAR             0\n",
       "SAUDI ARABIA      0\n",
       "SENEGAL           0\n",
       "SERBIA            1\n",
       "SPAIN             0\n",
       "SWITZERLAND       0\n",
       "TUNISIA           0\n",
       "UNITED STATES     0\n",
       "URUGUAY           0\n",
       "WALES             0\n",
       "Name: goal outside the penalty area team2, dtype: int64"
      ]
     },
     "execution_count": 24,
     "metadata": {},
     "output_type": "execute_result"
    }
   ],
   "source": [
    "outside2"
   ]
  },
  {
   "cell_type": "code",
   "execution_count": 25,
   "id": "a732b45d-9ba8-4b7c-b37e-ca851632f3f1",
   "metadata": {},
   "outputs": [
    {
     "data": {
      "text/plain": [
       "team1\n",
       "ARGENTINA         1\n",
       "AUSTRALIA         0\n",
       "BELGIUM           0\n",
       "BRAZIL            0\n",
       "CAMEROON          0\n",
       "CANADA            0\n",
       "COSTA RICA        0\n",
       "CROATIA           1\n",
       "DENMARK           0\n",
       "ECUADOR           0\n",
       "ENGLAND           1\n",
       "FRANCE            1\n",
       "GERMANY           0\n",
       "GHANA             0\n",
       "IRAN              1\n",
       "JAPAN             1\n",
       "KOREA REPUBLIC    1\n",
       "MEXICO            1\n",
       "MOROCCO           1\n",
       "NETHERLANDS       1\n",
       "POLAND            0\n",
       "PORTUGAL          1\n",
       "QATAR             0\n",
       "SAUDI ARABIA      0\n",
       "SENEGAL           0\n",
       "SERBIA            1\n",
       "SPAIN             0\n",
       "SWITZERLAND       0\n",
       "TUNISIA           1\n",
       "UNITED STATES     0\n",
       "URUGUAY           0\n",
       "WALES             0\n",
       "dtype: int64"
      ]
     },
     "execution_count": 25,
     "metadata": {},
     "output_type": "execute_result"
    }
   ],
   "source": [
    "outside=outside1+outside2\n",
    "outside"
   ]
  },
  {
   "cell_type": "markdown",
   "id": "b8a49292-9b95-4ba5-b08e-e0c12304db4f",
   "metadata": {},
   "source": [
    "### ***<span style=color:blue>ploting</span><span style=color:red>!</span>***"
   ]
  },
  {
   "cell_type": "code",
   "execution_count": 26,
   "id": "e1314ecd-d179-41eb-b3f4-4ded16e6bb40",
   "metadata": {},
   "outputs": [
    {
     "data": {
      "image/png": "[encoded data removed]",
      "text/plain": [
       "<Figure size 640x480 with 1 Axes>"
      ]
     },
     "metadata": {},
     "output_type": "display_data"
    }
   ],
   "source": [
    "plt.scatter(outside1,outside2)\n",
    "plt.show()"
   ]
  },
  {
   "cell_type": "code",
   "execution_count": 27,
   "id": "55477b2f-3aa6-4790-9b59-8b59d6a9e453",
   "metadata": {},
   "outputs": [
    {
     "data": {
      "text/html": [
       "<div>\n",
       "<style scoped>\n",
       "    .dataframe tbody tr th:only-of-type {\n",
       "        vertical-align: middle;\n",
       "    }\n",
       "\n",
       "    .dataframe tbody tr th {\n",
       "        vertical-align: top;\n",
       "    }\n",
       "\n",
       "    .dataframe thead th {\n",
       "        text-align: right;\n",
       "    }\n",
       "</style>\n",
       "<table border=\"1\" class=\"dataframe\">\n",
       "  <thead>\n",
       "    <tr style=\"text-align: right;\">\n",
       "      <th></th>\n",
       "      <th>team1</th>\n",
       "      <th>team2</th>\n",
       "      <th>yellow cards team1</th>\n",
       "      <th>yellow cards team2</th>\n",
       "      <th>red cards team1</th>\n",
       "      <th>red cards team2</th>\n",
       "    </tr>\n",
       "  </thead>\n",
       "  <tbody>\n",
       "    <tr>\n",
       "      <th>0</th>\n",
       "      <td>QATAR</td>\n",
       "      <td>ECUADOR</td>\n",
       "      <td>4</td>\n",
       "      <td>2</td>\n",
       "      <td>0</td>\n",
       "      <td>0</td>\n",
       "    </tr>\n",
       "    <tr>\n",
       "      <th>1</th>\n",
       "      <td>ENGLAND</td>\n",
       "      <td>IRAN</td>\n",
       "      <td>0</td>\n",
       "      <td>2</td>\n",
       "      <td>0</td>\n",
       "      <td>0</td>\n",
       "    </tr>\n",
       "    <tr>\n",
       "      <th>2</th>\n",
       "      <td>SENEGAL</td>\n",
       "      <td>NETHERLANDS</td>\n",
       "      <td>2</td>\n",
       "      <td>1</td>\n",
       "      <td>0</td>\n",
       "      <td>0</td>\n",
       "    </tr>\n",
       "    <tr>\n",
       "      <th>3</th>\n",
       "      <td>UNITED STATES</td>\n",
       "      <td>WALES</td>\n",
       "      <td>4</td>\n",
       "      <td>2</td>\n",
       "      <td>0</td>\n",
       "      <td>0</td>\n",
       "    </tr>\n",
       "    <tr>\n",
       "      <th>4</th>\n",
       "      <td>ARGENTINA</td>\n",
       "      <td>SAUDI ARABIA</td>\n",
       "      <td>0</td>\n",
       "      <td>6</td>\n",
       "      <td>0</td>\n",
       "      <td>0</td>\n",
       "    </tr>\n",
       "    <tr>\n",
       "      <th>...</th>\n",
       "      <td>...</td>\n",
       "      <td>...</td>\n",
       "      <td>...</td>\n",
       "      <td>...</td>\n",
       "      <td>...</td>\n",
       "      <td>...</td>\n",
       "    </tr>\n",
       "    <tr>\n",
       "      <th>59</th>\n",
       "      <td>ENGLAND</td>\n",
       "      <td>FRANCE</td>\n",
       "      <td>1</td>\n",
       "      <td>3</td>\n",
       "      <td>0</td>\n",
       "      <td>0</td>\n",
       "    </tr>\n",
       "    <tr>\n",
       "      <th>60</th>\n",
       "      <td>ARGENTINA</td>\n",
       "      <td>CROATIA</td>\n",
       "      <td>2</td>\n",
       "      <td>2</td>\n",
       "      <td>0</td>\n",
       "      <td>0</td>\n",
       "    </tr>\n",
       "    <tr>\n",
       "      <th>61</th>\n",
       "      <td>FRANCE</td>\n",
       "      <td>MOROCCO</td>\n",
       "      <td>0</td>\n",
       "      <td>1</td>\n",
       "      <td>0</td>\n",
       "      <td>0</td>\n",
       "    </tr>\n",
       "    <tr>\n",
       "      <th>62</th>\n",
       "      <td>CROATIA</td>\n",
       "      <td>MOROCCO</td>\n",
       "      <td>0</td>\n",
       "      <td>2</td>\n",
       "      <td>0</td>\n",
       "      <td>0</td>\n",
       "    </tr>\n",
       "    <tr>\n",
       "      <th>63</th>\n",
       "      <td>ARGENTINA</td>\n",
       "      <td>FRANCE</td>\n",
       "      <td>4</td>\n",
       "      <td>3</td>\n",
       "      <td>0</td>\n",
       "      <td>0</td>\n",
       "    </tr>\n",
       "  </tbody>\n",
       "</table>\n",
       "<p>64 rows × 6 columns</p>\n",
       "</div>"
      ],
      "text/plain": [
       "            team1         team2  yellow cards team1  yellow cards team2  \\\n",
       "0           QATAR       ECUADOR                   4                   2   \n",
       "1         ENGLAND          IRAN                   0                   2   \n",
       "2         SENEGAL   NETHERLANDS                   2                   1   \n",
       "3   UNITED STATES         WALES                   4                   2   \n",
       "4       ARGENTINA  SAUDI ARABIA                   0                   6   \n",
       "..            ...           ...                 ...                 ...   \n",
       "59        ENGLAND        FRANCE                   1                   3   \n",
       "60      ARGENTINA       CROATIA                   2                   2   \n",
       "61         FRANCE       MOROCCO                   0                   1   \n",
       "62        CROATIA       MOROCCO                   0                   2   \n",
       "63      ARGENTINA        FRANCE                   4                   3   \n",
       "\n",
       "    red cards team1  red cards team2  \n",
       "0                 0                0  \n",
       "1                 0                0  \n",
       "2                 0                0  \n",
       "3                 0                0  \n",
       "4                 0                0  \n",
       "..              ...              ...  \n",
       "59                0                0  \n",
       "60                0                0  \n",
       "61                0                0  \n",
       "62                0                0  \n",
       "63                0                0  \n",
       "\n",
       "[64 rows x 6 columns]"
      ]
     },
     "execution_count": 27,
     "metadata": {},
     "output_type": "execute_result"
    }
   ],
   "source": [
    "df[['team1', 'team2','yellow cards team1','yellow cards team2','red cards team1','red cards team2']]"
   ]
  },
  {
   "cell_type": "markdown",
   "id": "8665f7e7-ad07-47cc-a424-cc1f28717506",
   "metadata": {},
   "source": [
    "## *<span style=color:forestgreen>5. The sum of 'Yellow cards' for each team </span>*"
   ]
  },
  {
   "cell_type": "code",
   "execution_count": 28,
   "id": "f2b631a4-0fbd-4adf-99dd-fded24d525cd",
   "metadata": {},
   "outputs": [],
   "source": [
    "cards_y_1 = df.groupby('team1')['yellow cards team1'].sum()"
   ]
  },
  {
   "cell_type": "code",
   "execution_count": 29,
   "id": "08fb23bd-1b9a-404c-9b91-1ba6012bd599",
   "metadata": {},
   "outputs": [
    {
     "data": {
      "text/plain": [
       "team1\n",
       "ARGENTINA          7\n",
       "AUSTRALIA          2\n",
       "BELGIUM            4\n",
       "BRAZIL             1\n",
       "CAMEROON           7\n",
       "CANADA             4\n",
       "COSTA RICA         1\n",
       "CROATIA            4\n",
       "DENMARK            2\n",
       "ECUADOR            0\n",
       "ENGLAND            1\n",
       "FRANCE             2\n",
       "GERMANY            0\n",
       "GHANA              2\n",
       "IRAN               3\n",
       "JAPAN              6\n",
       "KOREA REPUBLIC     4\n",
       "MEXICO             2\n",
       "MOROCCO            5\n",
       "NETHERLANDS       11\n",
       "POLAND             4\n",
       "PORTUGAL           5\n",
       "QATAR              7\n",
       "SAUDI ARABIA       6\n",
       "SENEGAL            2\n",
       "SERBIA             7\n",
       "SPAIN              1\n",
       "SWITZERLAND        2\n",
       "TUNISIA            4\n",
       "UNITED STATES      4\n",
       "URUGUAY            1\n",
       "WALES              3\n",
       "Name: yellow cards team1, dtype: int64"
      ]
     },
     "execution_count": 29,
     "metadata": {},
     "output_type": "execute_result"
    }
   ],
   "source": [
    "cards_y_1"
   ]
  },
  {
   "cell_type": "code",
   "execution_count": 30,
   "id": "6d397f04-669c-450a-9fa8-76945163aa32",
   "metadata": {},
   "outputs": [],
   "source": [
    "cards_y_2 = df.groupby ('team2')['yellow cards team2'].sum()"
   ]
  },
  {
   "cell_type": "code",
   "execution_count": 31,
   "id": "301bd3eb-7bb5-4a7a-b9d7-078fd823d540",
   "metadata": {},
   "outputs": [
    {
     "data": {
      "text/plain": [
       "team2\n",
       "ARGENTINA         9\n",
       "AUSTRALIA         5\n",
       "BELGIUM           1\n",
       "BRAZIL            5\n",
       "CAMEROON          1\n",
       "CANADA            4\n",
       "COSTA RICA        5\n",
       "CROATIA           4\n",
       "DENMARK           3\n",
       "ECUADOR           3\n",
       "ENGLAND           0\n",
       "FRANCE            6\n",
       "GERMANY           3\n",
       "GHANA             6\n",
       "IRAN              4\n",
       "JAPAN             0\n",
       "KOREA REPUBLIC    2\n",
       "MEXICO            5\n",
       "MOROCCO           4\n",
       "NETHERLANDS       1\n",
       "POLAND            3\n",
       "PORTUGAL          1\n",
       "QATAR             0\n",
       "SAUDI ARABIA      8\n",
       "SENEGAL           5\n",
       "SERBIA            5\n",
       "SPAIN             1\n",
       "SWITZERLAND       7\n",
       "TUNISIA           1\n",
       "UNITED STATES     1\n",
       "URUGUAY           7\n",
       "WALES             2\n",
       "Name: yellow cards team2, dtype: int64"
      ]
     },
     "execution_count": 31,
     "metadata": {},
     "output_type": "execute_result"
    }
   ],
   "source": [
    "cards_y_2"
   ]
  },
  {
   "cell_type": "code",
   "execution_count": 32,
   "id": "f6ed5920-e23a-4ece-8e42-4c09a274cc5c",
   "metadata": {},
   "outputs": [
    {
     "data": {
      "text/plain": [
       "team1\n",
       "ARGENTINA         16\n",
       "AUSTRALIA          7\n",
       "BELGIUM            5\n",
       "BRAZIL             6\n",
       "CAMEROON           8\n",
       "CANADA             8\n",
       "COSTA RICA         6\n",
       "CROATIA            8\n",
       "DENMARK            5\n",
       "ECUADOR            3\n",
       "ENGLAND            1\n",
       "FRANCE             8\n",
       "GERMANY            3\n",
       "GHANA              8\n",
       "IRAN               7\n",
       "JAPAN              6\n",
       "KOREA REPUBLIC     6\n",
       "MEXICO             7\n",
       "MOROCCO            9\n",
       "NETHERLANDS       12\n",
       "POLAND             7\n",
       "PORTUGAL           6\n",
       "QATAR              7\n",
       "SAUDI ARABIA      14\n",
       "SENEGAL            7\n",
       "SERBIA            12\n",
       "SPAIN              2\n",
       "SWITZERLAND        9\n",
       "TUNISIA            5\n",
       "UNITED STATES      5\n",
       "URUGUAY            8\n",
       "WALES              5\n",
       "dtype: int64"
      ]
     },
     "execution_count": 32,
     "metadata": {},
     "output_type": "execute_result"
    }
   ],
   "source": [
    "cards_Y=cards_y_1+cards_y_2\n",
    "cards_Y"
   ]
  },
  {
   "cell_type": "markdown",
   "id": "07ca1693-ffbb-4adc-a66a-fc8ffb351f2c",
   "metadata": {},
   "source": [
    "## *<span style=color:#ff7472>6. The sum of 'Red cards' for each team </span>*"
   ]
  },
  {
   "cell_type": "code",
   "execution_count": 33,
   "id": "1f5299fc-da3b-4355-abfb-5141b147f342",
   "metadata": {},
   "outputs": [],
   "source": [
    "cards_r_1=df.groupby('team1')['red cards team1'].sum()"
   ]
  },
  {
   "cell_type": "code",
   "execution_count": 34,
   "id": "85569c9a-15b5-4cdf-9050-480cc2e64951",
   "metadata": {},
   "outputs": [
    {
     "data": {
      "text/plain": [
       "team1\n",
       "ARGENTINA         0\n",
       "AUSTRALIA         0\n",
       "BELGIUM           0\n",
       "BRAZIL            0\n",
       "CAMEROON          1\n",
       "CANADA            0\n",
       "COSTA RICA        0\n",
       "CROATIA           0\n",
       "DENMARK           0\n",
       "ECUADOR           0\n",
       "ENGLAND           0\n",
       "FRANCE            0\n",
       "GERMANY           0\n",
       "GHANA             0\n",
       "IRAN              0\n",
       "JAPAN             0\n",
       "KOREA REPUBLIC    0\n",
       "MEXICO            0\n",
       "MOROCCO           1\n",
       "NETHERLANDS       1\n",
       "POLAND            0\n",
       "PORTUGAL          0\n",
       "QATAR             0\n",
       "SAUDI ARABIA      0\n",
       "SENEGAL           0\n",
       "SERBIA            0\n",
       "SPAIN             0\n",
       "SWITZERLAND       0\n",
       "TUNISIA           0\n",
       "UNITED STATES     0\n",
       "URUGUAY           0\n",
       "WALES             1\n",
       "Name: red cards team1, dtype: int64"
      ]
     },
     "execution_count": 34,
     "metadata": {},
     "output_type": "execute_result"
    }
   ],
   "source": [
    "cards_r_1"
   ]
  },
  {
   "cell_type": "code",
   "execution_count": 35,
   "id": "9f511de9-409c-4ece-8f62-76f14268b545",
   "metadata": {},
   "outputs": [],
   "source": [
    "cards_r_2=df.groupby('team2')['red cards team2'].sum()"
   ]
  },
  {
   "cell_type": "code",
   "execution_count": 36,
   "id": "d0abbf0f-4422-423a-8812-5129339b6978",
   "metadata": {},
   "outputs": [
    {
     "data": {
      "text/plain": [
       "team2\n",
       "ARGENTINA         0\n",
       "AUSTRALIA         0\n",
       "BELGIUM           0\n",
       "BRAZIL            0\n",
       "CAMEROON          0\n",
       "CANADA            0\n",
       "COSTA RICA        0\n",
       "CROATIA           0\n",
       "DENMARK           0\n",
       "ECUADOR           0\n",
       "ENGLAND           0\n",
       "FRANCE            0\n",
       "GERMANY           0\n",
       "GHANA             0\n",
       "IRAN              0\n",
       "JAPAN             0\n",
       "KOREA REPUBLIC    0\n",
       "MEXICO            0\n",
       "MOROCCO           0\n",
       "NETHERLANDS       0\n",
       "POLAND            0\n",
       "PORTUGAL          0\n",
       "QATAR             0\n",
       "SAUDI ARABIA      0\n",
       "SENEGAL           0\n",
       "SERBIA            0\n",
       "SPAIN             0\n",
       "SWITZERLAND       0\n",
       "TUNISIA           0\n",
       "UNITED STATES     0\n",
       "URUGUAY           0\n",
       "WALES             0\n",
       "Name: red cards team2, dtype: int64"
      ]
     },
     "execution_count": 36,
     "metadata": {},
     "output_type": "execute_result"
    }
   ],
   "source": [
    "cards_r_2"
   ]
  },
  {
   "cell_type": "code",
   "execution_count": 37,
   "id": "a8942cda-8415-4ce0-9dd4-61002525617a",
   "metadata": {},
   "outputs": [
    {
     "data": {
      "text/plain": [
       "team1\n",
       "ARGENTINA         0\n",
       "AUSTRALIA         0\n",
       "BELGIUM           0\n",
       "BRAZIL            0\n",
       "CAMEROON          1\n",
       "CANADA            0\n",
       "COSTA RICA        0\n",
       "CROATIA           0\n",
       "DENMARK           0\n",
       "ECUADOR           0\n",
       "ENGLAND           0\n",
       "FRANCE            0\n",
       "GERMANY           0\n",
       "GHANA             0\n",
       "IRAN              0\n",
       "JAPAN             0\n",
       "KOREA REPUBLIC    0\n",
       "MEXICO            0\n",
       "MOROCCO           1\n",
       "NETHERLANDS       1\n",
       "POLAND            0\n",
       "PORTUGAL          0\n",
       "QATAR             0\n",
       "SAUDI ARABIA      0\n",
       "SENEGAL           0\n",
       "SERBIA            0\n",
       "SPAIN             0\n",
       "SWITZERLAND       0\n",
       "TUNISIA           0\n",
       "UNITED STATES     0\n",
       "URUGUAY           0\n",
       "WALES             1\n",
       "dtype: int64"
      ]
     },
     "execution_count": 37,
     "metadata": {},
     "output_type": "execute_result"
    }
   ],
   "source": [
    "cards_R = cards_r_1+cards_r_2\n",
    "cards_R"
   ]
  },
  {
   "cell_type": "markdown",
   "id": "5c156ce9-196d-4940-9a78-11d941c58d14",
   "metadata": {},
   "source": [
    "### ***<span style=color:blue>ploting</span><span style=color:red>!</span>***"
   ]
  },
  {
   "cell_type": "code",
   "execution_count": 38,
   "id": "217b710d-c5ec-4ba3-b75f-5667bb97dc01",
   "metadata": {},
   "outputs": [
    {
     "data": {
      "text/plain": [
       "<function matplotlib.pyplot.show(close=None, block=None)>"
      ]
     },
     "execution_count": 38,
     "metadata": {},
     "output_type": "execute_result"
    },
    {
     "data": {
      "image/png": "[encoded data removed]",
      "text/plain": [
       "<Figure size 640x480 with 1 Axes>"
      ]
     },
     "metadata": {},
     "output_type": "display_data"
    }
   ],
   "source": [
    "plt.bar(cards_y_1,cards_y_2)\n",
    "plt.show"
   ]
  },
  {
   "cell_type": "code",
   "execution_count": 39,
   "id": "1844a7f6-2790-4549-beb2-f2224ba2797e",
   "metadata": {},
   "outputs": [
    {
     "data": {
      "text/plain": [
       "<function matplotlib.pyplot.show(close=None, block=None)>"
      ]
     },
     "execution_count": 39,
     "metadata": {},
     "output_type": "execute_result"
    },
    {
     "data": {
      "image/png": "[encoded data removed]",
      "text/plain": [
       "<Figure size 640x480 with 1 Axes>"
      ]
     },
     "metadata": {},
     "output_type": "display_data"
    }
   ],
   "source": [
    "plt.bar(cards_r_1,cards_r_2)\n",
    "plt.show"
   ]
  },
  {
   "cell_type": "code",
   "execution_count": 40,
   "id": "3058d8a6-5ee1-4386-855b-ea5ab53edb89",
   "metadata": {},
   "outputs": [
    {
     "data": {
      "text/plain": [
       "Index(['team1', 'team2', 'possession team1', 'possession team2',\n",
       "       'possession in contest', 'number of goals team1',\n",
       "       'number of goals team2', 'date', 'hour', 'category',\n",
       "       'total attempts team1', 'total attempts team2', 'conceded team1',\n",
       "       'conceded team2', 'goal inside the penalty area team1',\n",
       "       'goal inside the penalty area team2',\n",
       "       'goal outside the penalty area team1',\n",
       "       'goal outside the penalty area team2', 'assists team1', 'assists team2',\n",
       "       'on target attempts team1', 'on target attempts team2',\n",
       "       'off target attempts team1', 'off target attempts team2',\n",
       "       'attempts inside the penalty area team1',\n",
       "       'attempts inside the penalty area  team2',\n",
       "       'attempts outside the penalty area  team1',\n",
       "       'attempts outside the penalty area  team2', 'left channel team1',\n",
       "       'left channel team2', 'left inside channel team1',\n",
       "       'left inside channel team2', 'central channel team1',\n",
       "       'central channel team2', 'right inside channel team1',\n",
       "       'right inside channel team2', 'right channel team1',\n",
       "       'right channel team2', 'total offers to receive team1',\n",
       "       'total offers to receive team2', 'inbehind offers to receive team1',\n",
       "       'inbehind offers to receive team2', 'inbetween offers to receive team1',\n",
       "       'inbetween offers to receive team2', 'infront offers to receive team1',\n",
       "       'infront offers to receive team2',\n",
       "       'receptions between midfield and defensive lines team1',\n",
       "       'receptions between midfield and defensive lines team2',\n",
       "       'attempted line breaks team1', 'attempted line breaks team2',\n",
       "       'completed line breaksteam1', 'completed line breaks team2',\n",
       "       'attempted defensive line breaks team1',\n",
       "       'attempted defensive line breaks team2',\n",
       "       'completed defensive line breaksteam1',\n",
       "       'completed defensive line breaks team2', 'yellow cards team1',\n",
       "       'yellow cards team2', 'red cards team1', 'red cards team2',\n",
       "       'fouls against team1', 'fouls against team2', 'offsides team1',\n",
       "       'offsides team2', 'passes team1', 'passes team2',\n",
       "       'passes completed team1', 'passes completed team2', 'crosses team1',\n",
       "       'crosses team2', 'crosses completed team1', 'crosses completed team2',\n",
       "       'switches of play completed team1', 'switches of play completed team2',\n",
       "       'corners team1', 'corners team2', 'free kicks team1',\n",
       "       'free kicks team2', 'penalties scored team1', 'penalties scored team2',\n",
       "       'goal preventions team1', 'goal preventions team2', 'own goals team1',\n",
       "       'own goals team2', 'forced turnovers team1', 'forced turnovers team2',\n",
       "       'defensive pressures applied team1',\n",
       "       'defensive pressures applied team2'],\n",
       "      dtype='object')"
      ]
     },
     "execution_count": 40,
     "metadata": {},
     "output_type": "execute_result"
    }
   ],
   "source": [
    "t"
   ]
  },
  {
   "cell_type": "code",
   "execution_count": 41,
   "id": "33065fb0-babb-4974-a7f2-779ea8de3f43",
   "metadata": {},
   "outputs": [
    {
     "data": {
      "text/html": [
       "<div>\n",
       "<style scoped>\n",
       "    .dataframe tbody tr th:only-of-type {\n",
       "        vertical-align: middle;\n",
       "    }\n",
       "\n",
       "    .dataframe tbody tr th {\n",
       "        vertical-align: top;\n",
       "    }\n",
       "\n",
       "    .dataframe thead th {\n",
       "        text-align: right;\n",
       "    }\n",
       "</style>\n",
       "<table border=\"1\" class=\"dataframe\">\n",
       "  <thead>\n",
       "    <tr style=\"text-align: right;\">\n",
       "      <th></th>\n",
       "      <th>team1</th>\n",
       "      <th>team2</th>\n",
       "      <th>total attempts team2</th>\n",
       "      <th>total attempts team1</th>\n",
       "      <th>on target attempts team1</th>\n",
       "      <th>on target attempts team2</th>\n",
       "      <th>off target attempts team1</th>\n",
       "      <th>off target attempts team2</th>\n",
       "    </tr>\n",
       "  </thead>\n",
       "  <tbody>\n",
       "    <tr>\n",
       "      <th>0</th>\n",
       "      <td>QATAR</td>\n",
       "      <td>ECUADOR</td>\n",
       "      <td>6</td>\n",
       "      <td>5</td>\n",
       "      <td>0</td>\n",
       "      <td>3</td>\n",
       "      <td>5</td>\n",
       "      <td>3</td>\n",
       "    </tr>\n",
       "    <tr>\n",
       "      <th>1</th>\n",
       "      <td>ENGLAND</td>\n",
       "      <td>IRAN</td>\n",
       "      <td>8</td>\n",
       "      <td>13</td>\n",
       "      <td>7</td>\n",
       "      <td>3</td>\n",
       "      <td>3</td>\n",
       "      <td>4</td>\n",
       "    </tr>\n",
       "    <tr>\n",
       "      <th>2</th>\n",
       "      <td>SENEGAL</td>\n",
       "      <td>NETHERLANDS</td>\n",
       "      <td>9</td>\n",
       "      <td>14</td>\n",
       "      <td>3</td>\n",
       "      <td>3</td>\n",
       "      <td>8</td>\n",
       "      <td>5</td>\n",
       "    </tr>\n",
       "    <tr>\n",
       "      <th>3</th>\n",
       "      <td>UNITED STATES</td>\n",
       "      <td>WALES</td>\n",
       "      <td>7</td>\n",
       "      <td>6</td>\n",
       "      <td>1</td>\n",
       "      <td>3</td>\n",
       "      <td>4</td>\n",
       "      <td>3</td>\n",
       "    </tr>\n",
       "    <tr>\n",
       "      <th>4</th>\n",
       "      <td>ARGENTINA</td>\n",
       "      <td>SAUDI ARABIA</td>\n",
       "      <td>3</td>\n",
       "      <td>14</td>\n",
       "      <td>6</td>\n",
       "      <td>2</td>\n",
       "      <td>5</td>\n",
       "      <td>0</td>\n",
       "    </tr>\n",
       "    <tr>\n",
       "      <th>...</th>\n",
       "      <td>...</td>\n",
       "      <td>...</td>\n",
       "      <td>...</td>\n",
       "      <td>...</td>\n",
       "      <td>...</td>\n",
       "      <td>...</td>\n",
       "      <td>...</td>\n",
       "      <td>...</td>\n",
       "    </tr>\n",
       "    <tr>\n",
       "      <th>59</th>\n",
       "      <td>ENGLAND</td>\n",
       "      <td>FRANCE</td>\n",
       "      <td>9</td>\n",
       "      <td>14</td>\n",
       "      <td>6</td>\n",
       "      <td>5</td>\n",
       "      <td>4</td>\n",
       "      <td>3</td>\n",
       "    </tr>\n",
       "    <tr>\n",
       "      <th>60</th>\n",
       "      <td>ARGENTINA</td>\n",
       "      <td>CROATIA</td>\n",
       "      <td>12</td>\n",
       "      <td>10</td>\n",
       "      <td>7</td>\n",
       "      <td>3</td>\n",
       "      <td>2</td>\n",
       "      <td>7</td>\n",
       "    </tr>\n",
       "    <tr>\n",
       "      <th>61</th>\n",
       "      <td>FRANCE</td>\n",
       "      <td>MOROCCO</td>\n",
       "      <td>13</td>\n",
       "      <td>14</td>\n",
       "      <td>2</td>\n",
       "      <td>1</td>\n",
       "      <td>8</td>\n",
       "      <td>6</td>\n",
       "    </tr>\n",
       "    <tr>\n",
       "      <th>62</th>\n",
       "      <td>CROATIA</td>\n",
       "      <td>MOROCCO</td>\n",
       "      <td>7</td>\n",
       "      <td>14</td>\n",
       "      <td>4</td>\n",
       "      <td>2</td>\n",
       "      <td>8</td>\n",
       "      <td>5</td>\n",
       "    </tr>\n",
       "    <tr>\n",
       "      <th>63</th>\n",
       "      <td>ARGENTINA</td>\n",
       "      <td>FRANCE</td>\n",
       "      <td>10</td>\n",
       "      <td>21</td>\n",
       "      <td>9</td>\n",
       "      <td>5</td>\n",
       "      <td>9</td>\n",
       "      <td>3</td>\n",
       "    </tr>\n",
       "  </tbody>\n",
       "</table>\n",
       "<p>64 rows × 8 columns</p>\n",
       "</div>"
      ],
      "text/plain": [
       "            team1         team2  total attempts team2  total attempts team1  \\\n",
       "0           QATAR       ECUADOR                     6                     5   \n",
       "1         ENGLAND          IRAN                     8                    13   \n",
       "2         SENEGAL   NETHERLANDS                     9                    14   \n",
       "3   UNITED STATES         WALES                     7                     6   \n",
       "4       ARGENTINA  SAUDI ARABIA                     3                    14   \n",
       "..            ...           ...                   ...                   ...   \n",
       "59        ENGLAND        FRANCE                     9                    14   \n",
       "60      ARGENTINA       CROATIA                    12                    10   \n",
       "61         FRANCE       MOROCCO                    13                    14   \n",
       "62        CROATIA       MOROCCO                     7                    14   \n",
       "63      ARGENTINA        FRANCE                    10                    21   \n",
       "\n",
       "    on target attempts team1  on target attempts team2  \\\n",
       "0                          0                         3   \n",
       "1                          7                         3   \n",
       "2                          3                         3   \n",
       "3                          1                         3   \n",
       "4                          6                         2   \n",
       "..                       ...                       ...   \n",
       "59                         6                         5   \n",
       "60                         7                         3   \n",
       "61                         2                         1   \n",
       "62                         4                         2   \n",
       "63                         9                         5   \n",
       "\n",
       "    off target attempts team1  off target attempts team2  \n",
       "0                           5                          3  \n",
       "1                           3                          4  \n",
       "2                           8                          5  \n",
       "3                           4                          3  \n",
       "4                           5                          0  \n",
       "..                        ...                        ...  \n",
       "59                          4                          3  \n",
       "60                          2                          7  \n",
       "61                          8                          6  \n",
       "62                          8                          5  \n",
       "63                          9                          3  \n",
       "\n",
       "[64 rows x 8 columns]"
      ]
     },
     "execution_count": 41,
     "metadata": {},
     "output_type": "execute_result"
    }
   ],
   "source": [
    "df[['team1', 'team2','total attempts team2','total attempts team1','on target attempts team1',\n",
    "'on target attempts team2','off target attempts team1', 'off target attempts team2']]"
   ]
  },
  {
   "cell_type": "markdown",
   "id": "1c047996-8178-4bd6-9a23-287458cea8e7",
   "metadata": {},
   "source": [
    "## *<span style=color:crimson>7. The average of ‘attempts’ for each team </span>*"
   ]
  },
  {
   "cell_type": "code",
   "execution_count": 42,
   "id": "8b72187a-d868-4616-bd4d-fe2ab339f24c",
   "metadata": {},
   "outputs": [
    {
     "data": {
      "text/plain": [
       "team1\n",
       "ARGENTINA         12.800000\n",
       "AUSTRALIA          8.000000\n",
       "BELGIUM            9.500000\n",
       "BRAZIL            17.000000\n",
       "CAMEROON          10.000000\n",
       "CANADA             5.000000\n",
       "COSTA RICA         8.000000\n",
       "CROATIA           11.750000\n",
       "DENMARK           11.000000\n",
       "ECUADOR            8.000000\n",
       "ENGLAND           10.750000\n",
       "FRANCE            18.250000\n",
       "GERMANY           25.000000\n",
       "GHANA              9.000000\n",
       "IRAN               6.000000\n",
       "JAPAN             10.666667\n",
       "KOREA REPUBLIC    16.500000\n",
       "MEXICO            13.000000\n",
       "MOROCCO            7.666667\n",
       "NETHERLANDS        7.750000\n",
       "POLAND             6.000000\n",
       "PORTUGAL          13.000000\n",
       "QATAR              7.500000\n",
       "SAUDI ARABIA      10.000000\n",
       "SENEGAL           14.000000\n",
       "SERBIA            11.000000\n",
       "SPAIN             12.000000\n",
       "SWITZERLAND        8.000000\n",
       "TUNISIA            9.000000\n",
       "UNITED STATES      6.000000\n",
       "URUGUAY           10.000000\n",
       "WALES              8.500000\n",
       "Name: total attempts team1, dtype: float64"
      ]
     },
     "execution_count": 42,
     "metadata": {},
     "output_type": "execute_result"
    }
   ],
   "source": [
    "attempts1=df.groupby('team1')['total attempts team1'].mean()\n",
    "attempts1"
   ]
  },
  {
   "cell_type": "code",
   "execution_count": 43,
   "id": "ccfe4688-8030-42ba-a76d-8809766973af",
   "metadata": {},
   "outputs": [],
   "source": [
    "attempts2 = df.groupby('team2')['total attempts team2'].mean()"
   ]
  },
  {
   "cell_type": "code",
   "execution_count": 44,
   "id": "4f369cce-948e-4f64-9cb7-edefad9ee4e6",
   "metadata": {},
   "outputs": [
    {
     "data": {
      "text/plain": [
       "team2\n",
       "ARGENTINA         20.000000\n",
       "AUSTRALIA          5.666667\n",
       "BELGIUM           15.000000\n",
       "BRAZIL            19.500000\n",
       "CAMEROON           7.000000\n",
       "CANADA            15.000000\n",
       "COSTA RICA         2.000000\n",
       "CROATIA           11.333333\n",
       "DENMARK           12.000000\n",
       "ECUADOR            9.500000\n",
       "ENGLAND           17.000000\n",
       "FRANCE             9.333333\n",
       "GERMANY           21.000000\n",
       "GHANA              8.000000\n",
       "IRAN              14.500000\n",
       "JAPAN             10.000000\n",
       "KOREA REPUBLIC     8.000000\n",
       "MEXICO            14.500000\n",
       "MOROCCO            9.500000\n",
       "NETHERLANDS        9.000000\n",
       "POLAND             9.500000\n",
       "PORTUGAL          11.500000\n",
       "QATAR              6.000000\n",
       "SAUDI ARABIA       9.500000\n",
       "SENEGAL           12.333333\n",
       "SERBIA            10.000000\n",
       "SPAIN             13.500000\n",
       "SWITZERLAND        9.333333\n",
       "TUNISIA           11.000000\n",
       "UNITED STATES     13.333333\n",
       "URUGUAY           11.000000\n",
       "WALES              7.000000\n",
       "Name: total attempts team2, dtype: float64"
      ]
     },
     "execution_count": 44,
     "metadata": {},
     "output_type": "execute_result"
    }
   ],
   "source": [
    "attempts2"
   ]
  },
  {
   "cell_type": "code",
   "execution_count": 45,
   "id": "24cd60a8-7bfc-40ca-87c3-7cc2390ca010",
   "metadata": {},
   "outputs": [],
   "source": [
    "Avg_attempts=(attempts1+attempts2)/2"
   ]
  },
  {
   "cell_type": "code",
   "execution_count": 46,
   "id": "0c56c9e6-f36e-4a20-8123-62f58ee0e3ba",
   "metadata": {},
   "outputs": [
    {
     "data": {
      "text/plain": [
       "team1\n",
       "ARGENTINA         16.400000\n",
       "AUSTRALIA          6.833333\n",
       "BELGIUM           12.250000\n",
       "BRAZIL            18.250000\n",
       "CAMEROON           8.500000\n",
       "CANADA            10.000000\n",
       "COSTA RICA         5.000000\n",
       "CROATIA           11.541667\n",
       "DENMARK           11.500000\n",
       "ECUADOR            8.750000\n",
       "ENGLAND           13.875000\n",
       "FRANCE            13.791667\n",
       "GERMANY           23.000000\n",
       "GHANA              8.500000\n",
       "IRAN              10.250000\n",
       "JAPAN             10.333333\n",
       "KOREA REPUBLIC    12.250000\n",
       "MEXICO            13.750000\n",
       "MOROCCO            8.583333\n",
       "NETHERLANDS        8.375000\n",
       "POLAND             7.750000\n",
       "PORTUGAL          12.250000\n",
       "QATAR              6.750000\n",
       "SAUDI ARABIA       9.750000\n",
       "SENEGAL           13.166667\n",
       "SERBIA            10.500000\n",
       "SPAIN             12.750000\n",
       "SWITZERLAND        8.666667\n",
       "TUNISIA           10.000000\n",
       "UNITED STATES      9.666667\n",
       "URUGUAY           10.500000\n",
       "WALES              7.750000\n",
       "dtype: float64"
      ]
     },
     "execution_count": 46,
     "metadata": {},
     "output_type": "execute_result"
    }
   ],
   "source": [
    "Avg_attempts"
   ]
  },
  {
   "cell_type": "markdown",
   "id": "12dcabdd-5abd-40ee-8a94-192a2c337611",
   "metadata": {},
   "source": [
    "### ***<span style=color:blue>ploting</span><span style=color:red>!</span>***"
   ]
  },
  {
   "cell_type": "code",
   "execution_count": 47,
   "id": "31e90faa-5e93-4080-ab3d-8cfad28db98e",
   "metadata": {},
   "outputs": [
    {
     "data": {
      "text/plain": [
       "<function matplotlib.pyplot.show(close=None, block=None)>"
      ]
     },
     "execution_count": 47,
     "metadata": {},
     "output_type": "execute_result"
    },
    {
     "data": {
      "image/png": "[encoded data removed]",
      "text/plain": [
       "<Figure size 640x480 with 1 Axes>"
      ]
     },
     "metadata": {},
     "output_type": "display_data"
    }
   ],
   "source": [
    "plt.bar(attempts1,attempts2)\n",
    "plt.show"
   ]
  },
  {
   "cell_type": "code",
   "execution_count": 48,
   "id": "9912efbb-3b9a-4a7e-a0f6-be17f7c96a16",
   "metadata": {},
   "outputs": [
    {
     "data": {
      "text/html": [
       "<div>\n",
       "<style scoped>\n",
       "    .dataframe tbody tr th:only-of-type {\n",
       "        vertical-align: middle;\n",
       "    }\n",
       "\n",
       "    .dataframe tbody tr th {\n",
       "        vertical-align: top;\n",
       "    }\n",
       "\n",
       "    .dataframe thead th {\n",
       "        text-align: right;\n",
       "    }\n",
       "</style>\n",
       "<table border=\"1\" class=\"dataframe\">\n",
       "  <thead>\n",
       "    <tr style=\"text-align: right;\">\n",
       "      <th></th>\n",
       "      <th>team1</th>\n",
       "      <th>team2</th>\n",
       "      <th>on target attempts team2</th>\n",
       "      <th>on target attempts team2</th>\n",
       "      <th>off target attempts team1</th>\n",
       "      <th>off target attempts team2</th>\n",
       "    </tr>\n",
       "  </thead>\n",
       "  <tbody>\n",
       "    <tr>\n",
       "      <th>0</th>\n",
       "      <td>QATAR</td>\n",
       "      <td>ECUADOR</td>\n",
       "      <td>3</td>\n",
       "      <td>3</td>\n",
       "      <td>5</td>\n",
       "      <td>3</td>\n",
       "    </tr>\n",
       "    <tr>\n",
       "      <th>1</th>\n",
       "      <td>ENGLAND</td>\n",
       "      <td>IRAN</td>\n",
       "      <td>3</td>\n",
       "      <td>3</td>\n",
       "      <td>3</td>\n",
       "      <td>4</td>\n",
       "    </tr>\n",
       "    <tr>\n",
       "      <th>2</th>\n",
       "      <td>SENEGAL</td>\n",
       "      <td>NETHERLANDS</td>\n",
       "      <td>3</td>\n",
       "      <td>3</td>\n",
       "      <td>8</td>\n",
       "      <td>5</td>\n",
       "    </tr>\n",
       "    <tr>\n",
       "      <th>3</th>\n",
       "      <td>UNITED STATES</td>\n",
       "      <td>WALES</td>\n",
       "      <td>3</td>\n",
       "      <td>3</td>\n",
       "      <td>4</td>\n",
       "      <td>3</td>\n",
       "    </tr>\n",
       "    <tr>\n",
       "      <th>4</th>\n",
       "      <td>ARGENTINA</td>\n",
       "      <td>SAUDI ARABIA</td>\n",
       "      <td>2</td>\n",
       "      <td>2</td>\n",
       "      <td>5</td>\n",
       "      <td>0</td>\n",
       "    </tr>\n",
       "    <tr>\n",
       "      <th>...</th>\n",
       "      <td>...</td>\n",
       "      <td>...</td>\n",
       "      <td>...</td>\n",
       "      <td>...</td>\n",
       "      <td>...</td>\n",
       "      <td>...</td>\n",
       "    </tr>\n",
       "    <tr>\n",
       "      <th>59</th>\n",
       "      <td>ENGLAND</td>\n",
       "      <td>FRANCE</td>\n",
       "      <td>5</td>\n",
       "      <td>5</td>\n",
       "      <td>4</td>\n",
       "      <td>3</td>\n",
       "    </tr>\n",
       "    <tr>\n",
       "      <th>60</th>\n",
       "      <td>ARGENTINA</td>\n",
       "      <td>CROATIA</td>\n",
       "      <td>3</td>\n",
       "      <td>3</td>\n",
       "      <td>2</td>\n",
       "      <td>7</td>\n",
       "    </tr>\n",
       "    <tr>\n",
       "      <th>61</th>\n",
       "      <td>FRANCE</td>\n",
       "      <td>MOROCCO</td>\n",
       "      <td>1</td>\n",
       "      <td>1</td>\n",
       "      <td>8</td>\n",
       "      <td>6</td>\n",
       "    </tr>\n",
       "    <tr>\n",
       "      <th>62</th>\n",
       "      <td>CROATIA</td>\n",
       "      <td>MOROCCO</td>\n",
       "      <td>2</td>\n",
       "      <td>2</td>\n",
       "      <td>8</td>\n",
       "      <td>5</td>\n",
       "    </tr>\n",
       "    <tr>\n",
       "      <th>63</th>\n",
       "      <td>ARGENTINA</td>\n",
       "      <td>FRANCE</td>\n",
       "      <td>5</td>\n",
       "      <td>5</td>\n",
       "      <td>9</td>\n",
       "      <td>3</td>\n",
       "    </tr>\n",
       "  </tbody>\n",
       "</table>\n",
       "<p>64 rows × 6 columns</p>\n",
       "</div>"
      ],
      "text/plain": [
       "            team1         team2  on target attempts team2  \\\n",
       "0           QATAR       ECUADOR                         3   \n",
       "1         ENGLAND          IRAN                         3   \n",
       "2         SENEGAL   NETHERLANDS                         3   \n",
       "3   UNITED STATES         WALES                         3   \n",
       "4       ARGENTINA  SAUDI ARABIA                         2   \n",
       "..            ...           ...                       ...   \n",
       "59        ENGLAND        FRANCE                         5   \n",
       "60      ARGENTINA       CROATIA                         3   \n",
       "61         FRANCE       MOROCCO                         1   \n",
       "62        CROATIA       MOROCCO                         2   \n",
       "63      ARGENTINA        FRANCE                         5   \n",
       "\n",
       "    on target attempts team2  off target attempts team1  \\\n",
       "0                          3                          5   \n",
       "1                          3                          3   \n",
       "2                          3                          8   \n",
       "3                          3                          4   \n",
       "4                          2                          5   \n",
       "..                       ...                        ...   \n",
       "59                         5                          4   \n",
       "60                         3                          2   \n",
       "61                         1                          8   \n",
       "62                         2                          8   \n",
       "63                         5                          9   \n",
       "\n",
       "    off target attempts team2  \n",
       "0                           3  \n",
       "1                           4  \n",
       "2                           5  \n",
       "3                           3  \n",
       "4                           0  \n",
       "..                        ...  \n",
       "59                          3  \n",
       "60                          7  \n",
       "61                          6  \n",
       "62                          5  \n",
       "63                          3  \n",
       "\n",
       "[64 rows x 6 columns]"
      ]
     },
     "execution_count": 48,
     "metadata": {},
     "output_type": "execute_result"
    }
   ],
   "source": [
    "df[['team1', 'team2','on target attempts team2', 'on target attempts team2',\n",
    "       'off target attempts team1', 'off target attempts team2']]"
   ]
  },
  {
   "cell_type": "markdown",
   "id": "82c426fd-6842-488a-8386-ec61ff1f1ae3",
   "metadata": {},
   "source": [
    "## *<span style=color:mediumvioletred>8. The average of ‘on target attempts’ for each team </span>*"
   ]
  },
  {
   "cell_type": "code",
   "execution_count": 49,
   "id": "e2945897-78ed-4b09-aa3c-ea4e88857aa2",
   "metadata": {},
   "outputs": [],
   "source": [
    "attempts_on_1 = df.groupby('team1')['on target attempts team1'].mean()"
   ]
  },
  {
   "cell_type": "code",
   "execution_count": 50,
   "id": "06c9065a-340c-4b9a-bcf8-76035667e4ff",
   "metadata": {},
   "outputs": [
    {
     "data": {
      "text/plain": [
       "team1\n",
       "ARGENTINA         5.800000\n",
       "AUSTRALIA         4.000000\n",
       "BELGIUM           3.500000\n",
       "BRAZIL            8.000000\n",
       "CAMEROON          5.500000\n",
       "CANADA            0.000000\n",
       "COSTA RICA        6.000000\n",
       "CROATIA           4.750000\n",
       "DENMARK           4.000000\n",
       "ECUADOR           4.000000\n",
       "ENGLAND           5.000000\n",
       "FRANCE            5.500000\n",
       "GERMANY           9.000000\n",
       "GHANA             4.000000\n",
       "IRAN              2.000000\n",
       "JAPAN             3.333333\n",
       "KOREA REPUBLIC    6.000000\n",
       "MEXICO            4.000000\n",
       "MOROCCO           2.666667\n",
       "NETHERLANDS       3.250000\n",
       "POLAND            1.500000\n",
       "PORTUGAL          6.000000\n",
       "QATAR             1.000000\n",
       "SAUDI ARABIA      2.000000\n",
       "SENEGAL           3.000000\n",
       "SERBIA            4.000000\n",
       "SPAIN             5.000000\n",
       "SWITZERLAND       3.000000\n",
       "TUNISIA           3.500000\n",
       "UNITED STATES     1.000000\n",
       "URUGUAY           0.000000\n",
       "WALES             2.000000\n",
       "Name: on target attempts team1, dtype: float64"
      ]
     },
     "execution_count": 50,
     "metadata": {},
     "output_type": "execute_result"
    }
   ],
   "source": [
    "attempts_on_1"
   ]
  },
  {
   "cell_type": "code",
   "execution_count": 51,
   "id": "36872c3a-51e5-42bf-8dbb-90fd2784f232",
   "metadata": {},
   "outputs": [],
   "source": [
    "attempts_on_2 = df.groupby('team2')['on target attempts team2'].mean()"
   ]
  },
  {
   "cell_type": "code",
   "execution_count": 52,
   "id": "3c6f9b60-bbdf-46f6-8a19-f135843b6d22",
   "metadata": {},
   "outputs": [
    {
     "data": {
      "text/plain": [
       "team2\n",
       "ARGENTINA         9.500000\n",
       "AUSTRALIA         1.666667\n",
       "BELGIUM           4.000000\n",
       "BRAZIL            8.500000\n",
       "CAMEROON          3.000000\n",
       "CANADA            3.000000\n",
       "COSTA RICA        0.500000\n",
       "CROATIA           3.000000\n",
       "DENMARK           2.500000\n",
       "ECUADOR           4.000000\n",
       "ENGLAND           7.000000\n",
       "FRANCE            4.333333\n",
       "GERMANY           7.500000\n",
       "GHANA             3.000000\n",
       "IRAN              4.500000\n",
       "JAPAN             3.000000\n",
       "KOREA REPUBLIC    3.000000\n",
       "MEXICO            5.500000\n",
       "MOROCCO           2.250000\n",
       "NETHERLANDS       3.000000\n",
       "POLAND            2.000000\n",
       "PORTUGAL          3.500000\n",
       "QATAR             4.000000\n",
       "SAUDI ARABIA      3.500000\n",
       "SENEGAL           3.666667\n",
       "SERBIA            3.000000\n",
       "SPAIN             3.000000\n",
       "SWITZERLAND       2.666667\n",
       "TUNISIA           1.000000\n",
       "UNITED STATES     4.666667\n",
       "URUGUAY           5.000000\n",
       "WALES             3.000000\n",
       "Name: on target attempts team2, dtype: float64"
      ]
     },
     "execution_count": 52,
     "metadata": {},
     "output_type": "execute_result"
    }
   ],
   "source": [
    "attempts_on_2"
   ]
  },
  {
   "cell_type": "code",
   "execution_count": 53,
   "id": "799d6870-bcdf-47df-8884-ac5f5074992c",
   "metadata": {},
   "outputs": [],
   "source": [
    "Avg_attempts_on_target = (attempts_on_1+attempts_on_2)/2"
   ]
  },
  {
   "cell_type": "code",
   "execution_count": 54,
   "id": "9b3dafb2-b3ef-498c-8a4e-492cbff8cf61",
   "metadata": {},
   "outputs": [
    {
     "data": {
      "text/plain": [
       "team1\n",
       "ARGENTINA         7.650000\n",
       "AUSTRALIA         2.833333\n",
       "BELGIUM           3.750000\n",
       "BRAZIL            8.250000\n",
       "CAMEROON          4.250000\n",
       "CANADA            1.500000\n",
       "COSTA RICA        3.250000\n",
       "CROATIA           3.875000\n",
       "DENMARK           3.250000\n",
       "ECUADOR           4.000000\n",
       "ENGLAND           6.000000\n",
       "FRANCE            4.916667\n",
       "GERMANY           8.250000\n",
       "GHANA             3.500000\n",
       "IRAN              3.250000\n",
       "JAPAN             3.166667\n",
       "KOREA REPUBLIC    4.500000\n",
       "MEXICO            4.750000\n",
       "MOROCCO           2.458333\n",
       "NETHERLANDS       3.125000\n",
       "POLAND            1.750000\n",
       "PORTUGAL          4.750000\n",
       "QATAR             2.500000\n",
       "SAUDI ARABIA      2.750000\n",
       "SENEGAL           3.333333\n",
       "SERBIA            3.500000\n",
       "SPAIN             4.000000\n",
       "SWITZERLAND       2.833333\n",
       "TUNISIA           2.250000\n",
       "UNITED STATES     2.833333\n",
       "URUGUAY           2.500000\n",
       "WALES             2.500000\n",
       "dtype: float64"
      ]
     },
     "execution_count": 54,
     "metadata": {},
     "output_type": "execute_result"
    }
   ],
   "source": [
    "Avg_attempts_on_target"
   ]
  },
  {
   "cell_type": "markdown",
   "id": "78c78e3a-20c1-48a9-8c80-eae1e644f742",
   "metadata": {},
   "source": [
    "### ***<span style=color:blue>ploting</span><span style=color:red>!</span>***"
   ]
  },
  {
   "cell_type": "code",
   "execution_count": 55,
   "id": "31404882-cab6-45ec-a785-52903a66a9f4",
   "metadata": {},
   "outputs": [
    {
     "data": {
      "text/plain": [
       "<function matplotlib.pyplot.show(close=None, block=None)>"
      ]
     },
     "execution_count": 55,
     "metadata": {},
     "output_type": "execute_result"
    },
    {
     "data": {
      "image/png": "[encoded data removed]",
      "text/plain": [
       "<Figure size 640x480 with 1 Axes>"
      ]
     },
     "metadata": {},
     "output_type": "display_data"
    }
   ],
   "source": [
    "plt.bar(attempts_on_1,attempts_on_2)\n",
    "plt.show"
   ]
  },
  {
   "cell_type": "markdown",
   "id": "2559feac-6d04-4e08-8056-f6be52a1cb55",
   "metadata": {},
   "source": [
    "## *<span style=color:brown>9. The average of ‘off target attempts’ for each team </span>*"
   ]
  },
  {
   "cell_type": "code",
   "execution_count": 56,
   "id": "8f2109dc-3383-4102-9ada-58ef9f2cd116",
   "metadata": {},
   "outputs": [],
   "source": [
    "attempts_off_1=df.groupby('team1')['off target attempts team1'].mean()"
   ]
  },
  {
   "cell_type": "code",
   "execution_count": 57,
   "id": "e23d9fc7-d929-4f5b-aa37-82d116b2a0d8",
   "metadata": {},
   "outputs": [
    {
     "data": {
      "text/plain": [
       "team1\n",
       "ARGENTINA          5.200000\n",
       "AUSTRALIA          2.000000\n",
       "BELGIUM            6.000000\n",
       "BRAZIL             6.333333\n",
       "CAMEROON           3.000000\n",
       "CANADA             4.000000\n",
       "COSTA RICA         1.000000\n",
       "CROATIA            4.750000\n",
       "DENMARK            4.000000\n",
       "ECUADOR            3.000000\n",
       "ENGLAND            3.750000\n",
       "FRANCE             8.000000\n",
       "GERMANY           11.000000\n",
       "GHANA              4.000000\n",
       "IRAN               4.000000\n",
       "JAPAN              3.333333\n",
       "KOREA REPUBLIC     6.000000\n",
       "MEXICO             5.000000\n",
       "MOROCCO            3.000000\n",
       "NETHERLANDS        3.000000\n",
       "POLAND             2.500000\n",
       "PORTUGAL           4.000000\n",
       "QATAR              6.000000\n",
       "SAUDI ARABIA       8.000000\n",
       "SENEGAL            8.000000\n",
       "SERBIA             6.000000\n",
       "SPAIN              6.000000\n",
       "SWITZERLAND        4.000000\n",
       "TUNISIA            3.500000\n",
       "UNITED STATES      4.000000\n",
       "URUGUAY            6.000000\n",
       "WALES              3.500000\n",
       "Name: off target attempts team1, dtype: float64"
      ]
     },
     "execution_count": 57,
     "metadata": {},
     "output_type": "execute_result"
    }
   ],
   "source": [
    "attempts_off_1"
   ]
  },
  {
   "cell_type": "code",
   "execution_count": 58,
   "id": "c30b7fb1-ff59-4d79-94e4-048fda81df90",
   "metadata": {},
   "outputs": [],
   "source": [
    "attempts_off_2=df.groupby('team2')['off target attempts team2'].mean()"
   ]
  },
  {
   "cell_type": "code",
   "execution_count": 59,
   "id": "6cba0fa6-1483-4c96-8629-2acbdd8db416",
   "metadata": {},
   "outputs": [
    {
     "data": {
      "text/plain": [
       "team2\n",
       "ARGENTINA          8.000000\n",
       "AUSTRALIA          2.666667\n",
       "BELGIUM            7.000000\n",
       "BRAZIL             7.500000\n",
       "CAMEROON           2.000000\n",
       "CANADA             7.500000\n",
       "COSTA RICA         0.500000\n",
       "CROATIA            5.666667\n",
       "DENMARK            6.500000\n",
       "ECUADOR            3.000000\n",
       "ENGLAND            6.000000\n",
       "FRANCE             3.333333\n",
       "GERMANY           11.000000\n",
       "GHANA              4.000000\n",
       "IRAN               5.000000\n",
       "JAPAN              6.000000\n",
       "KOREA REPUBLIC     3.500000\n",
       "MEXICO             5.000000\n",
       "MOROCCO            4.750000\n",
       "NETHERLANDS        5.000000\n",
       "POLAND             4.500000\n",
       "PORTUGAL           6.000000\n",
       "QATAR              2.000000\n",
       "SAUDI ARABIA       4.500000\n",
       "SENEGAL            6.666667\n",
       "SERBIA             5.500000\n",
       "SPAIN              4.500000\n",
       "SWITZERLAND        3.666667\n",
       "TUNISIA            7.000000\n",
       "UNITED STATES      5.000000\n",
       "URUGUAY            5.500000\n",
       "WALES              3.000000\n",
       "Name: off target attempts team2, dtype: float64"
      ]
     },
     "execution_count": 59,
     "metadata": {},
     "output_type": "execute_result"
    }
   ],
   "source": [
    "attempts_off_2"
   ]
  },
  {
   "cell_type": "code",
   "execution_count": 60,
   "id": "df2d66fd-56ae-4806-9157-9c62e902ec04",
   "metadata": {},
   "outputs": [],
   "source": [
    "Avg_attempts_off_target=(attempts_off_1+attempts_off_2)/2"
   ]
  },
  {
   "cell_type": "code",
   "execution_count": 61,
   "id": "8a687422-89da-4687-9c0c-86fe8e5cb500",
   "metadata": {},
   "outputs": [
    {
     "data": {
      "text/plain": [
       "team1\n",
       "ARGENTINA          6.600000\n",
       "AUSTRALIA          2.333333\n",
       "BELGIUM            6.500000\n",
       "BRAZIL             6.916667\n",
       "CAMEROON           2.500000\n",
       "CANADA             5.750000\n",
       "COSTA RICA         0.750000\n",
       "CROATIA            5.208333\n",
       "DENMARK            5.250000\n",
       "ECUADOR            3.000000\n",
       "ENGLAND            4.875000\n",
       "FRANCE             5.666667\n",
       "GERMANY           11.000000\n",
       "GHANA              4.000000\n",
       "IRAN               4.500000\n",
       "JAPAN              4.666667\n",
       "KOREA REPUBLIC     4.750000\n",
       "MEXICO             5.000000\n",
       "MOROCCO            3.875000\n",
       "NETHERLANDS        4.000000\n",
       "POLAND             3.500000\n",
       "PORTUGAL           5.000000\n",
       "QATAR              4.000000\n",
       "SAUDI ARABIA       6.250000\n",
       "SENEGAL            7.333333\n",
       "SERBIA             5.750000\n",
       "SPAIN              5.250000\n",
       "SWITZERLAND        3.833333\n",
       "TUNISIA            5.250000\n",
       "UNITED STATES      4.500000\n",
       "URUGUAY            5.750000\n",
       "WALES              3.250000\n",
       "dtype: float64"
      ]
     },
     "execution_count": 61,
     "metadata": {},
     "output_type": "execute_result"
    }
   ],
   "source": [
    "Avg_attempts_off_target"
   ]
  },
  {
   "cell_type": "markdown",
   "id": "a56fc89c-dfc9-4a30-aa35-7459caf89fd4",
   "metadata": {},
   "source": [
    "### ***<span style=color:blue>ploting</span><span style=color:red>!</span>***"
   ]
  },
  {
   "cell_type": "code",
   "execution_count": 62,
   "id": "5e58e84d-3370-4aed-ac82-8a1dc2d672d3",
   "metadata": {},
   "outputs": [
    {
     "data": {
      "text/plain": [
       "<function matplotlib.pyplot.show(close=None, block=None)>"
      ]
     },
     "execution_count": 62,
     "metadata": {},
     "output_type": "execute_result"
    },
    {
     "data": {
      "image/png": "[encoded data removed]",
      "text/plain": [
       "<Figure size 640x480 with 1 Axes>"
      ]
     },
     "metadata": {},
     "output_type": "display_data"
    }
   ],
   "source": [
    "plt.bar(attempts_off_1,attempts_off_2)\n",
    "plt.show"
   ]
  },
  {
   "cell_type": "code",
   "execution_count": 63,
   "id": "83052f61-df9d-494a-bba2-43a6b96a5d9d",
   "metadata": {},
   "outputs": [
    {
     "data": {
      "text/html": [
       "<div>\n",
       "<style scoped>\n",
       "    .dataframe tbody tr th:only-of-type {\n",
       "        vertical-align: middle;\n",
       "    }\n",
       "\n",
       "    .dataframe tbody tr th {\n",
       "        vertical-align: top;\n",
       "    }\n",
       "\n",
       "    .dataframe thead th {\n",
       "        text-align: right;\n",
       "    }\n",
       "</style>\n",
       "<table border=\"1\" class=\"dataframe\">\n",
       "  <thead>\n",
       "    <tr style=\"text-align: right;\">\n",
       "      <th></th>\n",
       "      <th>attempts inside the penalty area team1</th>\n",
       "      <th>attempts inside the penalty area  team2</th>\n",
       "      <th>attempts outside the penalty area  team1</th>\n",
       "      <th>attempts outside the penalty area  team2</th>\n",
       "    </tr>\n",
       "  </thead>\n",
       "  <tbody>\n",
       "    <tr>\n",
       "      <th>0</th>\n",
       "      <td>2</td>\n",
       "      <td>4</td>\n",
       "      <td>3</td>\n",
       "      <td>2</td>\n",
       "    </tr>\n",
       "    <tr>\n",
       "      <th>1</th>\n",
       "      <td>10</td>\n",
       "      <td>6</td>\n",
       "      <td>3</td>\n",
       "      <td>2</td>\n",
       "    </tr>\n",
       "    <tr>\n",
       "      <th>2</th>\n",
       "      <td>7</td>\n",
       "      <td>5</td>\n",
       "      <td>7</td>\n",
       "      <td>4</td>\n",
       "    </tr>\n",
       "    <tr>\n",
       "      <th>3</th>\n",
       "      <td>4</td>\n",
       "      <td>5</td>\n",
       "      <td>2</td>\n",
       "      <td>2</td>\n",
       "    </tr>\n",
       "    <tr>\n",
       "      <th>4</th>\n",
       "      <td>10</td>\n",
       "      <td>3</td>\n",
       "      <td>4</td>\n",
       "      <td>0</td>\n",
       "    </tr>\n",
       "    <tr>\n",
       "      <th>...</th>\n",
       "      <td>...</td>\n",
       "      <td>...</td>\n",
       "      <td>...</td>\n",
       "      <td>...</td>\n",
       "    </tr>\n",
       "    <tr>\n",
       "      <th>59</th>\n",
       "      <td>6</td>\n",
       "      <td>6</td>\n",
       "      <td>8</td>\n",
       "      <td>3</td>\n",
       "    </tr>\n",
       "    <tr>\n",
       "      <th>60</th>\n",
       "      <td>7</td>\n",
       "      <td>6</td>\n",
       "      <td>3</td>\n",
       "      <td>6</td>\n",
       "    </tr>\n",
       "    <tr>\n",
       "      <th>61</th>\n",
       "      <td>12</td>\n",
       "      <td>8</td>\n",
       "      <td>2</td>\n",
       "      <td>5</td>\n",
       "    </tr>\n",
       "    <tr>\n",
       "      <th>62</th>\n",
       "      <td>7</td>\n",
       "      <td>5</td>\n",
       "      <td>7</td>\n",
       "      <td>2</td>\n",
       "    </tr>\n",
       "    <tr>\n",
       "      <th>63</th>\n",
       "      <td>10</td>\n",
       "      <td>7</td>\n",
       "      <td>11</td>\n",
       "      <td>3</td>\n",
       "    </tr>\n",
       "  </tbody>\n",
       "</table>\n",
       "<p>64 rows × 4 columns</p>\n",
       "</div>"
      ],
      "text/plain": [
       "    attempts inside the penalty area team1  \\\n",
       "0                                        2   \n",
       "1                                       10   \n",
       "2                                        7   \n",
       "3                                        4   \n",
       "4                                       10   \n",
       "..                                     ...   \n",
       "59                                       6   \n",
       "60                                       7   \n",
       "61                                      12   \n",
       "62                                       7   \n",
       "63                                      10   \n",
       "\n",
       "    attempts inside the penalty area  team2  \\\n",
       "0                                         4   \n",
       "1                                         6   \n",
       "2                                         5   \n",
       "3                                         5   \n",
       "4                                         3   \n",
       "..                                      ...   \n",
       "59                                        6   \n",
       "60                                        6   \n",
       "61                                        8   \n",
       "62                                        5   \n",
       "63                                        7   \n",
       "\n",
       "    attempts outside the penalty area  team1  \\\n",
       "0                                          3   \n",
       "1                                          3   \n",
       "2                                          7   \n",
       "3                                          2   \n",
       "4                                          4   \n",
       "..                                       ...   \n",
       "59                                         8   \n",
       "60                                         3   \n",
       "61                                         2   \n",
       "62                                         7   \n",
       "63                                        11   \n",
       "\n",
       "    attempts outside the penalty area  team2  \n",
       "0                                          2  \n",
       "1                                          2  \n",
       "2                                          4  \n",
       "3                                          2  \n",
       "4                                          0  \n",
       "..                                       ...  \n",
       "59                                         3  \n",
       "60                                         6  \n",
       "61                                         5  \n",
       "62                                         2  \n",
       "63                                         3  \n",
       "\n",
       "[64 rows x 4 columns]"
      ]
     },
     "execution_count": 63,
     "metadata": {},
     "output_type": "execute_result"
    }
   ],
   "source": [
    "df[['attempts inside the penalty area team1','attempts inside the penalty area  team2',\n",
    "    'attempts outside the penalty area  team1','attempts outside the penalty area  team2']]"
   ]
  },
  {
   "cell_type": "markdown",
   "id": "c4b6e36d-2fd6-46e4-9c0f-a21bced1fc6e",
   "metadata": {},
   "source": [
    "## *<span style=color:olive>10. The average of ‘attempts inside the penalty area’ for each team </span>*"
   ]
  },
  {
   "cell_type": "code",
   "execution_count": 64,
   "id": "f348d5a9-5592-4554-a263-1cf8b58a6c48",
   "metadata": {},
   "outputs": [],
   "source": [
    "attempts_inside_1=df.groupby('team1')['attempts inside the penalty area team1'].mean()"
   ]
  },
  {
   "cell_type": "code",
   "execution_count": 65,
   "id": "e7822563-874b-4cf6-b560-30686b3c2c5f",
   "metadata": {},
   "outputs": [
    {
     "data": {
      "text/plain": [
       "team1\n",
       "ARGENTINA          8.000000\n",
       "AUSTRALIA          3.000000\n",
       "BELGIUM            5.500000\n",
       "BRAZIL            10.333333\n",
       "CAMEROON           7.000000\n",
       "CANADA             4.000000\n",
       "COSTA RICA         6.000000\n",
       "CROATIA            7.000000\n",
       "DENMARK            7.000000\n",
       "ECUADOR            5.000000\n",
       "ENGLAND            7.250000\n",
       "FRANCE            14.000000\n",
       "GERMANY           15.000000\n",
       "GHANA              4.000000\n",
       "IRAN               5.000000\n",
       "JAPAN              5.333333\n",
       "KOREA REPUBLIC    10.500000\n",
       "MEXICO            10.000000\n",
       "MOROCCO            3.666667\n",
       "NETHERLANDS        5.000000\n",
       "POLAND             5.000000\n",
       "PORTUGAL           6.666667\n",
       "QATAR              3.000000\n",
       "SAUDI ARABIA       6.000000\n",
       "SENEGAL            7.000000\n",
       "SERBIA            10.000000\n",
       "SPAIN              7.500000\n",
       "SWITZERLAND        6.000000\n",
       "TUNISIA            5.500000\n",
       "UNITED STATES      4.000000\n",
       "URUGUAY            7.000000\n",
       "WALES              3.000000\n",
       "Name: attempts inside the penalty area team1, dtype: float64"
      ]
     },
     "execution_count": 65,
     "metadata": {},
     "output_type": "execute_result"
    }
   ],
   "source": [
    "attempts_inside_1"
   ]
  },
  {
   "cell_type": "code",
   "execution_count": 66,
   "id": "edc0d95d-e55e-4af4-9053-70741ee9f2fd",
   "metadata": {},
   "outputs": [],
   "source": [
    "attempts_inside_2=df.groupby('team2')['attempts inside the penalty area  team2'].mean()"
   ]
  },
  {
   "cell_type": "code",
   "execution_count": 67,
   "id": "b4dd471b-9659-4753-997b-05a72b6a5569",
   "metadata": {},
   "outputs": [
    {
     "data": {
      "text/plain": [
       "team2\n",
       "ARGENTINA         13.000000\n",
       "AUSTRALIA          3.333333\n",
       "BELGIUM           12.000000\n",
       "BRAZIL            13.000000\n",
       "CAMEROON           6.000000\n",
       "CANADA             9.000000\n",
       "COSTA RICA         0.500000\n",
       "CROATIA            6.333333\n",
       "DENMARK            8.000000\n",
       "ECUADOR            6.000000\n",
       "ENGLAND           13.000000\n",
       "FRANCE             5.666667\n",
       "GERMANY           15.500000\n",
       "GHANA              4.500000\n",
       "IRAN               6.500000\n",
       "JAPAN             10.000000\n",
       "KOREA REPUBLIC     3.500000\n",
       "MEXICO             5.500000\n",
       "MOROCCO            5.750000\n",
       "NETHERLANDS        5.000000\n",
       "POLAND             7.500000\n",
       "PORTUGAL           6.000000\n",
       "QATAR              2.000000\n",
       "SAUDI ARABIA       6.000000\n",
       "SENEGAL            8.333333\n",
       "SERBIA             6.000000\n",
       "SPAIN              8.000000\n",
       "SWITZERLAND        5.666667\n",
       "TUNISIA            6.000000\n",
       "UNITED STATES      8.333333\n",
       "URUGUAY            6.500000\n",
       "WALES              5.000000\n",
       "Name: attempts inside the penalty area  team2, dtype: float64"
      ]
     },
     "execution_count": 67,
     "metadata": {},
     "output_type": "execute_result"
    }
   ],
   "source": [
    "attempts_inside_2"
   ]
  },
  {
   "cell_type": "code",
   "execution_count": 68,
   "id": "c0584c03-7e52-4e35-b382-5d0087631c0f",
   "metadata": {},
   "outputs": [],
   "source": [
    "Avg_attempts_inside_penalty_area=(attempts_inside_1+attempts_inside_2)/2"
   ]
  },
  {
   "cell_type": "code",
   "execution_count": 69,
   "id": "39705f7d-a0e3-48a7-aa1f-dafc387bfd63",
   "metadata": {},
   "outputs": [
    {
     "data": {
      "text/plain": [
       "team1\n",
       "ARGENTINA         10.500000\n",
       "AUSTRALIA          3.166667\n",
       "BELGIUM            8.750000\n",
       "BRAZIL            11.666667\n",
       "CAMEROON           6.500000\n",
       "CANADA             6.500000\n",
       "COSTA RICA         3.250000\n",
       "CROATIA            6.666667\n",
       "DENMARK            7.500000\n",
       "ECUADOR            5.500000\n",
       "ENGLAND           10.125000\n",
       "FRANCE             9.833333\n",
       "GERMANY           15.250000\n",
       "GHANA              4.250000\n",
       "IRAN               5.750000\n",
       "JAPAN              7.666667\n",
       "KOREA REPUBLIC     7.000000\n",
       "MEXICO             7.750000\n",
       "MOROCCO            4.708333\n",
       "NETHERLANDS        5.000000\n",
       "POLAND             6.250000\n",
       "PORTUGAL           6.333333\n",
       "QATAR              2.500000\n",
       "SAUDI ARABIA       6.000000\n",
       "SENEGAL            7.666667\n",
       "SERBIA             8.000000\n",
       "SPAIN              7.750000\n",
       "SWITZERLAND        5.833333\n",
       "TUNISIA            5.750000\n",
       "UNITED STATES      6.166667\n",
       "URUGUAY            6.750000\n",
       "WALES              4.000000\n",
       "dtype: float64"
      ]
     },
     "execution_count": 69,
     "metadata": {},
     "output_type": "execute_result"
    }
   ],
   "source": [
    "Avg_attempts_inside_penalty_area"
   ]
  },
  {
   "cell_type": "markdown",
   "id": "0cb07ea3-dd3b-480d-80a2-c520fc6f401b",
   "metadata": {},
   "source": [
    "### ***<span style=color:blue>ploting</span><span style=color:red>!</span>***"
   ]
  },
  {
   "cell_type": "code",
   "execution_count": 70,
   "id": "a4b2c7f6-6e21-4586-a808-e42c4616f7f4",
   "metadata": {},
   "outputs": [
    {
     "data": {
      "text/plain": [
       "<function matplotlib.pyplot.show(close=None, block=None)>"
      ]
     },
     "execution_count": 70,
     "metadata": {},
     "output_type": "execute_result"
    },
    {
     "data": {
      "image/png": "[encoded data removed]",
      "text/plain": [
       "<Figure size 640x480 with 1 Axes>"
      ]
     },
     "metadata": {},
     "output_type": "display_data"
    }
   ],
   "source": [
    "plt.bar(attempts_inside_1,attempts_inside_2)\n",
    "plt.show"
   ]
  },
  {
   "cell_type": "markdown",
   "id": "5a0cd160-ff77-4fa7-9edc-534be4de1d76",
   "metadata": {},
   "source": [
    "## *<span style=color:teal>11. The average of ‘attempts outside the penalty area ’ for each team </span>*"
   ]
  },
  {
   "cell_type": "code",
   "execution_count": 71,
   "id": "c85e69b5-d1e5-4890-889f-eabf45fd7446",
   "metadata": {},
   "outputs": [],
   "source": [
    "attempts_outside_1=df.groupby('team1')['attempts outside the penalty area  team1'].mean()"
   ]
  },
  {
   "cell_type": "code",
   "execution_count": 72,
   "id": "c675a496-fcb6-48a9-a41b-cccd52e502a9",
   "metadata": {
    "jupyter": {
     "source_hidden": true
    },
    "tags": []
   },
   "outputs": [
    {
     "data": {
      "text/plain": [
       "team1\n",
       "ARGENTINA          4.800000\n",
       "AUSTRALIA          5.000000\n",
       "BELGIUM            4.000000\n",
       "BRAZIL             6.666667\n",
       "CAMEROON           3.000000\n",
       "CANADA             1.000000\n",
       "COSTA RICA         2.000000\n",
       "CROATIA            4.750000\n",
       "DENMARK            4.000000\n",
       "ECUADOR            3.000000\n",
       "ENGLAND            3.500000\n",
       "FRANCE             4.250000\n",
       "GERMANY           10.000000\n",
       "GHANA              5.000000\n",
       "IRAN               1.000000\n",
       "JAPAN              5.333333\n",
       "KOREA REPUBLIC     6.000000\n",
       "MEXICO             3.000000\n",
       "MOROCCO            4.000000\n",
       "NETHERLANDS        2.750000\n",
       "POLAND             1.000000\n",
       "PORTUGAL           6.333333\n",
       "QATAR              4.500000\n",
       "SAUDI ARABIA       4.000000\n",
       "SENEGAL            7.000000\n",
       "SERBIA             1.000000\n",
       "SPAIN              4.500000\n",
       "SWITZERLAND        2.000000\n",
       "TUNISIA            3.500000\n",
       "UNITED STATES      2.000000\n",
       "URUGUAY            3.000000\n",
       "WALES              5.500000\n",
       "Name: attempts outside the penalty area  team1, dtype: float64"
      ]
     },
     "execution_count": 72,
     "metadata": {},
     "output_type": "execute_result"
    }
   ],
   "source": [
    "attempts_outside_1"
   ]
  },
  {
   "cell_type": "code",
   "execution_count": 73,
   "id": "4b2d3034-9a2a-47f5-8612-7185abdc2305",
   "metadata": {},
   "outputs": [],
   "source": [
    "attempts_outside_2=df.groupby('team2')['attempts outside the penalty area  team2'].mean()"
   ]
  },
  {
   "cell_type": "code",
   "execution_count": 74,
   "id": "d44a101c-e5b7-49be-8b61-96b400ffa552",
   "metadata": {},
   "outputs": [
    {
     "data": {
      "text/plain": [
       "team2\n",
       "ARGENTINA         7.000000\n",
       "AUSTRALIA         2.333333\n",
       "BELGIUM           3.000000\n",
       "BRAZIL            6.500000\n",
       "CAMEROON          1.000000\n",
       "CANADA            6.000000\n",
       "COSTA RICA        1.500000\n",
       "CROATIA           5.000000\n",
       "DENMARK           4.000000\n",
       "ECUADOR           3.500000\n",
       "ENGLAND           4.000000\n",
       "FRANCE            3.666667\n",
       "GERMANY           5.500000\n",
       "GHANA             3.500000\n",
       "IRAN              8.000000\n",
       "JAPAN             0.000000\n",
       "KOREA REPUBLIC    4.500000\n",
       "MEXICO            9.000000\n",
       "MOROCCO           3.750000\n",
       "NETHERLANDS       4.000000\n",
       "POLAND            2.000000\n",
       "PORTUGAL          5.500000\n",
       "QATAR             4.000000\n",
       "SAUDI ARABIA      3.500000\n",
       "SENEGAL           4.000000\n",
       "SERBIA            4.000000\n",
       "SPAIN             5.500000\n",
       "SWITZERLAND       3.666667\n",
       "TUNISIA           5.000000\n",
       "UNITED STATES     5.000000\n",
       "URUGUAY           4.500000\n",
       "WALES             2.000000\n",
       "Name: attempts outside the penalty area  team2, dtype: float64"
      ]
     },
     "execution_count": 74,
     "metadata": {},
     "output_type": "execute_result"
    }
   ],
   "source": [
    "attempts_outside_2"
   ]
  },
  {
   "cell_type": "code",
   "execution_count": 75,
   "id": "a8e0ea81-c6a2-41a7-8ef1-876e2d8ae6e0",
   "metadata": {},
   "outputs": [],
   "source": [
    "Avg_attempts_outside_penalty_area=(attempts_outside_1+attempts_outside_2)/2"
   ]
  },
  {
   "cell_type": "code",
   "execution_count": 76,
   "id": "9b54cdbb-6e67-48be-a4db-268989a757ce",
   "metadata": {},
   "outputs": [
    {
     "data": {
      "text/plain": [
       "team1\n",
       "ARGENTINA         5.900000\n",
       "AUSTRALIA         3.666667\n",
       "BELGIUM           3.500000\n",
       "BRAZIL            6.583333\n",
       "CAMEROON          2.000000\n",
       "CANADA            3.500000\n",
       "COSTA RICA        1.750000\n",
       "CROATIA           4.875000\n",
       "DENMARK           4.000000\n",
       "ECUADOR           3.250000\n",
       "ENGLAND           3.750000\n",
       "FRANCE            3.958333\n",
       "GERMANY           7.750000\n",
       "GHANA             4.250000\n",
       "IRAN              4.500000\n",
       "JAPAN             2.666667\n",
       "KOREA REPUBLIC    5.250000\n",
       "MEXICO            6.000000\n",
       "MOROCCO           3.875000\n",
       "NETHERLANDS       3.375000\n",
       "POLAND            1.500000\n",
       "PORTUGAL          5.916667\n",
       "QATAR             4.250000\n",
       "SAUDI ARABIA      3.750000\n",
       "SENEGAL           5.500000\n",
       "SERBIA            2.500000\n",
       "SPAIN             5.000000\n",
       "SWITZERLAND       2.833333\n",
       "TUNISIA           4.250000\n",
       "UNITED STATES     3.500000\n",
       "URUGUAY           3.750000\n",
       "WALES             3.750000\n",
       "dtype: float64"
      ]
     },
     "execution_count": 76,
     "metadata": {},
     "output_type": "execute_result"
    }
   ],
   "source": [
    "Avg_attempts_outside_penalty_area"
   ]
  },
  {
   "cell_type": "markdown",
   "id": "a88ab2ca-244e-41f0-a7b9-1e1ddd7bf14a",
   "metadata": {},
   "source": [
    "### ***<span style=color:blue>ploting</span><span style=color:red>!</span>***"
   ]
  },
  {
   "cell_type": "code",
   "execution_count": 77,
   "id": "020d25d3-af83-4371-b722-797e1a22f3f8",
   "metadata": {},
   "outputs": [
    {
     "data": {
      "text/plain": [
       "<function matplotlib.pyplot.show(close=None, block=None)>"
      ]
     },
     "execution_count": 77,
     "metadata": {},
     "output_type": "execute_result"
    },
    {
     "data": {
      "image/png": "[encoded data removed]",
      "text/plain": [
       "<Figure size 640x480 with 1 Axes>"
      ]
     },
     "metadata": {},
     "output_type": "display_data"
    }
   ],
   "source": [
    "plt.bar(attempts_outside_1,attempts_outside_2)\n",
    "plt.show"
   ]
  },
  {
   "cell_type": "code",
   "execution_count": 78,
   "id": "109d3313-b025-46f5-8a4f-3bc69e9d2c35",
   "metadata": {},
   "outputs": [],
   "source": [
    "## The report the goals based on ‘category’"
   ]
  },
  {
   "cell_type": "code",
   "execution_count": 79,
   "id": "850d6e2e-9ae7-4a26-b872-8e08a88ca779",
   "metadata": {},
   "outputs": [],
   "source": [
    "df['goals']=df['number of goals team1']+df['number of goals team2']"
   ]
  },
  {
   "cell_type": "code",
   "execution_count": 80,
   "id": "b986a682-3e8d-4384-bcfd-1e253052f278",
   "metadata": {},
   "outputs": [
    {
     "data": {
      "text/html": [
       "<div>\n",
       "<style scoped>\n",
       "    .dataframe tbody tr th:only-of-type {\n",
       "        vertical-align: middle;\n",
       "    }\n",
       "\n",
       "    .dataframe tbody tr th {\n",
       "        vertical-align: top;\n",
       "    }\n",
       "\n",
       "    .dataframe thead th {\n",
       "        text-align: right;\n",
       "    }\n",
       "</style>\n",
       "<table border=\"1\" class=\"dataframe\">\n",
       "  <thead>\n",
       "    <tr style=\"text-align: right;\">\n",
       "      <th></th>\n",
       "      <th>goals</th>\n",
       "    </tr>\n",
       "    <tr>\n",
       "      <th>category</th>\n",
       "      <th></th>\n",
       "    </tr>\n",
       "  </thead>\n",
       "  <tbody>\n",
       "    <tr>\n",
       "      <th>Final</th>\n",
       "      <td>6</td>\n",
       "    </tr>\n",
       "    <tr>\n",
       "      <th>Group A</th>\n",
       "      <td>15</td>\n",
       "    </tr>\n",
       "    <tr>\n",
       "      <th>Group B</th>\n",
       "      <td>16</td>\n",
       "    </tr>\n",
       "    <tr>\n",
       "      <th>Group C</th>\n",
       "      <td>12</td>\n",
       "    </tr>\n",
       "    <tr>\n",
       "      <th>Group D</th>\n",
       "      <td>11</td>\n",
       "    </tr>\n",
       "    <tr>\n",
       "      <th>Group E</th>\n",
       "      <td>22</td>\n",
       "    </tr>\n",
       "    <tr>\n",
       "      <th>Group F</th>\n",
       "      <td>11</td>\n",
       "    </tr>\n",
       "    <tr>\n",
       "      <th>Group G</th>\n",
       "      <td>16</td>\n",
       "    </tr>\n",
       "    <tr>\n",
       "      <th>Group H</th>\n",
       "      <td>17</td>\n",
       "    </tr>\n",
       "    <tr>\n",
       "      <th>Play-off for third place</th>\n",
       "      <td>3</td>\n",
       "    </tr>\n",
       "    <tr>\n",
       "      <th>Quarter-final</th>\n",
       "      <td>10</td>\n",
       "    </tr>\n",
       "    <tr>\n",
       "      <th>Round of 16</th>\n",
       "      <td>28</td>\n",
       "    </tr>\n",
       "    <tr>\n",
       "      <th>Semi-final</th>\n",
       "      <td>5</td>\n",
       "    </tr>\n",
       "    <tr>\n",
       "      <th>All</th>\n",
       "      <td>172</td>\n",
       "    </tr>\n",
       "  </tbody>\n",
       "</table>\n",
       "</div>"
      ],
      "text/plain": [
       "                          goals\n",
       "category                       \n",
       "Final                         6\n",
       "Group A                      15\n",
       "Group B                      16\n",
       "Group C                      12\n",
       "Group D                      11\n",
       "Group E                      22\n",
       "Group F                      11\n",
       "Group G                      16\n",
       "Group H                      17\n",
       "Play-off for third place      3\n",
       "Quarter-final                10\n",
       "Round of 16                  28\n",
       "Semi-final                    5\n",
       "All                         172"
      ]
     },
     "execution_count": 80,
     "metadata": {},
     "output_type": "execute_result"
    }
   ],
   "source": [
    "df.pivot_table('goals',index='category',aggfunc='sum',fill_value=0,margins=True)"
   ]
  },
  {
   "cell_type": "code",
   "execution_count": null,
   "id": "50fcf585-205a-440e-8ae5-d2db1b014c35",
   "metadata": {},
   "outputs": [],
   "source": []
  }
 ],
 "metadata": {
  "kernelspec": {
   "display_name": "Python 3 (ipykernel)",
   "language": "python",
   "name": "python3"
  },
  "language_info": {
   "codemirror_mode": {
    "name": "ipython",
    "version": 3
   },
   "file_extension": ".py",
   "mimetype": "text/x-python",
   "name": "python",
   "nbconvert_exporter": "python",
   "pygments_lexer": "ipython3",
   "version": "3.9.13"
  }
 },
 "nbformat": 4,
 "nbformat_minor": 5
}
