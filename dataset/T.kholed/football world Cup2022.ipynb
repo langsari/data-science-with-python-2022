{
 "cells": [
  {
   "cell_type": "markdown",
   "id": "cc778f6e-dd20-4b99-a360-12f8b602f9b0",
   "metadata": {},
   "source": [
    "# Football World Cup 2022"
   ]
  },
  {
   "cell_type": "code",
   "execution_count": 18,
   "id": "ec7d166d-32db-4f26-bc3e-b262c534bd0b",
   "metadata": {},
   "outputs": [],
   "source": [
    "import pandas as pd\n",
    "from scipy.stats import poisson"
   ]
  },
  {
   "cell_type": "code",
   "execution_count": 19,
   "id": "a12012b8-2243-4cce-af06-96c090da4d2f",
   "metadata": {},
   "outputs": [],
   "source": [
    "dataGroup = pd.read_html(\"https://www.wallchart.io/football/world-cup-2022.html\")\n",
    "datamatches = pd.read_csv(\"/Users/hilmanyusoh/Documents/PWFWCup 2022/clean_fifa_worldcup_matches.csv\")\n",
    "datafixture = pd.read_csv(\"/Users/hilmanyusoh/Documents/PWFWCup 2022/clean_fifa_worldcup_fixture.csv\")"
   ]
  },
  {
   "cell_type": "markdown",
   "id": "270494e7-5e6d-429a-92f6-5688eb680c10",
   "metadata": {},
   "source": [
    "# 1.Calculate team strenght"
   ]
  },
  {
   "cell_type": "code",
   "execution_count": 20,
   "id": "d475c51a-de2c-4c28-89c6-140222f71a96",
   "metadata": {},
   "outputs": [],
   "source": [
    "# split dataframe into datahome and dataway\n",
    "data_home = datamatches[[\"HomeTeam\",\"HomeGoals\",\"AwayGoals\"]]\n",
    "data_away = datamatches[[\"AwayTeam\",\"HomeGoals\",\"AwayGoals\"]]"
   ]
  },
  {
   "cell_type": "code",
   "execution_count": 21,
   "id": "fd379caf-e504-4c44-acbf-4459f730f190",
   "metadata": {},
   "outputs": [],
   "source": [
    "# rename columns\n",
    "data_home = data_home.rename(columns={\"HomeTeam\": \"Team\", \"HomeGoals\": \"GoalsScored\", \"AwayGoals\": \"GoalsConceded\"})\n",
    "data_away = data_away.rename(columns={\"AwayTeam\": \"Team\", \"HomeGoals\": \"GoalsConceded\", \"AwayGoals\": \"GaolsScored\"})\n",
    "                         "
   ]
  },
  {
   "cell_type": "code",
   "execution_count": 22,
   "id": "6cf47753-0298-4a46-98f3-14725e966917",
   "metadata": {},
   "outputs": [
    {
     "data": {
      "text/html": [
       "<div>\n",
       "<style scoped>\n",
       "    .dataframe tbody tr th:only-of-type {\n",
       "        vertical-align: middle;\n",
       "    }\n",
       "\n",
       "    .dataframe tbody tr th {\n",
       "        vertical-align: top;\n",
       "    }\n",
       "\n",
       "    .dataframe thead th {\n",
       "        text-align: right;\n",
       "    }\n",
       "</style>\n",
       "<table border=\"1\" class=\"dataframe\">\n",
       "  <thead>\n",
       "    <tr style=\"text-align: right;\">\n",
       "      <th></th>\n",
       "      <th>GoalsScored</th>\n",
       "      <th>GoalsConceded</th>\n",
       "      <th>GaolsScored</th>\n",
       "    </tr>\n",
       "    <tr>\n",
       "      <th>Team</th>\n",
       "      <th></th>\n",
       "      <th></th>\n",
       "      <th></th>\n",
       "    </tr>\n",
       "  </thead>\n",
       "  <tbody>\n",
       "    <tr>\n",
       "      <th>Algeria</th>\n",
       "      <td>0.833333</td>\n",
       "      <td>1.461538</td>\n",
       "      <td>1.142857</td>\n",
       "    </tr>\n",
       "    <tr>\n",
       "      <th>Angola</th>\n",
       "      <td>0.000000</td>\n",
       "      <td>0.666667</td>\n",
       "      <td>0.500000</td>\n",
       "    </tr>\n",
       "    <tr>\n",
       "      <th>Argentina</th>\n",
       "      <td>1.913793</td>\n",
       "      <td>1.148148</td>\n",
       "      <td>1.130435</td>\n",
       "    </tr>\n",
       "    <tr>\n",
       "      <th>Australia</th>\n",
       "      <td>1.000000</td>\n",
       "      <td>1.937500</td>\n",
       "      <td>0.666667</td>\n",
       "    </tr>\n",
       "    <tr>\n",
       "      <th>Austria</th>\n",
       "      <td>2.285714</td>\n",
       "      <td>1.620690</td>\n",
       "      <td>0.733333</td>\n",
       "    </tr>\n",
       "    <tr>\n",
       "      <th>...</th>\n",
       "      <td>...</td>\n",
       "      <td>...</td>\n",
       "      <td>...</td>\n",
       "    </tr>\n",
       "    <tr>\n",
       "      <th>Uruguay</th>\n",
       "      <td>2.060606</td>\n",
       "      <td>1.321429</td>\n",
       "      <td>0.826087</td>\n",
       "    </tr>\n",
       "    <tr>\n",
       "      <th>Wales</th>\n",
       "      <td>2.000000</td>\n",
       "      <td>0.800000</td>\n",
       "      <td>0.500000</td>\n",
       "    </tr>\n",
       "    <tr>\n",
       "      <th>West Germany</th>\n",
       "      <td>2.500000</td>\n",
       "      <td>1.241935</td>\n",
       "      <td>1.500000</td>\n",
       "    </tr>\n",
       "    <tr>\n",
       "      <th>Yugoslavia</th>\n",
       "      <td>2.733333</td>\n",
       "      <td>1.272727</td>\n",
       "      <td>0.777778</td>\n",
       "    </tr>\n",
       "    <tr>\n",
       "      <th>Zaire</th>\n",
       "      <td>0.000000</td>\n",
       "      <td>4.666667</td>\n",
       "      <td>0.000000</td>\n",
       "    </tr>\n",
       "  </tbody>\n",
       "</table>\n",
       "<p>85 rows × 3 columns</p>\n",
       "</div>"
      ],
      "text/plain": [
       "              GoalsScored  GoalsConceded  GaolsScored\n",
       "Team                                                 \n",
       "Algeria          0.833333       1.461538     1.142857\n",
       "Angola           0.000000       0.666667     0.500000\n",
       "Argentina        1.913793       1.148148     1.130435\n",
       "Australia        1.000000       1.937500     0.666667\n",
       "Austria          2.285714       1.620690     0.733333\n",
       "...                   ...            ...          ...\n",
       "Uruguay          2.060606       1.321429     0.826087\n",
       "Wales            2.000000       0.800000     0.500000\n",
       "West Germany     2.500000       1.241935     1.500000\n",
       "Yugoslavia       2.733333       1.272727     0.777778\n",
       "Zaire            0.000000       4.666667     0.000000\n",
       "\n",
       "[85 rows x 3 columns]"
      ]
     },
     "execution_count": 22,
     "metadata": {},
     "output_type": "execute_result"
    }
   ],
   "source": [
    "# concat data_home and data_away, group by team and calculate the mean\n",
    "df_team_strenght = pd.concat([data_home, data_away], ignore_index=True).groupby('Team').mean()\n",
    "df_team_strenght"
   ]
  },
  {
   "cell_type": "markdown",
   "id": "6c37feac-b6b7-4df2-8cef-ff7ab3424cf4",
   "metadata": {},
   "source": [
    "## 2 Function predict_point"
   ]
  },
  {
   "cell_type": "code",
   "execution_count": 23,
   "id": "073da612-6209-4e79-a280-e323c9e2da32",
   "metadata": {},
   "outputs": [],
   "source": [
    "def predict_points(home, away):\n",
    "    if home in df_team_strenght.index and away in df_team_strenght.index:\n",
    "        # goals_scored * goals_conceded\n",
    "        lamb_home = df_team_strenght.at[home,'GoalsScored'] * df_team_strenght.at[away,'GoalsConceded']\n",
    "        lamb_away = df_team_strenght.at[away,'GoalsScored'] * df_team_strenght.at[home,'GoalsConceded']\n",
    "        prob_home, prob_away, prob_draw = 0, 0, 0\n",
    "        for x in range(0,11): #number of goal home team\n",
    "            for y in range(0,11): #number of goal away team\n",
    "                p = poisson.pmf(x, lamb_home) * poisson.pmf(x, lamb_away)\n",
    "                if x==y:\n",
    "                    prob_draw +=p\n",
    "                elif x > y:\n",
    "                    prob_home +=p\n",
    "                else:\n",
    "                    prob_away +=p\n",
    "                    \n",
    "        point_home = 3 * prob_home + prob_draw\n",
    "        point_away = 3 * prob_away + prob_draw\n",
    "        return (point_home, point_away)\n",
    "    else:\n",
    "        return (0, 0)\n",
    "    \n",
    "                "
   ]
  },
  {
   "cell_type": "markdown",
   "id": "dbf0d84c-9370-4194-ae3c-6363a598f335",
   "metadata": {},
   "source": [
    "## 2.1 Testing function"
   ]
  },
  {
   "cell_type": "code",
   "execution_count": 24,
   "id": "33d78b63-d6ba-4959-8acd-792da5895600",
   "metadata": {},
   "outputs": [
    {
     "data": {
      "text/plain": [
       "(0, 0)"
      ]
     },
     "execution_count": 24,
     "metadata": {},
     "output_type": "execute_result"
    }
   ],
   "source": [
    "# Test with matches: Argentina - Mexico, England - United States, Qatar (H) - Equador\n",
    "predict_points('Argentina', 'Mexico')\n",
    "predict_points('England', 'United States')\n",
    "predict_points('Qatar (H)', 'Equador')"
   ]
  },
  {
   "cell_type": "markdown",
   "id": "c7bef0ca-4da4-45eb-8179-a88003a4a3c7",
   "metadata": {},
   "source": [
    "# 3 Predicting World Cup"
   ]
  },
  {
   "cell_type": "markdown",
   "id": "8bbd9df4-5de2-442b-9d1c-87d8a8579021",
   "metadata": {},
   "source": [
    "## 3.1 Group stage"
   ]
  },
  {
   "cell_type": "code",
   "execution_count": null,
   "id": "a8a5d9c2-57c7-44d2-a3f8-9dd51c65d671",
   "metadata": {},
   "outputs": [],
   "source": []
  }
 ],
 "metadata": {
  "kernelspec": {
   "display_name": "Python 3 (ipykernel)",
   "language": "python",
   "name": "python3"
  },
  "language_info": {
   "codemirror_mode": {
    "name": "ipython",
    "version": 3
   },
   "file_extension": ".py",
   "mimetype": "text/x-python",
   "name": "python",
   "nbconvert_exporter": "python",
   "pygments_lexer": "ipython3",
   "version": "3.9.13"
  }
 },
 "nbformat": 4,
 "nbformat_minor": 5
}
