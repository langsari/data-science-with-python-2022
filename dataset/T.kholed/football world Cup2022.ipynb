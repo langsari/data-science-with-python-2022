{
 "cells": [
  {
   "cell_type": "markdown",
   "id": "cc778f6e-dd20-4b99-a360-12f8b602f9b0",
   "metadata": {},
   "source": [
    "# Football World Cup 2022"
   ]
  },
  {
   "cell_type": "code",
   "execution_count": 86,
   "id": "ec7d166d-32db-4f26-bc3e-b262c534bd0b",
   "metadata": {},
   "outputs": [],
   "source": [
    "import pandas as pd\n",
    "from scipy.stats import poisson"
   ]
  },
  {
   "cell_type": "code",
   "execution_count": 87,
   "id": "a12012b8-2243-4cce-af06-96c090da4d2f",
   "metadata": {},
   "outputs": [],
   "source": [
    "dataGroup = pd.read_html(\"https://www.wallchart.io/football/world-cup-2022.html\")\n",
    "datamatches = pd.read_csv(\"/Users/hilmanyusoh/Documents/PWFWCup 2022/clean_fifa_worldcup_matches.csv\")\n",
    "datafixture = pd.read_csv(\"/Users/hilmanyusoh/Documents/PWFWCup 2022/clean_fifa_worldcup_fixture.csv\")"
   ]
  },
  {
   "cell_type": "markdown",
   "id": "48ea10a1-a31b-4295-bc72-0981f0659e48",
   "metadata": {},
   "source": [
    "# 1.Calulate team strenght"
   ]
  },
  {
   "cell_type": "code",
   "execution_count": 94,
   "id": "d475c51a-de2c-4c28-89c6-140222f71a96",
   "metadata": {},
   "outputs": [],
   "source": [
    "# split dataframe into datahome and dataway\n",
    "data_home = datamatches[[\"HomeTeam\",\"HomeGoals\",\"AwayGoals\"]]\n",
    "data_away = datamatches[[\"AwayTeam\",\"HomeGoals\",\"AwayGoals\"]]"
   ]
  },
  {
   "cell_type": "code",
   "execution_count": 102,
   "id": "fd379caf-e504-4c44-acbf-4459f730f190",
   "metadata": {},
   "outputs": [],
   "source": [
    "# rename columns\n",
    "data_home = data_home.rename(columns={\"HomeTeam\": \"Team\", \"HomeGoals\": \"GoalsScored\", \"AwayGoals\": \"GoalsConceded\"})\n",
    "data_away = data_away.rename(columns={\"AwayTeam\": \"Team\", \"HomeGoals\": \"GoalsConceded\", \"AwayGoals\": \"GaolsScored\"})\n",
    "                         "
   ]
  },
  {
   "cell_type": "code",
   "execution_count": 103,
   "id": "6cf47753-0298-4a46-98f3-14725e966917",
   "metadata": {},
   "outputs": [
    {
     "data": {
      "text/html": [
       "<div>\n",
       "<style scoped>\n",
       "    .dataframe tbody tr th:only-of-type {\n",
       "        vertical-align: middle;\n",
       "    }\n",
       "\n",
       "    .dataframe tbody tr th {\n",
       "        vertical-align: top;\n",
       "    }\n",
       "\n",
       "    .dataframe thead th {\n",
       "        text-align: right;\n",
       "    }\n",
       "</style>\n",
       "<table border=\"1\" class=\"dataframe\">\n",
       "  <thead>\n",
       "    <tr style=\"text-align: right;\">\n",
       "      <th></th>\n",
       "      <th>GoalsScored</th>\n",
       "      <th>GoalsConceded</th>\n",
       "      <th>GaolsScored</th>\n",
       "    </tr>\n",
       "    <tr>\n",
       "      <th>Team</th>\n",
       "      <th></th>\n",
       "      <th></th>\n",
       "      <th></th>\n",
       "    </tr>\n",
       "  </thead>\n",
       "  <tbody>\n",
       "    <tr>\n",
       "      <th>Algeria</th>\n",
       "      <td>0.833333</td>\n",
       "      <td>1.461538</td>\n",
       "      <td>1.142857</td>\n",
       "    </tr>\n",
       "    <tr>\n",
       "      <th>Angola</th>\n",
       "      <td>0.000000</td>\n",
       "      <td>0.666667</td>\n",
       "      <td>0.500000</td>\n",
       "    </tr>\n",
       "    <tr>\n",
       "      <th>Argentina</th>\n",
       "      <td>1.913793</td>\n",
       "      <td>1.148148</td>\n",
       "      <td>1.130435</td>\n",
       "    </tr>\n",
       "    <tr>\n",
       "      <th>Australia</th>\n",
       "      <td>1.000000</td>\n",
       "      <td>1.937500</td>\n",
       "      <td>0.666667</td>\n",
       "    </tr>\n",
       "    <tr>\n",
       "      <th>Austria</th>\n",
       "      <td>2.285714</td>\n",
       "      <td>1.620690</td>\n",
       "      <td>0.733333</td>\n",
       "    </tr>\n",
       "    <tr>\n",
       "      <th>...</th>\n",
       "      <td>...</td>\n",
       "      <td>...</td>\n",
       "      <td>...</td>\n",
       "    </tr>\n",
       "    <tr>\n",
       "      <th>Uruguay</th>\n",
       "      <td>2.060606</td>\n",
       "      <td>1.321429</td>\n",
       "      <td>0.826087</td>\n",
       "    </tr>\n",
       "    <tr>\n",
       "      <th>Wales</th>\n",
       "      <td>2.000000</td>\n",
       "      <td>0.800000</td>\n",
       "      <td>0.500000</td>\n",
       "    </tr>\n",
       "    <tr>\n",
       "      <th>West Germany</th>\n",
       "      <td>2.500000</td>\n",
       "      <td>1.241935</td>\n",
       "      <td>1.500000</td>\n",
       "    </tr>\n",
       "    <tr>\n",
       "      <th>Yugoslavia</th>\n",
       "      <td>2.733333</td>\n",
       "      <td>1.272727</td>\n",
       "      <td>0.777778</td>\n",
       "    </tr>\n",
       "    <tr>\n",
       "      <th>Zaire</th>\n",
       "      <td>0.000000</td>\n",
       "      <td>4.666667</td>\n",
       "      <td>0.000000</td>\n",
       "    </tr>\n",
       "  </tbody>\n",
       "</table>\n",
       "<p>85 rows × 3 columns</p>\n",
       "</div>"
      ],
      "text/plain": [
       "              GoalsScored  GoalsConceded  GaolsScored\n",
       "Team                                                 \n",
       "Algeria          0.833333       1.461538     1.142857\n",
       "Angola           0.000000       0.666667     0.500000\n",
       "Argentina        1.913793       1.148148     1.130435\n",
       "Australia        1.000000       1.937500     0.666667\n",
       "Austria          2.285714       1.620690     0.733333\n",
       "...                   ...            ...          ...\n",
       "Uruguay          2.060606       1.321429     0.826087\n",
       "Wales            2.000000       0.800000     0.500000\n",
       "West Germany     2.500000       1.241935     1.500000\n",
       "Yugoslavia       2.733333       1.272727     0.777778\n",
       "Zaire            0.000000       4.666667     0.000000\n",
       "\n",
       "[85 rows x 3 columns]"
      ]
     },
     "execution_count": 103,
     "metadata": {},
     "output_type": "execute_result"
    }
   ],
   "source": [
    "# concat data_home and data_away, group by team and calculate the mean\n",
    "pd.concat([data_home, data_away], ignore_index=True).groupby('Team').mean()"
   ]
  },
  {
   "cell_type": "code",
   "execution_count": null,
   "id": "8a356b71-0c02-4438-a2ac-f0afd6d45642",
   "metadata": {},
   "outputs": [],
   "source": []
  },
  {
   "cell_type": "code",
   "execution_count": null,
   "id": "bc6e120e-290b-4227-bc8a-9b97765923cb",
   "metadata": {},
   "outputs": [],
   "source": []
  }
 ],
 "metadata": {
  "kernelspec": {
   "display_name": "Python 3 (ipykernel)",
   "language": "python",
   "name": "python3"
  },
  "language_info": {
   "codemirror_mode": {
    "name": "ipython",
    "version": 3
   },
   "file_extension": ".py",
   "mimetype": "text/x-python",
   "name": "python",
   "nbconvert_exporter": "python",
   "pygments_lexer": "ipython3",
   "version": "3.9.13"
  }
 },
 "nbformat": 4,
 "nbformat_minor": 5
}
