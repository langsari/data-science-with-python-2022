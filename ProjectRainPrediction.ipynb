{
 "cells": [
  {
   "attachments": {},
   "cell_type": "markdown",
   "metadata": {},
   "source": [
    "# Project Design"
   ]
  },
  {
   "attachments": {},
   "cell_type": "markdown",
   "metadata": {},
   "source": [
    "Planing Project<ol>\n",
    "    <li>**Module**<ol>\n",
    "        <li>Libraries needed\n",
    "        <li>Import</ol>\n",
    "    <li>Data Preparation\n",
    "    <li>Data Exploration\n",
    "    <li>Data Modeling\n",
    "    <li>Presentation and automation</ol>"
   ]
  },
  {
   "attachments": {},
   "cell_type": "markdown",
   "metadata": {},
   "source": [
    "# Libraries needed"
   ]
  },
  {
   "attachments": {},
   "cell_type": "markdown",
   "metadata": {},
   "source": [
    "**From**\n",
    "\n",
    "`sklearn`\n",
    "\n",
    "`keras`\n",
    "\n",
    "**Import**\n",
    "\n",
    "`pandas as pd`\n",
    "\n",
    "`seaborn as sns`\n",
    "\n",
    "`datetime`\n",
    "\n",
    "`numpy as np`\n",
    "\n",
    "`featurewiz as FW`\n",
    "\n",
    "`preprocessing`\n",
    "\n",
    "`LabelEncoder`\n",
    "\n",
    "`StandardScaler`\n",
    "\n",
    "`train_test_split`\n",
    "\n",
    "`Dense, BatchNormalization, Dropout, LSTM`\n",
    "\n",
    "`Sequential`\n",
    "\n",
    "`to_categorical`\n",
    "\n",
    "`Adam`\n",
    "\n",
    "`regularizers`\n",
    "\n",
    "`Precision_score, recall_score, confusion_matrix, classification_report, accuracy_score, f1_score`\n",
    "\n",
    "`callbacks`"
   ]
  },
  {
   "attachments": {},
   "cell_type": "markdown",
   "metadata": {},
   "source": [
    "# IMPORT"
   ]
  },
  {
   "attachments": {},
   "cell_type": "markdown",
   "metadata": {},
   "source": [
    "`Import Liraries`"
   ]
  },
  {
   "cell_type": "code",
   "execution_count": 1,
   "metadata": {},
   "outputs": [
    {
     "name": "stdout",
     "output_type": "stream",
     "text": [
      "Imported 0.2.04 version. Select nrows to a small number when running on huge datasets.\n",
      "output = featurewiz(dataname, target, corr_limit=0.90, verbose=2, sep=',', \n",
      "\t\theader=0, test_data='',feature_engg='', category_encoders='',\n",
      "\t\tdask_xgboost_flag=False, nrows=None, skip_sulov=False)\n",
      "Create new features via 'feature_engg' flag : ['interactions','groupby','target']\n",
      "\n"
     ]
    }
   ],
   "source": [
    "import matplotlib.pyplot as plt\n",
    "import seaborn as sns\n",
    "import datetime\n",
    "import pandas as pd\n",
    "import numpy as np\n",
    "import featurewiz as FW\n",
    "from sklearn import preprocessing\n",
    "from sklearn.preprocessing import LabelEncoder\n",
    "from sklearn.preprocessing import StandardScaler\n",
    "from sklearn.model_selection import train_test_split\n",
    "from keras.layers import Dense, BatchNormalization, Dropout, LSTM\n",
    "from keras.models import Sequential\n",
    "from keras.utils import to_categorical\n",
    "from keras.optimizers import Adam\n",
    "from keras import regularizers\n",
    "from sklearn.metrics import precision_score, recall_score, confusion_matrix, classification_report, accuracy_score, f1_score\n",
    "from keras import callbacks\n",
    "\n",
    "np.random.seed (0)"
   ]
  }
 ],
 "metadata": {
  "kernelspec": {
   "display_name": "base",
   "language": "python",
   "name": "python3"
  },
  "language_info": {
   "codemirror_mode": {
    "name": "ipython",
    "version": 3
   },
   "file_extension": ".py",
   "mimetype": "text/x-python",
   "name": "python",
   "nbconvert_exporter": "python",
   "pygments_lexer": "ipython3",
   "version": "3.9.13"
  },
  "orig_nbformat": 4,
  "vscode": {
   "interpreter": {
    "hash": "6d881ab20baefb2a31dc75558dda7a1f52e07d1ad85216d34304d3199e30c0eb"
   }
  }
 },
 "nbformat": 4,
 "nbformat_minor": 2
}
